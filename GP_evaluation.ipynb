{
 "cells": [
  {
   "cell_type": "markdown",
   "metadata": {},
   "source": [
    "# Notebook Structure\n",
    "\n",
    "- Settings\n",
    "- Imports\n",
    "- Data Preprocessing\n",
    "- GP Model\n",
    "- Results\n",
    "- Plots"
   ]
  },
  {
   "cell_type": "markdown",
   "metadata": {},
   "source": [
    "# Usage\n",
    "\n",
    "New models are trained each time the notebook is run. Trained models are not saved. (Saving a trained model is quite simple to implement, check [GPyTorch documentation](https://docs.gpytorch.ai/en/stable/index.html) for information.)\n",
    "\n",
    "Results are saved into \"results\" folder. Plots are not saved, they can be viewed in this notebook in \"Plots\" section after running the notebook."
   ]
  },
  {
   "cell_type": "markdown",
   "metadata": {},
   "source": [
    "# Optimization of the Model\n",
    "\n",
    "I have marked the optimizable or changeable components with \"# Optimizable\" comments. For example the whole feature extractor or mean and covariance functions can be changed for optimization purposes. For GP specific components, check [GPyTorch documentation](https://docs.gpytorch.ai/en/stable/index.html) for kernels (covariance functions) and means etc."
   ]
  },
  {
   "cell_type": "markdown",
   "metadata": {},
   "source": [
    "# Changing the Dataset\n",
    "\n",
    "The dataset can be changed by specifying the file paths in settings below. The columns (structure and column names) of the new dataset must be identical to the old ones, and the sample names must match between sample info dataframe and reflectance files (check preprocessing for more info). If the data structure of a new dataset is different from the standard, changes must be made directly in the code (data preprocessing section) to account for it. The correct dataframe or data format should be checked in respective files (listed below).\n",
    "\n",
    "Alternatively one can use an already preprocessed dataframe, in which case the \"overwrite_preprocessed_data\" variable should be set to false, and \"preprocessed_data_path\" variable should be set to lead to the correct CSV file. The correct structure of the preprocessed data can be checked in the corresponding file (listed below).\n",
    "\n",
    "The number of wavelengths in the raw or preprocessed data can be freely changed in the data files or in the preprocessing section of the code. Although the number of wavelengths in the data files can be freely changed between datasets, the overall structure of the dataframes should stay identical (columns, column names, etc.). No changes should be needed for the model itself.\n",
    "\n",
    "Check the corresponding files for the correct array/dataframe/data structures for raw data:\n",
    "- data/data_all_no0_only_important.csv\n",
    "- data/reflectance_data/\n",
    "\n",
    "Or check the corresponding file for the correct array/dataframe/data structures for preprocessed data:\n",
    "- data/combined_data_550-2250.csv\n",
    "\n",
    "#### Changing Only the Wavelength Preprocessing\n",
    "\n",
    "The preprocessing can be changed in \"Interpolate and Normalize Data\" section in \"Data Preprocessing\" to change the number and range of wavelengths in preprocessed data."
   ]
  },
  {
   "cell_type": "markdown",
   "metadata": {},
   "source": [
    "# Settings\n",
    "\n",
    "The settings are described in the short comments."
   ]
  },
  {
   "cell_type": "code",
   "execution_count": 34,
   "metadata": {},
   "outputs": [],
   "source": [
    "# File paths\n",
    "sample_info_path = 'data/data_all_no0_only_important.csv' # Sample info\n",
    "reflectance_data_folder = 'data/reflectance_data' # Reflectance data folder\n",
    "preprocessed_data_path = 'data/combined_data_550-2250.csv' # Preprocessed dataframe is saved here\n",
    "ensemble_model_result_path = 'data/Ensemble_CNN_Tree_30repeat.xlsx' # Ensemble model predictions\n",
    "ensemble_GP_RMSE_split_comparison_path = 'results/GP_Ensemble_RMSE_split_comparison.xlsx' # Save path for results\n",
    "\n",
    "overwrite_preprocessed_data = True # (In data folder), Overwrite \"preprocessed_data_path\"?\n",
    "save_RMSE_comaprison_results = True # (In results folder)\n",
    "\n",
    "cycles = 30 # Number of models used for evaluation. Affects the running time.\n",
    "training_iterations = 150 # Optimizable, Default 150, optimal iteration count may change if model is modified\n",
    "folds = 7 # Number of folds in cross validation\n",
    "\n",
    "# Irradiation types\n",
    "irradiation_types = { # This dict is only a note to remember the irradiation types, it is not used in the code\n",
    "    1: \"I_H_OL\",\n",
    "    2: \"I_H_PX\",\n",
    "    3: \"I_H_M\",\n",
    "    4: \"I_Ar_OL\",\n",
    "    5: \"I_Ar_PX\",\n",
    "    6: \"I_Ar_M\",\n",
    "    7: \"I_He_OL\",\n",
    "    8: \"I_He_PX\",\n",
    "    9: \"I_He_M\",\n",
    "    10: \"L_OL\",\n",
    "    11: \"L_PX\",\n",
    "    12: \"L_M\"\n",
    "}\n",
    "\n",
    "'''\n",
    "Irradiation type combinations\n",
    "Hydrogen + laser on only olivine = 1, 10\n",
    "Hydrogen + laser on all minerals = 1, 2, 3, 10, 11, 12\n",
    "All = 1, 2, 3, 4, 5, 6, 7, 8, 9, 10, 11, 12\n",
    "'''\n",
    "\n",
    "selected_irradiations = [1, 2, 3, 10, 11, 12] # Select which irradiation types are considered in the training dataset. The GP tasks are divided based on this list."
   ]
  },
  {
   "cell_type": "markdown",
   "metadata": {},
   "source": [
    "# Imports"
   ]
  },
  {
   "cell_type": "code",
   "execution_count": 35,
   "metadata": {},
   "outputs": [
    {
     "name": "stdout",
     "output_type": "stream",
     "text": [
      "The autoreload extension is already loaded. To reload it, use:\n",
      "  %reload_ext autoreload\n"
     ]
    }
   ],
   "source": [
    "import pandas as pd\n",
    "import os\n",
    "import numpy as np\n",
    "import torch\n",
    "import torch.nn.functional as F\n",
    "import gpytorch\n",
    "from sklearn.model_selection import KFold\n",
    "from math_functions import mean_squared_error, root_mean_squared_error, denoise_and_norm\n",
    "from sklearn.metrics import r2_score\n",
    "import tqdm\n",
    "import matplotlib.pyplot as plt\n",
    "\n",
    "%matplotlib inline\n",
    "%load_ext autoreload\n",
    "%autoreload 2"
   ]
  },
  {
   "cell_type": "markdown",
   "metadata": {},
   "source": [
    "# Data preprocessing\n",
    "\n",
    "Loads the data, combines the sample info and spectra into a dataframe, interpolates and normalizes the data, selects the number and range of wavelengths for the data, and saves the preprocessed dataframe into a CSV file."
   ]
  },
  {
   "cell_type": "markdown",
   "metadata": {},
   "source": [
    "#### Sample Information"
   ]
  },
  {
   "cell_type": "code",
   "execution_count": 36,
   "metadata": {},
   "outputs": [
    {
     "name": "stdout",
     "output_type": "stream",
     "text": [
      "Sample name     object\n",
      "Irradiation      int64\n",
      "ET_1AU         float64\n",
      "group            int64\n",
      "dtype: object \n",
      "\n"
     ]
    },
    {
     "data": {
      "text/html": [
       "<div>\n",
       "<style scoped>\n",
       "    .dataframe tbody tr th:only-of-type {\n",
       "        vertical-align: middle;\n",
       "    }\n",
       "\n",
       "    .dataframe tbody tr th {\n",
       "        vertical-align: top;\n",
       "    }\n",
       "\n",
       "    .dataframe thead th {\n",
       "        text-align: right;\n",
       "    }\n",
       "</style>\n",
       "<table border=\"1\" class=\"dataframe\">\n",
       "  <thead>\n",
       "    <tr style=\"text-align: right;\">\n",
       "      <th></th>\n",
       "      <th>Sample name</th>\n",
       "      <th>Irradiation</th>\n",
       "      <th>ET_1AU</th>\n",
       "      <th>group</th>\n",
       "    </tr>\n",
       "  </thead>\n",
       "  <tbody>\n",
       "    <tr>\n",
       "      <th>0</th>\n",
       "      <td>PO_TXH_007</td>\n",
       "      <td>10</td>\n",
       "      <td>3.382378e+08</td>\n",
       "      <td>8</td>\n",
       "    </tr>\n",
       "    <tr>\n",
       "      <th>1</th>\n",
       "      <td>PO_TXH_008</td>\n",
       "      <td>10</td>\n",
       "      <td>6.764756e+08</td>\n",
       "      <td>8</td>\n",
       "    </tr>\n",
       "    <tr>\n",
       "      <th>2</th>\n",
       "      <td>PO_TXH_081_CP1</td>\n",
       "      <td>10</td>\n",
       "      <td>3.382378e+08</td>\n",
       "      <td>8</td>\n",
       "    </tr>\n",
       "    <tr>\n",
       "      <th>3</th>\n",
       "      <td>PO_TXH_081_CP2</td>\n",
       "      <td>10</td>\n",
       "      <td>6.764756e+08</td>\n",
       "      <td>8</td>\n",
       "    </tr>\n",
       "    <tr>\n",
       "      <th>4</th>\n",
       "      <td>RB_LE4OLV</td>\n",
       "      <td>10</td>\n",
       "      <td>7.610350e+08</td>\n",
       "      <td>8</td>\n",
       "    </tr>\n",
       "    <tr>\n",
       "      <th>...</th>\n",
       "      <td>...</td>\n",
       "      <td>...</td>\n",
       "      <td>...</td>\n",
       "      <td>...</td>\n",
       "    </tr>\n",
       "    <tr>\n",
       "      <th>204</th>\n",
       "      <td>OC_LP_A2_3</td>\n",
       "      <td>3</td>\n",
       "      <td>2.361833e+02</td>\n",
       "      <td>2</td>\n",
       "    </tr>\n",
       "    <tr>\n",
       "      <th>205</th>\n",
       "      <td>OC_LP_A3_3</td>\n",
       "      <td>3</td>\n",
       "      <td>5.992057e+02</td>\n",
       "      <td>2</td>\n",
       "    </tr>\n",
       "    <tr>\n",
       "      <th>206</th>\n",
       "      <td>MJL_OLV_1</td>\n",
       "      <td>9</td>\n",
       "      <td>1.001362e+03</td>\n",
       "      <td>3</td>\n",
       "    </tr>\n",
       "    <tr>\n",
       "      <th>207</th>\n",
       "      <td>MJL_OLV_2</td>\n",
       "      <td>9</td>\n",
       "      <td>3.538145e+03</td>\n",
       "      <td>3</td>\n",
       "    </tr>\n",
       "    <tr>\n",
       "      <th>208</th>\n",
       "      <td>MJL_OLV_3</td>\n",
       "      <td>9</td>\n",
       "      <td>1.668936e+04</td>\n",
       "      <td>3</td>\n",
       "    </tr>\n",
       "  </tbody>\n",
       "</table>\n",
       "<p>209 rows × 4 columns</p>\n",
       "</div>"
      ],
      "text/plain": [
       "        Sample name  Irradiation        ET_1AU  group\n",
       "0        PO_TXH_007           10  3.382378e+08      8\n",
       "1        PO_TXH_008           10  6.764756e+08      8\n",
       "2    PO_TXH_081_CP1           10  3.382378e+08      8\n",
       "3    PO_TXH_081_CP2           10  6.764756e+08      8\n",
       "4         RB_LE4OLV           10  7.610350e+08      8\n",
       "..              ...          ...           ...    ...\n",
       "204      OC_LP_A2_3            3  2.361833e+02      2\n",
       "205      OC_LP_A3_3            3  5.992057e+02      2\n",
       "206       MJL_OLV_1            9  1.001362e+03      3\n",
       "207       MJL_OLV_2            9  3.538145e+03      3\n",
       "208       MJL_OLV_3            9  1.668936e+04      3\n",
       "\n",
       "[209 rows x 4 columns]"
      ]
     },
     "execution_count": 36,
     "metadata": {},
     "output_type": "execute_result"
    }
   ],
   "source": [
    "sample_info = pd.read_csv(sample_info_path, dtype={'Sample name': str, 'Irradiation': int, 'ET_1AU': float, 'group': int})\n",
    "\n",
    "print(sample_info.dtypes, '\\n')\n",
    "sample_info"
   ]
  },
  {
   "cell_type": "markdown",
   "metadata": {},
   "source": [
    "#### Load Wavelength and Reflectance"
   ]
  },
  {
   "cell_type": "code",
   "execution_count": 37,
   "metadata": {},
   "outputs": [],
   "source": [
    "too_large_first_wavelength = ['MJL_OLV_1', 'MJL_OLV_2', 'MJL_OLV_3']# These have too large first wavelength\n",
    "discarded_samples = ['KC_OL_lm_12', 'KC_OL_lvn_12', 'RB_LE3CPX', 'KC_OPX_lvn_11', 'KC_OPX_lm_11', 'TJ_OPX_1'] # Discarded because exposure times were unrealisticly high\n",
    "unwanted_samples = too_large_first_wavelength + discarded_samples\n",
    "\n",
    "# Initialize empty dictionaries to hold data for W and R\n",
    "w_data = {}\n",
    "r_data = {}\n",
    "\n",
    "# Iterate through the extracted files and process CSV files\n",
    "for root, dirs, files in os.walk(reflectance_data_folder):\n",
    "    for file in files:\n",
    "        if file.endswith('.csv'):\n",
    "            file_path = os.path.join(root, file)\n",
    "            df = pd.read_csv(file_path, header=None)\n",
    "\n",
    "            # Extract the filename without extension to use as column header\n",
    "            file_name = file.split('.')[0]\n",
    "            if file_name in sample_info['Sample name'].values and file_name not in unwanted_samples:\n",
    "                df.columns = df.iloc[1]\n",
    "                df = df[2:].astype(float)\n",
    "\n",
    "                wavelengths = df[\"W\"].to_numpy() * 1000\n",
    "                reflectances = df[\"R\"].to_numpy()\n",
    "\n",
    "                w_data[file_name] = wavelengths\n",
    "                r_data[file_name] = reflectances"
   ]
  },
  {
   "cell_type": "markdown",
   "metadata": {},
   "source": [
    "#### Preprocess Wavelength Data"
   ]
  },
  {
   "cell_type": "code",
   "execution_count": 38,
   "metadata": {},
   "outputs": [
    {
     "name": "stdout",
     "output_type": "stream",
     "text": [
      "540.88\n",
      "2480.84157\n"
     ]
    },
    {
     "data": {
      "text/html": [
       "<div>\n",
       "<style scoped>\n",
       "    .dataframe tbody tr th:only-of-type {\n",
       "        vertical-align: middle;\n",
       "    }\n",
       "\n",
       "    .dataframe tbody tr th {\n",
       "        vertical-align: top;\n",
       "    }\n",
       "\n",
       "    .dataframe thead th {\n",
       "        text-align: right;\n",
       "    }\n",
       "</style>\n",
       "<table border=\"1\" class=\"dataframe\">\n",
       "  <thead>\n",
       "    <tr style=\"text-align: right;\">\n",
       "      <th></th>\n",
       "      <th>OC_LP_B2_1</th>\n",
       "      <th>KC_OPX_hevn_1</th>\n",
       "      <th>KC_OPX_lm_9</th>\n",
       "      <th>OC_TXH_011_A60</th>\n",
       "      <th>RB_LE4OLV</th>\n",
       "      <th>KC_OL_arvn_5</th>\n",
       "      <th>OWN_OL4_EN1_1</th>\n",
       "      <th>MY_OL_30</th>\n",
       "      <th>XT_TXH_030_P2</th>\n",
       "      <th>KC_OPX_lm_8</th>\n",
       "      <th>...</th>\n",
       "      <th>KC_OPX_lvn_1</th>\n",
       "      <th>KC_OPX_lvn_10</th>\n",
       "      <th>OC_TXH_013_P05</th>\n",
       "      <th>KC_OPX_hevn_3</th>\n",
       "      <th>KC_OL_hm_2</th>\n",
       "      <th>OC_LP_A3_1</th>\n",
       "      <th>KC_OPX_arvn_5</th>\n",
       "      <th>RB_LE2CPX</th>\n",
       "      <th>KC_OL_arm_1</th>\n",
       "      <th>OC_LP_A2_2</th>\n",
       "    </tr>\n",
       "  </thead>\n",
       "  <tbody>\n",
       "    <tr>\n",
       "      <th>0</th>\n",
       "      <td>250.0</td>\n",
       "      <td>540.88</td>\n",
       "      <td>500.12</td>\n",
       "      <td>300.0</td>\n",
       "      <td>250.0</td>\n",
       "      <td>540.88</td>\n",
       "      <td>496.605913</td>\n",
       "      <td>255.855137</td>\n",
       "      <td>280.0</td>\n",
       "      <td>500.12</td>\n",
       "      <td>...</td>\n",
       "      <td>450.10</td>\n",
       "      <td>450.10</td>\n",
       "      <td>250.0</td>\n",
       "      <td>540.88</td>\n",
       "      <td>500.12</td>\n",
       "      <td>250.0</td>\n",
       "      <td>540.88</td>\n",
       "      <td>250.0</td>\n",
       "      <td>500.12</td>\n",
       "      <td>250.0</td>\n",
       "    </tr>\n",
       "    <tr>\n",
       "      <th>1</th>\n",
       "      <td>255.0</td>\n",
       "      <td>541.33</td>\n",
       "      <td>500.31</td>\n",
       "      <td>305.0</td>\n",
       "      <td>251.0</td>\n",
       "      <td>541.33</td>\n",
       "      <td>498.919256</td>\n",
       "      <td>258.242041</td>\n",
       "      <td>285.0</td>\n",
       "      <td>500.31</td>\n",
       "      <td>...</td>\n",
       "      <td>450.26</td>\n",
       "      <td>450.26</td>\n",
       "      <td>255.0</td>\n",
       "      <td>541.33</td>\n",
       "      <td>500.31</td>\n",
       "      <td>255.0</td>\n",
       "      <td>541.33</td>\n",
       "      <td>251.0</td>\n",
       "      <td>500.31</td>\n",
       "      <td>255.0</td>\n",
       "    </tr>\n",
       "    <tr>\n",
       "      <th>2</th>\n",
       "      <td>260.0</td>\n",
       "      <td>541.79</td>\n",
       "      <td>500.50</td>\n",
       "      <td>310.0</td>\n",
       "      <td>252.0</td>\n",
       "      <td>541.79</td>\n",
       "      <td>500.461484</td>\n",
       "      <td>261.023115</td>\n",
       "      <td>290.0</td>\n",
       "      <td>500.50</td>\n",
       "      <td>...</td>\n",
       "      <td>450.42</td>\n",
       "      <td>450.42</td>\n",
       "      <td>260.0</td>\n",
       "      <td>541.79</td>\n",
       "      <td>500.50</td>\n",
       "      <td>260.0</td>\n",
       "      <td>541.79</td>\n",
       "      <td>252.0</td>\n",
       "      <td>500.50</td>\n",
       "      <td>260.0</td>\n",
       "    </tr>\n",
       "    <tr>\n",
       "      <th>3</th>\n",
       "      <td>265.0</td>\n",
       "      <td>542.24</td>\n",
       "      <td>500.70</td>\n",
       "      <td>315.0</td>\n",
       "      <td>253.0</td>\n",
       "      <td>542.24</td>\n",
       "      <td>502.260751</td>\n",
       "      <td>263.815131</td>\n",
       "      <td>295.0</td>\n",
       "      <td>500.70</td>\n",
       "      <td>...</td>\n",
       "      <td>450.57</td>\n",
       "      <td>450.57</td>\n",
       "      <td>265.0</td>\n",
       "      <td>542.24</td>\n",
       "      <td>500.70</td>\n",
       "      <td>265.0</td>\n",
       "      <td>542.24</td>\n",
       "      <td>253.0</td>\n",
       "      <td>500.70</td>\n",
       "      <td>265.0</td>\n",
       "    </tr>\n",
       "    <tr>\n",
       "      <th>4</th>\n",
       "      <td>270.0</td>\n",
       "      <td>542.69</td>\n",
       "      <td>500.89</td>\n",
       "      <td>320.0</td>\n",
       "      <td>254.0</td>\n",
       "      <td>542.69</td>\n",
       "      <td>503.288903</td>\n",
       "      <td>266.194741</td>\n",
       "      <td>300.0</td>\n",
       "      <td>500.89</td>\n",
       "      <td>...</td>\n",
       "      <td>450.73</td>\n",
       "      <td>450.73</td>\n",
       "      <td>270.0</td>\n",
       "      <td>542.69</td>\n",
       "      <td>500.89</td>\n",
       "      <td>270.0</td>\n",
       "      <td>542.69</td>\n",
       "      <td>254.0</td>\n",
       "      <td>500.89</td>\n",
       "      <td>270.0</td>\n",
       "    </tr>\n",
       "    <tr>\n",
       "      <th>...</th>\n",
       "      <td>...</td>\n",
       "      <td>...</td>\n",
       "      <td>...</td>\n",
       "      <td>...</td>\n",
       "      <td>...</td>\n",
       "      <td>...</td>\n",
       "      <td>...</td>\n",
       "      <td>...</td>\n",
       "      <td>...</td>\n",
       "      <td>...</td>\n",
       "      <td>...</td>\n",
       "      <td>...</td>\n",
       "      <td>...</td>\n",
       "      <td>...</td>\n",
       "      <td>...</td>\n",
       "      <td>...</td>\n",
       "      <td>...</td>\n",
       "      <td>...</td>\n",
       "      <td>...</td>\n",
       "      <td>...</td>\n",
       "      <td>...</td>\n",
       "    </tr>\n",
       "    <tr>\n",
       "      <th>4651</th>\n",
       "      <td>NaN</td>\n",
       "      <td>NaN</td>\n",
       "      <td>NaN</td>\n",
       "      <td>NaN</td>\n",
       "      <td>NaN</td>\n",
       "      <td>NaN</td>\n",
       "      <td>NaN</td>\n",
       "      <td>NaN</td>\n",
       "      <td>NaN</td>\n",
       "      <td>NaN</td>\n",
       "      <td>...</td>\n",
       "      <td>2494.10</td>\n",
       "      <td>2494.10</td>\n",
       "      <td>NaN</td>\n",
       "      <td>NaN</td>\n",
       "      <td>NaN</td>\n",
       "      <td>NaN</td>\n",
       "      <td>NaN</td>\n",
       "      <td>NaN</td>\n",
       "      <td>NaN</td>\n",
       "      <td>NaN</td>\n",
       "    </tr>\n",
       "    <tr>\n",
       "      <th>4652</th>\n",
       "      <td>NaN</td>\n",
       "      <td>NaN</td>\n",
       "      <td>NaN</td>\n",
       "      <td>NaN</td>\n",
       "      <td>NaN</td>\n",
       "      <td>NaN</td>\n",
       "      <td>NaN</td>\n",
       "      <td>NaN</td>\n",
       "      <td>NaN</td>\n",
       "      <td>NaN</td>\n",
       "      <td>...</td>\n",
       "      <td>2495.30</td>\n",
       "      <td>2495.30</td>\n",
       "      <td>NaN</td>\n",
       "      <td>NaN</td>\n",
       "      <td>NaN</td>\n",
       "      <td>NaN</td>\n",
       "      <td>NaN</td>\n",
       "      <td>NaN</td>\n",
       "      <td>NaN</td>\n",
       "      <td>NaN</td>\n",
       "    </tr>\n",
       "    <tr>\n",
       "      <th>4653</th>\n",
       "      <td>NaN</td>\n",
       "      <td>NaN</td>\n",
       "      <td>NaN</td>\n",
       "      <td>NaN</td>\n",
       "      <td>NaN</td>\n",
       "      <td>NaN</td>\n",
       "      <td>NaN</td>\n",
       "      <td>NaN</td>\n",
       "      <td>NaN</td>\n",
       "      <td>NaN</td>\n",
       "      <td>...</td>\n",
       "      <td>2496.50</td>\n",
       "      <td>2496.50</td>\n",
       "      <td>NaN</td>\n",
       "      <td>NaN</td>\n",
       "      <td>NaN</td>\n",
       "      <td>NaN</td>\n",
       "      <td>NaN</td>\n",
       "      <td>NaN</td>\n",
       "      <td>NaN</td>\n",
       "      <td>NaN</td>\n",
       "    </tr>\n",
       "    <tr>\n",
       "      <th>4654</th>\n",
       "      <td>NaN</td>\n",
       "      <td>NaN</td>\n",
       "      <td>NaN</td>\n",
       "      <td>NaN</td>\n",
       "      <td>NaN</td>\n",
       "      <td>NaN</td>\n",
       "      <td>NaN</td>\n",
       "      <td>NaN</td>\n",
       "      <td>NaN</td>\n",
       "      <td>NaN</td>\n",
       "      <td>...</td>\n",
       "      <td>2497.70</td>\n",
       "      <td>2497.70</td>\n",
       "      <td>NaN</td>\n",
       "      <td>NaN</td>\n",
       "      <td>NaN</td>\n",
       "      <td>NaN</td>\n",
       "      <td>NaN</td>\n",
       "      <td>NaN</td>\n",
       "      <td>NaN</td>\n",
       "      <td>NaN</td>\n",
       "    </tr>\n",
       "    <tr>\n",
       "      <th>4655</th>\n",
       "      <td>NaN</td>\n",
       "      <td>NaN</td>\n",
       "      <td>NaN</td>\n",
       "      <td>NaN</td>\n",
       "      <td>NaN</td>\n",
       "      <td>NaN</td>\n",
       "      <td>NaN</td>\n",
       "      <td>NaN</td>\n",
       "      <td>NaN</td>\n",
       "      <td>NaN</td>\n",
       "      <td>...</td>\n",
       "      <td>2498.90</td>\n",
       "      <td>2498.90</td>\n",
       "      <td>NaN</td>\n",
       "      <td>NaN</td>\n",
       "      <td>NaN</td>\n",
       "      <td>NaN</td>\n",
       "      <td>NaN</td>\n",
       "      <td>NaN</td>\n",
       "      <td>NaN</td>\n",
       "      <td>NaN</td>\n",
       "    </tr>\n",
       "  </tbody>\n",
       "</table>\n",
       "<p>4656 rows × 200 columns</p>\n",
       "</div>"
      ],
      "text/plain": [
       "      OC_LP_B2_1  KC_OPX_hevn_1  KC_OPX_lm_9  OC_TXH_011_A60  RB_LE4OLV  \\\n",
       "0          250.0         540.88       500.12           300.0      250.0   \n",
       "1          255.0         541.33       500.31           305.0      251.0   \n",
       "2          260.0         541.79       500.50           310.0      252.0   \n",
       "3          265.0         542.24       500.70           315.0      253.0   \n",
       "4          270.0         542.69       500.89           320.0      254.0   \n",
       "...          ...            ...          ...             ...        ...   \n",
       "4651         NaN            NaN          NaN             NaN        NaN   \n",
       "4652         NaN            NaN          NaN             NaN        NaN   \n",
       "4653         NaN            NaN          NaN             NaN        NaN   \n",
       "4654         NaN            NaN          NaN             NaN        NaN   \n",
       "4655         NaN            NaN          NaN             NaN        NaN   \n",
       "\n",
       "      KC_OL_arvn_5  OWN_OL4_EN1_1    MY_OL_30  XT_TXH_030_P2  KC_OPX_lm_8  \\\n",
       "0           540.88     496.605913  255.855137          280.0       500.12   \n",
       "1           541.33     498.919256  258.242041          285.0       500.31   \n",
       "2           541.79     500.461484  261.023115          290.0       500.50   \n",
       "3           542.24     502.260751  263.815131          295.0       500.70   \n",
       "4           542.69     503.288903  266.194741          300.0       500.89   \n",
       "...            ...            ...         ...            ...          ...   \n",
       "4651           NaN            NaN         NaN            NaN          NaN   \n",
       "4652           NaN            NaN         NaN            NaN          NaN   \n",
       "4653           NaN            NaN         NaN            NaN          NaN   \n",
       "4654           NaN            NaN         NaN            NaN          NaN   \n",
       "4655           NaN            NaN         NaN            NaN          NaN   \n",
       "\n",
       "      ...  KC_OPX_lvn_1  KC_OPX_lvn_10  OC_TXH_013_P05  KC_OPX_hevn_3  \\\n",
       "0     ...        450.10         450.10           250.0         540.88   \n",
       "1     ...        450.26         450.26           255.0         541.33   \n",
       "2     ...        450.42         450.42           260.0         541.79   \n",
       "3     ...        450.57         450.57           265.0         542.24   \n",
       "4     ...        450.73         450.73           270.0         542.69   \n",
       "...   ...           ...            ...             ...            ...   \n",
       "4651  ...       2494.10        2494.10             NaN            NaN   \n",
       "4652  ...       2495.30        2495.30             NaN            NaN   \n",
       "4653  ...       2496.50        2496.50             NaN            NaN   \n",
       "4654  ...       2497.70        2497.70             NaN            NaN   \n",
       "4655  ...       2498.90        2498.90             NaN            NaN   \n",
       "\n",
       "      KC_OL_hm_2  OC_LP_A3_1  KC_OPX_arvn_5  RB_LE2CPX  KC_OL_arm_1  \\\n",
       "0         500.12       250.0         540.88      250.0       500.12   \n",
       "1         500.31       255.0         541.33      251.0       500.31   \n",
       "2         500.50       260.0         541.79      252.0       500.50   \n",
       "3         500.70       265.0         542.24      253.0       500.70   \n",
       "4         500.89       270.0         542.69      254.0       500.89   \n",
       "...          ...         ...            ...        ...          ...   \n",
       "4651         NaN         NaN            NaN        NaN          NaN   \n",
       "4652         NaN         NaN            NaN        NaN          NaN   \n",
       "4653         NaN         NaN            NaN        NaN          NaN   \n",
       "4654         NaN         NaN            NaN        NaN          NaN   \n",
       "4655         NaN         NaN            NaN        NaN          NaN   \n",
       "\n",
       "      OC_LP_A2_2  \n",
       "0          250.0  \n",
       "1          255.0  \n",
       "2          260.0  \n",
       "3          265.0  \n",
       "4          270.0  \n",
       "...          ...  \n",
       "4651         NaN  \n",
       "4652         NaN  \n",
       "4653         NaN  \n",
       "4654         NaN  \n",
       "4655         NaN  \n",
       "\n",
       "[4656 rows x 200 columns]"
      ]
     },
     "execution_count": 38,
     "metadata": {},
     "output_type": "execute_result"
    }
   ],
   "source": [
    "max_first_wavelength = float('-inf')\n",
    "for key, value in w_data.items():\n",
    "    if value[0] > max_first_wavelength:\n",
    "        max_first_wavelength = value[0]\n",
    "print(max_first_wavelength)\n",
    "\n",
    "min_last_wavelength = float('inf')\n",
    "for key, value in w_data.items():\n",
    "    if value[-1] < min_last_wavelength:\n",
    "        min_last_wavelength = value[-1]\n",
    "print(min_last_wavelength)\n",
    "\n",
    "# Convert the dictionaries to DataFrames\n",
    "w_df = pd.DataFrame(dict([(k, pd.Series(v)) for k, v in w_data.items()]))\n",
    "\n",
    "w_df"
   ]
  },
  {
   "cell_type": "markdown",
   "metadata": {},
   "source": [
    "#### Preprocess Reflectance Data"
   ]
  },
  {
   "cell_type": "code",
   "execution_count": 39,
   "metadata": {},
   "outputs": [
    {
     "data": {
      "text/html": [
       "<div>\n",
       "<style scoped>\n",
       "    .dataframe tbody tr th:only-of-type {\n",
       "        vertical-align: middle;\n",
       "    }\n",
       "\n",
       "    .dataframe tbody tr th {\n",
       "        vertical-align: top;\n",
       "    }\n",
       "\n",
       "    .dataframe thead th {\n",
       "        text-align: right;\n",
       "    }\n",
       "</style>\n",
       "<table border=\"1\" class=\"dataframe\">\n",
       "  <thead>\n",
       "    <tr style=\"text-align: right;\">\n",
       "      <th></th>\n",
       "      <th>OC_LP_B2_1</th>\n",
       "      <th>KC_OPX_hevn_1</th>\n",
       "      <th>KC_OPX_lm_9</th>\n",
       "      <th>OC_TXH_011_A60</th>\n",
       "      <th>RB_LE4OLV</th>\n",
       "      <th>KC_OL_arvn_5</th>\n",
       "      <th>OWN_OL4_EN1_1</th>\n",
       "      <th>MY_OL_30</th>\n",
       "      <th>XT_TXH_030_P2</th>\n",
       "      <th>KC_OPX_lm_8</th>\n",
       "      <th>...</th>\n",
       "      <th>KC_OPX_lvn_1</th>\n",
       "      <th>KC_OPX_lvn_10</th>\n",
       "      <th>OC_TXH_013_P05</th>\n",
       "      <th>KC_OPX_hevn_3</th>\n",
       "      <th>KC_OL_hm_2</th>\n",
       "      <th>OC_LP_A3_1</th>\n",
       "      <th>KC_OPX_arvn_5</th>\n",
       "      <th>RB_LE2CPX</th>\n",
       "      <th>KC_OL_arm_1</th>\n",
       "      <th>OC_LP_A2_2</th>\n",
       "    </tr>\n",
       "  </thead>\n",
       "  <tbody>\n",
       "    <tr>\n",
       "      <th>0</th>\n",
       "      <td>0.091267</td>\n",
       "      <td>0.30316</td>\n",
       "      <td>0.17514</td>\n",
       "      <td>0.08142</td>\n",
       "      <td>0.102687</td>\n",
       "      <td>0.69376</td>\n",
       "      <td>0.222230</td>\n",
       "      <td>0.078070</td>\n",
       "      <td>0.19662</td>\n",
       "      <td>0.18813</td>\n",
       "      <td>...</td>\n",
       "      <td>0.29841</td>\n",
       "      <td>0.10807</td>\n",
       "      <td>0.087242</td>\n",
       "      <td>0.29999</td>\n",
       "      <td>0.66890</td>\n",
       "      <td>0.073795</td>\n",
       "      <td>0.30564</td>\n",
       "      <td>0.139433</td>\n",
       "      <td>0.45412</td>\n",
       "      <td>0.068925</td>\n",
       "    </tr>\n",
       "    <tr>\n",
       "      <th>1</th>\n",
       "      <td>0.095063</td>\n",
       "      <td>0.30342</td>\n",
       "      <td>0.15834</td>\n",
       "      <td>0.08278</td>\n",
       "      <td>0.102185</td>\n",
       "      <td>0.69462</td>\n",
       "      <td>0.222707</td>\n",
       "      <td>0.079495</td>\n",
       "      <td>0.14896</td>\n",
       "      <td>0.18181</td>\n",
       "      <td>...</td>\n",
       "      <td>0.29947</td>\n",
       "      <td>0.10395</td>\n",
       "      <td>0.088632</td>\n",
       "      <td>0.30073</td>\n",
       "      <td>0.66179</td>\n",
       "      <td>0.075704</td>\n",
       "      <td>0.30569</td>\n",
       "      <td>0.138631</td>\n",
       "      <td>0.44680</td>\n",
       "      <td>0.070946</td>\n",
       "    </tr>\n",
       "    <tr>\n",
       "      <th>2</th>\n",
       "      <td>0.099236</td>\n",
       "      <td>0.30346</td>\n",
       "      <td>0.15316</td>\n",
       "      <td>0.08263</td>\n",
       "      <td>0.102471</td>\n",
       "      <td>0.69529</td>\n",
       "      <td>0.223281</td>\n",
       "      <td>0.080919</td>\n",
       "      <td>0.13586</td>\n",
       "      <td>0.16909</td>\n",
       "      <td>...</td>\n",
       "      <td>0.29177</td>\n",
       "      <td>0.10738</td>\n",
       "      <td>0.088888</td>\n",
       "      <td>0.30058</td>\n",
       "      <td>0.66537</td>\n",
       "      <td>0.077820</td>\n",
       "      <td>0.30536</td>\n",
       "      <td>0.138315</td>\n",
       "      <td>0.44301</td>\n",
       "      <td>0.073034</td>\n",
       "    </tr>\n",
       "    <tr>\n",
       "      <th>3</th>\n",
       "      <td>0.103076</td>\n",
       "      <td>0.30354</td>\n",
       "      <td>0.15552</td>\n",
       "      <td>0.08353</td>\n",
       "      <td>0.102007</td>\n",
       "      <td>0.69547</td>\n",
       "      <td>0.223663</td>\n",
       "      <td>0.083058</td>\n",
       "      <td>0.13219</td>\n",
       "      <td>0.16247</td>\n",
       "      <td>...</td>\n",
       "      <td>0.28526</td>\n",
       "      <td>0.11490</td>\n",
       "      <td>0.087427</td>\n",
       "      <td>0.30090</td>\n",
       "      <td>0.66944</td>\n",
       "      <td>0.079724</td>\n",
       "      <td>0.30506</td>\n",
       "      <td>0.138342</td>\n",
       "      <td>0.43171</td>\n",
       "      <td>0.074928</td>\n",
       "    </tr>\n",
       "    <tr>\n",
       "      <th>4</th>\n",
       "      <td>0.107064</td>\n",
       "      <td>0.30343</td>\n",
       "      <td>0.15903</td>\n",
       "      <td>0.08438</td>\n",
       "      <td>0.101547</td>\n",
       "      <td>0.69554</td>\n",
       "      <td>0.224141</td>\n",
       "      <td>0.084007</td>\n",
       "      <td>0.13455</td>\n",
       "      <td>0.16843</td>\n",
       "      <td>...</td>\n",
       "      <td>0.28488</td>\n",
       "      <td>0.13047</td>\n",
       "      <td>0.088377</td>\n",
       "      <td>0.30071</td>\n",
       "      <td>0.66752</td>\n",
       "      <td>0.081352</td>\n",
       "      <td>0.30471</td>\n",
       "      <td>0.137929</td>\n",
       "      <td>0.43110</td>\n",
       "      <td>0.076659</td>\n",
       "    </tr>\n",
       "    <tr>\n",
       "      <th>...</th>\n",
       "      <td>...</td>\n",
       "      <td>...</td>\n",
       "      <td>...</td>\n",
       "      <td>...</td>\n",
       "      <td>...</td>\n",
       "      <td>...</td>\n",
       "      <td>...</td>\n",
       "      <td>...</td>\n",
       "      <td>...</td>\n",
       "      <td>...</td>\n",
       "      <td>...</td>\n",
       "      <td>...</td>\n",
       "      <td>...</td>\n",
       "      <td>...</td>\n",
       "      <td>...</td>\n",
       "      <td>...</td>\n",
       "      <td>...</td>\n",
       "      <td>...</td>\n",
       "      <td>...</td>\n",
       "      <td>...</td>\n",
       "      <td>...</td>\n",
       "    </tr>\n",
       "    <tr>\n",
       "      <th>4651</th>\n",
       "      <td>NaN</td>\n",
       "      <td>NaN</td>\n",
       "      <td>NaN</td>\n",
       "      <td>NaN</td>\n",
       "      <td>NaN</td>\n",
       "      <td>NaN</td>\n",
       "      <td>NaN</td>\n",
       "      <td>NaN</td>\n",
       "      <td>NaN</td>\n",
       "      <td>NaN</td>\n",
       "      <td>...</td>\n",
       "      <td>0.54237</td>\n",
       "      <td>0.43920</td>\n",
       "      <td>NaN</td>\n",
       "      <td>NaN</td>\n",
       "      <td>NaN</td>\n",
       "      <td>NaN</td>\n",
       "      <td>NaN</td>\n",
       "      <td>NaN</td>\n",
       "      <td>NaN</td>\n",
       "      <td>NaN</td>\n",
       "    </tr>\n",
       "    <tr>\n",
       "      <th>4652</th>\n",
       "      <td>NaN</td>\n",
       "      <td>NaN</td>\n",
       "      <td>NaN</td>\n",
       "      <td>NaN</td>\n",
       "      <td>NaN</td>\n",
       "      <td>NaN</td>\n",
       "      <td>NaN</td>\n",
       "      <td>NaN</td>\n",
       "      <td>NaN</td>\n",
       "      <td>NaN</td>\n",
       "      <td>...</td>\n",
       "      <td>0.54303</td>\n",
       "      <td>0.43950</td>\n",
       "      <td>NaN</td>\n",
       "      <td>NaN</td>\n",
       "      <td>NaN</td>\n",
       "      <td>NaN</td>\n",
       "      <td>NaN</td>\n",
       "      <td>NaN</td>\n",
       "      <td>NaN</td>\n",
       "      <td>NaN</td>\n",
       "    </tr>\n",
       "    <tr>\n",
       "      <th>4653</th>\n",
       "      <td>NaN</td>\n",
       "      <td>NaN</td>\n",
       "      <td>NaN</td>\n",
       "      <td>NaN</td>\n",
       "      <td>NaN</td>\n",
       "      <td>NaN</td>\n",
       "      <td>NaN</td>\n",
       "      <td>NaN</td>\n",
       "      <td>NaN</td>\n",
       "      <td>NaN</td>\n",
       "      <td>...</td>\n",
       "      <td>0.54355</td>\n",
       "      <td>0.43975</td>\n",
       "      <td>NaN</td>\n",
       "      <td>NaN</td>\n",
       "      <td>NaN</td>\n",
       "      <td>NaN</td>\n",
       "      <td>NaN</td>\n",
       "      <td>NaN</td>\n",
       "      <td>NaN</td>\n",
       "      <td>NaN</td>\n",
       "    </tr>\n",
       "    <tr>\n",
       "      <th>4654</th>\n",
       "      <td>NaN</td>\n",
       "      <td>NaN</td>\n",
       "      <td>NaN</td>\n",
       "      <td>NaN</td>\n",
       "      <td>NaN</td>\n",
       "      <td>NaN</td>\n",
       "      <td>NaN</td>\n",
       "      <td>NaN</td>\n",
       "      <td>NaN</td>\n",
       "      <td>NaN</td>\n",
       "      <td>...</td>\n",
       "      <td>0.54356</td>\n",
       "      <td>0.43966</td>\n",
       "      <td>NaN</td>\n",
       "      <td>NaN</td>\n",
       "      <td>NaN</td>\n",
       "      <td>NaN</td>\n",
       "      <td>NaN</td>\n",
       "      <td>NaN</td>\n",
       "      <td>NaN</td>\n",
       "      <td>NaN</td>\n",
       "    </tr>\n",
       "    <tr>\n",
       "      <th>4655</th>\n",
       "      <td>NaN</td>\n",
       "      <td>NaN</td>\n",
       "      <td>NaN</td>\n",
       "      <td>NaN</td>\n",
       "      <td>NaN</td>\n",
       "      <td>NaN</td>\n",
       "      <td>NaN</td>\n",
       "      <td>NaN</td>\n",
       "      <td>NaN</td>\n",
       "      <td>NaN</td>\n",
       "      <td>...</td>\n",
       "      <td>0.54482</td>\n",
       "      <td>0.44079</td>\n",
       "      <td>NaN</td>\n",
       "      <td>NaN</td>\n",
       "      <td>NaN</td>\n",
       "      <td>NaN</td>\n",
       "      <td>NaN</td>\n",
       "      <td>NaN</td>\n",
       "      <td>NaN</td>\n",
       "      <td>NaN</td>\n",
       "    </tr>\n",
       "  </tbody>\n",
       "</table>\n",
       "<p>4656 rows × 200 columns</p>\n",
       "</div>"
      ],
      "text/plain": [
       "      OC_LP_B2_1  KC_OPX_hevn_1  KC_OPX_lm_9  OC_TXH_011_A60  RB_LE4OLV  \\\n",
       "0       0.091267        0.30316      0.17514         0.08142   0.102687   \n",
       "1       0.095063        0.30342      0.15834         0.08278   0.102185   \n",
       "2       0.099236        0.30346      0.15316         0.08263   0.102471   \n",
       "3       0.103076        0.30354      0.15552         0.08353   0.102007   \n",
       "4       0.107064        0.30343      0.15903         0.08438   0.101547   \n",
       "...          ...            ...          ...             ...        ...   \n",
       "4651         NaN            NaN          NaN             NaN        NaN   \n",
       "4652         NaN            NaN          NaN             NaN        NaN   \n",
       "4653         NaN            NaN          NaN             NaN        NaN   \n",
       "4654         NaN            NaN          NaN             NaN        NaN   \n",
       "4655         NaN            NaN          NaN             NaN        NaN   \n",
       "\n",
       "      KC_OL_arvn_5  OWN_OL4_EN1_1  MY_OL_30  XT_TXH_030_P2  KC_OPX_lm_8  ...  \\\n",
       "0          0.69376       0.222230  0.078070        0.19662      0.18813  ...   \n",
       "1          0.69462       0.222707  0.079495        0.14896      0.18181  ...   \n",
       "2          0.69529       0.223281  0.080919        0.13586      0.16909  ...   \n",
       "3          0.69547       0.223663  0.083058        0.13219      0.16247  ...   \n",
       "4          0.69554       0.224141  0.084007        0.13455      0.16843  ...   \n",
       "...            ...            ...       ...            ...          ...  ...   \n",
       "4651           NaN            NaN       NaN            NaN          NaN  ...   \n",
       "4652           NaN            NaN       NaN            NaN          NaN  ...   \n",
       "4653           NaN            NaN       NaN            NaN          NaN  ...   \n",
       "4654           NaN            NaN       NaN            NaN          NaN  ...   \n",
       "4655           NaN            NaN       NaN            NaN          NaN  ...   \n",
       "\n",
       "      KC_OPX_lvn_1  KC_OPX_lvn_10  OC_TXH_013_P05  KC_OPX_hevn_3  KC_OL_hm_2  \\\n",
       "0          0.29841        0.10807        0.087242        0.29999     0.66890   \n",
       "1          0.29947        0.10395        0.088632        0.30073     0.66179   \n",
       "2          0.29177        0.10738        0.088888        0.30058     0.66537   \n",
       "3          0.28526        0.11490        0.087427        0.30090     0.66944   \n",
       "4          0.28488        0.13047        0.088377        0.30071     0.66752   \n",
       "...            ...            ...             ...            ...         ...   \n",
       "4651       0.54237        0.43920             NaN            NaN         NaN   \n",
       "4652       0.54303        0.43950             NaN            NaN         NaN   \n",
       "4653       0.54355        0.43975             NaN            NaN         NaN   \n",
       "4654       0.54356        0.43966             NaN            NaN         NaN   \n",
       "4655       0.54482        0.44079             NaN            NaN         NaN   \n",
       "\n",
       "      OC_LP_A3_1  KC_OPX_arvn_5  RB_LE2CPX  KC_OL_arm_1  OC_LP_A2_2  \n",
       "0       0.073795        0.30564   0.139433      0.45412    0.068925  \n",
       "1       0.075704        0.30569   0.138631      0.44680    0.070946  \n",
       "2       0.077820        0.30536   0.138315      0.44301    0.073034  \n",
       "3       0.079724        0.30506   0.138342      0.43171    0.074928  \n",
       "4       0.081352        0.30471   0.137929      0.43110    0.076659  \n",
       "...          ...            ...        ...          ...         ...  \n",
       "4651         NaN            NaN        NaN          NaN         NaN  \n",
       "4652         NaN            NaN        NaN          NaN         NaN  \n",
       "4653         NaN            NaN        NaN          NaN         NaN  \n",
       "4654         NaN            NaN        NaN          NaN         NaN  \n",
       "4655         NaN            NaN        NaN          NaN         NaN  \n",
       "\n",
       "[4656 rows x 200 columns]"
      ]
     },
     "execution_count": 39,
     "metadata": {},
     "output_type": "execute_result"
    }
   ],
   "source": [
    "r_df = pd.DataFrame(dict([(k, pd.Series(v)) for k, v in r_data.items()]))\n",
    "\n",
    "r_df"
   ]
  },
  {
   "cell_type": "markdown",
   "metadata": {},
   "source": [
    "#### Interpolate and Normalize Data\n",
    "\n",
    "The number and range of considered wavelengths can be changes in the following code cell. The variable \"interpolation_wavelengths\" determines the wavelengths, and it can be freely changed."
   ]
  },
  {
   "cell_type": "code",
   "execution_count": 40,
   "metadata": {},
   "outputs": [
    {
     "data": {
      "image/png": "[encoded data removed]",
      "text/plain": [
       "<Figure size 640x480 with 1 Axes>"
      ]
     },
     "metadata": {},
     "output_type": "display_data"
    },
    {
     "data": {
      "text/html": [
       "<div>\n",
       "<style scoped>\n",
       "    .dataframe tbody tr th:only-of-type {\n",
       "        vertical-align: middle;\n",
       "    }\n",
       "\n",
       "    .dataframe tbody tr th {\n",
       "        vertical-align: top;\n",
       "    }\n",
       "\n",
       "    .dataframe thead th {\n",
       "        text-align: right;\n",
       "    }\n",
       "</style>\n",
       "<table border=\"1\" class=\"dataframe\">\n",
       "  <thead>\n",
       "    <tr style=\"text-align: right;\">\n",
       "      <th></th>\n",
       "      <th>OC_LP_B2_1</th>\n",
       "      <th>KC_OPX_hevn_1</th>\n",
       "      <th>KC_OPX_lm_9</th>\n",
       "      <th>OC_TXH_011_A60</th>\n",
       "      <th>RB_LE4OLV</th>\n",
       "      <th>KC_OL_arvn_5</th>\n",
       "      <th>OWN_OL4_EN1_1</th>\n",
       "      <th>MY_OL_30</th>\n",
       "      <th>XT_TXH_030_P2</th>\n",
       "      <th>KC_OPX_lm_8</th>\n",
       "      <th>...</th>\n",
       "      <th>KC_OPX_lvn_1</th>\n",
       "      <th>KC_OPX_lvn_10</th>\n",
       "      <th>OC_TXH_013_P05</th>\n",
       "      <th>KC_OPX_hevn_3</th>\n",
       "      <th>KC_OL_hm_2</th>\n",
       "      <th>OC_LP_A3_1</th>\n",
       "      <th>KC_OPX_arvn_5</th>\n",
       "      <th>RB_LE2CPX</th>\n",
       "      <th>KC_OL_arm_1</th>\n",
       "      <th>OC_LP_A2_2</th>\n",
       "    </tr>\n",
       "  </thead>\n",
       "  <tbody>\n",
       "    <tr>\n",
       "      <th>550.0</th>\n",
       "      <td>1.000000</td>\n",
       "      <td>1.000000</td>\n",
       "      <td>1.000000</td>\n",
       "      <td>1.000000</td>\n",
       "      <td>1.000000</td>\n",
       "      <td>1.000000</td>\n",
       "      <td>1.000000</td>\n",
       "      <td>1.000000</td>\n",
       "      <td>1.000000</td>\n",
       "      <td>1.000000</td>\n",
       "      <td>...</td>\n",
       "      <td>1.000000</td>\n",
       "      <td>1.000000</td>\n",
       "      <td>1.000000</td>\n",
       "      <td>1.000000</td>\n",
       "      <td>1.000000</td>\n",
       "      <td>1.000000</td>\n",
       "      <td>1.000000</td>\n",
       "      <td>1.000000</td>\n",
       "      <td>1.000000</td>\n",
       "      <td>1.000000</td>\n",
       "    </tr>\n",
       "    <tr>\n",
       "      <th>584.0</th>\n",
       "      <td>1.025818</td>\n",
       "      <td>1.023912</td>\n",
       "      <td>1.085563</td>\n",
       "      <td>1.038690</td>\n",
       "      <td>1.048641</td>\n",
       "      <td>1.012260</td>\n",
       "      <td>1.037647</td>\n",
       "      <td>1.063113</td>\n",
       "      <td>1.028520</td>\n",
       "      <td>1.101411</td>\n",
       "      <td>...</td>\n",
       "      <td>1.050305</td>\n",
       "      <td>1.090798</td>\n",
       "      <td>1.017611</td>\n",
       "      <td>1.025000</td>\n",
       "      <td>1.006495</td>\n",
       "      <td>1.088583</td>\n",
       "      <td>1.030655</td>\n",
       "      <td>1.035233</td>\n",
       "      <td>1.038322</td>\n",
       "      <td>1.105729</td>\n",
       "    </tr>\n",
       "    <tr>\n",
       "      <th>618.0</th>\n",
       "      <td>1.041532</td>\n",
       "      <td>1.056567</td>\n",
       "      <td>1.172919</td>\n",
       "      <td>1.068086</td>\n",
       "      <td>1.077656</td>\n",
       "      <td>1.007257</td>\n",
       "      <td>1.074555</td>\n",
       "      <td>1.109795</td>\n",
       "      <td>1.031543</td>\n",
       "      <td>1.182591</td>\n",
       "      <td>...</td>\n",
       "      <td>1.083221</td>\n",
       "      <td>1.163220</td>\n",
       "      <td>1.033550</td>\n",
       "      <td>1.061388</td>\n",
       "      <td>1.001083</td>\n",
       "      <td>1.151232</td>\n",
       "      <td>1.071262</td>\n",
       "      <td>1.065463</td>\n",
       "      <td>1.056541</td>\n",
       "      <td>1.175916</td>\n",
       "    </tr>\n",
       "    <tr>\n",
       "      <th>652.0</th>\n",
       "      <td>1.056156</td>\n",
       "      <td>1.101019</td>\n",
       "      <td>1.254283</td>\n",
       "      <td>1.096362</td>\n",
       "      <td>1.110248</td>\n",
       "      <td>1.008834</td>\n",
       "      <td>1.107209</td>\n",
       "      <td>1.143272</td>\n",
       "      <td>1.046723</td>\n",
       "      <td>1.254749</td>\n",
       "      <td>...</td>\n",
       "      <td>1.119670</td>\n",
       "      <td>1.229345</td>\n",
       "      <td>1.051170</td>\n",
       "      <td>1.110001</td>\n",
       "      <td>1.007799</td>\n",
       "      <td>1.191792</td>\n",
       "      <td>1.102640</td>\n",
       "      <td>1.092927</td>\n",
       "      <td>1.079361</td>\n",
       "      <td>1.219676</td>\n",
       "    </tr>\n",
       "    <tr>\n",
       "      <th>686.0</th>\n",
       "      <td>1.065866</td>\n",
       "      <td>1.144549</td>\n",
       "      <td>1.320872</td>\n",
       "      <td>1.113485</td>\n",
       "      <td>1.146285</td>\n",
       "      <td>1.009464</td>\n",
       "      <td>1.139044</td>\n",
       "      <td>1.185546</td>\n",
       "      <td>1.071987</td>\n",
       "      <td>1.329229</td>\n",
       "      <td>...</td>\n",
       "      <td>1.161474</td>\n",
       "      <td>1.286154</td>\n",
       "      <td>1.065420</td>\n",
       "      <td>1.147666</td>\n",
       "      <td>1.010311</td>\n",
       "      <td>1.219460</td>\n",
       "      <td>1.153756</td>\n",
       "      <td>1.119006</td>\n",
       "      <td>1.098171</td>\n",
       "      <td>1.247651</td>\n",
       "    </tr>\n",
       "    <tr>\n",
       "      <th>720.0</th>\n",
       "      <td>1.070456</td>\n",
       "      <td>1.187161</td>\n",
       "      <td>1.377180</td>\n",
       "      <td>1.115344</td>\n",
       "      <td>1.146664</td>\n",
       "      <td>0.983658</td>\n",
       "      <td>1.165315</td>\n",
       "      <td>1.198987</td>\n",
       "      <td>1.082094</td>\n",
       "      <td>1.380829</td>\n",
       "      <td>...</td>\n",
       "      <td>1.199106</td>\n",
       "      <td>1.328543</td>\n",
       "      <td>1.079248</td>\n",
       "      <td>1.188370</td>\n",
       "      <td>0.984608</td>\n",
       "      <td>1.236806</td>\n",
       "      <td>1.205637</td>\n",
       "      <td>1.159498</td>\n",
       "      <td>1.097729</td>\n",
       "      <td>1.263192</td>\n",
       "    </tr>\n",
       "    <tr>\n",
       "      <th>754.0</th>\n",
       "      <td>1.061514</td>\n",
       "      <td>1.214569</td>\n",
       "      <td>1.357387</td>\n",
       "      <td>1.100633</td>\n",
       "      <td>1.138979</td>\n",
       "      <td>0.940578</td>\n",
       "      <td>1.186650</td>\n",
       "      <td>1.194375</td>\n",
       "      <td>1.043446</td>\n",
       "      <td>1.365064</td>\n",
       "      <td>...</td>\n",
       "      <td>1.193812</td>\n",
       "      <td>1.311839</td>\n",
       "      <td>1.084272</td>\n",
       "      <td>1.213442</td>\n",
       "      <td>0.937861</td>\n",
       "      <td>1.236653</td>\n",
       "      <td>1.231927</td>\n",
       "      <td>1.189243</td>\n",
       "      <td>1.071949</td>\n",
       "      <td>1.260106</td>\n",
       "    </tr>\n",
       "    <tr>\n",
       "      <th>788.0</th>\n",
       "      <td>1.034156</td>\n",
       "      <td>1.152679</td>\n",
       "      <td>1.222129</td>\n",
       "      <td>1.060663</td>\n",
       "      <td>1.103010</td>\n",
       "      <td>0.890738</td>\n",
       "      <td>1.195784</td>\n",
       "      <td>1.178256</td>\n",
       "      <td>0.941096</td>\n",
       "      <td>1.239008</td>\n",
       "      <td>...</td>\n",
       "      <td>1.104968</td>\n",
       "      <td>1.193353</td>\n",
       "      <td>1.074962</td>\n",
       "      <td>1.145232</td>\n",
       "      <td>0.884774</td>\n",
       "      <td>1.217217</td>\n",
       "      <td>1.178402</td>\n",
       "      <td>1.230141</td>\n",
       "      <td>1.040170</td>\n",
       "      <td>1.236116</td>\n",
       "    </tr>\n",
       "    <tr>\n",
       "      <th>822.0</th>\n",
       "      <td>0.990079</td>\n",
       "      <td>1.017062</td>\n",
       "      <td>1.015402</td>\n",
       "      <td>1.000615</td>\n",
       "      <td>1.083838</td>\n",
       "      <td>0.850030</td>\n",
       "      <td>1.195788</td>\n",
       "      <td>1.154509</td>\n",
       "      <td>0.790606</td>\n",
       "      <td>1.032367</td>\n",
       "      <td>...</td>\n",
       "      <td>0.933553</td>\n",
       "      <td>1.005976</td>\n",
       "      <td>1.056105</td>\n",
       "      <td>1.008453</td>\n",
       "      <td>0.843718</td>\n",
       "      <td>1.178752</td>\n",
       "      <td>1.042542</td>\n",
       "      <td>1.264141</td>\n",
       "      <td>1.011377</td>\n",
       "      <td>1.193089</td>\n",
       "    </tr>\n",
       "    <tr>\n",
       "      <th>856.0</th>\n",
       "      <td>0.938160</td>\n",
       "      <td>0.877875</td>\n",
       "      <td>0.816616</td>\n",
       "      <td>0.935963</td>\n",
       "      <td>1.066920</td>\n",
       "      <td>0.826343</td>\n",
       "      <td>1.192161</td>\n",
       "      <td>1.158415</td>\n",
       "      <td>0.654814</td>\n",
       "      <td>0.838159</td>\n",
       "      <td>...</td>\n",
       "      <td>0.777054</td>\n",
       "      <td>0.819551</td>\n",
       "      <td>1.028452</td>\n",
       "      <td>0.872187</td>\n",
       "      <td>0.817458</td>\n",
       "      <td>1.122173</td>\n",
       "      <td>0.900563</td>\n",
       "      <td>1.257603</td>\n",
       "      <td>0.997408</td>\n",
       "      <td>1.143957</td>\n",
       "    </tr>\n",
       "    <tr>\n",
       "      <th>890.0</th>\n",
       "      <td>0.903767</td>\n",
       "      <td>0.794159</td>\n",
       "      <td>0.700748</td>\n",
       "      <td>0.892842</td>\n",
       "      <td>1.089236</td>\n",
       "      <td>0.807129</td>\n",
       "      <td>1.188650</td>\n",
       "      <td>1.150961</td>\n",
       "      <td>0.568824</td>\n",
       "      <td>0.725110</td>\n",
       "      <td>...</td>\n",
       "      <td>0.682201</td>\n",
       "      <td>0.704415</td>\n",
       "      <td>1.004062</td>\n",
       "      <td>0.785474</td>\n",
       "      <td>0.797563</td>\n",
       "      <td>1.089057</td>\n",
       "      <td>0.821531</td>\n",
       "      <td>1.266989</td>\n",
       "      <td>0.986085</td>\n",
       "      <td>1.119427</td>\n",
       "    </tr>\n",
       "    <tr>\n",
       "      <th>924.0</th>\n",
       "      <td>0.890517</td>\n",
       "      <td>0.787336</td>\n",
       "      <td>0.672524</td>\n",
       "      <td>0.868554</td>\n",
       "      <td>1.058200</td>\n",
       "      <td>0.774643</td>\n",
       "      <td>1.193787</td>\n",
       "      <td>1.138036</td>\n",
       "      <td>0.543726</td>\n",
       "      <td>0.696246</td>\n",
       "      <td>...</td>\n",
       "      <td>0.658424</td>\n",
       "      <td>0.677150</td>\n",
       "      <td>0.987944</td>\n",
       "      <td>0.772174</td>\n",
       "      <td>0.765161</td>\n",
       "      <td>1.079648</td>\n",
       "      <td>0.811610</td>\n",
       "      <td>1.230753</td>\n",
       "      <td>0.960376</td>\n",
       "      <td>1.116544</td>\n",
       "    </tr>\n",
       "    <tr>\n",
       "      <th>958.0</th>\n",
       "      <td>0.893168</td>\n",
       "      <td>0.843116</td>\n",
       "      <td>0.732470</td>\n",
       "      <td>0.866363</td>\n",
       "      <td>1.005971</td>\n",
       "      <td>0.726792</td>\n",
       "      <td>1.203510</td>\n",
       "      <td>1.103106</td>\n",
       "      <td>0.572364</td>\n",
       "      <td>0.755143</td>\n",
       "      <td>...</td>\n",
       "      <td>0.705648</td>\n",
       "      <td>0.731542</td>\n",
       "      <td>0.982544</td>\n",
       "      <td>0.823351</td>\n",
       "      <td>0.716306</td>\n",
       "      <td>1.091727</td>\n",
       "      <td>0.862422</td>\n",
       "      <td>1.184433</td>\n",
       "      <td>0.915655</td>\n",
       "      <td>1.125407</td>\n",
       "    </tr>\n",
       "    <tr>\n",
       "      <th>992.0</th>\n",
       "      <td>0.901822</td>\n",
       "      <td>0.951298</td>\n",
       "      <td>0.874878</td>\n",
       "      <td>0.879177</td>\n",
       "      <td>0.940761</td>\n",
       "      <td>0.680492</td>\n",
       "      <td>1.211573</td>\n",
       "      <td>1.048230</td>\n",
       "      <td>0.654056</td>\n",
       "      <td>0.896734</td>\n",
       "      <td>...</td>\n",
       "      <td>0.822090</td>\n",
       "      <td>0.863904</td>\n",
       "      <td>0.982115</td>\n",
       "      <td>0.934833</td>\n",
       "      <td>0.665949</td>\n",
       "      <td>1.110845</td>\n",
       "      <td>0.967626</td>\n",
       "      <td>1.114264</td>\n",
       "      <td>0.866699</td>\n",
       "      <td>1.144533</td>\n",
       "    </tr>\n",
       "    <tr>\n",
       "      <th>1026.0</th>\n",
       "      <td>0.910006</td>\n",
       "      <td>1.118233</td>\n",
       "      <td>1.064596</td>\n",
       "      <td>0.896978</td>\n",
       "      <td>0.906418</td>\n",
       "      <td>0.641268</td>\n",
       "      <td>1.220223</td>\n",
       "      <td>1.012173</td>\n",
       "      <td>0.762327</td>\n",
       "      <td>1.077785</td>\n",
       "      <td>...</td>\n",
       "      <td>0.982215</td>\n",
       "      <td>1.049093</td>\n",
       "      <td>0.979612</td>\n",
       "      <td>1.099490</td>\n",
       "      <td>0.631264</td>\n",
       "      <td>1.122767</td>\n",
       "      <td>1.127839</td>\n",
       "      <td>1.070717</td>\n",
       "      <td>0.828285</td>\n",
       "      <td>1.153378</td>\n",
       "    </tr>\n",
       "    <tr>\n",
       "      <th>1060.0</th>\n",
       "      <td>0.912385</td>\n",
       "      <td>1.278417</td>\n",
       "      <td>1.269726</td>\n",
       "      <td>0.919493</td>\n",
       "      <td>0.905002</td>\n",
       "      <td>0.633843</td>\n",
       "      <td>1.237478</td>\n",
       "      <td>0.993972</td>\n",
       "      <td>0.859570</td>\n",
       "      <td>1.272943</td>\n",
       "      <td>...</td>\n",
       "      <td>1.140934</td>\n",
       "      <td>1.231647</td>\n",
       "      <td>0.983893</td>\n",
       "      <td>1.250041</td>\n",
       "      <td>0.624577</td>\n",
       "      <td>1.132075</td>\n",
       "      <td>1.293205</td>\n",
       "      <td>1.076089</td>\n",
       "      <td>0.823646</td>\n",
       "      <td>1.159703</td>\n",
       "    </tr>\n",
       "    <tr>\n",
       "      <th>1094.0</th>\n",
       "      <td>0.924762</td>\n",
       "      <td>1.410914</td>\n",
       "      <td>1.436252</td>\n",
       "      <td>0.951609</td>\n",
       "      <td>0.944352</td>\n",
       "      <td>0.650673</td>\n",
       "      <td>1.269936</td>\n",
       "      <td>1.012786</td>\n",
       "      <td>0.929477</td>\n",
       "      <td>1.426344</td>\n",
       "      <td>...</td>\n",
       "      <td>1.274288</td>\n",
       "      <td>1.380622</td>\n",
       "      <td>0.989585</td>\n",
       "      <td>1.385322</td>\n",
       "      <td>0.641778</td>\n",
       "      <td>1.145082</td>\n",
       "      <td>1.420528</td>\n",
       "      <td>1.132825</td>\n",
       "      <td>0.855268</td>\n",
       "      <td>1.169836</td>\n",
       "    </tr>\n",
       "    <tr>\n",
       "      <th>1128.0</th>\n",
       "      <td>0.940222</td>\n",
       "      <td>1.511042</td>\n",
       "      <td>1.554899</td>\n",
       "      <td>0.981141</td>\n",
       "      <td>0.996145</td>\n",
       "      <td>0.682963</td>\n",
       "      <td>1.304887</td>\n",
       "      <td>1.061644</td>\n",
       "      <td>0.976871</td>\n",
       "      <td>1.549935</td>\n",
       "      <td>...</td>\n",
       "      <td>1.369473</td>\n",
       "      <td>1.492221</td>\n",
       "      <td>0.999690</td>\n",
       "      <td>1.476927</td>\n",
       "      <td>0.671876</td>\n",
       "      <td>1.158178</td>\n",
       "      <td>1.501460</td>\n",
       "      <td>1.224648</td>\n",
       "      <td>0.895891</td>\n",
       "      <td>1.179701</td>\n",
       "    </tr>\n",
       "    <tr>\n",
       "      <th>1162.0</th>\n",
       "      <td>0.948687</td>\n",
       "      <td>1.561786</td>\n",
       "      <td>1.636138</td>\n",
       "      <td>1.012814</td>\n",
       "      <td>1.043268</td>\n",
       "      <td>0.708310</td>\n",
       "      <td>1.336768</td>\n",
       "      <td>1.107445</td>\n",
       "      <td>1.008580</td>\n",
       "      <td>1.632837</td>\n",
       "      <td>...</td>\n",
       "      <td>1.430971</td>\n",
       "      <td>1.576944</td>\n",
       "      <td>1.005515</td>\n",
       "      <td>1.531373</td>\n",
       "      <td>0.696598</td>\n",
       "      <td>1.159562</td>\n",
       "      <td>1.550040</td>\n",
       "      <td>1.313621</td>\n",
       "      <td>0.927230</td>\n",
       "      <td>1.184446</td>\n",
       "    </tr>\n",
       "    <tr>\n",
       "      <th>1196.0</th>\n",
       "      <td>0.951657</td>\n",
       "      <td>1.600264</td>\n",
       "      <td>1.713209</td>\n",
       "      <td>1.035760</td>\n",
       "      <td>1.076717</td>\n",
       "      <td>0.725684</td>\n",
       "      <td>1.362699</td>\n",
       "      <td>1.141757</td>\n",
       "      <td>1.032348</td>\n",
       "      <td>1.705473</td>\n",
       "      <td>...</td>\n",
       "      <td>1.476712</td>\n",
       "      <td>1.646427</td>\n",
       "      <td>1.008093</td>\n",
       "      <td>1.577522</td>\n",
       "      <td>0.712627</td>\n",
       "      <td>1.173258</td>\n",
       "      <td>1.589634</td>\n",
       "      <td>1.384276</td>\n",
       "      <td>0.954491</td>\n",
       "      <td>1.182813</td>\n",
       "    </tr>\n",
       "    <tr>\n",
       "      <th>1230.0</th>\n",
       "      <td>0.952621</td>\n",
       "      <td>1.632532</td>\n",
       "      <td>1.770244</td>\n",
       "      <td>1.052255</td>\n",
       "      <td>1.110124</td>\n",
       "      <td>0.738302</td>\n",
       "      <td>1.385116</td>\n",
       "      <td>1.174496</td>\n",
       "      <td>1.054526</td>\n",
       "      <td>1.767082</td>\n",
       "      <td>...</td>\n",
       "      <td>1.514820</td>\n",
       "      <td>1.713945</td>\n",
       "      <td>1.005484</td>\n",
       "      <td>1.603359</td>\n",
       "      <td>0.727004</td>\n",
       "      <td>1.167875</td>\n",
       "      <td>1.604979</td>\n",
       "      <td>1.443379</td>\n",
       "      <td>0.975662</td>\n",
       "      <td>1.180173</td>\n",
       "    </tr>\n",
       "    <tr>\n",
       "      <th>1264.0</th>\n",
       "      <td>0.954931</td>\n",
       "      <td>1.646660</td>\n",
       "      <td>1.832044</td>\n",
       "      <td>1.068899</td>\n",
       "      <td>1.152807</td>\n",
       "      <td>0.753682</td>\n",
       "      <td>1.405858</td>\n",
       "      <td>1.203678</td>\n",
       "      <td>1.076743</td>\n",
       "      <td>1.826036</td>\n",
       "      <td>...</td>\n",
       "      <td>1.542736</td>\n",
       "      <td>1.772134</td>\n",
       "      <td>1.006522</td>\n",
       "      <td>1.619316</td>\n",
       "      <td>0.746659</td>\n",
       "      <td>1.177133</td>\n",
       "      <td>1.622327</td>\n",
       "      <td>1.494045</td>\n",
       "      <td>1.002283</td>\n",
       "      <td>1.178902</td>\n",
       "    </tr>\n",
       "    <tr>\n",
       "      <th>1298.0</th>\n",
       "      <td>0.959432</td>\n",
       "      <td>1.654405</td>\n",
       "      <td>1.878266</td>\n",
       "      <td>1.085074</td>\n",
       "      <td>1.195573</td>\n",
       "      <td>0.776241</td>\n",
       "      <td>1.431427</td>\n",
       "      <td>1.241319</td>\n",
       "      <td>1.101833</td>\n",
       "      <td>1.859537</td>\n",
       "      <td>...</td>\n",
       "      <td>1.557146</td>\n",
       "      <td>1.821615</td>\n",
       "      <td>1.003261</td>\n",
       "      <td>1.627150</td>\n",
       "      <td>0.768544</td>\n",
       "      <td>1.174960</td>\n",
       "      <td>1.632906</td>\n",
       "      <td>1.538665</td>\n",
       "      <td>1.034479</td>\n",
       "      <td>1.176677</td>\n",
       "    </tr>\n",
       "    <tr>\n",
       "      <th>1332.0</th>\n",
       "      <td>0.964910</td>\n",
       "      <td>1.646472</td>\n",
       "      <td>1.891483</td>\n",
       "      <td>1.109854</td>\n",
       "      <td>1.256368</td>\n",
       "      <td>0.808553</td>\n",
       "      <td>1.458889</td>\n",
       "      <td>1.281401</td>\n",
       "      <td>1.124958</td>\n",
       "      <td>1.881023</td>\n",
       "      <td>...</td>\n",
       "      <td>1.550620</td>\n",
       "      <td>1.852202</td>\n",
       "      <td>1.005557</td>\n",
       "      <td>1.622069</td>\n",
       "      <td>0.797544</td>\n",
       "      <td>1.172003</td>\n",
       "      <td>1.628924</td>\n",
       "      <td>1.578681</td>\n",
       "      <td>1.074101</td>\n",
       "      <td>1.172750</td>\n",
       "    </tr>\n",
       "    <tr>\n",
       "      <th>1366.0</th>\n",
       "      <td>0.970093</td>\n",
       "      <td>1.609365</td>\n",
       "      <td>1.898695</td>\n",
       "      <td>1.132381</td>\n",
       "      <td>1.329018</td>\n",
       "      <td>0.836279</td>\n",
       "      <td>1.483743</td>\n",
       "      <td>1.318294</td>\n",
       "      <td>1.140994</td>\n",
       "      <td>1.872862</td>\n",
       "      <td>...</td>\n",
       "      <td>1.526412</td>\n",
       "      <td>1.856366</td>\n",
       "      <td>1.011326</td>\n",
       "      <td>1.582044</td>\n",
       "      <td>0.834301</td>\n",
       "      <td>1.170172</td>\n",
       "      <td>1.592812</td>\n",
       "      <td>1.620991</td>\n",
       "      <td>1.123699</td>\n",
       "      <td>1.169687</td>\n",
       "    </tr>\n",
       "    <tr>\n",
       "      <th>1400.0</th>\n",
       "      <td>0.973727</td>\n",
       "      <td>1.550544</td>\n",
       "      <td>1.851013</td>\n",
       "      <td>1.163907</td>\n",
       "      <td>1.410019</td>\n",
       "      <td>0.880808</td>\n",
       "      <td>1.507981</td>\n",
       "      <td>1.369234</td>\n",
       "      <td>1.148678</td>\n",
       "      <td>1.825441</td>\n",
       "      <td>...</td>\n",
       "      <td>1.467591</td>\n",
       "      <td>1.820133</td>\n",
       "      <td>1.008367</td>\n",
       "      <td>1.530443</td>\n",
       "      <td>0.873855</td>\n",
       "      <td>1.167475</td>\n",
       "      <td>1.546849</td>\n",
       "      <td>1.638798</td>\n",
       "      <td>1.179999</td>\n",
       "      <td>1.169383</td>\n",
       "    </tr>\n",
       "    <tr>\n",
       "      <th>1434.0</th>\n",
       "      <td>0.975036</td>\n",
       "      <td>1.520267</td>\n",
       "      <td>1.811683</td>\n",
       "      <td>1.192527</td>\n",
       "      <td>1.491900</td>\n",
       "      <td>0.925520</td>\n",
       "      <td>1.531209</td>\n",
       "      <td>1.435208</td>\n",
       "      <td>1.144522</td>\n",
       "      <td>1.783678</td>\n",
       "      <td>...</td>\n",
       "      <td>1.429829</td>\n",
       "      <td>1.792172</td>\n",
       "      <td>1.005703</td>\n",
       "      <td>1.496503</td>\n",
       "      <td>0.918883</td>\n",
       "      <td>1.164288</td>\n",
       "      <td>1.508892</td>\n",
       "      <td>1.662070</td>\n",
       "      <td>1.238789</td>\n",
       "      <td>1.166408</td>\n",
       "    </tr>\n",
       "    <tr>\n",
       "      <th>1468.0</th>\n",
       "      <td>0.973798</td>\n",
       "      <td>1.456032</td>\n",
       "      <td>1.746583</td>\n",
       "      <td>1.216421</td>\n",
       "      <td>1.587041</td>\n",
       "      <td>0.964643</td>\n",
       "      <td>1.553205</td>\n",
       "      <td>1.514545</td>\n",
       "      <td>1.128384</td>\n",
       "      <td>1.716791</td>\n",
       "      <td>...</td>\n",
       "      <td>1.368004</td>\n",
       "      <td>1.736193</td>\n",
       "      <td>1.002434</td>\n",
       "      <td>1.436448</td>\n",
       "      <td>0.964411</td>\n",
       "      <td>1.160135</td>\n",
       "      <td>1.435122</td>\n",
       "      <td>1.687872</td>\n",
       "      <td>1.297433</td>\n",
       "      <td>1.161437</td>\n",
       "    </tr>\n",
       "    <tr>\n",
       "      <th>1502.0</th>\n",
       "      <td>0.969811</td>\n",
       "      <td>1.385308</td>\n",
       "      <td>1.664664</td>\n",
       "      <td>1.232904</td>\n",
       "      <td>1.688925</td>\n",
       "      <td>1.007755</td>\n",
       "      <td>1.570457</td>\n",
       "      <td>1.569676</td>\n",
       "      <td>1.098715</td>\n",
       "      <td>1.638026</td>\n",
       "      <td>...</td>\n",
       "      <td>1.300067</td>\n",
       "      <td>1.666092</td>\n",
       "      <td>0.996248</td>\n",
       "      <td>1.366047</td>\n",
       "      <td>1.006842</td>\n",
       "      <td>1.152463</td>\n",
       "      <td>1.376345</td>\n",
       "      <td>1.715830</td>\n",
       "      <td>1.355347</td>\n",
       "      <td>1.154458</td>\n",
       "    </tr>\n",
       "    <tr>\n",
       "      <th>1536.0</th>\n",
       "      <td>0.962880</td>\n",
       "      <td>1.318202</td>\n",
       "      <td>1.579250</td>\n",
       "      <td>1.244045</td>\n",
       "      <td>1.788577</td>\n",
       "      <td>1.048640</td>\n",
       "      <td>1.584373</td>\n",
       "      <td>1.627613</td>\n",
       "      <td>1.058323</td>\n",
       "      <td>1.552082</td>\n",
       "      <td>...</td>\n",
       "      <td>1.228943</td>\n",
       "      <td>1.587419</td>\n",
       "      <td>0.993566</td>\n",
       "      <td>1.301142</td>\n",
       "      <td>1.046508</td>\n",
       "      <td>1.146484</td>\n",
       "      <td>1.311234</td>\n",
       "      <td>1.738326</td>\n",
       "      <td>1.410930</td>\n",
       "      <td>1.144418</td>\n",
       "    </tr>\n",
       "    <tr>\n",
       "      <th>1570.0</th>\n",
       "      <td>0.953221</td>\n",
       "      <td>1.253753</td>\n",
       "      <td>1.496399</td>\n",
       "      <td>1.249092</td>\n",
       "      <td>1.879800</td>\n",
       "      <td>1.081623</td>\n",
       "      <td>1.597839</td>\n",
       "      <td>1.680607</td>\n",
       "      <td>1.012472</td>\n",
       "      <td>1.471020</td>\n",
       "      <td>...</td>\n",
       "      <td>1.162582</td>\n",
       "      <td>1.507893</td>\n",
       "      <td>0.984439</td>\n",
       "      <td>1.237581</td>\n",
       "      <td>1.079163</td>\n",
       "      <td>1.137932</td>\n",
       "      <td>1.250617</td>\n",
       "      <td>1.757827</td>\n",
       "      <td>1.453060</td>\n",
       "      <td>1.134389</td>\n",
       "    </tr>\n",
       "    <tr>\n",
       "      <th>1604.0</th>\n",
       "      <td>0.941627</td>\n",
       "      <td>1.191538</td>\n",
       "      <td>1.416643</td>\n",
       "      <td>1.244746</td>\n",
       "      <td>1.963043</td>\n",
       "      <td>1.117411</td>\n",
       "      <td>1.607119</td>\n",
       "      <td>1.721111</td>\n",
       "      <td>0.963996</td>\n",
       "      <td>1.393601</td>\n",
       "      <td>...</td>\n",
       "      <td>1.101040</td>\n",
       "      <td>1.434973</td>\n",
       "      <td>0.976784</td>\n",
       "      <td>1.175894</td>\n",
       "      <td>1.104405</td>\n",
       "      <td>1.123621</td>\n",
       "      <td>1.201109</td>\n",
       "      <td>1.774292</td>\n",
       "      <td>1.492280</td>\n",
       "      <td>1.122426</td>\n",
       "    </tr>\n",
       "    <tr>\n",
       "      <th>1638.0</th>\n",
       "      <td>0.928953</td>\n",
       "      <td>1.144681</td>\n",
       "      <td>1.344245</td>\n",
       "      <td>1.232633</td>\n",
       "      <td>2.024452</td>\n",
       "      <td>1.132261</td>\n",
       "      <td>1.616542</td>\n",
       "      <td>1.756694</td>\n",
       "      <td>0.915979</td>\n",
       "      <td>1.320010</td>\n",
       "      <td>...</td>\n",
       "      <td>1.051175</td>\n",
       "      <td>1.368501</td>\n",
       "      <td>0.966093</td>\n",
       "      <td>1.127106</td>\n",
       "      <td>1.125354</td>\n",
       "      <td>1.112972</td>\n",
       "      <td>1.148424</td>\n",
       "      <td>1.784183</td>\n",
       "      <td>1.517401</td>\n",
       "      <td>1.109295</td>\n",
       "    </tr>\n",
       "    <tr>\n",
       "      <th>1672.0</th>\n",
       "      <td>0.916038</td>\n",
       "      <td>1.101211</td>\n",
       "      <td>1.281830</td>\n",
       "      <td>1.224398</td>\n",
       "      <td>2.078213</td>\n",
       "      <td>1.137753</td>\n",
       "      <td>1.625973</td>\n",
       "      <td>1.784381</td>\n",
       "      <td>0.872895</td>\n",
       "      <td>1.261622</td>\n",
       "      <td>...</td>\n",
       "      <td>1.002384</td>\n",
       "      <td>1.310936</td>\n",
       "      <td>0.953297</td>\n",
       "      <td>1.086427</td>\n",
       "      <td>1.139412</td>\n",
       "      <td>1.100372</td>\n",
       "      <td>1.094994</td>\n",
       "      <td>1.791291</td>\n",
       "      <td>1.536426</td>\n",
       "      <td>1.095991</td>\n",
       "    </tr>\n",
       "    <tr>\n",
       "      <th>1706.0</th>\n",
       "      <td>0.903421</td>\n",
       "      <td>1.062525</td>\n",
       "      <td>1.235567</td>\n",
       "      <td>1.208937</td>\n",
       "      <td>2.128090</td>\n",
       "      <td>1.151148</td>\n",
       "      <td>1.634155</td>\n",
       "      <td>1.809769</td>\n",
       "      <td>0.836860</td>\n",
       "      <td>1.212581</td>\n",
       "      <td>...</td>\n",
       "      <td>0.966589</td>\n",
       "      <td>1.262912</td>\n",
       "      <td>0.945759</td>\n",
       "      <td>1.045898</td>\n",
       "      <td>1.148292</td>\n",
       "      <td>1.094807</td>\n",
       "      <td>1.064851</td>\n",
       "      <td>1.798160</td>\n",
       "      <td>1.553525</td>\n",
       "      <td>1.082488</td>\n",
       "    </tr>\n",
       "    <tr>\n",
       "      <th>1740.0</th>\n",
       "      <td>0.891081</td>\n",
       "      <td>1.027546</td>\n",
       "      <td>1.199624</td>\n",
       "      <td>1.198313</td>\n",
       "      <td>2.161993</td>\n",
       "      <td>1.162823</td>\n",
       "      <td>1.642243</td>\n",
       "      <td>1.827798</td>\n",
       "      <td>0.802735</td>\n",
       "      <td>1.171486</td>\n",
       "      <td>...</td>\n",
       "      <td>0.935837</td>\n",
       "      <td>1.229324</td>\n",
       "      <td>0.931900</td>\n",
       "      <td>1.014884</td>\n",
       "      <td>1.155754</td>\n",
       "      <td>1.084158</td>\n",
       "      <td>1.038510</td>\n",
       "      <td>1.799882</td>\n",
       "      <td>1.563322</td>\n",
       "      <td>1.069250</td>\n",
       "    </tr>\n",
       "    <tr>\n",
       "      <th>1774.0</th>\n",
       "      <td>0.878935</td>\n",
       "      <td>1.009352</td>\n",
       "      <td>1.169467</td>\n",
       "      <td>1.186311</td>\n",
       "      <td>2.186797</td>\n",
       "      <td>1.175092</td>\n",
       "      <td>1.651927</td>\n",
       "      <td>1.837696</td>\n",
       "      <td>0.776895</td>\n",
       "      <td>1.150316</td>\n",
       "      <td>...</td>\n",
       "      <td>0.913548</td>\n",
       "      <td>1.202289</td>\n",
       "      <td>0.920673</td>\n",
       "      <td>0.997740</td>\n",
       "      <td>1.158837</td>\n",
       "      <td>1.072764</td>\n",
       "      <td>1.021355</td>\n",
       "      <td>1.794910</td>\n",
       "      <td>1.574541</td>\n",
       "      <td>1.054628</td>\n",
       "    </tr>\n",
       "    <tr>\n",
       "      <th>1808.0</th>\n",
       "      <td>0.866898</td>\n",
       "      <td>1.003282</td>\n",
       "      <td>1.162267</td>\n",
       "      <td>1.176241</td>\n",
       "      <td>2.206007</td>\n",
       "      <td>1.171330</td>\n",
       "      <td>1.663222</td>\n",
       "      <td>1.845461</td>\n",
       "      <td>0.756146</td>\n",
       "      <td>1.136852</td>\n",
       "      <td>...</td>\n",
       "      <td>0.904671</td>\n",
       "      <td>1.190003</td>\n",
       "      <td>0.911224</td>\n",
       "      <td>0.990181</td>\n",
       "      <td>1.162600</td>\n",
       "      <td>1.056976</td>\n",
       "      <td>1.010012</td>\n",
       "      <td>1.789784</td>\n",
       "      <td>1.580837</td>\n",
       "      <td>1.040339</td>\n",
       "    </tr>\n",
       "    <tr>\n",
       "      <th>1842.0</th>\n",
       "      <td>0.855130</td>\n",
       "      <td>0.994504</td>\n",
       "      <td>1.163600</td>\n",
       "      <td>1.167157</td>\n",
       "      <td>2.230476</td>\n",
       "      <td>1.171011</td>\n",
       "      <td>1.674283</td>\n",
       "      <td>1.833060</td>\n",
       "      <td>0.741645</td>\n",
       "      <td>1.142050</td>\n",
       "      <td>...</td>\n",
       "      <td>0.904856</td>\n",
       "      <td>1.192496</td>\n",
       "      <td>0.906923</td>\n",
       "      <td>0.980125</td>\n",
       "      <td>1.161015</td>\n",
       "      <td>1.039826</td>\n",
       "      <td>1.012625</td>\n",
       "      <td>1.787228</td>\n",
       "      <td>1.586570</td>\n",
       "      <td>1.027364</td>\n",
       "    </tr>\n",
       "    <tr>\n",
       "      <th>1876.0</th>\n",
       "      <td>0.844381</td>\n",
       "      <td>0.997129</td>\n",
       "      <td>1.179075</td>\n",
       "      <td>1.159426</td>\n",
       "      <td>2.248648</td>\n",
       "      <td>1.177705</td>\n",
       "      <td>1.685917</td>\n",
       "      <td>1.835352</td>\n",
       "      <td>0.729130</td>\n",
       "      <td>1.156768</td>\n",
       "      <td>...</td>\n",
       "      <td>0.912941</td>\n",
       "      <td>1.211647</td>\n",
       "      <td>0.896315</td>\n",
       "      <td>0.984252</td>\n",
       "      <td>1.163026</td>\n",
       "      <td>1.037380</td>\n",
       "      <td>1.024986</td>\n",
       "      <td>1.771645</td>\n",
       "      <td>1.588428</td>\n",
       "      <td>1.018883</td>\n",
       "    </tr>\n",
       "    <tr>\n",
       "      <th>1910.0</th>\n",
       "      <td>0.835497</td>\n",
       "      <td>1.017610</td>\n",
       "      <td>1.206213</td>\n",
       "      <td>1.154059</td>\n",
       "      <td>2.186282</td>\n",
       "      <td>1.176920</td>\n",
       "      <td>1.696647</td>\n",
       "      <td>1.826293</td>\n",
       "      <td>0.729205</td>\n",
       "      <td>1.182464</td>\n",
       "      <td>...</td>\n",
       "      <td>0.926108</td>\n",
       "      <td>1.236739</td>\n",
       "      <td>0.881904</td>\n",
       "      <td>1.006196</td>\n",
       "      <td>1.156865</td>\n",
       "      <td>1.031567</td>\n",
       "      <td>1.043966</td>\n",
       "      <td>1.687679</td>\n",
       "      <td>1.586530</td>\n",
       "      <td>1.012304</td>\n",
       "    </tr>\n",
       "    <tr>\n",
       "      <th>1944.0</th>\n",
       "      <td>0.829337</td>\n",
       "      <td>1.048116</td>\n",
       "      <td>1.255671</td>\n",
       "      <td>1.154810</td>\n",
       "      <td>2.236935</td>\n",
       "      <td>1.175083</td>\n",
       "      <td>1.708902</td>\n",
       "      <td>1.835017</td>\n",
       "      <td>0.736053</td>\n",
       "      <td>1.225918</td>\n",
       "      <td>...</td>\n",
       "      <td>0.955250</td>\n",
       "      <td>1.282996</td>\n",
       "      <td>0.871185</td>\n",
       "      <td>1.036601</td>\n",
       "      <td>1.158218</td>\n",
       "      <td>1.025678</td>\n",
       "      <td>1.067614</td>\n",
       "      <td>1.699052</td>\n",
       "      <td>1.591091</td>\n",
       "      <td>1.010004</td>\n",
       "    </tr>\n",
       "    <tr>\n",
       "      <th>1978.0</th>\n",
       "      <td>0.826339</td>\n",
       "      <td>1.091401</td>\n",
       "      <td>1.321182</td>\n",
       "      <td>1.153665</td>\n",
       "      <td>2.278695</td>\n",
       "      <td>1.166192</td>\n",
       "      <td>1.725969</td>\n",
       "      <td>1.865297</td>\n",
       "      <td>0.749689</td>\n",
       "      <td>1.286568</td>\n",
       "      <td>...</td>\n",
       "      <td>0.993544</td>\n",
       "      <td>1.345685</td>\n",
       "      <td>0.865860</td>\n",
       "      <td>1.079940</td>\n",
       "      <td>1.158315</td>\n",
       "      <td>1.025324</td>\n",
       "      <td>1.093369</td>\n",
       "      <td>1.699007</td>\n",
       "      <td>1.592915</td>\n",
       "      <td>1.011335</td>\n",
       "    </tr>\n",
       "    <tr>\n",
       "      <th>2012.0</th>\n",
       "      <td>0.825646</td>\n",
       "      <td>1.135331</td>\n",
       "      <td>1.394563</td>\n",
       "      <td>1.162048</td>\n",
       "      <td>2.313884</td>\n",
       "      <td>1.160736</td>\n",
       "      <td>1.745645</td>\n",
       "      <td>1.896857</td>\n",
       "      <td>0.770406</td>\n",
       "      <td>1.360595</td>\n",
       "      <td>...</td>\n",
       "      <td>1.042861</td>\n",
       "      <td>1.421100</td>\n",
       "      <td>0.860360</td>\n",
       "      <td>1.121891</td>\n",
       "      <td>1.159506</td>\n",
       "      <td>1.030239</td>\n",
       "      <td>1.133538</td>\n",
       "      <td>1.690705</td>\n",
       "      <td>1.595048</td>\n",
       "      <td>1.012174</td>\n",
       "    </tr>\n",
       "    <tr>\n",
       "      <th>2046.0</th>\n",
       "      <td>0.826123</td>\n",
       "      <td>1.189776</td>\n",
       "      <td>1.483329</td>\n",
       "      <td>1.167243</td>\n",
       "      <td>2.339006</td>\n",
       "      <td>1.173285</td>\n",
       "      <td>1.766295</td>\n",
       "      <td>1.921888</td>\n",
       "      <td>0.795611</td>\n",
       "      <td>1.446422</td>\n",
       "      <td>...</td>\n",
       "      <td>1.099277</td>\n",
       "      <td>1.512977</td>\n",
       "      <td>0.852870</td>\n",
       "      <td>1.177896</td>\n",
       "      <td>1.159430</td>\n",
       "      <td>1.028979</td>\n",
       "      <td>1.202908</td>\n",
       "      <td>1.680711</td>\n",
       "      <td>1.597080</td>\n",
       "      <td>1.012669</td>\n",
       "    </tr>\n",
       "    <tr>\n",
       "      <th>2080.0</th>\n",
       "      <td>0.826637</td>\n",
       "      <td>1.250775</td>\n",
       "      <td>1.591635</td>\n",
       "      <td>1.178617</td>\n",
       "      <td>2.351942</td>\n",
       "      <td>1.173480</td>\n",
       "      <td>1.782242</td>\n",
       "      <td>1.937028</td>\n",
       "      <td>0.823555</td>\n",
       "      <td>1.549109</td>\n",
       "      <td>...</td>\n",
       "      <td>1.164400</td>\n",
       "      <td>1.609405</td>\n",
       "      <td>0.855414</td>\n",
       "      <td>1.239949</td>\n",
       "      <td>1.158701</td>\n",
       "      <td>1.026239</td>\n",
       "      <td>1.271093</td>\n",
       "      <td>1.662867</td>\n",
       "      <td>1.598322</td>\n",
       "      <td>1.014064</td>\n",
       "    </tr>\n",
       "    <tr>\n",
       "      <th>2114.0</th>\n",
       "      <td>0.826309</td>\n",
       "      <td>1.322034</td>\n",
       "      <td>1.702021</td>\n",
       "      <td>1.188674</td>\n",
       "      <td>2.370500</td>\n",
       "      <td>1.186050</td>\n",
       "      <td>1.797209</td>\n",
       "      <td>1.955398</td>\n",
       "      <td>0.861121</td>\n",
       "      <td>1.659942</td>\n",
       "      <td>...</td>\n",
       "      <td>1.237356</td>\n",
       "      <td>1.727606</td>\n",
       "      <td>0.850153</td>\n",
       "      <td>1.313488</td>\n",
       "      <td>1.158046</td>\n",
       "      <td>1.024531</td>\n",
       "      <td>1.348687</td>\n",
       "      <td>1.643458</td>\n",
       "      <td>1.600445</td>\n",
       "      <td>1.016990</td>\n",
       "    </tr>\n",
       "    <tr>\n",
       "      <th>2148.0</th>\n",
       "      <td>0.825482</td>\n",
       "      <td>1.386224</td>\n",
       "      <td>1.822650</td>\n",
       "      <td>1.197772</td>\n",
       "      <td>2.391162</td>\n",
       "      <td>1.176119</td>\n",
       "      <td>1.810478</td>\n",
       "      <td>1.974212</td>\n",
       "      <td>0.898091</td>\n",
       "      <td>1.769640</td>\n",
       "      <td>...</td>\n",
       "      <td>1.316244</td>\n",
       "      <td>1.847641</td>\n",
       "      <td>0.845152</td>\n",
       "      <td>1.376401</td>\n",
       "      <td>1.161534</td>\n",
       "      <td>1.016583</td>\n",
       "      <td>1.407722</td>\n",
       "      <td>1.630428</td>\n",
       "      <td>1.604144</td>\n",
       "      <td>1.011704</td>\n",
       "    </tr>\n",
       "    <tr>\n",
       "      <th>2182.0</th>\n",
       "      <td>0.824836</td>\n",
       "      <td>1.465500</td>\n",
       "      <td>1.933115</td>\n",
       "      <td>1.205711</td>\n",
       "      <td>2.417522</td>\n",
       "      <td>1.170057</td>\n",
       "      <td>1.819914</td>\n",
       "      <td>1.976503</td>\n",
       "      <td>0.935737</td>\n",
       "      <td>1.880424</td>\n",
       "      <td>...</td>\n",
       "      <td>1.388964</td>\n",
       "      <td>1.958428</td>\n",
       "      <td>0.841009</td>\n",
       "      <td>1.452785</td>\n",
       "      <td>1.158879</td>\n",
       "      <td>1.013190</td>\n",
       "      <td>1.474815</td>\n",
       "      <td>1.615726</td>\n",
       "      <td>1.602127</td>\n",
       "      <td>1.007090</td>\n",
       "    </tr>\n",
       "    <tr>\n",
       "      <th>2216.0</th>\n",
       "      <td>0.825052</td>\n",
       "      <td>1.529475</td>\n",
       "      <td>2.035563</td>\n",
       "      <td>1.216187</td>\n",
       "      <td>2.421736</td>\n",
       "      <td>1.164325</td>\n",
       "      <td>1.819757</td>\n",
       "      <td>1.952747</td>\n",
       "      <td>0.975719</td>\n",
       "      <td>1.984931</td>\n",
       "      <td>...</td>\n",
       "      <td>1.450459</td>\n",
       "      <td>2.064946</td>\n",
       "      <td>0.838833</td>\n",
       "      <td>1.518700</td>\n",
       "      <td>1.155423</td>\n",
       "      <td>1.016311</td>\n",
       "      <td>1.535030</td>\n",
       "      <td>1.601104</td>\n",
       "      <td>1.601642</td>\n",
       "      <td>1.007014</td>\n",
       "    </tr>\n",
       "    <tr>\n",
       "      <th>2250.0</th>\n",
       "      <td>0.826639</td>\n",
       "      <td>1.585066</td>\n",
       "      <td>2.124144</td>\n",
       "      <td>1.223425</td>\n",
       "      <td>2.440278</td>\n",
       "      <td>1.174580</td>\n",
       "      <td>1.829455</td>\n",
       "      <td>1.944309</td>\n",
       "      <td>1.008683</td>\n",
       "      <td>2.069057</td>\n",
       "      <td>...</td>\n",
       "      <td>1.496296</td>\n",
       "      <td>2.146940</td>\n",
       "      <td>0.833696</td>\n",
       "      <td>1.574923</td>\n",
       "      <td>1.150625</td>\n",
       "      <td>1.011532</td>\n",
       "      <td>1.602268</td>\n",
       "      <td>1.595675</td>\n",
       "      <td>1.597225</td>\n",
       "      <td>1.008625</td>\n",
       "    </tr>\n",
       "  </tbody>\n",
       "</table>\n",
       "<p>51 rows × 200 columns</p>\n",
       "</div>"
      ],
      "text/plain": [
       "        OC_LP_B2_1  KC_OPX_hevn_1  KC_OPX_lm_9  OC_TXH_011_A60  RB_LE4OLV  \\\n",
       "550.0     1.000000       1.000000     1.000000        1.000000   1.000000   \n",
       "584.0     1.025818       1.023912     1.085563        1.038690   1.048641   \n",
       "618.0     1.041532       1.056567     1.172919        1.068086   1.077656   \n",
       "652.0     1.056156       1.101019     1.254283        1.096362   1.110248   \n",
       "686.0     1.065866       1.144549     1.320872        1.113485   1.146285   \n",
       "720.0     1.070456       1.187161     1.377180        1.115344   1.146664   \n",
       "754.0     1.061514       1.214569     1.357387        1.100633   1.138979   \n",
       "788.0     1.034156       1.152679     1.222129        1.060663   1.103010   \n",
       "822.0     0.990079       1.017062     1.015402        1.000615   1.083838   \n",
       "856.0     0.938160       0.877875     0.816616        0.935963   1.066920   \n",
       "890.0     0.903767       0.794159     0.700748        0.892842   1.089236   \n",
       "924.0     0.890517       0.787336     0.672524        0.868554   1.058200   \n",
       "958.0     0.893168       0.843116     0.732470        0.866363   1.005971   \n",
       "992.0     0.901822       0.951298     0.874878        0.879177   0.940761   \n",
       "1026.0    0.910006       1.118233     1.064596        0.896978   0.906418   \n",
       "1060.0    0.912385       1.278417     1.269726        0.919493   0.905002   \n",
       "1094.0    0.924762       1.410914     1.436252        0.951609   0.944352   \n",
       "1128.0    0.940222       1.511042     1.554899        0.981141   0.996145   \n",
       "1162.0    0.948687       1.561786     1.636138        1.012814   1.043268   \n",
       "1196.0    0.951657       1.600264     1.713209        1.035760   1.076717   \n",
       "1230.0    0.952621       1.632532     1.770244        1.052255   1.110124   \n",
       "1264.0    0.954931       1.646660     1.832044        1.068899   1.152807   \n",
       "1298.0    0.959432       1.654405     1.878266        1.085074   1.195573   \n",
       "1332.0    0.964910       1.646472     1.891483        1.109854   1.256368   \n",
       "1366.0    0.970093       1.609365     1.898695        1.132381   1.329018   \n",
       "1400.0    0.973727       1.550544     1.851013        1.163907   1.410019   \n",
       "1434.0    0.975036       1.520267     1.811683        1.192527   1.491900   \n",
       "1468.0    0.973798       1.456032     1.746583        1.216421   1.587041   \n",
       "1502.0    0.969811       1.385308     1.664664        1.232904   1.688925   \n",
       "1536.0    0.962880       1.318202     1.579250        1.244045   1.788577   \n",
       "1570.0    0.953221       1.253753     1.496399        1.249092   1.879800   \n",
       "1604.0    0.941627       1.191538     1.416643        1.244746   1.963043   \n",
       "1638.0    0.928953       1.144681     1.344245        1.232633   2.024452   \n",
       "1672.0    0.916038       1.101211     1.281830        1.224398   2.078213   \n",
       "1706.0    0.903421       1.062525     1.235567        1.208937   2.128090   \n",
       "1740.0    0.891081       1.027546     1.199624        1.198313   2.161993   \n",
       "1774.0    0.878935       1.009352     1.169467        1.186311   2.186797   \n",
       "1808.0    0.866898       1.003282     1.162267        1.176241   2.206007   \n",
       "1842.0    0.855130       0.994504     1.163600        1.167157   2.230476   \n",
       "1876.0    0.844381       0.997129     1.179075        1.159426   2.248648   \n",
       "1910.0    0.835497       1.017610     1.206213        1.154059   2.186282   \n",
       "1944.0    0.829337       1.048116     1.255671        1.154810   2.236935   \n",
       "1978.0    0.826339       1.091401     1.321182        1.153665   2.278695   \n",
       "2012.0    0.825646       1.135331     1.394563        1.162048   2.313884   \n",
       "2046.0    0.826123       1.189776     1.483329        1.167243   2.339006   \n",
       "2080.0    0.826637       1.250775     1.591635        1.178617   2.351942   \n",
       "2114.0    0.826309       1.322034     1.702021        1.188674   2.370500   \n",
       "2148.0    0.825482       1.386224     1.822650        1.197772   2.391162   \n",
       "2182.0    0.824836       1.465500     1.933115        1.205711   2.417522   \n",
       "2216.0    0.825052       1.529475     2.035563        1.216187   2.421736   \n",
       "2250.0    0.826639       1.585066     2.124144        1.223425   2.440278   \n",
       "\n",
       "        KC_OL_arvn_5  OWN_OL4_EN1_1  MY_OL_30  XT_TXH_030_P2  KC_OPX_lm_8  \\\n",
       "550.0       1.000000       1.000000  1.000000       1.000000     1.000000   \n",
       "584.0       1.012260       1.037647  1.063113       1.028520     1.101411   \n",
       "618.0       1.007257       1.074555  1.109795       1.031543     1.182591   \n",
       "652.0       1.008834       1.107209  1.143272       1.046723     1.254749   \n",
       "686.0       1.009464       1.139044  1.185546       1.071987     1.329229   \n",
       "720.0       0.983658       1.165315  1.198987       1.082094     1.380829   \n",
       "754.0       0.940578       1.186650  1.194375       1.043446     1.365064   \n",
       "788.0       0.890738       1.195784  1.178256       0.941096     1.239008   \n",
       "822.0       0.850030       1.195788  1.154509       0.790606     1.032367   \n",
       "856.0       0.826343       1.192161  1.158415       0.654814     0.838159   \n",
       "890.0       0.807129       1.188650  1.150961       0.568824     0.725110   \n",
       "924.0       0.774643       1.193787  1.138036       0.543726     0.696246   \n",
       "958.0       0.726792       1.203510  1.103106       0.572364     0.755143   \n",
       "992.0       0.680492       1.211573  1.048230       0.654056     0.896734   \n",
       "1026.0      0.641268       1.220223  1.012173       0.762327     1.077785   \n",
       "1060.0      0.633843       1.237478  0.993972       0.859570     1.272943   \n",
       "1094.0      0.650673       1.269936  1.012786       0.929477     1.426344   \n",
       "1128.0      0.682963       1.304887  1.061644       0.976871     1.549935   \n",
       "1162.0      0.708310       1.336768  1.107445       1.008580     1.632837   \n",
       "1196.0      0.725684       1.362699  1.141757       1.032348     1.705473   \n",
       "1230.0      0.738302       1.385116  1.174496       1.054526     1.767082   \n",
       "1264.0      0.753682       1.405858  1.203678       1.076743     1.826036   \n",
       "1298.0      0.776241       1.431427  1.241319       1.101833     1.859537   \n",
       "1332.0      0.808553       1.458889  1.281401       1.124958     1.881023   \n",
       "1366.0      0.836279       1.483743  1.318294       1.140994     1.872862   \n",
       "1400.0      0.880808       1.507981  1.369234       1.148678     1.825441   \n",
       "1434.0      0.925520       1.531209  1.435208       1.144522     1.783678   \n",
       "1468.0      0.964643       1.553205  1.514545       1.128384     1.716791   \n",
       "1502.0      1.007755       1.570457  1.569676       1.098715     1.638026   \n",
       "1536.0      1.048640       1.584373  1.627613       1.058323     1.552082   \n",
       "1570.0      1.081623       1.597839  1.680607       1.012472     1.471020   \n",
       "1604.0      1.117411       1.607119  1.721111       0.963996     1.393601   \n",
       "1638.0      1.132261       1.616542  1.756694       0.915979     1.320010   \n",
       "1672.0      1.137753       1.625973  1.784381       0.872895     1.261622   \n",
       "1706.0      1.151148       1.634155  1.809769       0.836860     1.212581   \n",
       "1740.0      1.162823       1.642243  1.827798       0.802735     1.171486   \n",
       "1774.0      1.175092       1.651927  1.837696       0.776895     1.150316   \n",
       "1808.0      1.171330       1.663222  1.845461       0.756146     1.136852   \n",
       "1842.0      1.171011       1.674283  1.833060       0.741645     1.142050   \n",
       "1876.0      1.177705       1.685917  1.835352       0.729130     1.156768   \n",
       "1910.0      1.176920       1.696647  1.826293       0.729205     1.182464   \n",
       "1944.0      1.175083       1.708902  1.835017       0.736053     1.225918   \n",
       "1978.0      1.166192       1.725969  1.865297       0.749689     1.286568   \n",
       "2012.0      1.160736       1.745645  1.896857       0.770406     1.360595   \n",
       "2046.0      1.173285       1.766295  1.921888       0.795611     1.446422   \n",
       "2080.0      1.173480       1.782242  1.937028       0.823555     1.549109   \n",
       "2114.0      1.186050       1.797209  1.955398       0.861121     1.659942   \n",
       "2148.0      1.176119       1.810478  1.974212       0.898091     1.769640   \n",
       "2182.0      1.170057       1.819914  1.976503       0.935737     1.880424   \n",
       "2216.0      1.164325       1.819757  1.952747       0.975719     1.984931   \n",
       "2250.0      1.174580       1.829455  1.944309       1.008683     2.069057   \n",
       "\n",
       "        ...  KC_OPX_lvn_1  KC_OPX_lvn_10  OC_TXH_013_P05  KC_OPX_hevn_3  \\\n",
       "550.0   ...      1.000000       1.000000        1.000000       1.000000   \n",
       "584.0   ...      1.050305       1.090798        1.017611       1.025000   \n",
       "618.0   ...      1.083221       1.163220        1.033550       1.061388   \n",
       "652.0   ...      1.119670       1.229345        1.051170       1.110001   \n",
       "686.0   ...      1.161474       1.286154        1.065420       1.147666   \n",
       "720.0   ...      1.199106       1.328543        1.079248       1.188370   \n",
       "754.0   ...      1.193812       1.311839        1.084272       1.213442   \n",
       "788.0   ...      1.104968       1.193353        1.074962       1.145232   \n",
       "822.0   ...      0.933553       1.005976        1.056105       1.008453   \n",
       "856.0   ...      0.777054       0.819551        1.028452       0.872187   \n",
       "890.0   ...      0.682201       0.704415        1.004062       0.785474   \n",
       "924.0   ...      0.658424       0.677150        0.987944       0.772174   \n",
       "958.0   ...      0.705648       0.731542        0.982544       0.823351   \n",
       "992.0   ...      0.822090       0.863904        0.982115       0.934833   \n",
       "1026.0  ...      0.982215       1.049093        0.979612       1.099490   \n",
       "1060.0  ...      1.140934       1.231647        0.983893       1.250041   \n",
       "1094.0  ...      1.274288       1.380622        0.989585       1.385322   \n",
       "1128.0  ...      1.369473       1.492221        0.999690       1.476927   \n",
       "1162.0  ...      1.430971       1.576944        1.005515       1.531373   \n",
       "1196.0  ...      1.476712       1.646427        1.008093       1.577522   \n",
       "1230.0  ...      1.514820       1.713945        1.005484       1.603359   \n",
       "1264.0  ...      1.542736       1.772134        1.006522       1.619316   \n",
       "1298.0  ...      1.557146       1.821615        1.003261       1.627150   \n",
       "1332.0  ...      1.550620       1.852202        1.005557       1.622069   \n",
       "1366.0  ...      1.526412       1.856366        1.011326       1.582044   \n",
       "1400.0  ...      1.467591       1.820133        1.008367       1.530443   \n",
       "1434.0  ...      1.429829       1.792172        1.005703       1.496503   \n",
       "1468.0  ...      1.368004       1.736193        1.002434       1.436448   \n",
       "1502.0  ...      1.300067       1.666092        0.996248       1.366047   \n",
       "1536.0  ...      1.228943       1.587419        0.993566       1.301142   \n",
       "1570.0  ...      1.162582       1.507893        0.984439       1.237581   \n",
       "1604.0  ...      1.101040       1.434973        0.976784       1.175894   \n",
       "1638.0  ...      1.051175       1.368501        0.966093       1.127106   \n",
       "1672.0  ...      1.002384       1.310936        0.953297       1.086427   \n",
       "1706.0  ...      0.966589       1.262912        0.945759       1.045898   \n",
       "1740.0  ...      0.935837       1.229324        0.931900       1.014884   \n",
       "1774.0  ...      0.913548       1.202289        0.920673       0.997740   \n",
       "1808.0  ...      0.904671       1.190003        0.911224       0.990181   \n",
       "1842.0  ...      0.904856       1.192496        0.906923       0.980125   \n",
       "1876.0  ...      0.912941       1.211647        0.896315       0.984252   \n",
       "1910.0  ...      0.926108       1.236739        0.881904       1.006196   \n",
       "1944.0  ...      0.955250       1.282996        0.871185       1.036601   \n",
       "1978.0  ...      0.993544       1.345685        0.865860       1.079940   \n",
       "2012.0  ...      1.042861       1.421100        0.860360       1.121891   \n",
       "2046.0  ...      1.099277       1.512977        0.852870       1.177896   \n",
       "2080.0  ...      1.164400       1.609405        0.855414       1.239949   \n",
       "2114.0  ...      1.237356       1.727606        0.850153       1.313488   \n",
       "2148.0  ...      1.316244       1.847641        0.845152       1.376401   \n",
       "2182.0  ...      1.388964       1.958428        0.841009       1.452785   \n",
       "2216.0  ...      1.450459       2.064946        0.838833       1.518700   \n",
       "2250.0  ...      1.496296       2.146940        0.833696       1.574923   \n",
       "\n",
       "        KC_OL_hm_2  OC_LP_A3_1  KC_OPX_arvn_5  RB_LE2CPX  KC_OL_arm_1  \\\n",
       "550.0     1.000000    1.000000       1.000000   1.000000     1.000000   \n",
       "584.0     1.006495    1.088583       1.030655   1.035233     1.038322   \n",
       "618.0     1.001083    1.151232       1.071262   1.065463     1.056541   \n",
       "652.0     1.007799    1.191792       1.102640   1.092927     1.079361   \n",
       "686.0     1.010311    1.219460       1.153756   1.119006     1.098171   \n",
       "720.0     0.984608    1.236806       1.205637   1.159498     1.097729   \n",
       "754.0     0.937861    1.236653       1.231927   1.189243     1.071949   \n",
       "788.0     0.884774    1.217217       1.178402   1.230141     1.040170   \n",
       "822.0     0.843718    1.178752       1.042542   1.264141     1.011377   \n",
       "856.0     0.817458    1.122173       0.900563   1.257603     0.997408   \n",
       "890.0     0.797563    1.089057       0.821531   1.266989     0.986085   \n",
       "924.0     0.765161    1.079648       0.811610   1.230753     0.960376   \n",
       "958.0     0.716306    1.091727       0.862422   1.184433     0.915655   \n",
       "992.0     0.665949    1.110845       0.967626   1.114264     0.866699   \n",
       "1026.0    0.631264    1.122767       1.127839   1.070717     0.828285   \n",
       "1060.0    0.624577    1.132075       1.293205   1.076089     0.823646   \n",
       "1094.0    0.641778    1.145082       1.420528   1.132825     0.855268   \n",
       "1128.0    0.671876    1.158178       1.501460   1.224648     0.895891   \n",
       "1162.0    0.696598    1.159562       1.550040   1.313621     0.927230   \n",
       "1196.0    0.712627    1.173258       1.589634   1.384276     0.954491   \n",
       "1230.0    0.727004    1.167875       1.604979   1.443379     0.975662   \n",
       "1264.0    0.746659    1.177133       1.622327   1.494045     1.002283   \n",
       "1298.0    0.768544    1.174960       1.632906   1.538665     1.034479   \n",
       "1332.0    0.797544    1.172003       1.628924   1.578681     1.074101   \n",
       "1366.0    0.834301    1.170172       1.592812   1.620991     1.123699   \n",
       "1400.0    0.873855    1.167475       1.546849   1.638798     1.179999   \n",
       "1434.0    0.918883    1.164288       1.508892   1.662070     1.238789   \n",
       "1468.0    0.964411    1.160135       1.435122   1.687872     1.297433   \n",
       "1502.0    1.006842    1.152463       1.376345   1.715830     1.355347   \n",
       "1536.0    1.046508    1.146484       1.311234   1.738326     1.410930   \n",
       "1570.0    1.079163    1.137932       1.250617   1.757827     1.453060   \n",
       "1604.0    1.104405    1.123621       1.201109   1.774292     1.492280   \n",
       "1638.0    1.125354    1.112972       1.148424   1.784183     1.517401   \n",
       "1672.0    1.139412    1.100372       1.094994   1.791291     1.536426   \n",
       "1706.0    1.148292    1.094807       1.064851   1.798160     1.553525   \n",
       "1740.0    1.155754    1.084158       1.038510   1.799882     1.563322   \n",
       "1774.0    1.158837    1.072764       1.021355   1.794910     1.574541   \n",
       "1808.0    1.162600    1.056976       1.010012   1.789784     1.580837   \n",
       "1842.0    1.161015    1.039826       1.012625   1.787228     1.586570   \n",
       "1876.0    1.163026    1.037380       1.024986   1.771645     1.588428   \n",
       "1910.0    1.156865    1.031567       1.043966   1.687679     1.586530   \n",
       "1944.0    1.158218    1.025678       1.067614   1.699052     1.591091   \n",
       "1978.0    1.158315    1.025324       1.093369   1.699007     1.592915   \n",
       "2012.0    1.159506    1.030239       1.133538   1.690705     1.595048   \n",
       "2046.0    1.159430    1.028979       1.202908   1.680711     1.597080   \n",
       "2080.0    1.158701    1.026239       1.271093   1.662867     1.598322   \n",
       "2114.0    1.158046    1.024531       1.348687   1.643458     1.600445   \n",
       "2148.0    1.161534    1.016583       1.407722   1.630428     1.604144   \n",
       "2182.0    1.158879    1.013190       1.474815   1.615726     1.602127   \n",
       "2216.0    1.155423    1.016311       1.535030   1.601104     1.601642   \n",
       "2250.0    1.150625    1.011532       1.602268   1.595675     1.597225   \n",
       "\n",
       "        OC_LP_A2_2  \n",
       "550.0     1.000000  \n",
       "584.0     1.105729  \n",
       "618.0     1.175916  \n",
       "652.0     1.219676  \n",
       "686.0     1.247651  \n",
       "720.0     1.263192  \n",
       "754.0     1.260106  \n",
       "788.0     1.236116  \n",
       "822.0     1.193089  \n",
       "856.0     1.143957  \n",
       "890.0     1.119427  \n",
       "924.0     1.116544  \n",
       "958.0     1.125407  \n",
       "992.0     1.144533  \n",
       "1026.0    1.153378  \n",
       "1060.0    1.159703  \n",
       "1094.0    1.169836  \n",
       "1128.0    1.179701  \n",
       "1162.0    1.184446  \n",
       "1196.0    1.182813  \n",
       "1230.0    1.180173  \n",
       "1264.0    1.178902  \n",
       "1298.0    1.176677  \n",
       "1332.0    1.172750  \n",
       "1366.0    1.169687  \n",
       "1400.0    1.169383  \n",
       "1434.0    1.166408  \n",
       "1468.0    1.161437  \n",
       "1502.0    1.154458  \n",
       "1536.0    1.144418  \n",
       "1570.0    1.134389  \n",
       "1604.0    1.122426  \n",
       "1638.0    1.109295  \n",
       "1672.0    1.095991  \n",
       "1706.0    1.082488  \n",
       "1740.0    1.069250  \n",
       "1774.0    1.054628  \n",
       "1808.0    1.040339  \n",
       "1842.0    1.027364  \n",
       "1876.0    1.018883  \n",
       "1910.0    1.012304  \n",
       "1944.0    1.010004  \n",
       "1978.0    1.011335  \n",
       "2012.0    1.012174  \n",
       "2046.0    1.012669  \n",
       "2080.0    1.014064  \n",
       "2114.0    1.016990  \n",
       "2148.0    1.011704  \n",
       "2182.0    1.007090  \n",
       "2216.0    1.007014  \n",
       "2250.0    1.008625  \n",
       "\n",
       "[51 rows x 200 columns]"
      ]
     },
     "execution_count": 40,
     "metadata": {},
     "output_type": "execute_result"
    }
   ],
   "source": [
    "use_denoising_and_normalization = True # Default\n",
    "only_normalization = False # Optional. To use only normalization, switch this to True and \"use_denoising_and_normalization\" False\n",
    "number_of_wavelengths = 51\n",
    "\n",
    "# interpolation_wavelengths = np.linspace(541., 2424., number_of_wavelengths)\n",
    "interpolation_wavelengths = np.linspace(550., 2250., number_of_wavelengths)\n",
    "interpolation_dict = {}\n",
    "\n",
    "for i in range(len(w_df.columns)):\n",
    "\twavelengths = w_df.iloc[:, i].to_numpy()\n",
    "\tunique_wavelengths, unique_indices = np.unique(wavelengths, return_index=True)\n",
    "\n",
    "\treflectances = r_df.iloc[:, i].to_numpy()\n",
    "\tunique_reflectances = reflectances[unique_indices]\n",
    "\n",
    "\tinterpolation = np.interp(interpolation_wavelengths, unique_wavelengths, unique_reflectances)\n",
    "\n",
    "\tif use_denoising_and_normalization:\n",
    "\t\tdenoised_normalized_data = denoise_and_norm(interpolation, interpolation_wavelengths, denoising=True, normalising=True)\n",
    "\t\tdenoised_normalized_data = denoised_normalized_data.flatten()\n",
    "\t\tinterpolation_dict[w_df.columns[i]] = denoised_normalized_data\n",
    "\t\tnormalized_interpolation = interpolation / interpolation[0]\n",
    "\t\t# print(np.mean((denoised_normalized_data - normalized_interpolation) ** 2)) # Similarity of own and Davids methods\n",
    "\t\t# print(np.array_equal(denoised_normalized_data, normalized_interpolation))\n",
    "\telif only_normalization:\n",
    "\t\tnormalized_interpolation = interpolation / interpolation[0]\n",
    "\t\tinterpolation_dict[w_df.columns[i]] = normalized_interpolation\n",
    "\telse:\n",
    "\t\tinterpolation_dict[w_df.columns[i]] = interpolation\n",
    "\n",
    "interpolation_df = pd.DataFrame(interpolation_dict, index=interpolation_wavelengths)\n",
    "#interpolation_df = interpolation_df.transpose()\n",
    "\n",
    "plt.plot(unique_wavelengths, unique_reflectances, 'o', label='data')\n",
    "plt.plot(interpolation_wavelengths, interpolation, '-', label='linear interp')\n",
    "plt.legend(loc='best')\n",
    "plt.title('The last interpolation as a visualization')\n",
    "plt.show()\n",
    "\n",
    "interpolation_df"
   ]
  },
  {
   "cell_type": "markdown",
   "metadata": {},
   "source": [
    "#### Combine Sample Info and Reflectance Data"
   ]
  },
  {
   "cell_type": "code",
   "execution_count": 41,
   "metadata": {},
   "outputs": [
    {
     "data": {
      "text/html": [
       "<div>\n",
       "<style scoped>\n",
       "    .dataframe tbody tr th:only-of-type {\n",
       "        vertical-align: middle;\n",
       "    }\n",
       "\n",
       "    .dataframe tbody tr th {\n",
       "        vertical-align: top;\n",
       "    }\n",
       "\n",
       "    .dataframe thead th {\n",
       "        text-align: right;\n",
       "    }\n",
       "</style>\n",
       "<table border=\"1\" class=\"dataframe\">\n",
       "  <thead>\n",
       "    <tr style=\"text-align: right;\">\n",
       "      <th></th>\n",
       "      <th>Sample name</th>\n",
       "      <th>Irradiation</th>\n",
       "      <th>ET_1AU</th>\n",
       "      <th>group</th>\n",
       "      <th>550.0</th>\n",
       "      <th>584.0</th>\n",
       "      <th>618.0</th>\n",
       "      <th>652.0</th>\n",
       "      <th>686.0</th>\n",
       "      <th>720.0</th>\n",
       "      <th>...</th>\n",
       "      <th>1944.0</th>\n",
       "      <th>1978.0</th>\n",
       "      <th>2012.0</th>\n",
       "      <th>2046.0</th>\n",
       "      <th>2080.0</th>\n",
       "      <th>2114.0</th>\n",
       "      <th>2148.0</th>\n",
       "      <th>2182.0</th>\n",
       "      <th>2216.0</th>\n",
       "      <th>2250.0</th>\n",
       "    </tr>\n",
       "  </thead>\n",
       "  <tbody>\n",
       "    <tr>\n",
       "      <th>0</th>\n",
       "      <td>PO_TXH_007</td>\n",
       "      <td>10</td>\n",
       "      <td>3.382378e+08</td>\n",
       "      <td>8</td>\n",
       "      <td>1.0</td>\n",
       "      <td>1.007878</td>\n",
       "      <td>0.988193</td>\n",
       "      <td>0.982036</td>\n",
       "      <td>0.981669</td>\n",
       "      <td>0.948793</td>\n",
       "      <td>...</td>\n",
       "      <td>1.191461</td>\n",
       "      <td>1.190995</td>\n",
       "      <td>1.194271</td>\n",
       "      <td>1.193846</td>\n",
       "      <td>1.195411</td>\n",
       "      <td>1.199186</td>\n",
       "      <td>1.198067</td>\n",
       "      <td>1.197574</td>\n",
       "      <td>1.200647</td>\n",
       "      <td>1.202141</td>\n",
       "    </tr>\n",
       "    <tr>\n",
       "      <th>1</th>\n",
       "      <td>PO_TXH_008</td>\n",
       "      <td>10</td>\n",
       "      <td>6.764756e+08</td>\n",
       "      <td>8</td>\n",
       "      <td>1.0</td>\n",
       "      <td>1.009224</td>\n",
       "      <td>0.993181</td>\n",
       "      <td>0.989376</td>\n",
       "      <td>0.990417</td>\n",
       "      <td>0.958965</td>\n",
       "      <td>...</td>\n",
       "      <td>1.216220</td>\n",
       "      <td>1.214997</td>\n",
       "      <td>1.216873</td>\n",
       "      <td>1.218533</td>\n",
       "      <td>1.218845</td>\n",
       "      <td>1.223721</td>\n",
       "      <td>1.223077</td>\n",
       "      <td>1.223112</td>\n",
       "      <td>1.226167</td>\n",
       "      <td>1.228659</td>\n",
       "    </tr>\n",
       "    <tr>\n",
       "      <th>2</th>\n",
       "      <td>PO_TXH_081_CP1</td>\n",
       "      <td>10</td>\n",
       "      <td>3.382378e+08</td>\n",
       "      <td>8</td>\n",
       "      <td>1.0</td>\n",
       "      <td>1.024809</td>\n",
       "      <td>1.028070</td>\n",
       "      <td>1.038039</td>\n",
       "      <td>1.045095</td>\n",
       "      <td>1.016770</td>\n",
       "      <td>...</td>\n",
       "      <td>1.311319</td>\n",
       "      <td>1.312123</td>\n",
       "      <td>1.317130</td>\n",
       "      <td>1.318421</td>\n",
       "      <td>1.321785</td>\n",
       "      <td>1.323010</td>\n",
       "      <td>1.320729</td>\n",
       "      <td>1.323559</td>\n",
       "      <td>1.321747</td>\n",
       "      <td>1.318766</td>\n",
       "    </tr>\n",
       "    <tr>\n",
       "      <th>3</th>\n",
       "      <td>PO_TXH_081_CP2</td>\n",
       "      <td>10</td>\n",
       "      <td>6.764756e+08</td>\n",
       "      <td>8</td>\n",
       "      <td>1.0</td>\n",
       "      <td>1.045083</td>\n",
       "      <td>1.057163</td>\n",
       "      <td>1.080219</td>\n",
       "      <td>1.080057</td>\n",
       "      <td>1.069199</td>\n",
       "      <td>...</td>\n",
       "      <td>1.510710</td>\n",
       "      <td>1.515629</td>\n",
       "      <td>1.522968</td>\n",
       "      <td>1.524898</td>\n",
       "      <td>1.527924</td>\n",
       "      <td>1.532406</td>\n",
       "      <td>1.532107</td>\n",
       "      <td>1.532269</td>\n",
       "      <td>1.540105</td>\n",
       "      <td>1.532981</td>\n",
       "    </tr>\n",
       "    <tr>\n",
       "      <th>4</th>\n",
       "      <td>RB_LE4OLV</td>\n",
       "      <td>10</td>\n",
       "      <td>7.610350e+08</td>\n",
       "      <td>8</td>\n",
       "      <td>1.0</td>\n",
       "      <td>1.048641</td>\n",
       "      <td>1.077656</td>\n",
       "      <td>1.110248</td>\n",
       "      <td>1.146285</td>\n",
       "      <td>1.146664</td>\n",
       "      <td>...</td>\n",
       "      <td>2.236935</td>\n",
       "      <td>2.278695</td>\n",
       "      <td>2.313884</td>\n",
       "      <td>2.339006</td>\n",
       "      <td>2.351942</td>\n",
       "      <td>2.370500</td>\n",
       "      <td>2.391162</td>\n",
       "      <td>2.417522</td>\n",
       "      <td>2.421736</td>\n",
       "      <td>2.440278</td>\n",
       "    </tr>\n",
       "    <tr>\n",
       "      <th>...</th>\n",
       "      <td>...</td>\n",
       "      <td>...</td>\n",
       "      <td>...</td>\n",
       "      <td>...</td>\n",
       "      <td>...</td>\n",
       "      <td>...</td>\n",
       "      <td>...</td>\n",
       "      <td>...</td>\n",
       "      <td>...</td>\n",
       "      <td>...</td>\n",
       "      <td>...</td>\n",
       "      <td>...</td>\n",
       "      <td>...</td>\n",
       "      <td>...</td>\n",
       "      <td>...</td>\n",
       "      <td>...</td>\n",
       "      <td>...</td>\n",
       "      <td>...</td>\n",
       "      <td>...</td>\n",
       "      <td>...</td>\n",
       "      <td>...</td>\n",
       "    </tr>\n",
       "    <tr>\n",
       "      <th>195</th>\n",
       "      <td>OC_LP_A2_2</td>\n",
       "      <td>3</td>\n",
       "      <td>2.361833e+02</td>\n",
       "      <td>2</td>\n",
       "      <td>1.0</td>\n",
       "      <td>1.105729</td>\n",
       "      <td>1.175916</td>\n",
       "      <td>1.219676</td>\n",
       "      <td>1.247651</td>\n",
       "      <td>1.263192</td>\n",
       "      <td>...</td>\n",
       "      <td>1.010004</td>\n",
       "      <td>1.011335</td>\n",
       "      <td>1.012174</td>\n",
       "      <td>1.012669</td>\n",
       "      <td>1.014064</td>\n",
       "      <td>1.016990</td>\n",
       "      <td>1.011704</td>\n",
       "      <td>1.007090</td>\n",
       "      <td>1.007014</td>\n",
       "      <td>1.008625</td>\n",
       "    </tr>\n",
       "    <tr>\n",
       "      <th>196</th>\n",
       "      <td>OC_LP_A3_2</td>\n",
       "      <td>3</td>\n",
       "      <td>5.992057e+02</td>\n",
       "      <td>2</td>\n",
       "      <td>1.0</td>\n",
       "      <td>1.097169</td>\n",
       "      <td>1.163768</td>\n",
       "      <td>1.207710</td>\n",
       "      <td>1.237273</td>\n",
       "      <td>1.255537</td>\n",
       "      <td>...</td>\n",
       "      <td>1.048189</td>\n",
       "      <td>1.050554</td>\n",
       "      <td>1.051604</td>\n",
       "      <td>1.053263</td>\n",
       "      <td>1.054960</td>\n",
       "      <td>1.058765</td>\n",
       "      <td>1.052953</td>\n",
       "      <td>1.048257</td>\n",
       "      <td>1.050416</td>\n",
       "      <td>1.053120</td>\n",
       "    </tr>\n",
       "    <tr>\n",
       "      <th>197</th>\n",
       "      <td>OC_LP_A1_3</td>\n",
       "      <td>3</td>\n",
       "      <td>9.491069e+01</td>\n",
       "      <td>1</td>\n",
       "      <td>1.0</td>\n",
       "      <td>1.098777</td>\n",
       "      <td>1.162888</td>\n",
       "      <td>1.200541</td>\n",
       "      <td>1.222890</td>\n",
       "      <td>1.234319</td>\n",
       "      <td>...</td>\n",
       "      <td>0.949880</td>\n",
       "      <td>0.950406</td>\n",
       "      <td>0.951033</td>\n",
       "      <td>0.949815</td>\n",
       "      <td>0.951064</td>\n",
       "      <td>0.950365</td>\n",
       "      <td>0.941783</td>\n",
       "      <td>0.940278</td>\n",
       "      <td>0.939529</td>\n",
       "      <td>0.940415</td>\n",
       "    </tr>\n",
       "    <tr>\n",
       "      <th>198</th>\n",
       "      <td>OC_LP_A2_3</td>\n",
       "      <td>3</td>\n",
       "      <td>2.361833e+02</td>\n",
       "      <td>2</td>\n",
       "      <td>1.0</td>\n",
       "      <td>1.101528</td>\n",
       "      <td>1.169834</td>\n",
       "      <td>1.211440</td>\n",
       "      <td>1.236943</td>\n",
       "      <td>1.251505</td>\n",
       "      <td>...</td>\n",
       "      <td>0.997011</td>\n",
       "      <td>0.998404</td>\n",
       "      <td>0.999469</td>\n",
       "      <td>0.998505</td>\n",
       "      <td>1.000379</td>\n",
       "      <td>0.999339</td>\n",
       "      <td>0.990166</td>\n",
       "      <td>0.988745</td>\n",
       "      <td>0.989049</td>\n",
       "      <td>0.990642</td>\n",
       "    </tr>\n",
       "    <tr>\n",
       "      <th>199</th>\n",
       "      <td>OC_LP_A3_3</td>\n",
       "      <td>3</td>\n",
       "      <td>5.992057e+02</td>\n",
       "      <td>2</td>\n",
       "      <td>1.0</td>\n",
       "      <td>1.090837</td>\n",
       "      <td>1.154875</td>\n",
       "      <td>1.193027</td>\n",
       "      <td>1.221807</td>\n",
       "      <td>1.238872</td>\n",
       "      <td>...</td>\n",
       "      <td>1.003092</td>\n",
       "      <td>1.003804</td>\n",
       "      <td>1.004965</td>\n",
       "      <td>1.006095</td>\n",
       "      <td>1.008243</td>\n",
       "      <td>1.008672</td>\n",
       "      <td>1.000371</td>\n",
       "      <td>0.999608</td>\n",
       "      <td>1.000299</td>\n",
       "      <td>1.002430</td>\n",
       "    </tr>\n",
       "  </tbody>\n",
       "</table>\n",
       "<p>200 rows × 55 columns</p>\n",
       "</div>"
      ],
      "text/plain": [
       "        Sample name  Irradiation        ET_1AU  group  550.0     584.0  \\\n",
       "0        PO_TXH_007           10  3.382378e+08      8    1.0  1.007878   \n",
       "1        PO_TXH_008           10  6.764756e+08      8    1.0  1.009224   \n",
       "2    PO_TXH_081_CP1           10  3.382378e+08      8    1.0  1.024809   \n",
       "3    PO_TXH_081_CP2           10  6.764756e+08      8    1.0  1.045083   \n",
       "4         RB_LE4OLV           10  7.610350e+08      8    1.0  1.048641   \n",
       "..              ...          ...           ...    ...    ...       ...   \n",
       "195      OC_LP_A2_2            3  2.361833e+02      2    1.0  1.105729   \n",
       "196      OC_LP_A3_2            3  5.992057e+02      2    1.0  1.097169   \n",
       "197      OC_LP_A1_3            3  9.491069e+01      1    1.0  1.098777   \n",
       "198      OC_LP_A2_3            3  2.361833e+02      2    1.0  1.101528   \n",
       "199      OC_LP_A3_3            3  5.992057e+02      2    1.0  1.090837   \n",
       "\n",
       "        618.0     652.0     686.0     720.0  ...    1944.0    1978.0  \\\n",
       "0    0.988193  0.982036  0.981669  0.948793  ...  1.191461  1.190995   \n",
       "1    0.993181  0.989376  0.990417  0.958965  ...  1.216220  1.214997   \n",
       "2    1.028070  1.038039  1.045095  1.016770  ...  1.311319  1.312123   \n",
       "3    1.057163  1.080219  1.080057  1.069199  ...  1.510710  1.515629   \n",
       "4    1.077656  1.110248  1.146285  1.146664  ...  2.236935  2.278695   \n",
       "..        ...       ...       ...       ...  ...       ...       ...   \n",
       "195  1.175916  1.219676  1.247651  1.263192  ...  1.010004  1.011335   \n",
       "196  1.163768  1.207710  1.237273  1.255537  ...  1.048189  1.050554   \n",
       "197  1.162888  1.200541  1.222890  1.234319  ...  0.949880  0.950406   \n",
       "198  1.169834  1.211440  1.236943  1.251505  ...  0.997011  0.998404   \n",
       "199  1.154875  1.193027  1.221807  1.238872  ...  1.003092  1.003804   \n",
       "\n",
       "       2012.0    2046.0    2080.0    2114.0    2148.0    2182.0    2216.0  \\\n",
       "0    1.194271  1.193846  1.195411  1.199186  1.198067  1.197574  1.200647   \n",
       "1    1.216873  1.218533  1.218845  1.223721  1.223077  1.223112  1.226167   \n",
       "2    1.317130  1.318421  1.321785  1.323010  1.320729  1.323559  1.321747   \n",
       "3    1.522968  1.524898  1.527924  1.532406  1.532107  1.532269  1.540105   \n",
       "4    2.313884  2.339006  2.351942  2.370500  2.391162  2.417522  2.421736   \n",
       "..        ...       ...       ...       ...       ...       ...       ...   \n",
       "195  1.012174  1.012669  1.014064  1.016990  1.011704  1.007090  1.007014   \n",
       "196  1.051604  1.053263  1.054960  1.058765  1.052953  1.048257  1.050416   \n",
       "197  0.951033  0.949815  0.951064  0.950365  0.941783  0.940278  0.939529   \n",
       "198  0.999469  0.998505  1.000379  0.999339  0.990166  0.988745  0.989049   \n",
       "199  1.004965  1.006095  1.008243  1.008672  1.000371  0.999608  1.000299   \n",
       "\n",
       "       2250.0  \n",
       "0    1.202141  \n",
       "1    1.228659  \n",
       "2    1.318766  \n",
       "3    1.532981  \n",
       "4    2.440278  \n",
       "..        ...  \n",
       "195  1.008625  \n",
       "196  1.053120  \n",
       "197  0.940415  \n",
       "198  0.990642  \n",
       "199  1.002430  \n",
       "\n",
       "[200 rows x 55 columns]"
      ]
     },
     "execution_count": 41,
     "metadata": {},
     "output_type": "execute_result"
    }
   ],
   "source": [
    "reflectance_data_transposed = interpolation_df.T\n",
    "reflectance_data_transposed.reset_index(inplace=True)\n",
    "reflectance_data_transposed.rename(columns={'index': 'Sample name'}, inplace=True)\n",
    "\n",
    "# Merge sample_info with the transposed reflectance_data\n",
    "merged_data = pd.merge(sample_info, reflectance_data_transposed, on='Sample name')\n",
    "merged_data"
   ]
  },
  {
   "cell_type": "markdown",
   "metadata": {},
   "source": [
    "#### Save the Data"
   ]
  },
  {
   "cell_type": "code",
   "execution_count": 42,
   "metadata": {},
   "outputs": [],
   "source": [
    "if overwrite_preprocessed_data:\n",
    "\tmerged_data.to_csv(preprocessed_data_path, index=False)"
   ]
  },
  {
   "cell_type": "markdown",
   "metadata": {},
   "source": [
    "#### Prepare the Data for the Model"
   ]
  },
  {
   "cell_type": "code",
   "execution_count": 43,
   "metadata": {},
   "outputs": [
    {
     "data": {
      "text/plain": [
       "count    2.000000e+02\n",
       "mean     6.074343e+08\n",
       "std      1.012104e+09\n",
       "min      4.373764e-02\n",
       "25%      6.675746e+02\n",
       "50%      3.089238e+08\n",
       "75%      8.054287e+08\n",
       "max      6.764756e+09\n",
       "Name: ET_1AU, dtype: float64"
      ]
     },
     "execution_count": 43,
     "metadata": {},
     "output_type": "execute_result"
    }
   ],
   "source": [
    "data = pd.read_csv(preprocessed_data_path)\n",
    "data['ET_1AU'].describe()"
   ]
  },
  {
   "cell_type": "code",
   "execution_count": 44,
   "metadata": {},
   "outputs": [
    {
     "name": "stdout",
     "output_type": "stream",
     "text": [
      "10    58\n",
      "12    46\n",
      "11    24\n",
      "3     18\n",
      "1     12\n",
      "2     10\n",
      "4      9\n",
      "5      7\n",
      "7      6\n",
      "8      5\n",
      "6      5\n",
      "Name: Irradiation, dtype: int64\n",
      "200\n"
     ]
    },
    {
     "data": {
      "text/html": [
       "<div>\n",
       "<style scoped>\n",
       "    .dataframe tbody tr th:only-of-type {\n",
       "        vertical-align: middle;\n",
       "    }\n",
       "\n",
       "    .dataframe tbody tr th {\n",
       "        vertical-align: top;\n",
       "    }\n",
       "\n",
       "    .dataframe thead th {\n",
       "        text-align: right;\n",
       "    }\n",
       "</style>\n",
       "<table border=\"1\" class=\"dataframe\">\n",
       "  <thead>\n",
       "    <tr style=\"text-align: right;\">\n",
       "      <th></th>\n",
       "      <th>Sample name</th>\n",
       "      <th>Irradiation</th>\n",
       "      <th>ET_1AU</th>\n",
       "      <th>group</th>\n",
       "      <th>550.0</th>\n",
       "      <th>584.0</th>\n",
       "      <th>618.0</th>\n",
       "      <th>652.0</th>\n",
       "      <th>686.0</th>\n",
       "      <th>720.0</th>\n",
       "      <th>...</th>\n",
       "      <th>1944.0</th>\n",
       "      <th>1978.0</th>\n",
       "      <th>2012.0</th>\n",
       "      <th>2046.0</th>\n",
       "      <th>2080.0</th>\n",
       "      <th>2114.0</th>\n",
       "      <th>2148.0</th>\n",
       "      <th>2182.0</th>\n",
       "      <th>2216.0</th>\n",
       "      <th>2250.0</th>\n",
       "    </tr>\n",
       "  </thead>\n",
       "  <tbody>\n",
       "    <tr>\n",
       "      <th>0</th>\n",
       "      <td>PO_TXH_007</td>\n",
       "      <td>10</td>\n",
       "      <td>8.529222</td>\n",
       "      <td>8</td>\n",
       "      <td>1.0</td>\n",
       "      <td>1.007878</td>\n",
       "      <td>0.988193</td>\n",
       "      <td>0.982036</td>\n",
       "      <td>0.981669</td>\n",
       "      <td>0.948793</td>\n",
       "      <td>...</td>\n",
       "      <td>1.191461</td>\n",
       "      <td>1.190995</td>\n",
       "      <td>1.194271</td>\n",
       "      <td>1.193846</td>\n",
       "      <td>1.195411</td>\n",
       "      <td>1.199186</td>\n",
       "      <td>1.198067</td>\n",
       "      <td>1.197574</td>\n",
       "      <td>1.200647</td>\n",
       "      <td>1.202141</td>\n",
       "    </tr>\n",
       "    <tr>\n",
       "      <th>1</th>\n",
       "      <td>PO_TXH_008</td>\n",
       "      <td>10</td>\n",
       "      <td>8.830252</td>\n",
       "      <td>8</td>\n",
       "      <td>1.0</td>\n",
       "      <td>1.009224</td>\n",
       "      <td>0.993181</td>\n",
       "      <td>0.989376</td>\n",
       "      <td>0.990417</td>\n",
       "      <td>0.958965</td>\n",
       "      <td>...</td>\n",
       "      <td>1.216220</td>\n",
       "      <td>1.214997</td>\n",
       "      <td>1.216873</td>\n",
       "      <td>1.218533</td>\n",
       "      <td>1.218845</td>\n",
       "      <td>1.223721</td>\n",
       "      <td>1.223077</td>\n",
       "      <td>1.223112</td>\n",
       "      <td>1.226167</td>\n",
       "      <td>1.228659</td>\n",
       "    </tr>\n",
       "    <tr>\n",
       "      <th>2</th>\n",
       "      <td>PO_TXH_081_CP1</td>\n",
       "      <td>10</td>\n",
       "      <td>8.529222</td>\n",
       "      <td>8</td>\n",
       "      <td>1.0</td>\n",
       "      <td>1.024809</td>\n",
       "      <td>1.028070</td>\n",
       "      <td>1.038039</td>\n",
       "      <td>1.045095</td>\n",
       "      <td>1.016770</td>\n",
       "      <td>...</td>\n",
       "      <td>1.311319</td>\n",
       "      <td>1.312123</td>\n",
       "      <td>1.317130</td>\n",
       "      <td>1.318421</td>\n",
       "      <td>1.321785</td>\n",
       "      <td>1.323010</td>\n",
       "      <td>1.320729</td>\n",
       "      <td>1.323559</td>\n",
       "      <td>1.321747</td>\n",
       "      <td>1.318766</td>\n",
       "    </tr>\n",
       "    <tr>\n",
       "      <th>3</th>\n",
       "      <td>PO_TXH_081_CP2</td>\n",
       "      <td>10</td>\n",
       "      <td>8.830252</td>\n",
       "      <td>8</td>\n",
       "      <td>1.0</td>\n",
       "      <td>1.045083</td>\n",
       "      <td>1.057163</td>\n",
       "      <td>1.080219</td>\n",
       "      <td>1.080057</td>\n",
       "      <td>1.069199</td>\n",
       "      <td>...</td>\n",
       "      <td>1.510710</td>\n",
       "      <td>1.515629</td>\n",
       "      <td>1.522968</td>\n",
       "      <td>1.524898</td>\n",
       "      <td>1.527924</td>\n",
       "      <td>1.532406</td>\n",
       "      <td>1.532107</td>\n",
       "      <td>1.532269</td>\n",
       "      <td>1.540105</td>\n",
       "      <td>1.532981</td>\n",
       "    </tr>\n",
       "    <tr>\n",
       "      <th>4</th>\n",
       "      <td>RB_LE4OLV</td>\n",
       "      <td>10</td>\n",
       "      <td>8.881405</td>\n",
       "      <td>8</td>\n",
       "      <td>1.0</td>\n",
       "      <td>1.048641</td>\n",
       "      <td>1.077656</td>\n",
       "      <td>1.110248</td>\n",
       "      <td>1.146285</td>\n",
       "      <td>1.146664</td>\n",
       "      <td>...</td>\n",
       "      <td>2.236935</td>\n",
       "      <td>2.278695</td>\n",
       "      <td>2.313884</td>\n",
       "      <td>2.339006</td>\n",
       "      <td>2.351942</td>\n",
       "      <td>2.370500</td>\n",
       "      <td>2.391162</td>\n",
       "      <td>2.417522</td>\n",
       "      <td>2.421736</td>\n",
       "      <td>2.440278</td>\n",
       "    </tr>\n",
       "    <tr>\n",
       "      <th>...</th>\n",
       "      <td>...</td>\n",
       "      <td>...</td>\n",
       "      <td>...</td>\n",
       "      <td>...</td>\n",
       "      <td>...</td>\n",
       "      <td>...</td>\n",
       "      <td>...</td>\n",
       "      <td>...</td>\n",
       "      <td>...</td>\n",
       "      <td>...</td>\n",
       "      <td>...</td>\n",
       "      <td>...</td>\n",
       "      <td>...</td>\n",
       "      <td>...</td>\n",
       "      <td>...</td>\n",
       "      <td>...</td>\n",
       "      <td>...</td>\n",
       "      <td>...</td>\n",
       "      <td>...</td>\n",
       "      <td>...</td>\n",
       "      <td>...</td>\n",
       "    </tr>\n",
       "    <tr>\n",
       "      <th>195</th>\n",
       "      <td>OC_LP_A2_2</td>\n",
       "      <td>3</td>\n",
       "      <td>2.375084</td>\n",
       "      <td>2</td>\n",
       "      <td>1.0</td>\n",
       "      <td>1.105729</td>\n",
       "      <td>1.175916</td>\n",
       "      <td>1.219676</td>\n",
       "      <td>1.247651</td>\n",
       "      <td>1.263192</td>\n",
       "      <td>...</td>\n",
       "      <td>1.010004</td>\n",
       "      <td>1.011335</td>\n",
       "      <td>1.012174</td>\n",
       "      <td>1.012669</td>\n",
       "      <td>1.014064</td>\n",
       "      <td>1.016990</td>\n",
       "      <td>1.011704</td>\n",
       "      <td>1.007090</td>\n",
       "      <td>1.007014</td>\n",
       "      <td>1.008625</td>\n",
       "    </tr>\n",
       "    <tr>\n",
       "      <th>196</th>\n",
       "      <td>OC_LP_A3_2</td>\n",
       "      <td>3</td>\n",
       "      <td>2.778300</td>\n",
       "      <td>2</td>\n",
       "      <td>1.0</td>\n",
       "      <td>1.097169</td>\n",
       "      <td>1.163768</td>\n",
       "      <td>1.207710</td>\n",
       "      <td>1.237273</td>\n",
       "      <td>1.255537</td>\n",
       "      <td>...</td>\n",
       "      <td>1.048189</td>\n",
       "      <td>1.050554</td>\n",
       "      <td>1.051604</td>\n",
       "      <td>1.053263</td>\n",
       "      <td>1.054960</td>\n",
       "      <td>1.058765</td>\n",
       "      <td>1.052953</td>\n",
       "      <td>1.048257</td>\n",
       "      <td>1.050416</td>\n",
       "      <td>1.053120</td>\n",
       "    </tr>\n",
       "    <tr>\n",
       "      <th>197</th>\n",
       "      <td>OC_LP_A1_3</td>\n",
       "      <td>3</td>\n",
       "      <td>1.981867</td>\n",
       "      <td>1</td>\n",
       "      <td>1.0</td>\n",
       "      <td>1.098777</td>\n",
       "      <td>1.162888</td>\n",
       "      <td>1.200541</td>\n",
       "      <td>1.222890</td>\n",
       "      <td>1.234319</td>\n",
       "      <td>...</td>\n",
       "      <td>0.949880</td>\n",
       "      <td>0.950406</td>\n",
       "      <td>0.951033</td>\n",
       "      <td>0.949815</td>\n",
       "      <td>0.951064</td>\n",
       "      <td>0.950365</td>\n",
       "      <td>0.941783</td>\n",
       "      <td>0.940278</td>\n",
       "      <td>0.939529</td>\n",
       "      <td>0.940415</td>\n",
       "    </tr>\n",
       "    <tr>\n",
       "      <th>198</th>\n",
       "      <td>OC_LP_A2_3</td>\n",
       "      <td>3</td>\n",
       "      <td>2.375084</td>\n",
       "      <td>2</td>\n",
       "      <td>1.0</td>\n",
       "      <td>1.101528</td>\n",
       "      <td>1.169834</td>\n",
       "      <td>1.211440</td>\n",
       "      <td>1.236943</td>\n",
       "      <td>1.251505</td>\n",
       "      <td>...</td>\n",
       "      <td>0.997011</td>\n",
       "      <td>0.998404</td>\n",
       "      <td>0.999469</td>\n",
       "      <td>0.998505</td>\n",
       "      <td>1.000379</td>\n",
       "      <td>0.999339</td>\n",
       "      <td>0.990166</td>\n",
       "      <td>0.988745</td>\n",
       "      <td>0.989049</td>\n",
       "      <td>0.990642</td>\n",
       "    </tr>\n",
       "    <tr>\n",
       "      <th>199</th>\n",
       "      <td>OC_LP_A3_3</td>\n",
       "      <td>3</td>\n",
       "      <td>2.778300</td>\n",
       "      <td>2</td>\n",
       "      <td>1.0</td>\n",
       "      <td>1.090837</td>\n",
       "      <td>1.154875</td>\n",
       "      <td>1.193027</td>\n",
       "      <td>1.221807</td>\n",
       "      <td>1.238872</td>\n",
       "      <td>...</td>\n",
       "      <td>1.003092</td>\n",
       "      <td>1.003804</td>\n",
       "      <td>1.004965</td>\n",
       "      <td>1.006095</td>\n",
       "      <td>1.008243</td>\n",
       "      <td>1.008672</td>\n",
       "      <td>1.000371</td>\n",
       "      <td>0.999608</td>\n",
       "      <td>1.000299</td>\n",
       "      <td>1.002430</td>\n",
       "    </tr>\n",
       "  </tbody>\n",
       "</table>\n",
       "<p>200 rows × 55 columns</p>\n",
       "</div>"
      ],
      "text/plain": [
       "        Sample name  Irradiation    ET_1AU  group  550.0     584.0     618.0  \\\n",
       "0        PO_TXH_007           10  8.529222      8    1.0  1.007878  0.988193   \n",
       "1        PO_TXH_008           10  8.830252      8    1.0  1.009224  0.993181   \n",
       "2    PO_TXH_081_CP1           10  8.529222      8    1.0  1.024809  1.028070   \n",
       "3    PO_TXH_081_CP2           10  8.830252      8    1.0  1.045083  1.057163   \n",
       "4         RB_LE4OLV           10  8.881405      8    1.0  1.048641  1.077656   \n",
       "..              ...          ...       ...    ...    ...       ...       ...   \n",
       "195      OC_LP_A2_2            3  2.375084      2    1.0  1.105729  1.175916   \n",
       "196      OC_LP_A3_2            3  2.778300      2    1.0  1.097169  1.163768   \n",
       "197      OC_LP_A1_3            3  1.981867      1    1.0  1.098777  1.162888   \n",
       "198      OC_LP_A2_3            3  2.375084      2    1.0  1.101528  1.169834   \n",
       "199      OC_LP_A3_3            3  2.778300      2    1.0  1.090837  1.154875   \n",
       "\n",
       "        652.0     686.0     720.0  ...    1944.0    1978.0    2012.0  \\\n",
       "0    0.982036  0.981669  0.948793  ...  1.191461  1.190995  1.194271   \n",
       "1    0.989376  0.990417  0.958965  ...  1.216220  1.214997  1.216873   \n",
       "2    1.038039  1.045095  1.016770  ...  1.311319  1.312123  1.317130   \n",
       "3    1.080219  1.080057  1.069199  ...  1.510710  1.515629  1.522968   \n",
       "4    1.110248  1.146285  1.146664  ...  2.236935  2.278695  2.313884   \n",
       "..        ...       ...       ...  ...       ...       ...       ...   \n",
       "195  1.219676  1.247651  1.263192  ...  1.010004  1.011335  1.012174   \n",
       "196  1.207710  1.237273  1.255537  ...  1.048189  1.050554  1.051604   \n",
       "197  1.200541  1.222890  1.234319  ...  0.949880  0.950406  0.951033   \n",
       "198  1.211440  1.236943  1.251505  ...  0.997011  0.998404  0.999469   \n",
       "199  1.193027  1.221807  1.238872  ...  1.003092  1.003804  1.004965   \n",
       "\n",
       "       2046.0    2080.0    2114.0    2148.0    2182.0    2216.0    2250.0  \n",
       "0    1.193846  1.195411  1.199186  1.198067  1.197574  1.200647  1.202141  \n",
       "1    1.218533  1.218845  1.223721  1.223077  1.223112  1.226167  1.228659  \n",
       "2    1.318421  1.321785  1.323010  1.320729  1.323559  1.321747  1.318766  \n",
       "3    1.524898  1.527924  1.532406  1.532107  1.532269  1.540105  1.532981  \n",
       "4    2.339006  2.351942  2.370500  2.391162  2.417522  2.421736  2.440278  \n",
       "..        ...       ...       ...       ...       ...       ...       ...  \n",
       "195  1.012669  1.014064  1.016990  1.011704  1.007090  1.007014  1.008625  \n",
       "196  1.053263  1.054960  1.058765  1.052953  1.048257  1.050416  1.053120  \n",
       "197  0.949815  0.951064  0.950365  0.941783  0.940278  0.939529  0.940415  \n",
       "198  0.998505  1.000379  0.999339  0.990166  0.988745  0.989049  0.990642  \n",
       "199  1.006095  1.008243  1.008672  1.000371  0.999608  1.000299  1.002430  \n",
       "\n",
       "[200 rows x 55 columns]"
      ]
     },
     "execution_count": 44,
     "metadata": {},
     "output_type": "execute_result"
    }
   ],
   "source": [
    "counts = data['Irradiation'].value_counts()\n",
    "print(counts)\n",
    "data['ET_1AU'] = np.log10(data['ET_1AU']+1) # Scale the target to log10\n",
    "\n",
    "num_of_data_rows = data.shape[0]\n",
    "print(num_of_data_rows)\n",
    "\n",
    "data"
   ]
  },
  {
   "cell_type": "code",
   "execution_count": 45,
   "metadata": {},
   "outputs": [
    {
     "name": "stdout",
     "output_type": "stream",
     "text": [
      "12\n",
      "10\n",
      "18\n",
      "58\n",
      "24\n",
      "46\n",
      "Total 168\n"
     ]
    }
   ],
   "source": [
    "X_task_sets = [] # list[ np[task 1 X], np[task 2 X], [...], ...]\n",
    "y_task_sets = [] # list[ np[task 1 y], np[task 2 y], [...], ...]\n",
    "\n",
    "# Save indices for RMSE calculations. This keeps track of the asteroid IDs for GP model tasks\n",
    "sample_id_task_sets = [] # list[ np[task 1 indices], np[task 2 indices], [...], ...]\n",
    "\n",
    "# Separate different irradiation types into tasks. (Tasks are the different GP model categories for different irradiation types)\n",
    "for task in selected_irradiations:\n",
    "\ttask_set = data[data['Irradiation'].isin([task])].copy()\n",
    "\tif len(task_set)==0:\n",
    "\t\tcontinue\n",
    "\ttask_indices = task_set.index.to_numpy()\n",
    "\tsample_id_task_sets.append(task_indices)\n",
    "\ttask_set.drop(['Sample name', 'Irradiation', 'group'], axis=1, inplace=True)\n",
    "\tX = task_set.drop('ET_1AU', axis=1).values\n",
    "\ty = task_set['ET_1AU'].values\n",
    "\tX_task_sets.append(X)\n",
    "\ty_task_sets.append(y)\n",
    "\n",
    "# Number of data for different tasks\n",
    "number_of_total_data_points = 0\n",
    "for task in y_task_sets:\n",
    "\tnumber_of_total_data_points += len(task)\n",
    "\tprint(len(task))\n",
    "print(f'Total {number_of_total_data_points}')"
   ]
  },
  {
   "cell_type": "code",
   "execution_count": 46,
   "metadata": {},
   "outputs": [
    {
     "name": "stdout",
     "output_type": "stream",
     "text": [
      "51\n"
     ]
    }
   ],
   "source": [
    "data_dim = X.shape[-1] # Number of considered wavelengths\n",
    "print(data_dim)"
   ]
  },
  {
   "cell_type": "markdown",
   "metadata": {},
   "source": [
    "# GP Model"
   ]
  },
  {
   "cell_type": "markdown",
   "metadata": {},
   "source": [
    "#### Feature Extractor\n",
    "\n",
    "The feature extractor's output is same size as the input."
   ]
  },
  {
   "cell_type": "code",
   "execution_count": 47,
   "metadata": {},
   "outputs": [],
   "source": [
    "class FeatureExtractor(torch.nn.Module): # Optimizable (entire feature extractor)\n",
    "    def __init__(self):\n",
    "        super(FeatureExtractor, self).__init__()\n",
    "        self.conv1 = torch.nn.Conv1d(in_channels=1, out_channels=16, kernel_size=3, padding='same') # Convolutional layer\n",
    "        self.pool = torch.nn.MaxPool1d(kernel_size=2, stride=2) # reduces the dimensionality\n",
    "        self.fc1 = torch.nn.Linear((data_dim // 2) * 16, data_dim) # Fully connected layer, reduces dimensionality\n",
    "\n",
    "    def forward(self, x):\n",
    "        x = x.unsqueeze(1)  # Add a channel dimension: (batch_size, 1, data_dim)\n",
    "        x = F.relu(self.conv1(x))  # Apply convolution, batch norm, and ReLU\n",
    "        x = self.pool(x)  # Apply max pooling\n",
    "        x = x.view(x.size(0), -1)  # Flatten the tensor: (batch_size, 16 * (data_dim // 2))\n",
    "        x = self.fc1(x)  # Apply linear layer: (batch_size, data_dim)\n",
    "        return x"
   ]
  },
  {
   "cell_type": "markdown",
   "metadata": {},
   "source": [
    "#### model training"
   ]
  },
  {
   "cell_type": "code",
   "execution_count": 48,
   "metadata": {},
   "outputs": [],
   "source": [
    "kf = KFold(n_splits=folds, shuffle=True)\n",
    "\n",
    "results_per_id = np.full((num_of_data_rows, cycles), np.nan) # Array for prediction results\n",
    "true_values_per_id = np.full((num_of_data_rows, 1), np.nan) # True target values"
   ]
  },
  {
   "cell_type": "code",
   "execution_count": 49,
   "metadata": {},
   "outputs": [
    {
     "name": "stdout",
     "output_type": "stream",
     "text": [
      "Cycle 1/30\n",
      "Fold 1/7\n"
     ]
    },
    {
     "data": {
      "application/vnd.jupyter.widget-view+json": {
       "model_id": "8df4cea92444439ab2c24d9d2aff8c8c",
       "version_major": 2,
       "version_minor": 0
      },
      "text/plain": [
       "  0%|          | 0/150 [00:00<?, ?it/s]"
      ]
     },
     "metadata": {},
     "output_type": "display_data"
    },
    {
     "name": "stdout",
     "output_type": "stream",
     "text": [
      "Cycle 1/30\n",
      "Fold 2/7\n"
     ]
    },
    {
     "data": {
      "application/vnd.jupyter.widget-view+json": {
       "model_id": "a06e2a2c79284eba9c28bd93ce3f8320",
       "version_major": 2,
       "version_minor": 0
      },
      "text/plain": [
       "  0%|          | 0/150 [00:00<?, ?it/s]"
      ]
     },
     "metadata": {},
     "output_type": "display_data"
    },
    {
     "name": "stdout",
     "output_type": "stream",
     "text": [
      "Cycle 1/30\n",
      "Fold 3/7\n"
     ]
    },
    {
     "data": {
      "application/vnd.jupyter.widget-view+json": {
       "model_id": "d264478858e241eb9a8a20016ff87700",
       "version_major": 2,
       "version_minor": 0
      },
      "text/plain": [
       "  0%|          | 0/150 [00:00<?, ?it/s]"
      ]
     },
     "metadata": {},
     "output_type": "display_data"
    },
    {
     "name": "stdout",
     "output_type": "stream",
     "text": [
      "Cycle 1/30\n",
      "Fold 4/7\n"
     ]
    },
    {
     "data": {
      "application/vnd.jupyter.widget-view+json": {
       "model_id": "b2bed47f5a56473cbb161133e0fcdf6b",
       "version_major": 2,
       "version_minor": 0
      },
      "text/plain": [
       "  0%|          | 0/150 [00:00<?, ?it/s]"
      ]
     },
     "metadata": {},
     "output_type": "display_data"
    },
    {
     "name": "stdout",
     "output_type": "stream",
     "text": [
      "Cycle 1/30\n",
      "Fold 5/7\n"
     ]
    },
    {
     "data": {
      "application/vnd.jupyter.widget-view+json": {
       "model_id": "3a3485bcc6ee4db3a1fbce71308b47b1",
       "version_major": 2,
       "version_minor": 0
      },
      "text/plain": [
       "  0%|          | 0/150 [00:00<?, ?it/s]"
      ]
     },
     "metadata": {},
     "output_type": "display_data"
    },
    {
     "name": "stdout",
     "output_type": "stream",
     "text": [
      "Cycle 1/30\n",
      "Fold 6/7\n"
     ]
    },
    {
     "data": {
      "application/vnd.jupyter.widget-view+json": {
       "model_id": "24729c1e4c7f457dbdea45affdc20fb0",
       "version_major": 2,
       "version_minor": 0
      },
      "text/plain": [
       "  0%|          | 0/150 [00:00<?, ?it/s]"
      ]
     },
     "metadata": {},
     "output_type": "display_data"
    },
    {
     "name": "stdout",
     "output_type": "stream",
     "text": [
      "Cycle 1/30\n",
      "Fold 7/7\n"
     ]
    },
    {
     "data": {
      "application/vnd.jupyter.widget-view+json": {
       "model_id": "569f3dbc93d84b3ea6ee1b075a04f93c",
       "version_major": 2,
       "version_minor": 0
      },
      "text/plain": [
       "  0%|          | 0/150 [00:00<?, ?it/s]"
      ]
     },
     "metadata": {},
     "output_type": "display_data"
    },
    {
     "name": "stdout",
     "output_type": "stream",
     "text": [
      "Cycle 2/30\n",
      "Fold 1/7\n"
     ]
    },
    {
     "data": {
      "application/vnd.jupyter.widget-view+json": {
       "model_id": "24744de031c340cb835ca27cca9b2a27",
       "version_major": 2,
       "version_minor": 0
      },
      "text/plain": [
       "  0%|          | 0/150 [00:00<?, ?it/s]"
      ]
     },
     "metadata": {},
     "output_type": "display_data"
    },
    {
     "name": "stdout",
     "output_type": "stream",
     "text": [
      "Cycle 2/30\n",
      "Fold 2/7\n"
     ]
    },
    {
     "data": {
      "application/vnd.jupyter.widget-view+json": {
       "model_id": "0d0474b791a24e97af04e641b7d9b4ee",
       "version_major": 2,
       "version_minor": 0
      },
      "text/plain": [
       "  0%|          | 0/150 [00:00<?, ?it/s]"
      ]
     },
     "metadata": {},
     "output_type": "display_data"
    },
    {
     "name": "stdout",
     "output_type": "stream",
     "text": [
      "Cycle 2/30\n",
      "Fold 3/7\n"
     ]
    },
    {
     "data": {
      "application/vnd.jupyter.widget-view+json": {
       "model_id": "691f9efe44544b7299736755bc87f0d9",
       "version_major": 2,
       "version_minor": 0
      },
      "text/plain": [
       "  0%|          | 0/150 [00:00<?, ?it/s]"
      ]
     },
     "metadata": {},
     "output_type": "display_data"
    },
    {
     "name": "stdout",
     "output_type": "stream",
     "text": [
      "Cycle 2/30\n",
      "Fold 4/7\n"
     ]
    },
    {
     "data": {
      "application/vnd.jupyter.widget-view+json": {
       "model_id": "caf62e11801a4c39800e06bbd4ef8a65",
       "version_major": 2,
       "version_minor": 0
      },
      "text/plain": [
       "  0%|          | 0/150 [00:00<?, ?it/s]"
      ]
     },
     "metadata": {},
     "output_type": "display_data"
    },
    {
     "name": "stdout",
     "output_type": "stream",
     "text": [
      "Cycle 2/30\n",
      "Fold 5/7\n"
     ]
    },
    {
     "data": {
      "application/vnd.jupyter.widget-view+json": {
       "model_id": "9caecb8107154ae498885bcd8e41e8d9",
       "version_major": 2,
       "version_minor": 0
      },
      "text/plain": [
       "  0%|          | 0/150 [00:00<?, ?it/s]"
      ]
     },
     "metadata": {},
     "output_type": "display_data"
    },
    {
     "name": "stdout",
     "output_type": "stream",
     "text": [
      "Cycle 2/30\n",
      "Fold 6/7\n"
     ]
    },
    {
     "data": {
      "application/vnd.jupyter.widget-view+json": {
       "model_id": "91a833336ef64e15b8206fce9c41c7d4",
       "version_major": 2,
       "version_minor": 0
      },
      "text/plain": [
       "  0%|          | 0/150 [00:00<?, ?it/s]"
      ]
     },
     "metadata": {},
     "output_type": "display_data"
    },
    {
     "name": "stdout",
     "output_type": "stream",
     "text": [
      "Cycle 2/30\n",
      "Fold 7/7\n"
     ]
    },
    {
     "data": {
      "application/vnd.jupyter.widget-view+json": {
       "model_id": "68b80f44f21f458c83b7da41415f7400",
       "version_major": 2,
       "version_minor": 0
      },
      "text/plain": [
       "  0%|          | 0/150 [00:00<?, ?it/s]"
      ]
     },
     "metadata": {},
     "output_type": "display_data"
    },
    {
     "name": "stdout",
     "output_type": "stream",
     "text": [
      "Cycle 3/30\n",
      "Fold 1/7\n"
     ]
    },
    {
     "data": {
      "application/vnd.jupyter.widget-view+json": {
       "model_id": "84d74442e842477595041451cb95edbd",
       "version_major": 2,
       "version_minor": 0
      },
      "text/plain": [
       "  0%|          | 0/150 [00:00<?, ?it/s]"
      ]
     },
     "metadata": {},
     "output_type": "display_data"
    },
    {
     "name": "stdout",
     "output_type": "stream",
     "text": [
      "Cycle 3/30\n",
      "Fold 2/7\n"
     ]
    },
    {
     "data": {
      "application/vnd.jupyter.widget-view+json": {
       "model_id": "69e215d2fae849d5b129bbdc1b847cfa",
       "version_major": 2,
       "version_minor": 0
      },
      "text/plain": [
       "  0%|          | 0/150 [00:00<?, ?it/s]"
      ]
     },
     "metadata": {},
     "output_type": "display_data"
    },
    {
     "name": "stdout",
     "output_type": "stream",
     "text": [
      "Cycle 3/30\n",
      "Fold 3/7\n"
     ]
    },
    {
     "data": {
      "application/vnd.jupyter.widget-view+json": {
       "model_id": "f9c03372e35d4c4eb47451dff91e983e",
       "version_major": 2,
       "version_minor": 0
      },
      "text/plain": [
       "  0%|          | 0/150 [00:00<?, ?it/s]"
      ]
     },
     "metadata": {},
     "output_type": "display_data"
    },
    {
     "name": "stdout",
     "output_type": "stream",
     "text": [
      "Cycle 3/30\n",
      "Fold 4/7\n"
     ]
    },
    {
     "data": {
      "application/vnd.jupyter.widget-view+json": {
       "model_id": "e6e1ff8acc6b4b95b381ad46dea41e8a",
       "version_major": 2,
       "version_minor": 0
      },
      "text/plain": [
       "  0%|          | 0/150 [00:00<?, ?it/s]"
      ]
     },
     "metadata": {},
     "output_type": "display_data"
    },
    {
     "name": "stdout",
     "output_type": "stream",
     "text": [
      "Cycle 3/30\n",
      "Fold 5/7\n"
     ]
    },
    {
     "data": {
      "application/vnd.jupyter.widget-view+json": {
       "model_id": "3a6bf2e52351425d9ff447c03994c422",
       "version_major": 2,
       "version_minor": 0
      },
      "text/plain": [
       "  0%|          | 0/150 [00:00<?, ?it/s]"
      ]
     },
     "metadata": {},
     "output_type": "display_data"
    },
    {
     "name": "stdout",
     "output_type": "stream",
     "text": [
      "Cycle 3/30\n",
      "Fold 6/7\n"
     ]
    },
    {
     "data": {
      "application/vnd.jupyter.widget-view+json": {
       "model_id": "ea8107dc70354fcabca5540a3ba4e7b2",
       "version_major": 2,
       "version_minor": 0
      },
      "text/plain": [
       "  0%|          | 0/150 [00:00<?, ?it/s]"
      ]
     },
     "metadata": {},
     "output_type": "display_data"
    },
    {
     "name": "stdout",
     "output_type": "stream",
     "text": [
      "Cycle 3/30\n",
      "Fold 7/7\n"
     ]
    },
    {
     "data": {
      "application/vnd.jupyter.widget-view+json": {
       "model_id": "4328574655354a02869f3c8fb3b634ff",
       "version_major": 2,
       "version_minor": 0
      },
      "text/plain": [
       "  0%|          | 0/150 [00:00<?, ?it/s]"
      ]
     },
     "metadata": {},
     "output_type": "display_data"
    },
    {
     "name": "stdout",
     "output_type": "stream",
     "text": [
      "Cycle 4/30\n",
      "Fold 1/7\n"
     ]
    },
    {
     "data": {
      "application/vnd.jupyter.widget-view+json": {
       "model_id": "6c0a6e459d674d71b2e43b9a529b708f",
       "version_major": 2,
       "version_minor": 0
      },
      "text/plain": [
       "  0%|          | 0/150 [00:00<?, ?it/s]"
      ]
     },
     "metadata": {},
     "output_type": "display_data"
    },
    {
     "name": "stdout",
     "output_type": "stream",
     "text": [
      "Cycle 4/30\n",
      "Fold 2/7\n"
     ]
    },
    {
     "data": {
      "application/vnd.jupyter.widget-view+json": {
       "model_id": "b55caff3c54a4a79b7777512b99743bb",
       "version_major": 2,
       "version_minor": 0
      },
      "text/plain": [
       "  0%|          | 0/150 [00:00<?, ?it/s]"
      ]
     },
     "metadata": {},
     "output_type": "display_data"
    },
    {
     "name": "stdout",
     "output_type": "stream",
     "text": [
      "Cycle 4/30\n",
      "Fold 3/7\n"
     ]
    },
    {
     "data": {
      "application/vnd.jupyter.widget-view+json": {
       "model_id": "f9629c99543d451788ae5e762e9c1f02",
       "version_major": 2,
       "version_minor": 0
      },
      "text/plain": [
       "  0%|          | 0/150 [00:00<?, ?it/s]"
      ]
     },
     "metadata": {},
     "output_type": "display_data"
    },
    {
     "name": "stdout",
     "output_type": "stream",
     "text": [
      "Cycle 4/30\n",
      "Fold 4/7\n"
     ]
    },
    {
     "data": {
      "application/vnd.jupyter.widget-view+json": {
       "model_id": "f130cc0d7cd2487badf2f7bdcc5dee93",
       "version_major": 2,
       "version_minor": 0
      },
      "text/plain": [
       "  0%|          | 0/150 [00:00<?, ?it/s]"
      ]
     },
     "metadata": {},
     "output_type": "display_data"
    },
    {
     "name": "stdout",
     "output_type": "stream",
     "text": [
      "Cycle 4/30\n",
      "Fold 5/7\n"
     ]
    },
    {
     "data": {
      "application/vnd.jupyter.widget-view+json": {
       "model_id": "5e6654fb14174a988b2dbbcd1dc663b7",
       "version_major": 2,
       "version_minor": 0
      },
      "text/plain": [
       "  0%|          | 0/150 [00:00<?, ?it/s]"
      ]
     },
     "metadata": {},
     "output_type": "display_data"
    },
    {
     "name": "stdout",
     "output_type": "stream",
     "text": [
      "Cycle 4/30\n",
      "Fold 6/7\n"
     ]
    },
    {
     "data": {
      "application/vnd.jupyter.widget-view+json": {
       "model_id": "497273faec694cb68a965b59f98695c7",
       "version_major": 2,
       "version_minor": 0
      },
      "text/plain": [
       "  0%|          | 0/150 [00:00<?, ?it/s]"
      ]
     },
     "metadata": {},
     "output_type": "display_data"
    },
    {
     "name": "stdout",
     "output_type": "stream",
     "text": [
      "Cycle 4/30\n",
      "Fold 7/7\n"
     ]
    },
    {
     "data": {
      "application/vnd.jupyter.widget-view+json": {
       "model_id": "b53274d684ad48c4a8472a4735576baf",
       "version_major": 2,
       "version_minor": 0
      },
      "text/plain": [
       "  0%|          | 0/150 [00:00<?, ?it/s]"
      ]
     },
     "metadata": {},
     "output_type": "display_data"
    },
    {
     "name": "stdout",
     "output_type": "stream",
     "text": [
      "Cycle 5/30\n",
      "Fold 1/7\n"
     ]
    },
    {
     "data": {
      "application/vnd.jupyter.widget-view+json": {
       "model_id": "8fdf3e3928fb4974ba98d6b730dd1b72",
       "version_major": 2,
       "version_minor": 0
      },
      "text/plain": [
       "  0%|          | 0/150 [00:00<?, ?it/s]"
      ]
     },
     "metadata": {},
     "output_type": "display_data"
    },
    {
     "name": "stdout",
     "output_type": "stream",
     "text": [
      "Cycle 5/30\n",
      "Fold 2/7\n"
     ]
    },
    {
     "data": {
      "application/vnd.jupyter.widget-view+json": {
       "model_id": "da2bcbb1fc0a4b93b2e354e03309463b",
       "version_major": 2,
       "version_minor": 0
      },
      "text/plain": [
       "  0%|          | 0/150 [00:00<?, ?it/s]"
      ]
     },
     "metadata": {},
     "output_type": "display_data"
    },
    {
     "name": "stdout",
     "output_type": "stream",
     "text": [
      "Cycle 5/30\n",
      "Fold 3/7\n"
     ]
    },
    {
     "data": {
      "application/vnd.jupyter.widget-view+json": {
       "model_id": "d56362151bee4e5c9948c100f5ee6436",
       "version_major": 2,
       "version_minor": 0
      },
      "text/plain": [
       "  0%|          | 0/150 [00:00<?, ?it/s]"
      ]
     },
     "metadata": {},
     "output_type": "display_data"
    },
    {
     "name": "stdout",
     "output_type": "stream",
     "text": [
      "Cycle 5/30\n",
      "Fold 4/7\n"
     ]
    },
    {
     "data": {
      "application/vnd.jupyter.widget-view+json": {
       "model_id": "132495288c6145c7b8cc47702ae49028",
       "version_major": 2,
       "version_minor": 0
      },
      "text/plain": [
       "  0%|          | 0/150 [00:00<?, ?it/s]"
      ]
     },
     "metadata": {},
     "output_type": "display_data"
    },
    {
     "name": "stdout",
     "output_type": "stream",
     "text": [
      "Cycle 5/30\n",
      "Fold 5/7\n"
     ]
    },
    {
     "data": {
      "application/vnd.jupyter.widget-view+json": {
       "model_id": "a0eb9c2e28564789a4a2902d2bdcd981",
       "version_major": 2,
       "version_minor": 0
      },
      "text/plain": [
       "  0%|          | 0/150 [00:00<?, ?it/s]"
      ]
     },
     "metadata": {},
     "output_type": "display_data"
    },
    {
     "name": "stdout",
     "output_type": "stream",
     "text": [
      "Cycle 5/30\n",
      "Fold 6/7\n"
     ]
    },
    {
     "data": {
      "application/vnd.jupyter.widget-view+json": {
       "model_id": "9f3324f11b0a4ff68e257c2a32019de1",
       "version_major": 2,
       "version_minor": 0
      },
      "text/plain": [
       "  0%|          | 0/150 [00:00<?, ?it/s]"
      ]
     },
     "metadata": {},
     "output_type": "display_data"
    },
    {
     "name": "stdout",
     "output_type": "stream",
     "text": [
      "Cycle 5/30\n",
      "Fold 7/7\n"
     ]
    },
    {
     "data": {
      "application/vnd.jupyter.widget-view+json": {
       "model_id": "a7cd30b17b22482eaca898252641eccf",
       "version_major": 2,
       "version_minor": 0
      },
      "text/plain": [
       "  0%|          | 0/150 [00:00<?, ?it/s]"
      ]
     },
     "metadata": {},
     "output_type": "display_data"
    },
    {
     "name": "stdout",
     "output_type": "stream",
     "text": [
      "Cycle 6/30\n",
      "Fold 1/7\n"
     ]
    },
    {
     "data": {
      "application/vnd.jupyter.widget-view+json": {
       "model_id": "f732826c367c4b79a7c5690f8297ee19",
       "version_major": 2,
       "version_minor": 0
      },
      "text/plain": [
       "  0%|          | 0/150 [00:00<?, ?it/s]"
      ]
     },
     "metadata": {},
     "output_type": "display_data"
    },
    {
     "name": "stdout",
     "output_type": "stream",
     "text": [
      "Cycle 6/30\n",
      "Fold 2/7\n"
     ]
    },
    {
     "data": {
      "application/vnd.jupyter.widget-view+json": {
       "model_id": "c20b2fcbddde4327aca245237a0a2304",
       "version_major": 2,
       "version_minor": 0
      },
      "text/plain": [
       "  0%|          | 0/150 [00:00<?, ?it/s]"
      ]
     },
     "metadata": {},
     "output_type": "display_data"
    },
    {
     "name": "stdout",
     "output_type": "stream",
     "text": [
      "Cycle 6/30\n",
      "Fold 3/7\n"
     ]
    },
    {
     "data": {
      "application/vnd.jupyter.widget-view+json": {
       "model_id": "edc8c5de5fd94d6b9fbbdbec73ee3e4c",
       "version_major": 2,
       "version_minor": 0
      },
      "text/plain": [
       "  0%|          | 0/150 [00:00<?, ?it/s]"
      ]
     },
     "metadata": {},
     "output_type": "display_data"
    },
    {
     "name": "stdout",
     "output_type": "stream",
     "text": [
      "Cycle 6/30\n",
      "Fold 4/7\n"
     ]
    },
    {
     "data": {
      "application/vnd.jupyter.widget-view+json": {
       "model_id": "d95fd47f27c54c4e9977cb74fd1ff234",
       "version_major": 2,
       "version_minor": 0
      },
      "text/plain": [
       "  0%|          | 0/150 [00:00<?, ?it/s]"
      ]
     },
     "metadata": {},
     "output_type": "display_data"
    },
    {
     "name": "stdout",
     "output_type": "stream",
     "text": [
      "Cycle 6/30\n",
      "Fold 5/7\n"
     ]
    },
    {
     "data": {
      "application/vnd.jupyter.widget-view+json": {
       "model_id": "4d8ab4c0b2444e8baf7bffc2180e6c34",
       "version_major": 2,
       "version_minor": 0
      },
      "text/plain": [
       "  0%|          | 0/150 [00:00<?, ?it/s]"
      ]
     },
     "metadata": {},
     "output_type": "display_data"
    },
    {
     "name": "stdout",
     "output_type": "stream",
     "text": [
      "Cycle 6/30\n",
      "Fold 6/7\n"
     ]
    },
    {
     "data": {
      "application/vnd.jupyter.widget-view+json": {
       "model_id": "3a574bc5ed054459abf1cd07ab0c0aaf",
       "version_major": 2,
       "version_minor": 0
      },
      "text/plain": [
       "  0%|          | 0/150 [00:00<?, ?it/s]"
      ]
     },
     "metadata": {},
     "output_type": "display_data"
    },
    {
     "name": "stdout",
     "output_type": "stream",
     "text": [
      "Cycle 6/30\n",
      "Fold 7/7\n"
     ]
    },
    {
     "data": {
      "application/vnd.jupyter.widget-view+json": {
       "model_id": "99c336d3204d440da57943c7fbf8a413",
       "version_major": 2,
       "version_minor": 0
      },
      "text/plain": [
       "  0%|          | 0/150 [00:00<?, ?it/s]"
      ]
     },
     "metadata": {},
     "output_type": "display_data"
    },
    {
     "name": "stdout",
     "output_type": "stream",
     "text": [
      "Cycle 7/30\n",
      "Fold 1/7\n"
     ]
    },
    {
     "data": {
      "application/vnd.jupyter.widget-view+json": {
       "model_id": "4ab598d90fe34b6d99fa71c8d75b7ade",
       "version_major": 2,
       "version_minor": 0
      },
      "text/plain": [
       "  0%|          | 0/150 [00:00<?, ?it/s]"
      ]
     },
     "metadata": {},
     "output_type": "display_data"
    },
    {
     "name": "stdout",
     "output_type": "stream",
     "text": [
      "Cycle 7/30\n",
      "Fold 2/7\n"
     ]
    },
    {
     "data": {
      "application/vnd.jupyter.widget-view+json": {
       "model_id": "6870196aa87646d198ea502b8b99b5a1",
       "version_major": 2,
       "version_minor": 0
      },
      "text/plain": [
       "  0%|          | 0/150 [00:00<?, ?it/s]"
      ]
     },
     "metadata": {},
     "output_type": "display_data"
    },
    {
     "name": "stdout",
     "output_type": "stream",
     "text": [
      "Cycle 7/30\n",
      "Fold 3/7\n"
     ]
    },
    {
     "data": {
      "application/vnd.jupyter.widget-view+json": {
       "model_id": "302d1e0b061a4c67843343426e0f5c47",
       "version_major": 2,
       "version_minor": 0
      },
      "text/plain": [
       "  0%|          | 0/150 [00:00<?, ?it/s]"
      ]
     },
     "metadata": {},
     "output_type": "display_data"
    },
    {
     "name": "stdout",
     "output_type": "stream",
     "text": [
      "Cycle 7/30\n",
      "Fold 4/7\n"
     ]
    },
    {
     "data": {
      "application/vnd.jupyter.widget-view+json": {
       "model_id": "accca7b056404d9fb34eb56ef5578e4f",
       "version_major": 2,
       "version_minor": 0
      },
      "text/plain": [
       "  0%|          | 0/150 [00:00<?, ?it/s]"
      ]
     },
     "metadata": {},
     "output_type": "display_data"
    },
    {
     "name": "stdout",
     "output_type": "stream",
     "text": [
      "Cycle 7/30\n",
      "Fold 5/7\n"
     ]
    },
    {
     "data": {
      "application/vnd.jupyter.widget-view+json": {
       "model_id": "7cfa0e1ef073435381c859bb2d923387",
       "version_major": 2,
       "version_minor": 0
      },
      "text/plain": [
       "  0%|          | 0/150 [00:00<?, ?it/s]"
      ]
     },
     "metadata": {},
     "output_type": "display_data"
    },
    {
     "name": "stdout",
     "output_type": "stream",
     "text": [
      "Cycle 7/30\n",
      "Fold 6/7\n"
     ]
    },
    {
     "data": {
      "application/vnd.jupyter.widget-view+json": {
       "model_id": "8979425777384351b543eff04e3d26fc",
       "version_major": 2,
       "version_minor": 0
      },
      "text/plain": [
       "  0%|          | 0/150 [00:00<?, ?it/s]"
      ]
     },
     "metadata": {},
     "output_type": "display_data"
    },
    {
     "name": "stdout",
     "output_type": "stream",
     "text": [
      "Cycle 7/30\n",
      "Fold 7/7\n"
     ]
    },
    {
     "data": {
      "application/vnd.jupyter.widget-view+json": {
       "model_id": "8727b27bec984dc0a0b7505de76b9a53",
       "version_major": 2,
       "version_minor": 0
      },
      "text/plain": [
       "  0%|          | 0/150 [00:00<?, ?it/s]"
      ]
     },
     "metadata": {},
     "output_type": "display_data"
    },
    {
     "name": "stdout",
     "output_type": "stream",
     "text": [
      "Cycle 8/30\n",
      "Fold 1/7\n"
     ]
    },
    {
     "data": {
      "application/vnd.jupyter.widget-view+json": {
       "model_id": "9f3a989c51f84d499f0b9bc72c3fe04a",
       "version_major": 2,
       "version_minor": 0
      },
      "text/plain": [
       "  0%|          | 0/150 [00:00<?, ?it/s]"
      ]
     },
     "metadata": {},
     "output_type": "display_data"
    },
    {
     "name": "stdout",
     "output_type": "stream",
     "text": [
      "Cycle 8/30\n",
      "Fold 2/7\n"
     ]
    },
    {
     "data": {
      "application/vnd.jupyter.widget-view+json": {
       "model_id": "20a14f4abcce48c1b5d02a9498d499f5",
       "version_major": 2,
       "version_minor": 0
      },
      "text/plain": [
       "  0%|          | 0/150 [00:00<?, ?it/s]"
      ]
     },
     "metadata": {},
     "output_type": "display_data"
    },
    {
     "name": "stdout",
     "output_type": "stream",
     "text": [
      "Cycle 8/30\n",
      "Fold 3/7\n"
     ]
    },
    {
     "data": {
      "application/vnd.jupyter.widget-view+json": {
       "model_id": "d88b787da371492d808135cc6ff5c391",
       "version_major": 2,
       "version_minor": 0
      },
      "text/plain": [
       "  0%|          | 0/150 [00:00<?, ?it/s]"
      ]
     },
     "metadata": {},
     "output_type": "display_data"
    },
    {
     "name": "stdout",
     "output_type": "stream",
     "text": [
      "Cycle 8/30\n",
      "Fold 4/7\n"
     ]
    },
    {
     "data": {
      "application/vnd.jupyter.widget-view+json": {
       "model_id": "56c9e383d29f45e9be5cc5236c12f625",
       "version_major": 2,
       "version_minor": 0
      },
      "text/plain": [
       "  0%|          | 0/150 [00:00<?, ?it/s]"
      ]
     },
     "metadata": {},
     "output_type": "display_data"
    },
    {
     "name": "stdout",
     "output_type": "stream",
     "text": [
      "Cycle 8/30\n",
      "Fold 5/7\n"
     ]
    },
    {
     "data": {
      "application/vnd.jupyter.widget-view+json": {
       "model_id": "245813c144d640588acd39704aa44468",
       "version_major": 2,
       "version_minor": 0
      },
      "text/plain": [
       "  0%|          | 0/150 [00:00<?, ?it/s]"
      ]
     },
     "metadata": {},
     "output_type": "display_data"
    },
    {
     "name": "stdout",
     "output_type": "stream",
     "text": [
      "Cycle 8/30\n",
      "Fold 6/7\n"
     ]
    },
    {
     "data": {
      "application/vnd.jupyter.widget-view+json": {
       "model_id": "51e91aeb0426449282b918cf5d161e9d",
       "version_major": 2,
       "version_minor": 0
      },
      "text/plain": [
       "  0%|          | 0/150 [00:00<?, ?it/s]"
      ]
     },
     "metadata": {},
     "output_type": "display_data"
    },
    {
     "name": "stdout",
     "output_type": "stream",
     "text": [
      "Cycle 8/30\n",
      "Fold 7/7\n"
     ]
    },
    {
     "data": {
      "application/vnd.jupyter.widget-view+json": {
       "model_id": "2a98cc452ca246e080a2e9f21c21d3bc",
       "version_major": 2,
       "version_minor": 0
      },
      "text/plain": [
       "  0%|          | 0/150 [00:00<?, ?it/s]"
      ]
     },
     "metadata": {},
     "output_type": "display_data"
    },
    {
     "name": "stdout",
     "output_type": "stream",
     "text": [
      "Cycle 9/30\n",
      "Fold 1/7\n"
     ]
    },
    {
     "data": {
      "application/vnd.jupyter.widget-view+json": {
       "model_id": "27085520a8ac455d9fb40f0d07b5ad02",
       "version_major": 2,
       "version_minor": 0
      },
      "text/plain": [
       "  0%|          | 0/150 [00:00<?, ?it/s]"
      ]
     },
     "metadata": {},
     "output_type": "display_data"
    },
    {
     "name": "stdout",
     "output_type": "stream",
     "text": [
      "Cycle 9/30\n",
      "Fold 2/7\n"
     ]
    },
    {
     "data": {
      "application/vnd.jupyter.widget-view+json": {
       "model_id": "31e3d145cc45472fa56ca470f20ab65e",
       "version_major": 2,
       "version_minor": 0
      },
      "text/plain": [
       "  0%|          | 0/150 [00:00<?, ?it/s]"
      ]
     },
     "metadata": {},
     "output_type": "display_data"
    },
    {
     "name": "stdout",
     "output_type": "stream",
     "text": [
      "Cycle 9/30\n",
      "Fold 3/7\n"
     ]
    },
    {
     "data": {
      "application/vnd.jupyter.widget-view+json": {
       "model_id": "db3fbab947fd4c35b081e137710983d9",
       "version_major": 2,
       "version_minor": 0
      },
      "text/plain": [
       "  0%|          | 0/150 [00:00<?, ?it/s]"
      ]
     },
     "metadata": {},
     "output_type": "display_data"
    },
    {
     "name": "stdout",
     "output_type": "stream",
     "text": [
      "Cycle 9/30\n",
      "Fold 4/7\n"
     ]
    },
    {
     "data": {
      "application/vnd.jupyter.widget-view+json": {
       "model_id": "e8a325de0a0d402e98cbfe9a36db57e4",
       "version_major": 2,
       "version_minor": 0
      },
      "text/plain": [
       "  0%|          | 0/150 [00:00<?, ?it/s]"
      ]
     },
     "metadata": {},
     "output_type": "display_data"
    },
    {
     "name": "stdout",
     "output_type": "stream",
     "text": [
      "Cycle 9/30\n",
      "Fold 5/7\n"
     ]
    },
    {
     "data": {
      "application/vnd.jupyter.widget-view+json": {
       "model_id": "447e43bd061946ab9488ec31fd30a929",
       "version_major": 2,
       "version_minor": 0
      },
      "text/plain": [
       "  0%|          | 0/150 [00:00<?, ?it/s]"
      ]
     },
     "metadata": {},
     "output_type": "display_data"
    },
    {
     "name": "stdout",
     "output_type": "stream",
     "text": [
      "Cycle 9/30\n",
      "Fold 6/7\n"
     ]
    },
    {
     "data": {
      "application/vnd.jupyter.widget-view+json": {
       "model_id": "718679158ba4439299c68a369d4a812c",
       "version_major": 2,
       "version_minor": 0
      },
      "text/plain": [
       "  0%|          | 0/150 [00:00<?, ?it/s]"
      ]
     },
     "metadata": {},
     "output_type": "display_data"
    },
    {
     "name": "stdout",
     "output_type": "stream",
     "text": [
      "Cycle 9/30\n",
      "Fold 7/7\n"
     ]
    },
    {
     "data": {
      "application/vnd.jupyter.widget-view+json": {
       "model_id": "7e8e63d2b8e2487e998f0506fbcc3039",
       "version_major": 2,
       "version_minor": 0
      },
      "text/plain": [
       "  0%|          | 0/150 [00:00<?, ?it/s]"
      ]
     },
     "metadata": {},
     "output_type": "display_data"
    },
    {
     "name": "stdout",
     "output_type": "stream",
     "text": [
      "Cycle 10/30\n",
      "Fold 1/7\n"
     ]
    },
    {
     "data": {
      "application/vnd.jupyter.widget-view+json": {
       "model_id": "9a5af50c2e314e039a4da18962acb656",
       "version_major": 2,
       "version_minor": 0
      },
      "text/plain": [
       "  0%|          | 0/150 [00:00<?, ?it/s]"
      ]
     },
     "metadata": {},
     "output_type": "display_data"
    },
    {
     "name": "stdout",
     "output_type": "stream",
     "text": [
      "Cycle 10/30\n",
      "Fold 2/7\n"
     ]
    },
    {
     "data": {
      "application/vnd.jupyter.widget-view+json": {
       "model_id": "a2c2827f22c04a75b67d9df986507b05",
       "version_major": 2,
       "version_minor": 0
      },
      "text/plain": [
       "  0%|          | 0/150 [00:00<?, ?it/s]"
      ]
     },
     "metadata": {},
     "output_type": "display_data"
    },
    {
     "name": "stdout",
     "output_type": "stream",
     "text": [
      "Cycle 10/30\n",
      "Fold 3/7\n"
     ]
    },
    {
     "data": {
      "application/vnd.jupyter.widget-view+json": {
       "model_id": "c60e9216e7e44a1fa9eccf2ace3db146",
       "version_major": 2,
       "version_minor": 0
      },
      "text/plain": [
       "  0%|          | 0/150 [00:00<?, ?it/s]"
      ]
     },
     "metadata": {},
     "output_type": "display_data"
    },
    {
     "name": "stdout",
     "output_type": "stream",
     "text": [
      "Cycle 10/30\n",
      "Fold 4/7\n"
     ]
    },
    {
     "data": {
      "application/vnd.jupyter.widget-view+json": {
       "model_id": "dfc182713b8c4219aa565b8a0267ade3",
       "version_major": 2,
       "version_minor": 0
      },
      "text/plain": [
       "  0%|          | 0/150 [00:00<?, ?it/s]"
      ]
     },
     "metadata": {},
     "output_type": "display_data"
    },
    {
     "name": "stdout",
     "output_type": "stream",
     "text": [
      "Cycle 10/30\n",
      "Fold 5/7\n"
     ]
    },
    {
     "data": {
      "application/vnd.jupyter.widget-view+json": {
       "model_id": "c2c80422532d444a8c95916cb2a1dcf0",
       "version_major": 2,
       "version_minor": 0
      },
      "text/plain": [
       "  0%|          | 0/150 [00:00<?, ?it/s]"
      ]
     },
     "metadata": {},
     "output_type": "display_data"
    },
    {
     "name": "stdout",
     "output_type": "stream",
     "text": [
      "Cycle 10/30\n",
      "Fold 6/7\n"
     ]
    },
    {
     "data": {
      "application/vnd.jupyter.widget-view+json": {
       "model_id": "6fc1b8ea1da74d90a44c5eb892d630cb",
       "version_major": 2,
       "version_minor": 0
      },
      "text/plain": [
       "  0%|          | 0/150 [00:00<?, ?it/s]"
      ]
     },
     "metadata": {},
     "output_type": "display_data"
    },
    {
     "name": "stdout",
     "output_type": "stream",
     "text": [
      "Cycle 10/30\n",
      "Fold 7/7\n"
     ]
    },
    {
     "data": {
      "application/vnd.jupyter.widget-view+json": {
       "model_id": "0ebfc18508c14d3c87d524296153d66a",
       "version_major": 2,
       "version_minor": 0
      },
      "text/plain": [
       "  0%|          | 0/150 [00:00<?, ?it/s]"
      ]
     },
     "metadata": {},
     "output_type": "display_data"
    },
    {
     "name": "stdout",
     "output_type": "stream",
     "text": [
      "Cycle 11/30\n",
      "Fold 1/7\n"
     ]
    },
    {
     "data": {
      "application/vnd.jupyter.widget-view+json": {
       "model_id": "3843f148cc6744a088b970660bee3a22",
       "version_major": 2,
       "version_minor": 0
      },
      "text/plain": [
       "  0%|          | 0/150 [00:00<?, ?it/s]"
      ]
     },
     "metadata": {},
     "output_type": "display_data"
    },
    {
     "name": "stdout",
     "output_type": "stream",
     "text": [
      "Cycle 11/30\n",
      "Fold 2/7\n"
     ]
    },
    {
     "data": {
      "application/vnd.jupyter.widget-view+json": {
       "model_id": "a6f653efd9544498b952ce1d0ab08f07",
       "version_major": 2,
       "version_minor": 0
      },
      "text/plain": [
       "  0%|          | 0/150 [00:00<?, ?it/s]"
      ]
     },
     "metadata": {},
     "output_type": "display_data"
    },
    {
     "name": "stdout",
     "output_type": "stream",
     "text": [
      "Cycle 11/30\n",
      "Fold 3/7\n"
     ]
    },
    {
     "data": {
      "application/vnd.jupyter.widget-view+json": {
       "model_id": "63302f462e0142d88c921f2c842b062a",
       "version_major": 2,
       "version_minor": 0
      },
      "text/plain": [
       "  0%|          | 0/150 [00:00<?, ?it/s]"
      ]
     },
     "metadata": {},
     "output_type": "display_data"
    },
    {
     "name": "stdout",
     "output_type": "stream",
     "text": [
      "Cycle 11/30\n",
      "Fold 4/7\n"
     ]
    },
    {
     "data": {
      "application/vnd.jupyter.widget-view+json": {
       "model_id": "fa534763d97e4569a8b4be9681da35bf",
       "version_major": 2,
       "version_minor": 0
      },
      "text/plain": [
       "  0%|          | 0/150 [00:00<?, ?it/s]"
      ]
     },
     "metadata": {},
     "output_type": "display_data"
    },
    {
     "name": "stdout",
     "output_type": "stream",
     "text": [
      "Cycle 11/30\n",
      "Fold 5/7\n"
     ]
    },
    {
     "data": {
      "application/vnd.jupyter.widget-view+json": {
       "model_id": "0087566a04a14b87acde9f2a2f64ef35",
       "version_major": 2,
       "version_minor": 0
      },
      "text/plain": [
       "  0%|          | 0/150 [00:00<?, ?it/s]"
      ]
     },
     "metadata": {},
     "output_type": "display_data"
    },
    {
     "name": "stdout",
     "output_type": "stream",
     "text": [
      "Cycle 11/30\n",
      "Fold 6/7\n"
     ]
    },
    {
     "data": {
      "application/vnd.jupyter.widget-view+json": {
       "model_id": "fd1d86215fa240fa8263b9a62ede4a59",
       "version_major": 2,
       "version_minor": 0
      },
      "text/plain": [
       "  0%|          | 0/150 [00:00<?, ?it/s]"
      ]
     },
     "metadata": {},
     "output_type": "display_data"
    },
    {
     "name": "stdout",
     "output_type": "stream",
     "text": [
      "Cycle 11/30\n",
      "Fold 7/7\n"
     ]
    },
    {
     "data": {
      "application/vnd.jupyter.widget-view+json": {
       "model_id": "dbe64b11dd86417e946a4821e27562c0",
       "version_major": 2,
       "version_minor": 0
      },
      "text/plain": [
       "  0%|          | 0/150 [00:00<?, ?it/s]"
      ]
     },
     "metadata": {},
     "output_type": "display_data"
    },
    {
     "name": "stdout",
     "output_type": "stream",
     "text": [
      "Cycle 12/30\n",
      "Fold 1/7\n"
     ]
    },
    {
     "data": {
      "application/vnd.jupyter.widget-view+json": {
       "model_id": "1001241de6434c789d4635bf7da0fb4f",
       "version_major": 2,
       "version_minor": 0
      },
      "text/plain": [
       "  0%|          | 0/150 [00:00<?, ?it/s]"
      ]
     },
     "metadata": {},
     "output_type": "display_data"
    },
    {
     "name": "stdout",
     "output_type": "stream",
     "text": [
      "Cycle 12/30\n",
      "Fold 2/7\n"
     ]
    },
    {
     "data": {
      "application/vnd.jupyter.widget-view+json": {
       "model_id": "3670cda27cc84423affb44dddf175fc1",
       "version_major": 2,
       "version_minor": 0
      },
      "text/plain": [
       "  0%|          | 0/150 [00:00<?, ?it/s]"
      ]
     },
     "metadata": {},
     "output_type": "display_data"
    },
    {
     "name": "stdout",
     "output_type": "stream",
     "text": [
      "Cycle 12/30\n",
      "Fold 3/7\n"
     ]
    },
    {
     "data": {
      "application/vnd.jupyter.widget-view+json": {
       "model_id": "f47e9466a6994fc1b4c4f428b551d59d",
       "version_major": 2,
       "version_minor": 0
      },
      "text/plain": [
       "  0%|          | 0/150 [00:00<?, ?it/s]"
      ]
     },
     "metadata": {},
     "output_type": "display_data"
    },
    {
     "name": "stdout",
     "output_type": "stream",
     "text": [
      "Cycle 12/30\n",
      "Fold 4/7\n"
     ]
    },
    {
     "data": {
      "application/vnd.jupyter.widget-view+json": {
       "model_id": "d8552327046e4251ae3c89d01536bcf7",
       "version_major": 2,
       "version_minor": 0
      },
      "text/plain": [
       "  0%|          | 0/150 [00:00<?, ?it/s]"
      ]
     },
     "metadata": {},
     "output_type": "display_data"
    },
    {
     "name": "stdout",
     "output_type": "stream",
     "text": [
      "Cycle 12/30\n",
      "Fold 5/7\n"
     ]
    },
    {
     "data": {
      "application/vnd.jupyter.widget-view+json": {
       "model_id": "7b86008f3886404d882ba6c0c05a554c",
       "version_major": 2,
       "version_minor": 0
      },
      "text/plain": [
       "  0%|          | 0/150 [00:00<?, ?it/s]"
      ]
     },
     "metadata": {},
     "output_type": "display_data"
    },
    {
     "name": "stdout",
     "output_type": "stream",
     "text": [
      "Cycle 12/30\n",
      "Fold 6/7\n"
     ]
    },
    {
     "data": {
      "application/vnd.jupyter.widget-view+json": {
       "model_id": "d06748e259364c79991db5abfdc8710e",
       "version_major": 2,
       "version_minor": 0
      },
      "text/plain": [
       "  0%|          | 0/150 [00:00<?, ?it/s]"
      ]
     },
     "metadata": {},
     "output_type": "display_data"
    },
    {
     "name": "stdout",
     "output_type": "stream",
     "text": [
      "Cycle 12/30\n",
      "Fold 7/7\n"
     ]
    },
    {
     "data": {
      "application/vnd.jupyter.widget-view+json": {
       "model_id": "9cccbc7d122c4d1daa9e730320e0e6dd",
       "version_major": 2,
       "version_minor": 0
      },
      "text/plain": [
       "  0%|          | 0/150 [00:00<?, ?it/s]"
      ]
     },
     "metadata": {},
     "output_type": "display_data"
    },
    {
     "name": "stdout",
     "output_type": "stream",
     "text": [
      "Cycle 13/30\n",
      "Fold 1/7\n"
     ]
    },
    {
     "data": {
      "application/vnd.jupyter.widget-view+json": {
       "model_id": "2541ce5f76a04cd88e035f13d15a0d15",
       "version_major": 2,
       "version_minor": 0
      },
      "text/plain": [
       "  0%|          | 0/150 [00:00<?, ?it/s]"
      ]
     },
     "metadata": {},
     "output_type": "display_data"
    },
    {
     "name": "stdout",
     "output_type": "stream",
     "text": [
      "Cycle 13/30\n",
      "Fold 2/7\n"
     ]
    },
    {
     "data": {
      "application/vnd.jupyter.widget-view+json": {
       "model_id": "c375412e36fc4c0fb8f2c5df876b7eb9",
       "version_major": 2,
       "version_minor": 0
      },
      "text/plain": [
       "  0%|          | 0/150 [00:00<?, ?it/s]"
      ]
     },
     "metadata": {},
     "output_type": "display_data"
    },
    {
     "name": "stdout",
     "output_type": "stream",
     "text": [
      "Cycle 13/30\n",
      "Fold 3/7\n"
     ]
    },
    {
     "data": {
      "application/vnd.jupyter.widget-view+json": {
       "model_id": "0123895e257d4062b3d0bf859d5e0fb9",
       "version_major": 2,
       "version_minor": 0
      },
      "text/plain": [
       "  0%|          | 0/150 [00:00<?, ?it/s]"
      ]
     },
     "metadata": {},
     "output_type": "display_data"
    },
    {
     "name": "stdout",
     "output_type": "stream",
     "text": [
      "Cycle 13/30\n",
      "Fold 4/7\n"
     ]
    },
    {
     "data": {
      "application/vnd.jupyter.widget-view+json": {
       "model_id": "c0ca58916f494d5ab49c870626e073ee",
       "version_major": 2,
       "version_minor": 0
      },
      "text/plain": [
       "  0%|          | 0/150 [00:00<?, ?it/s]"
      ]
     },
     "metadata": {},
     "output_type": "display_data"
    },
    {
     "name": "stdout",
     "output_type": "stream",
     "text": [
      "Cycle 13/30\n",
      "Fold 5/7\n"
     ]
    },
    {
     "data": {
      "application/vnd.jupyter.widget-view+json": {
       "model_id": "1dddbd1e12884ae7b2511fe56825b131",
       "version_major": 2,
       "version_minor": 0
      },
      "text/plain": [
       "  0%|          | 0/150 [00:00<?, ?it/s]"
      ]
     },
     "metadata": {},
     "output_type": "display_data"
    },
    {
     "name": "stdout",
     "output_type": "stream",
     "text": [
      "Cycle 13/30\n",
      "Fold 6/7\n"
     ]
    },
    {
     "data": {
      "application/vnd.jupyter.widget-view+json": {
       "model_id": "9871b679170f4df7bfc26d59564302d4",
       "version_major": 2,
       "version_minor": 0
      },
      "text/plain": [
       "  0%|          | 0/150 [00:00<?, ?it/s]"
      ]
     },
     "metadata": {},
     "output_type": "display_data"
    },
    {
     "name": "stdout",
     "output_type": "stream",
     "text": [
      "Cycle 13/30\n",
      "Fold 7/7\n"
     ]
    },
    {
     "data": {
      "application/vnd.jupyter.widget-view+json": {
       "model_id": "9a64070020e04cb6be435bbce4423716",
       "version_major": 2,
       "version_minor": 0
      },
      "text/plain": [
       "  0%|          | 0/150 [00:00<?, ?it/s]"
      ]
     },
     "metadata": {},
     "output_type": "display_data"
    },
    {
     "name": "stdout",
     "output_type": "stream",
     "text": [
      "Cycle 14/30\n",
      "Fold 1/7\n"
     ]
    },
    {
     "data": {
      "application/vnd.jupyter.widget-view+json": {
       "model_id": "4700a141b1704c1c8df46203904119bf",
       "version_major": 2,
       "version_minor": 0
      },
      "text/plain": [
       "  0%|          | 0/150 [00:00<?, ?it/s]"
      ]
     },
     "metadata": {},
     "output_type": "display_data"
    },
    {
     "name": "stdout",
     "output_type": "stream",
     "text": [
      "Cycle 14/30\n",
      "Fold 2/7\n"
     ]
    },
    {
     "data": {
      "application/vnd.jupyter.widget-view+json": {
       "model_id": "ee5dc72f8c3a4901a2acffbe5cb1b72b",
       "version_major": 2,
       "version_minor": 0
      },
      "text/plain": [
       "  0%|          | 0/150 [00:00<?, ?it/s]"
      ]
     },
     "metadata": {},
     "output_type": "display_data"
    },
    {
     "name": "stdout",
     "output_type": "stream",
     "text": [
      "Cycle 14/30\n",
      "Fold 3/7\n"
     ]
    },
    {
     "data": {
      "application/vnd.jupyter.widget-view+json": {
       "model_id": "2af6357183d7474db317714c05a51ef7",
       "version_major": 2,
       "version_minor": 0
      },
      "text/plain": [
       "  0%|          | 0/150 [00:00<?, ?it/s]"
      ]
     },
     "metadata": {},
     "output_type": "display_data"
    },
    {
     "name": "stdout",
     "output_type": "stream",
     "text": [
      "Cycle 14/30\n",
      "Fold 4/7\n"
     ]
    },
    {
     "data": {
      "application/vnd.jupyter.widget-view+json": {
       "model_id": "40625a953b2d487491f1a29c3dc9906f",
       "version_major": 2,
       "version_minor": 0
      },
      "text/plain": [
       "  0%|          | 0/150 [00:00<?, ?it/s]"
      ]
     },
     "metadata": {},
     "output_type": "display_data"
    },
    {
     "name": "stdout",
     "output_type": "stream",
     "text": [
      "Cycle 14/30\n",
      "Fold 5/7\n"
     ]
    },
    {
     "data": {
      "application/vnd.jupyter.widget-view+json": {
       "model_id": "9ca2a42957594190931af609d3909f7c",
       "version_major": 2,
       "version_minor": 0
      },
      "text/plain": [
       "  0%|          | 0/150 [00:00<?, ?it/s]"
      ]
     },
     "metadata": {},
     "output_type": "display_data"
    },
    {
     "name": "stdout",
     "output_type": "stream",
     "text": [
      "Cycle 14/30\n",
      "Fold 6/7\n"
     ]
    },
    {
     "data": {
      "application/vnd.jupyter.widget-view+json": {
       "model_id": "0bfb19777ce549a7b58fd91b9723269b",
       "version_major": 2,
       "version_minor": 0
      },
      "text/plain": [
       "  0%|          | 0/150 [00:00<?, ?it/s]"
      ]
     },
     "metadata": {},
     "output_type": "display_data"
    },
    {
     "name": "stdout",
     "output_type": "stream",
     "text": [
      "Cycle 14/30\n",
      "Fold 7/7\n"
     ]
    },
    {
     "data": {
      "application/vnd.jupyter.widget-view+json": {
       "model_id": "77cad0a5bfab4c0bbd3986fc241313c6",
       "version_major": 2,
       "version_minor": 0
      },
      "text/plain": [
       "  0%|          | 0/150 [00:00<?, ?it/s]"
      ]
     },
     "metadata": {},
     "output_type": "display_data"
    },
    {
     "name": "stdout",
     "output_type": "stream",
     "text": [
      "Cycle 15/30\n",
      "Fold 1/7\n"
     ]
    },
    {
     "data": {
      "application/vnd.jupyter.widget-view+json": {
       "model_id": "a3b4af9e25be45b596c12d4688a365d2",
       "version_major": 2,
       "version_minor": 0
      },
      "text/plain": [
       "  0%|          | 0/150 [00:00<?, ?it/s]"
      ]
     },
     "metadata": {},
     "output_type": "display_data"
    },
    {
     "name": "stdout",
     "output_type": "stream",
     "text": [
      "Cycle 15/30\n",
      "Fold 2/7\n"
     ]
    },
    {
     "data": {
      "application/vnd.jupyter.widget-view+json": {
       "model_id": "905755bbc13c4b218a6129b286fdcac1",
       "version_major": 2,
       "version_minor": 0
      },
      "text/plain": [
       "  0%|          | 0/150 [00:00<?, ?it/s]"
      ]
     },
     "metadata": {},
     "output_type": "display_data"
    },
    {
     "name": "stdout",
     "output_type": "stream",
     "text": [
      "Cycle 15/30\n",
      "Fold 3/7\n"
     ]
    },
    {
     "data": {
      "application/vnd.jupyter.widget-view+json": {
       "model_id": "15d414cfe89247d0b128a5b7f52454fb",
       "version_major": 2,
       "version_minor": 0
      },
      "text/plain": [
       "  0%|          | 0/150 [00:00<?, ?it/s]"
      ]
     },
     "metadata": {},
     "output_type": "display_data"
    },
    {
     "name": "stdout",
     "output_type": "stream",
     "text": [
      "Cycle 15/30\n",
      "Fold 4/7\n"
     ]
    },
    {
     "data": {
      "application/vnd.jupyter.widget-view+json": {
       "model_id": "4da70f04bc87455bbc9fe47b8fab53d8",
       "version_major": 2,
       "version_minor": 0
      },
      "text/plain": [
       "  0%|          | 0/150 [00:00<?, ?it/s]"
      ]
     },
     "metadata": {},
     "output_type": "display_data"
    },
    {
     "name": "stdout",
     "output_type": "stream",
     "text": [
      "Cycle 15/30\n",
      "Fold 5/7\n"
     ]
    },
    {
     "data": {
      "application/vnd.jupyter.widget-view+json": {
       "model_id": "342b605e1a8e44e29850a755666582d0",
       "version_major": 2,
       "version_minor": 0
      },
      "text/plain": [
       "  0%|          | 0/150 [00:00<?, ?it/s]"
      ]
     },
     "metadata": {},
     "output_type": "display_data"
    },
    {
     "name": "stdout",
     "output_type": "stream",
     "text": [
      "Cycle 15/30\n",
      "Fold 6/7\n"
     ]
    },
    {
     "data": {
      "application/vnd.jupyter.widget-view+json": {
       "model_id": "4d6e7f02558c4c7eaaeffda40bc722e7",
       "version_major": 2,
       "version_minor": 0
      },
      "text/plain": [
       "  0%|          | 0/150 [00:00<?, ?it/s]"
      ]
     },
     "metadata": {},
     "output_type": "display_data"
    },
    {
     "name": "stdout",
     "output_type": "stream",
     "text": [
      "Cycle 15/30\n",
      "Fold 7/7\n"
     ]
    },
    {
     "data": {
      "application/vnd.jupyter.widget-view+json": {
       "model_id": "aea5d6f10c014c77ab86e2c6312b92a7",
       "version_major": 2,
       "version_minor": 0
      },
      "text/plain": [
       "  0%|          | 0/150 [00:00<?, ?it/s]"
      ]
     },
     "metadata": {},
     "output_type": "display_data"
    },
    {
     "name": "stdout",
     "output_type": "stream",
     "text": [
      "Cycle 16/30\n",
      "Fold 1/7\n"
     ]
    },
    {
     "data": {
      "application/vnd.jupyter.widget-view+json": {
       "model_id": "d7a4378e2c34453d96caeb8a04e85982",
       "version_major": 2,
       "version_minor": 0
      },
      "text/plain": [
       "  0%|          | 0/150 [00:00<?, ?it/s]"
      ]
     },
     "metadata": {},
     "output_type": "display_data"
    },
    {
     "name": "stdout",
     "output_type": "stream",
     "text": [
      "Cycle 16/30\n",
      "Fold 2/7\n"
     ]
    },
    {
     "data": {
      "application/vnd.jupyter.widget-view+json": {
       "model_id": "5a8704c895884942bdfc5e1166b7cbb8",
       "version_major": 2,
       "version_minor": 0
      },
      "text/plain": [
       "  0%|          | 0/150 [00:00<?, ?it/s]"
      ]
     },
     "metadata": {},
     "output_type": "display_data"
    },
    {
     "name": "stdout",
     "output_type": "stream",
     "text": [
      "Cycle 16/30\n",
      "Fold 3/7\n"
     ]
    },
    {
     "data": {
      "application/vnd.jupyter.widget-view+json": {
       "model_id": "8568763362624797990c8731a82fac20",
       "version_major": 2,
       "version_minor": 0
      },
      "text/plain": [
       "  0%|          | 0/150 [00:00<?, ?it/s]"
      ]
     },
     "metadata": {},
     "output_type": "display_data"
    },
    {
     "name": "stdout",
     "output_type": "stream",
     "text": [
      "Cycle 16/30\n",
      "Fold 4/7\n"
     ]
    },
    {
     "data": {
      "application/vnd.jupyter.widget-view+json": {
       "model_id": "50fe7a845d824372a59791044dace43b",
       "version_major": 2,
       "version_minor": 0
      },
      "text/plain": [
       "  0%|          | 0/150 [00:00<?, ?it/s]"
      ]
     },
     "metadata": {},
     "output_type": "display_data"
    },
    {
     "name": "stdout",
     "output_type": "stream",
     "text": [
      "Cycle 16/30\n",
      "Fold 5/7\n"
     ]
    },
    {
     "data": {
      "application/vnd.jupyter.widget-view+json": {
       "model_id": "e65e323ae93442eeac111050e85ad5f5",
       "version_major": 2,
       "version_minor": 0
      },
      "text/plain": [
       "  0%|          | 0/150 [00:00<?, ?it/s]"
      ]
     },
     "metadata": {},
     "output_type": "display_data"
    },
    {
     "name": "stdout",
     "output_type": "stream",
     "text": [
      "Cycle 16/30\n",
      "Fold 6/7\n"
     ]
    },
    {
     "data": {
      "application/vnd.jupyter.widget-view+json": {
       "model_id": "bc4c9ad269ee42a28b18eb768bb70a18",
       "version_major": 2,
       "version_minor": 0
      },
      "text/plain": [
       "  0%|          | 0/150 [00:00<?, ?it/s]"
      ]
     },
     "metadata": {},
     "output_type": "display_data"
    },
    {
     "name": "stdout",
     "output_type": "stream",
     "text": [
      "Cycle 16/30\n",
      "Fold 7/7\n"
     ]
    },
    {
     "data": {
      "application/vnd.jupyter.widget-view+json": {
       "model_id": "9dd8a94bda2a418d9553fe890ec1d086",
       "version_major": 2,
       "version_minor": 0
      },
      "text/plain": [
       "  0%|          | 0/150 [00:00<?, ?it/s]"
      ]
     },
     "metadata": {},
     "output_type": "display_data"
    },
    {
     "name": "stdout",
     "output_type": "stream",
     "text": [
      "Cycle 17/30\n",
      "Fold 1/7\n"
     ]
    },
    {
     "data": {
      "application/vnd.jupyter.widget-view+json": {
       "model_id": "d66754689b6840a4b27accc683f4701d",
       "version_major": 2,
       "version_minor": 0
      },
      "text/plain": [
       "  0%|          | 0/150 [00:00<?, ?it/s]"
      ]
     },
     "metadata": {},
     "output_type": "display_data"
    },
    {
     "name": "stdout",
     "output_type": "stream",
     "text": [
      "Cycle 17/30\n",
      "Fold 2/7\n"
     ]
    },
    {
     "data": {
      "application/vnd.jupyter.widget-view+json": {
       "model_id": "6ca990d193164443af5afbdaf859b6d2",
       "version_major": 2,
       "version_minor": 0
      },
      "text/plain": [
       "  0%|          | 0/150 [00:00<?, ?it/s]"
      ]
     },
     "metadata": {},
     "output_type": "display_data"
    },
    {
     "name": "stdout",
     "output_type": "stream",
     "text": [
      "Cycle 17/30\n",
      "Fold 3/7\n"
     ]
    },
    {
     "data": {
      "application/vnd.jupyter.widget-view+json": {
       "model_id": "3b93e93900904e329f18299d778dea2d",
       "version_major": 2,
       "version_minor": 0
      },
      "text/plain": [
       "  0%|          | 0/150 [00:00<?, ?it/s]"
      ]
     },
     "metadata": {},
     "output_type": "display_data"
    },
    {
     "name": "stdout",
     "output_type": "stream",
     "text": [
      "Cycle 17/30\n",
      "Fold 4/7\n"
     ]
    },
    {
     "data": {
      "application/vnd.jupyter.widget-view+json": {
       "model_id": "ef80b38956da4793803d5de48fde80b6",
       "version_major": 2,
       "version_minor": 0
      },
      "text/plain": [
       "  0%|          | 0/150 [00:00<?, ?it/s]"
      ]
     },
     "metadata": {},
     "output_type": "display_data"
    },
    {
     "name": "stdout",
     "output_type": "stream",
     "text": [
      "Cycle 17/30\n",
      "Fold 5/7\n"
     ]
    },
    {
     "data": {
      "application/vnd.jupyter.widget-view+json": {
       "model_id": "318d755773794647b08a8f3fdc6991f4",
       "version_major": 2,
       "version_minor": 0
      },
      "text/plain": [
       "  0%|          | 0/150 [00:00<?, ?it/s]"
      ]
     },
     "metadata": {},
     "output_type": "display_data"
    },
    {
     "name": "stdout",
     "output_type": "stream",
     "text": [
      "Cycle 17/30\n",
      "Fold 6/7\n"
     ]
    },
    {
     "data": {
      "application/vnd.jupyter.widget-view+json": {
       "model_id": "539bc9df3e61410f820c06fcbe6fdae8",
       "version_major": 2,
       "version_minor": 0
      },
      "text/plain": [
       "  0%|          | 0/150 [00:00<?, ?it/s]"
      ]
     },
     "metadata": {},
     "output_type": "display_data"
    },
    {
     "name": "stdout",
     "output_type": "stream",
     "text": [
      "Cycle 17/30\n",
      "Fold 7/7\n"
     ]
    },
    {
     "data": {
      "application/vnd.jupyter.widget-view+json": {
       "model_id": "93576f89a81c441db33fe9c4890d099b",
       "version_major": 2,
       "version_minor": 0
      },
      "text/plain": [
       "  0%|          | 0/150 [00:00<?, ?it/s]"
      ]
     },
     "metadata": {},
     "output_type": "display_data"
    },
    {
     "name": "stdout",
     "output_type": "stream",
     "text": [
      "Cycle 18/30\n",
      "Fold 1/7\n"
     ]
    },
    {
     "data": {
      "application/vnd.jupyter.widget-view+json": {
       "model_id": "2bb39418e51447428cb300053d4bc7db",
       "version_major": 2,
       "version_minor": 0
      },
      "text/plain": [
       "  0%|          | 0/150 [00:00<?, ?it/s]"
      ]
     },
     "metadata": {},
     "output_type": "display_data"
    },
    {
     "name": "stdout",
     "output_type": "stream",
     "text": [
      "Cycle 18/30\n",
      "Fold 2/7\n"
     ]
    },
    {
     "data": {
      "application/vnd.jupyter.widget-view+json": {
       "model_id": "f212ee0932874fb995001444d793b246",
       "version_major": 2,
       "version_minor": 0
      },
      "text/plain": [
       "  0%|          | 0/150 [00:00<?, ?it/s]"
      ]
     },
     "metadata": {},
     "output_type": "display_data"
    },
    {
     "name": "stdout",
     "output_type": "stream",
     "text": [
      "Cycle 18/30\n",
      "Fold 3/7\n"
     ]
    },
    {
     "data": {
      "application/vnd.jupyter.widget-view+json": {
       "model_id": "e51a9ab89d07438d951b7371a8eabfa6",
       "version_major": 2,
       "version_minor": 0
      },
      "text/plain": [
       "  0%|          | 0/150 [00:00<?, ?it/s]"
      ]
     },
     "metadata": {},
     "output_type": "display_data"
    },
    {
     "name": "stdout",
     "output_type": "stream",
     "text": [
      "Cycle 18/30\n",
      "Fold 4/7\n"
     ]
    },
    {
     "data": {
      "application/vnd.jupyter.widget-view+json": {
       "model_id": "25a4f2af012e423f8f4170d9308f31f5",
       "version_major": 2,
       "version_minor": 0
      },
      "text/plain": [
       "  0%|          | 0/150 [00:00<?, ?it/s]"
      ]
     },
     "metadata": {},
     "output_type": "display_data"
    },
    {
     "name": "stdout",
     "output_type": "stream",
     "text": [
      "Cycle 18/30\n",
      "Fold 5/7\n"
     ]
    },
    {
     "data": {
      "application/vnd.jupyter.widget-view+json": {
       "model_id": "1a73ac4e5e324247b377ebad17ab1923",
       "version_major": 2,
       "version_minor": 0
      },
      "text/plain": [
       "  0%|          | 0/150 [00:00<?, ?it/s]"
      ]
     },
     "metadata": {},
     "output_type": "display_data"
    },
    {
     "name": "stdout",
     "output_type": "stream",
     "text": [
      "Cycle 18/30\n",
      "Fold 6/7\n"
     ]
    },
    {
     "data": {
      "application/vnd.jupyter.widget-view+json": {
       "model_id": "21961bc645704e01b02423af4fa4d4bf",
       "version_major": 2,
       "version_minor": 0
      },
      "text/plain": [
       "  0%|          | 0/150 [00:00<?, ?it/s]"
      ]
     },
     "metadata": {},
     "output_type": "display_data"
    },
    {
     "name": "stdout",
     "output_type": "stream",
     "text": [
      "Cycle 18/30\n",
      "Fold 7/7\n"
     ]
    },
    {
     "data": {
      "application/vnd.jupyter.widget-view+json": {
       "model_id": "925ffd386dd94610809761529d82d0a6",
       "version_major": 2,
       "version_minor": 0
      },
      "text/plain": [
       "  0%|          | 0/150 [00:00<?, ?it/s]"
      ]
     },
     "metadata": {},
     "output_type": "display_data"
    },
    {
     "name": "stdout",
     "output_type": "stream",
     "text": [
      "Cycle 19/30\n",
      "Fold 1/7\n"
     ]
    },
    {
     "data": {
      "application/vnd.jupyter.widget-view+json": {
       "model_id": "d1ef812aa57c42dab6b0dde88dafbda7",
       "version_major": 2,
       "version_minor": 0
      },
      "text/plain": [
       "  0%|          | 0/150 [00:00<?, ?it/s]"
      ]
     },
     "metadata": {},
     "output_type": "display_data"
    },
    {
     "name": "stdout",
     "output_type": "stream",
     "text": [
      "Cycle 19/30\n",
      "Fold 2/7\n"
     ]
    },
    {
     "data": {
      "application/vnd.jupyter.widget-view+json": {
       "model_id": "6f455a262fbe41028edbd05661e27c12",
       "version_major": 2,
       "version_minor": 0
      },
      "text/plain": [
       "  0%|          | 0/150 [00:00<?, ?it/s]"
      ]
     },
     "metadata": {},
     "output_type": "display_data"
    },
    {
     "name": "stdout",
     "output_type": "stream",
     "text": [
      "Cycle 19/30\n",
      "Fold 3/7\n"
     ]
    },
    {
     "data": {
      "application/vnd.jupyter.widget-view+json": {
       "model_id": "4d4fb229e0964dc2bac5e434b4914b15",
       "version_major": 2,
       "version_minor": 0
      },
      "text/plain": [
       "  0%|          | 0/150 [00:00<?, ?it/s]"
      ]
     },
     "metadata": {},
     "output_type": "display_data"
    },
    {
     "name": "stdout",
     "output_type": "stream",
     "text": [
      "Cycle 19/30\n",
      "Fold 4/7\n"
     ]
    },
    {
     "data": {
      "application/vnd.jupyter.widget-view+json": {
       "model_id": "a2c122bc8e474d77a185defd27a49463",
       "version_major": 2,
       "version_minor": 0
      },
      "text/plain": [
       "  0%|          | 0/150 [00:00<?, ?it/s]"
      ]
     },
     "metadata": {},
     "output_type": "display_data"
    },
    {
     "name": "stdout",
     "output_type": "stream",
     "text": [
      "Cycle 19/30\n",
      "Fold 5/7\n"
     ]
    },
    {
     "data": {
      "application/vnd.jupyter.widget-view+json": {
       "model_id": "bdd8fe79e38b4431885806d8275fc569",
       "version_major": 2,
       "version_minor": 0
      },
      "text/plain": [
       "  0%|          | 0/150 [00:00<?, ?it/s]"
      ]
     },
     "metadata": {},
     "output_type": "display_data"
    },
    {
     "name": "stdout",
     "output_type": "stream",
     "text": [
      "Cycle 19/30\n",
      "Fold 6/7\n"
     ]
    },
    {
     "data": {
      "application/vnd.jupyter.widget-view+json": {
       "model_id": "2f7216bc777e49c4ab247ebdadcde724",
       "version_major": 2,
       "version_minor": 0
      },
      "text/plain": [
       "  0%|          | 0/150 [00:00<?, ?it/s]"
      ]
     },
     "metadata": {},
     "output_type": "display_data"
    },
    {
     "name": "stdout",
     "output_type": "stream",
     "text": [
      "Cycle 19/30\n",
      "Fold 7/7\n"
     ]
    },
    {
     "data": {
      "application/vnd.jupyter.widget-view+json": {
       "model_id": "9a9e077ed1b64cfb8b9ce1a6b326e722",
       "version_major": 2,
       "version_minor": 0
      },
      "text/plain": [
       "  0%|          | 0/150 [00:00<?, ?it/s]"
      ]
     },
     "metadata": {},
     "output_type": "display_data"
    },
    {
     "name": "stdout",
     "output_type": "stream",
     "text": [
      "Cycle 20/30\n",
      "Fold 1/7\n"
     ]
    },
    {
     "data": {
      "application/vnd.jupyter.widget-view+json": {
       "model_id": "c6c5dc0b40d54117bc7303fb22cb982f",
       "version_major": 2,
       "version_minor": 0
      },
      "text/plain": [
       "  0%|          | 0/150 [00:00<?, ?it/s]"
      ]
     },
     "metadata": {},
     "output_type": "display_data"
    },
    {
     "name": "stdout",
     "output_type": "stream",
     "text": [
      "Cycle 20/30\n",
      "Fold 2/7\n"
     ]
    },
    {
     "data": {
      "application/vnd.jupyter.widget-view+json": {
       "model_id": "fad4357e9994476e800bc6318c74925b",
       "version_major": 2,
       "version_minor": 0
      },
      "text/plain": [
       "  0%|          | 0/150 [00:00<?, ?it/s]"
      ]
     },
     "metadata": {},
     "output_type": "display_data"
    },
    {
     "name": "stdout",
     "output_type": "stream",
     "text": [
      "Cycle 20/30\n",
      "Fold 3/7\n"
     ]
    },
    {
     "data": {
      "application/vnd.jupyter.widget-view+json": {
       "model_id": "1133e749a9b14d7db477bd966e190c02",
       "version_major": 2,
       "version_minor": 0
      },
      "text/plain": [
       "  0%|          | 0/150 [00:00<?, ?it/s]"
      ]
     },
     "metadata": {},
     "output_type": "display_data"
    },
    {
     "name": "stdout",
     "output_type": "stream",
     "text": [
      "Cycle 20/30\n",
      "Fold 4/7\n"
     ]
    },
    {
     "data": {
      "application/vnd.jupyter.widget-view+json": {
       "model_id": "9e7899d828e24d07abb6bbd7752185d3",
       "version_major": 2,
       "version_minor": 0
      },
      "text/plain": [
       "  0%|          | 0/150 [00:00<?, ?it/s]"
      ]
     },
     "metadata": {},
     "output_type": "display_data"
    },
    {
     "name": "stdout",
     "output_type": "stream",
     "text": [
      "Cycle 20/30\n",
      "Fold 5/7\n"
     ]
    },
    {
     "data": {
      "application/vnd.jupyter.widget-view+json": {
       "model_id": "eab8c93f02764e67b8ef08b95edabeda",
       "version_major": 2,
       "version_minor": 0
      },
      "text/plain": [
       "  0%|          | 0/150 [00:00<?, ?it/s]"
      ]
     },
     "metadata": {},
     "output_type": "display_data"
    },
    {
     "name": "stdout",
     "output_type": "stream",
     "text": [
      "Cycle 20/30\n",
      "Fold 6/7\n"
     ]
    },
    {
     "data": {
      "application/vnd.jupyter.widget-view+json": {
       "model_id": "2a45edc5466146de8f09db1adf7d6a84",
       "version_major": 2,
       "version_minor": 0
      },
      "text/plain": [
       "  0%|          | 0/150 [00:00<?, ?it/s]"
      ]
     },
     "metadata": {},
     "output_type": "display_data"
    },
    {
     "name": "stdout",
     "output_type": "stream",
     "text": [
      "Cycle 20/30\n",
      "Fold 7/7\n"
     ]
    },
    {
     "data": {
      "application/vnd.jupyter.widget-view+json": {
       "model_id": "2c6e13acf0fd4bb49fae3886d5fea7d8",
       "version_major": 2,
       "version_minor": 0
      },
      "text/plain": [
       "  0%|          | 0/150 [00:00<?, ?it/s]"
      ]
     },
     "metadata": {},
     "output_type": "display_data"
    },
    {
     "name": "stdout",
     "output_type": "stream",
     "text": [
      "Cycle 21/30\n",
      "Fold 1/7\n"
     ]
    },
    {
     "data": {
      "application/vnd.jupyter.widget-view+json": {
       "model_id": "f7c4fbbc008248edaded81d0306e739f",
       "version_major": 2,
       "version_minor": 0
      },
      "text/plain": [
       "  0%|          | 0/150 [00:00<?, ?it/s]"
      ]
     },
     "metadata": {},
     "output_type": "display_data"
    },
    {
     "name": "stdout",
     "output_type": "stream",
     "text": [
      "Cycle 21/30\n",
      "Fold 2/7\n"
     ]
    },
    {
     "data": {
      "application/vnd.jupyter.widget-view+json": {
       "model_id": "05041782288c46aa81fc0a398959e94c",
       "version_major": 2,
       "version_minor": 0
      },
      "text/plain": [
       "  0%|          | 0/150 [00:00<?, ?it/s]"
      ]
     },
     "metadata": {},
     "output_type": "display_data"
    },
    {
     "name": "stdout",
     "output_type": "stream",
     "text": [
      "Cycle 21/30\n",
      "Fold 3/7\n"
     ]
    },
    {
     "data": {
      "application/vnd.jupyter.widget-view+json": {
       "model_id": "2e02b13b930e4724a38979f556201015",
       "version_major": 2,
       "version_minor": 0
      },
      "text/plain": [
       "  0%|          | 0/150 [00:00<?, ?it/s]"
      ]
     },
     "metadata": {},
     "output_type": "display_data"
    },
    {
     "name": "stdout",
     "output_type": "stream",
     "text": [
      "Cycle 21/30\n",
      "Fold 4/7\n"
     ]
    },
    {
     "data": {
      "application/vnd.jupyter.widget-view+json": {
       "model_id": "3fdbbba87922407297254dbb48d88355",
       "version_major": 2,
       "version_minor": 0
      },
      "text/plain": [
       "  0%|          | 0/150 [00:00<?, ?it/s]"
      ]
     },
     "metadata": {},
     "output_type": "display_data"
    },
    {
     "name": "stdout",
     "output_type": "stream",
     "text": [
      "Cycle 21/30\n",
      "Fold 5/7\n"
     ]
    },
    {
     "data": {
      "application/vnd.jupyter.widget-view+json": {
       "model_id": "866ffecf252b4239941bb821f0d00492",
       "version_major": 2,
       "version_minor": 0
      },
      "text/plain": [
       "  0%|          | 0/150 [00:00<?, ?it/s]"
      ]
     },
     "metadata": {},
     "output_type": "display_data"
    },
    {
     "name": "stdout",
     "output_type": "stream",
     "text": [
      "Cycle 21/30\n",
      "Fold 6/7\n"
     ]
    },
    {
     "data": {
      "application/vnd.jupyter.widget-view+json": {
       "model_id": "9a0915e7844e410ea720c86ee4d67f99",
       "version_major": 2,
       "version_minor": 0
      },
      "text/plain": [
       "  0%|          | 0/150 [00:00<?, ?it/s]"
      ]
     },
     "metadata": {},
     "output_type": "display_data"
    },
    {
     "name": "stdout",
     "output_type": "stream",
     "text": [
      "Cycle 21/30\n",
      "Fold 7/7\n"
     ]
    },
    {
     "data": {
      "application/vnd.jupyter.widget-view+json": {
       "model_id": "196eccebdffb401dafa35627d27eafe5",
       "version_major": 2,
       "version_minor": 0
      },
      "text/plain": [
       "  0%|          | 0/150 [00:00<?, ?it/s]"
      ]
     },
     "metadata": {},
     "output_type": "display_data"
    },
    {
     "name": "stdout",
     "output_type": "stream",
     "text": [
      "Cycle 22/30\n",
      "Fold 1/7\n"
     ]
    },
    {
     "data": {
      "application/vnd.jupyter.widget-view+json": {
       "model_id": "d894a43bc50341549c1a12be32cde856",
       "version_major": 2,
       "version_minor": 0
      },
      "text/plain": [
       "  0%|          | 0/150 [00:00<?, ?it/s]"
      ]
     },
     "metadata": {},
     "output_type": "display_data"
    },
    {
     "name": "stdout",
     "output_type": "stream",
     "text": [
      "Cycle 22/30\n",
      "Fold 2/7\n"
     ]
    },
    {
     "data": {
      "application/vnd.jupyter.widget-view+json": {
       "model_id": "dcd896f20e774d5aa9223d679f70ad1b",
       "version_major": 2,
       "version_minor": 0
      },
      "text/plain": [
       "  0%|          | 0/150 [00:00<?, ?it/s]"
      ]
     },
     "metadata": {},
     "output_type": "display_data"
    },
    {
     "name": "stdout",
     "output_type": "stream",
     "text": [
      "Cycle 22/30\n",
      "Fold 3/7\n"
     ]
    },
    {
     "data": {
      "application/vnd.jupyter.widget-view+json": {
       "model_id": "796f12f565be4d1bb30a3fe8017b6648",
       "version_major": 2,
       "version_minor": 0
      },
      "text/plain": [
       "  0%|          | 0/150 [00:00<?, ?it/s]"
      ]
     },
     "metadata": {},
     "output_type": "display_data"
    },
    {
     "name": "stdout",
     "output_type": "stream",
     "text": [
      "Cycle 22/30\n",
      "Fold 4/7\n"
     ]
    },
    {
     "data": {
      "application/vnd.jupyter.widget-view+json": {
       "model_id": "41a6169779f0467e9d914296303869b9",
       "version_major": 2,
       "version_minor": 0
      },
      "text/plain": [
       "  0%|          | 0/150 [00:00<?, ?it/s]"
      ]
     },
     "metadata": {},
     "output_type": "display_data"
    },
    {
     "name": "stdout",
     "output_type": "stream",
     "text": [
      "Cycle 22/30\n",
      "Fold 5/7\n"
     ]
    },
    {
     "data": {
      "application/vnd.jupyter.widget-view+json": {
       "model_id": "dd43456917814a87b68b7775d7a6453e",
       "version_major": 2,
       "version_minor": 0
      },
      "text/plain": [
       "  0%|          | 0/150 [00:00<?, ?it/s]"
      ]
     },
     "metadata": {},
     "output_type": "display_data"
    },
    {
     "name": "stdout",
     "output_type": "stream",
     "text": [
      "Cycle 22/30\n",
      "Fold 6/7\n"
     ]
    },
    {
     "data": {
      "application/vnd.jupyter.widget-view+json": {
       "model_id": "09468f4a49de4bad91c15a5819e9c55c",
       "version_major": 2,
       "version_minor": 0
      },
      "text/plain": [
       "  0%|          | 0/150 [00:00<?, ?it/s]"
      ]
     },
     "metadata": {},
     "output_type": "display_data"
    },
    {
     "name": "stdout",
     "output_type": "stream",
     "text": [
      "Cycle 22/30\n",
      "Fold 7/7\n"
     ]
    },
    {
     "data": {
      "application/vnd.jupyter.widget-view+json": {
       "model_id": "77231a5d8d484bef8f4beac51cf69723",
       "version_major": 2,
       "version_minor": 0
      },
      "text/plain": [
       "  0%|          | 0/150 [00:00<?, ?it/s]"
      ]
     },
     "metadata": {},
     "output_type": "display_data"
    },
    {
     "name": "stdout",
     "output_type": "stream",
     "text": [
      "Cycle 23/30\n",
      "Fold 1/7\n"
     ]
    },
    {
     "data": {
      "application/vnd.jupyter.widget-view+json": {
       "model_id": "92a71752a3b048558589e5c5b11f9ffd",
       "version_major": 2,
       "version_minor": 0
      },
      "text/plain": [
       "  0%|          | 0/150 [00:00<?, ?it/s]"
      ]
     },
     "metadata": {},
     "output_type": "display_data"
    },
    {
     "name": "stdout",
     "output_type": "stream",
     "text": [
      "Cycle 23/30\n",
      "Fold 2/7\n"
     ]
    },
    {
     "data": {
      "application/vnd.jupyter.widget-view+json": {
       "model_id": "9c58a22223da477996c1ba37f002f7a4",
       "version_major": 2,
       "version_minor": 0
      },
      "text/plain": [
       "  0%|          | 0/150 [00:00<?, ?it/s]"
      ]
     },
     "metadata": {},
     "output_type": "display_data"
    },
    {
     "name": "stdout",
     "output_type": "stream",
     "text": [
      "Cycle 23/30\n",
      "Fold 3/7\n"
     ]
    },
    {
     "data": {
      "application/vnd.jupyter.widget-view+json": {
       "model_id": "72fb795176ea4d61952ba34ab26e2c74",
       "version_major": 2,
       "version_minor": 0
      },
      "text/plain": [
       "  0%|          | 0/150 [00:00<?, ?it/s]"
      ]
     },
     "metadata": {},
     "output_type": "display_data"
    },
    {
     "name": "stdout",
     "output_type": "stream",
     "text": [
      "Cycle 23/30\n",
      "Fold 4/7\n"
     ]
    },
    {
     "data": {
      "application/vnd.jupyter.widget-view+json": {
       "model_id": "bf91618c100c4137a2d1a4cd886f2f68",
       "version_major": 2,
       "version_minor": 0
      },
      "text/plain": [
       "  0%|          | 0/150 [00:00<?, ?it/s]"
      ]
     },
     "metadata": {},
     "output_type": "display_data"
    },
    {
     "name": "stdout",
     "output_type": "stream",
     "text": [
      "Cycle 23/30\n",
      "Fold 5/7\n"
     ]
    },
    {
     "data": {
      "application/vnd.jupyter.widget-view+json": {
       "model_id": "31d166d0b4a44b298fe1be3fd14dd27e",
       "version_major": 2,
       "version_minor": 0
      },
      "text/plain": [
       "  0%|          | 0/150 [00:00<?, ?it/s]"
      ]
     },
     "metadata": {},
     "output_type": "display_data"
    },
    {
     "name": "stdout",
     "output_type": "stream",
     "text": [
      "Cycle 23/30\n",
      "Fold 6/7\n"
     ]
    },
    {
     "data": {
      "application/vnd.jupyter.widget-view+json": {
       "model_id": "b53d55af19dd4a4895117427fc07d75b",
       "version_major": 2,
       "version_minor": 0
      },
      "text/plain": [
       "  0%|          | 0/150 [00:00<?, ?it/s]"
      ]
     },
     "metadata": {},
     "output_type": "display_data"
    },
    {
     "name": "stdout",
     "output_type": "stream",
     "text": [
      "Cycle 23/30\n",
      "Fold 7/7\n"
     ]
    },
    {
     "data": {
      "application/vnd.jupyter.widget-view+json": {
       "model_id": "dd282b54f30c425683ddcf7c827c7c06",
       "version_major": 2,
       "version_minor": 0
      },
      "text/plain": [
       "  0%|          | 0/150 [00:00<?, ?it/s]"
      ]
     },
     "metadata": {},
     "output_type": "display_data"
    },
    {
     "name": "stdout",
     "output_type": "stream",
     "text": [
      "Cycle 24/30\n",
      "Fold 1/7\n"
     ]
    },
    {
     "data": {
      "application/vnd.jupyter.widget-view+json": {
       "model_id": "3d87412aa0a44ceab3d1158d2badf798",
       "version_major": 2,
       "version_minor": 0
      },
      "text/plain": [
       "  0%|          | 0/150 [00:00<?, ?it/s]"
      ]
     },
     "metadata": {},
     "output_type": "display_data"
    },
    {
     "name": "stdout",
     "output_type": "stream",
     "text": [
      "Cycle 24/30\n",
      "Fold 2/7\n"
     ]
    },
    {
     "data": {
      "application/vnd.jupyter.widget-view+json": {
       "model_id": "6b17127bc847487a9681a3bc2d8f3e45",
       "version_major": 2,
       "version_minor": 0
      },
      "text/plain": [
       "  0%|          | 0/150 [00:00<?, ?it/s]"
      ]
     },
     "metadata": {},
     "output_type": "display_data"
    },
    {
     "name": "stdout",
     "output_type": "stream",
     "text": [
      "Cycle 24/30\n",
      "Fold 3/7\n"
     ]
    },
    {
     "data": {
      "application/vnd.jupyter.widget-view+json": {
       "model_id": "8563d2a5a89944eeac5595072721cefa",
       "version_major": 2,
       "version_minor": 0
      },
      "text/plain": [
       "  0%|          | 0/150 [00:00<?, ?it/s]"
      ]
     },
     "metadata": {},
     "output_type": "display_data"
    },
    {
     "name": "stdout",
     "output_type": "stream",
     "text": [
      "Cycle 24/30\n",
      "Fold 4/7\n"
     ]
    },
    {
     "data": {
      "application/vnd.jupyter.widget-view+json": {
       "model_id": "5f8070721abf4077b1dcaec404a19cf0",
       "version_major": 2,
       "version_minor": 0
      },
      "text/plain": [
       "  0%|          | 0/150 [00:00<?, ?it/s]"
      ]
     },
     "metadata": {},
     "output_type": "display_data"
    },
    {
     "name": "stdout",
     "output_type": "stream",
     "text": [
      "Cycle 24/30\n",
      "Fold 5/7\n"
     ]
    },
    {
     "data": {
      "application/vnd.jupyter.widget-view+json": {
       "model_id": "b035d5cc217b474ca7b9574e3665d6ea",
       "version_major": 2,
       "version_minor": 0
      },
      "text/plain": [
       "  0%|          | 0/150 [00:00<?, ?it/s]"
      ]
     },
     "metadata": {},
     "output_type": "display_data"
    },
    {
     "name": "stdout",
     "output_type": "stream",
     "text": [
      "Cycle 24/30\n",
      "Fold 6/7\n"
     ]
    },
    {
     "data": {
      "application/vnd.jupyter.widget-view+json": {
       "model_id": "21ad78076507413f9ea736b3ba0fc347",
       "version_major": 2,
       "version_minor": 0
      },
      "text/plain": [
       "  0%|          | 0/150 [00:00<?, ?it/s]"
      ]
     },
     "metadata": {},
     "output_type": "display_data"
    },
    {
     "name": "stdout",
     "output_type": "stream",
     "text": [
      "Cycle 24/30\n",
      "Fold 7/7\n"
     ]
    },
    {
     "data": {
      "application/vnd.jupyter.widget-view+json": {
       "model_id": "2785205f2d234479812ff653f25f433a",
       "version_major": 2,
       "version_minor": 0
      },
      "text/plain": [
       "  0%|          | 0/150 [00:00<?, ?it/s]"
      ]
     },
     "metadata": {},
     "output_type": "display_data"
    },
    {
     "name": "stdout",
     "output_type": "stream",
     "text": [
      "Cycle 25/30\n",
      "Fold 1/7\n"
     ]
    },
    {
     "data": {
      "application/vnd.jupyter.widget-view+json": {
       "model_id": "7d4ea8a39f7a43039a37855bd1a2c37f",
       "version_major": 2,
       "version_minor": 0
      },
      "text/plain": [
       "  0%|          | 0/150 [00:00<?, ?it/s]"
      ]
     },
     "metadata": {},
     "output_type": "display_data"
    },
    {
     "name": "stdout",
     "output_type": "stream",
     "text": [
      "Cycle 25/30\n",
      "Fold 2/7\n"
     ]
    },
    {
     "data": {
      "application/vnd.jupyter.widget-view+json": {
       "model_id": "d1610927cf1d434e911d3f8333f7e907",
       "version_major": 2,
       "version_minor": 0
      },
      "text/plain": [
       "  0%|          | 0/150 [00:00<?, ?it/s]"
      ]
     },
     "metadata": {},
     "output_type": "display_data"
    },
    {
     "name": "stdout",
     "output_type": "stream",
     "text": [
      "Cycle 25/30\n",
      "Fold 3/7\n"
     ]
    },
    {
     "data": {
      "application/vnd.jupyter.widget-view+json": {
       "model_id": "f3ad4c444c92438b83e2d7ad67b53a0f",
       "version_major": 2,
       "version_minor": 0
      },
      "text/plain": [
       "  0%|          | 0/150 [00:00<?, ?it/s]"
      ]
     },
     "metadata": {},
     "output_type": "display_data"
    },
    {
     "name": "stdout",
     "output_type": "stream",
     "text": [
      "Cycle 25/30\n",
      "Fold 4/7\n"
     ]
    },
    {
     "data": {
      "application/vnd.jupyter.widget-view+json": {
       "model_id": "180cde0b1d034630be6bc7ba4933967d",
       "version_major": 2,
       "version_minor": 0
      },
      "text/plain": [
       "  0%|          | 0/150 [00:00<?, ?it/s]"
      ]
     },
     "metadata": {},
     "output_type": "display_data"
    },
    {
     "name": "stdout",
     "output_type": "stream",
     "text": [
      "Cycle 25/30\n",
      "Fold 5/7\n"
     ]
    },
    {
     "data": {
      "application/vnd.jupyter.widget-view+json": {
       "model_id": "429ec6371d6a4a9e84721c1edae86925",
       "version_major": 2,
       "version_minor": 0
      },
      "text/plain": [
       "  0%|          | 0/150 [00:00<?, ?it/s]"
      ]
     },
     "metadata": {},
     "output_type": "display_data"
    },
    {
     "name": "stdout",
     "output_type": "stream",
     "text": [
      "Cycle 25/30\n",
      "Fold 6/7\n"
     ]
    },
    {
     "data": {
      "application/vnd.jupyter.widget-view+json": {
       "model_id": "db2fcf00bb4145e6b89c68f34a4f70a4",
       "version_major": 2,
       "version_minor": 0
      },
      "text/plain": [
       "  0%|          | 0/150 [00:00<?, ?it/s]"
      ]
     },
     "metadata": {},
     "output_type": "display_data"
    },
    {
     "name": "stdout",
     "output_type": "stream",
     "text": [
      "Cycle 25/30\n",
      "Fold 7/7\n"
     ]
    },
    {
     "data": {
      "application/vnd.jupyter.widget-view+json": {
       "model_id": "f1862fe92f054ff791e39f50a754eeb2",
       "version_major": 2,
       "version_minor": 0
      },
      "text/plain": [
       "  0%|          | 0/150 [00:00<?, ?it/s]"
      ]
     },
     "metadata": {},
     "output_type": "display_data"
    },
    {
     "name": "stdout",
     "output_type": "stream",
     "text": [
      "Cycle 26/30\n",
      "Fold 1/7\n"
     ]
    },
    {
     "data": {
      "application/vnd.jupyter.widget-view+json": {
       "model_id": "e59fa2fd2a8b43548b66a6e6f32b882e",
       "version_major": 2,
       "version_minor": 0
      },
      "text/plain": [
       "  0%|          | 0/150 [00:00<?, ?it/s]"
      ]
     },
     "metadata": {},
     "output_type": "display_data"
    },
    {
     "name": "stdout",
     "output_type": "stream",
     "text": [
      "Cycle 26/30\n",
      "Fold 2/7\n"
     ]
    },
    {
     "data": {
      "application/vnd.jupyter.widget-view+json": {
       "model_id": "936941a7968c4768bfafe890bcffcbd2",
       "version_major": 2,
       "version_minor": 0
      },
      "text/plain": [
       "  0%|          | 0/150 [00:00<?, ?it/s]"
      ]
     },
     "metadata": {},
     "output_type": "display_data"
    },
    {
     "name": "stdout",
     "output_type": "stream",
     "text": [
      "Cycle 26/30\n",
      "Fold 3/7\n"
     ]
    },
    {
     "data": {
      "application/vnd.jupyter.widget-view+json": {
       "model_id": "c19916535fed4c99a039a22f4f057007",
       "version_major": 2,
       "version_minor": 0
      },
      "text/plain": [
       "  0%|          | 0/150 [00:00<?, ?it/s]"
      ]
     },
     "metadata": {},
     "output_type": "display_data"
    },
    {
     "name": "stdout",
     "output_type": "stream",
     "text": [
      "Cycle 26/30\n",
      "Fold 4/7\n"
     ]
    },
    {
     "data": {
      "application/vnd.jupyter.widget-view+json": {
       "model_id": "7e04286a31b2488aa6181b9b7fa188fb",
       "version_major": 2,
       "version_minor": 0
      },
      "text/plain": [
       "  0%|          | 0/150 [00:00<?, ?it/s]"
      ]
     },
     "metadata": {},
     "output_type": "display_data"
    },
    {
     "name": "stdout",
     "output_type": "stream",
     "text": [
      "Cycle 26/30\n",
      "Fold 5/7\n"
     ]
    },
    {
     "data": {
      "application/vnd.jupyter.widget-view+json": {
       "model_id": "278bf1eebaa04f02ac3aaf17b0661a27",
       "version_major": 2,
       "version_minor": 0
      },
      "text/plain": [
       "  0%|          | 0/150 [00:00<?, ?it/s]"
      ]
     },
     "metadata": {},
     "output_type": "display_data"
    },
    {
     "name": "stdout",
     "output_type": "stream",
     "text": [
      "Cycle 26/30\n",
      "Fold 6/7\n"
     ]
    },
    {
     "data": {
      "application/vnd.jupyter.widget-view+json": {
       "model_id": "28021c9e6dc74c188556f6e058b910b7",
       "version_major": 2,
       "version_minor": 0
      },
      "text/plain": [
       "  0%|          | 0/150 [00:00<?, ?it/s]"
      ]
     },
     "metadata": {},
     "output_type": "display_data"
    },
    {
     "name": "stdout",
     "output_type": "stream",
     "text": [
      "Cycle 26/30\n",
      "Fold 7/7\n"
     ]
    },
    {
     "data": {
      "application/vnd.jupyter.widget-view+json": {
       "model_id": "9e971626cc21457baac5d68db3dc95e6",
       "version_major": 2,
       "version_minor": 0
      },
      "text/plain": [
       "  0%|          | 0/150 [00:00<?, ?it/s]"
      ]
     },
     "metadata": {},
     "output_type": "display_data"
    },
    {
     "name": "stdout",
     "output_type": "stream",
     "text": [
      "Cycle 27/30\n",
      "Fold 1/7\n"
     ]
    },
    {
     "data": {
      "application/vnd.jupyter.widget-view+json": {
       "model_id": "e443542c99364223b2574d1290d2c0b3",
       "version_major": 2,
       "version_minor": 0
      },
      "text/plain": [
       "  0%|          | 0/150 [00:00<?, ?it/s]"
      ]
     },
     "metadata": {},
     "output_type": "display_data"
    },
    {
     "name": "stdout",
     "output_type": "stream",
     "text": [
      "Cycle 27/30\n",
      "Fold 2/7\n"
     ]
    },
    {
     "data": {
      "application/vnd.jupyter.widget-view+json": {
       "model_id": "a7c743d4e2d74ea7a124186668ce69cf",
       "version_major": 2,
       "version_minor": 0
      },
      "text/plain": [
       "  0%|          | 0/150 [00:00<?, ?it/s]"
      ]
     },
     "metadata": {},
     "output_type": "display_data"
    },
    {
     "name": "stdout",
     "output_type": "stream",
     "text": [
      "Cycle 27/30\n",
      "Fold 3/7\n"
     ]
    },
    {
     "data": {
      "application/vnd.jupyter.widget-view+json": {
       "model_id": "dba3a2920163497f844a7fa549aa98a3",
       "version_major": 2,
       "version_minor": 0
      },
      "text/plain": [
       "  0%|          | 0/150 [00:00<?, ?it/s]"
      ]
     },
     "metadata": {},
     "output_type": "display_data"
    },
    {
     "name": "stdout",
     "output_type": "stream",
     "text": [
      "Cycle 27/30\n",
      "Fold 4/7\n"
     ]
    },
    {
     "data": {
      "application/vnd.jupyter.widget-view+json": {
       "model_id": "b0d07b8d86c841f9a8e4a9c4a8f6a465",
       "version_major": 2,
       "version_minor": 0
      },
      "text/plain": [
       "  0%|          | 0/150 [00:00<?, ?it/s]"
      ]
     },
     "metadata": {},
     "output_type": "display_data"
    },
    {
     "name": "stdout",
     "output_type": "stream",
     "text": [
      "Cycle 27/30\n",
      "Fold 5/7\n"
     ]
    },
    {
     "data": {
      "application/vnd.jupyter.widget-view+json": {
       "model_id": "e7ff46f52258488088c91e7a5a6f8f21",
       "version_major": 2,
       "version_minor": 0
      },
      "text/plain": [
       "  0%|          | 0/150 [00:00<?, ?it/s]"
      ]
     },
     "metadata": {},
     "output_type": "display_data"
    },
    {
     "name": "stdout",
     "output_type": "stream",
     "text": [
      "Cycle 27/30\n",
      "Fold 6/7\n"
     ]
    },
    {
     "data": {
      "application/vnd.jupyter.widget-view+json": {
       "model_id": "06aafeaa59894d42892464e6c784bdaa",
       "version_major": 2,
       "version_minor": 0
      },
      "text/plain": [
       "  0%|          | 0/150 [00:00<?, ?it/s]"
      ]
     },
     "metadata": {},
     "output_type": "display_data"
    },
    {
     "name": "stdout",
     "output_type": "stream",
     "text": [
      "Cycle 27/30\n",
      "Fold 7/7\n"
     ]
    },
    {
     "data": {
      "application/vnd.jupyter.widget-view+json": {
       "model_id": "c590937b1227406fa47de3840a100060",
       "version_major": 2,
       "version_minor": 0
      },
      "text/plain": [
       "  0%|          | 0/150 [00:00<?, ?it/s]"
      ]
     },
     "metadata": {},
     "output_type": "display_data"
    },
    {
     "name": "stdout",
     "output_type": "stream",
     "text": [
      "Cycle 28/30\n",
      "Fold 1/7\n"
     ]
    },
    {
     "data": {
      "application/vnd.jupyter.widget-view+json": {
       "model_id": "1f21ed15587f4f5d8e110b7ac2311d09",
       "version_major": 2,
       "version_minor": 0
      },
      "text/plain": [
       "  0%|          | 0/150 [00:00<?, ?it/s]"
      ]
     },
     "metadata": {},
     "output_type": "display_data"
    },
    {
     "name": "stdout",
     "output_type": "stream",
     "text": [
      "Cycle 28/30\n",
      "Fold 2/7\n"
     ]
    },
    {
     "data": {
      "application/vnd.jupyter.widget-view+json": {
       "model_id": "13a7accf491741c78d4f8c1dae22b588",
       "version_major": 2,
       "version_minor": 0
      },
      "text/plain": [
       "  0%|          | 0/150 [00:00<?, ?it/s]"
      ]
     },
     "metadata": {},
     "output_type": "display_data"
    },
    {
     "name": "stdout",
     "output_type": "stream",
     "text": [
      "Cycle 28/30\n",
      "Fold 3/7\n"
     ]
    },
    {
     "data": {
      "application/vnd.jupyter.widget-view+json": {
       "model_id": "e2e80355b57b40f29f703457a0d552b7",
       "version_major": 2,
       "version_minor": 0
      },
      "text/plain": [
       "  0%|          | 0/150 [00:00<?, ?it/s]"
      ]
     },
     "metadata": {},
     "output_type": "display_data"
    },
    {
     "name": "stdout",
     "output_type": "stream",
     "text": [
      "Cycle 28/30\n",
      "Fold 4/7\n"
     ]
    },
    {
     "data": {
      "application/vnd.jupyter.widget-view+json": {
       "model_id": "f1c61d62d8994831bf3c83b3e54f4c22",
       "version_major": 2,
       "version_minor": 0
      },
      "text/plain": [
       "  0%|          | 0/150 [00:00<?, ?it/s]"
      ]
     },
     "metadata": {},
     "output_type": "display_data"
    },
    {
     "name": "stdout",
     "output_type": "stream",
     "text": [
      "Cycle 28/30\n",
      "Fold 5/7\n"
     ]
    },
    {
     "data": {
      "application/vnd.jupyter.widget-view+json": {
       "model_id": "7284bb64ca0f459f8362abf8f77da45a",
       "version_major": 2,
       "version_minor": 0
      },
      "text/plain": [
       "  0%|          | 0/150 [00:00<?, ?it/s]"
      ]
     },
     "metadata": {},
     "output_type": "display_data"
    },
    {
     "name": "stdout",
     "output_type": "stream",
     "text": [
      "Cycle 28/30\n",
      "Fold 6/7\n"
     ]
    },
    {
     "data": {
      "application/vnd.jupyter.widget-view+json": {
       "model_id": "1b357ba1018e4617b2fbce846507ad88",
       "version_major": 2,
       "version_minor": 0
      },
      "text/plain": [
       "  0%|          | 0/150 [00:00<?, ?it/s]"
      ]
     },
     "metadata": {},
     "output_type": "display_data"
    },
    {
     "name": "stdout",
     "output_type": "stream",
     "text": [
      "Cycle 28/30\n",
      "Fold 7/7\n"
     ]
    },
    {
     "data": {
      "application/vnd.jupyter.widget-view+json": {
       "model_id": "d4e5df2b02c34d70bc54a695edd0135f",
       "version_major": 2,
       "version_minor": 0
      },
      "text/plain": [
       "  0%|          | 0/150 [00:00<?, ?it/s]"
      ]
     },
     "metadata": {},
     "output_type": "display_data"
    },
    {
     "name": "stdout",
     "output_type": "stream",
     "text": [
      "Cycle 29/30\n",
      "Fold 1/7\n"
     ]
    },
    {
     "data": {
      "application/vnd.jupyter.widget-view+json": {
       "model_id": "5d626fb5a1954f028bd634c04b4e448d",
       "version_major": 2,
       "version_minor": 0
      },
      "text/plain": [
       "  0%|          | 0/150 [00:00<?, ?it/s]"
      ]
     },
     "metadata": {},
     "output_type": "display_data"
    },
    {
     "name": "stdout",
     "output_type": "stream",
     "text": [
      "Cycle 29/30\n",
      "Fold 2/7\n"
     ]
    },
    {
     "data": {
      "application/vnd.jupyter.widget-view+json": {
       "model_id": "99572e37a2824214b37af4887a299a9d",
       "version_major": 2,
       "version_minor": 0
      },
      "text/plain": [
       "  0%|          | 0/150 [00:00<?, ?it/s]"
      ]
     },
     "metadata": {},
     "output_type": "display_data"
    },
    {
     "name": "stdout",
     "output_type": "stream",
     "text": [
      "Cycle 29/30\n",
      "Fold 3/7\n"
     ]
    },
    {
     "data": {
      "application/vnd.jupyter.widget-view+json": {
       "model_id": "a3fbcefaf0694cc099f43be824d986c1",
       "version_major": 2,
       "version_minor": 0
      },
      "text/plain": [
       "  0%|          | 0/150 [00:00<?, ?it/s]"
      ]
     },
     "metadata": {},
     "output_type": "display_data"
    },
    {
     "name": "stdout",
     "output_type": "stream",
     "text": [
      "Cycle 29/30\n",
      "Fold 4/7\n"
     ]
    },
    {
     "data": {
      "application/vnd.jupyter.widget-view+json": {
       "model_id": "5ec209872c1b485db6f730922cbbff87",
       "version_major": 2,
       "version_minor": 0
      },
      "text/plain": [
       "  0%|          | 0/150 [00:00<?, ?it/s]"
      ]
     },
     "metadata": {},
     "output_type": "display_data"
    },
    {
     "name": "stdout",
     "output_type": "stream",
     "text": [
      "Cycle 29/30\n",
      "Fold 5/7\n"
     ]
    },
    {
     "data": {
      "application/vnd.jupyter.widget-view+json": {
       "model_id": "eb37836ce3d6476e8e8495e28bb1e14b",
       "version_major": 2,
       "version_minor": 0
      },
      "text/plain": [
       "  0%|          | 0/150 [00:00<?, ?it/s]"
      ]
     },
     "metadata": {},
     "output_type": "display_data"
    },
    {
     "name": "stdout",
     "output_type": "stream",
     "text": [
      "Cycle 29/30\n",
      "Fold 6/7\n"
     ]
    },
    {
     "data": {
      "application/vnd.jupyter.widget-view+json": {
       "model_id": "eded49a0048347b3af15c6aa94c8ae08",
       "version_major": 2,
       "version_minor": 0
      },
      "text/plain": [
       "  0%|          | 0/150 [00:00<?, ?it/s]"
      ]
     },
     "metadata": {},
     "output_type": "display_data"
    },
    {
     "name": "stdout",
     "output_type": "stream",
     "text": [
      "Cycle 29/30\n",
      "Fold 7/7\n"
     ]
    },
    {
     "data": {
      "application/vnd.jupyter.widget-view+json": {
       "model_id": "500a963bae0b42d5bbb1c57be5a4f8b7",
       "version_major": 2,
       "version_minor": 0
      },
      "text/plain": [
       "  0%|          | 0/150 [00:00<?, ?it/s]"
      ]
     },
     "metadata": {},
     "output_type": "display_data"
    },
    {
     "name": "stdout",
     "output_type": "stream",
     "text": [
      "Cycle 30/30\n",
      "Fold 1/7\n"
     ]
    },
    {
     "data": {
      "application/vnd.jupyter.widget-view+json": {
       "model_id": "643ceb4f5a444a579e130401f569214e",
       "version_major": 2,
       "version_minor": 0
      },
      "text/plain": [
       "  0%|          | 0/150 [00:00<?, ?it/s]"
      ]
     },
     "metadata": {},
     "output_type": "display_data"
    },
    {
     "name": "stdout",
     "output_type": "stream",
     "text": [
      "Cycle 30/30\n",
      "Fold 2/7\n"
     ]
    },
    {
     "data": {
      "application/vnd.jupyter.widget-view+json": {
       "model_id": "997c1f2f73b04a678fea328b8c3973a2",
       "version_major": 2,
       "version_minor": 0
      },
      "text/plain": [
       "  0%|          | 0/150 [00:00<?, ?it/s]"
      ]
     },
     "metadata": {},
     "output_type": "display_data"
    },
    {
     "name": "stdout",
     "output_type": "stream",
     "text": [
      "Cycle 30/30\n",
      "Fold 3/7\n"
     ]
    },
    {
     "data": {
      "application/vnd.jupyter.widget-view+json": {
       "model_id": "aad1825f11094a9eb9f5e4bc72d79447",
       "version_major": 2,
       "version_minor": 0
      },
      "text/plain": [
       "  0%|          | 0/150 [00:00<?, ?it/s]"
      ]
     },
     "metadata": {},
     "output_type": "display_data"
    },
    {
     "name": "stdout",
     "output_type": "stream",
     "text": [
      "Cycle 30/30\n",
      "Fold 4/7\n"
     ]
    },
    {
     "data": {
      "application/vnd.jupyter.widget-view+json": {
       "model_id": "e87e3c3e11e14a4b90211b72e4249224",
       "version_major": 2,
       "version_minor": 0
      },
      "text/plain": [
       "  0%|          | 0/150 [00:00<?, ?it/s]"
      ]
     },
     "metadata": {},
     "output_type": "display_data"
    },
    {
     "name": "stdout",
     "output_type": "stream",
     "text": [
      "Cycle 30/30\n",
      "Fold 5/7\n"
     ]
    },
    {
     "data": {
      "application/vnd.jupyter.widget-view+json": {
       "model_id": "b17a1fce6a9a4bd7bd577fbeb974b932",
       "version_major": 2,
       "version_minor": 0
      },
      "text/plain": [
       "  0%|          | 0/150 [00:00<?, ?it/s]"
      ]
     },
     "metadata": {},
     "output_type": "display_data"
    },
    {
     "name": "stdout",
     "output_type": "stream",
     "text": [
      "Cycle 30/30\n",
      "Fold 6/7\n"
     ]
    },
    {
     "data": {
      "application/vnd.jupyter.widget-view+json": {
       "model_id": "78cc66f26b964db9ac606f1474d52aa9",
       "version_major": 2,
       "version_minor": 0
      },
      "text/plain": [
       "  0%|          | 0/150 [00:00<?, ?it/s]"
      ]
     },
     "metadata": {},
     "output_type": "display_data"
    },
    {
     "name": "stdout",
     "output_type": "stream",
     "text": [
      "Cycle 30/30\n",
      "Fold 7/7\n"
     ]
    },
    {
     "data": {
      "application/vnd.jupyter.widget-view+json": {
       "model_id": "e416c3fa5c7740bc8f244f05f223d25d",
       "version_major": 2,
       "version_minor": 0
      },
      "text/plain": [
       "  0%|          | 0/150 [00:00<?, ?it/s]"
      ]
     },
     "metadata": {},
     "output_type": "display_data"
    }
   ],
   "source": [
    "for cycle in range(cycles):\n",
    "\tfold = 1\n",
    "\n",
    "\t# Keep track of indices for RMSE calculations\n",
    "\tdata_fold_indexes = [] # [[(train_index, test_index), (train_index, test_index), ...], [...], [...], [...], [...]] = for tasks, for kfold_split\n",
    "\tfor task in range(len(X_task_sets)):\n",
    "\t\tdata_fold_indexes.append([])\n",
    "\t\tfor train_index, test_index in kf.split(X_task_sets[task]):\n",
    "\t\t\tdata_fold_indexes[-1].append((train_index, test_index))\n",
    "\n",
    "\tfor data_fold in range(folds): # Cross validation\n",
    "\t\tprint(f'Cycle {cycle+1}/{cycles}')\n",
    "\t\tprint(f'Fold {fold}/{folds}')\n",
    "\t\tfold += 1\n",
    "\n",
    "\t\tX_train_list = []\n",
    "\t\tX_test_list = []\n",
    "\t\ty_train_list = []\n",
    "\t\ty_test_list = [] # list[ tensor[y, y, ...], tensor[...], ...]\n",
    "\t\ttrain_i_task_list = []\n",
    "\t\ttest_i_task_list = []\n",
    "\n",
    "\t\toriginal_indices_of_test_folds = [] # list[ list[id, id, ...], list[...], ...] # Keep track of data IDs\n",
    "\n",
    "\t\t# Process data for each task\n",
    "\t\tfor task in range(len(X_task_sets)):\n",
    "\t\t\ttrain_index, test_index = data_fold_indexes[task][data_fold]\n",
    "\n",
    "\t\t\tX_train, X_test = X_task_sets[task][train_index], X_task_sets[task][test_index]\n",
    "\t\t\ty_train, y_test = y_task_sets[task][train_index], y_task_sets[task][test_index]\n",
    "\n",
    "\t\t\toriginal_indices_of_test_fold = sample_id_task_sets[task][test_index]\n",
    "\n",
    "\t\t\tX_train = torch.tensor(X_train, dtype=torch.float32)\n",
    "\t\t\tX_test = torch.tensor(X_test, dtype=torch.float32)\n",
    "\t\t\ty_train = torch.tensor(y_train, dtype=torch.float32)\n",
    "\t\t\ty_test = torch.tensor(y_test, dtype=torch.float32)\n",
    "\n",
    "\t\t\tX_train_list.append(X_train)\n",
    "\t\t\tX_test_list.append(X_test)\n",
    "\t\t\ty_train_list.append(y_train)\n",
    "\t\t\ty_test_list.append(y_test)\n",
    "\t\t\ttrain_i_task_list.append(torch.full((X_train.shape[0],1), dtype=torch.long, fill_value=task))\n",
    "\t\t\ttest_i_task_list.append(torch.full((X_test.shape[0],1), dtype=torch.long, fill_value=task))\n",
    "\n",
    "\t\t\toriginal_indices_of_test_folds.append(original_indices_of_test_fold)\n",
    "\n",
    "\t\tfull_X_train = torch.cat(X_train_list)\n",
    "\t\tfull_train_i = torch.cat(train_i_task_list)\n",
    "\t\tfull_y_train = torch.cat(y_train_list)\n",
    "\n",
    "\t\t# print(full_X_train)\n",
    "\t\t# print(full_train_i)\n",
    "\t\t# print(full_y_train)\n",
    "\n",
    "\t\tfull_X_test = torch.cat(X_test_list)\n",
    "\t\tfull_test_i = torch.cat(test_i_task_list)\n",
    "\t\tfull_y_test = torch.cat(y_test_list) # tensor[y, y, y, ...]\n",
    "\t\t\n",
    "\t\tfull_original_indices_of_test_folds = [] # list[id, id, id, ...]\n",
    "\t\tfor sublist in original_indices_of_test_folds:\n",
    "\t\t\tfull_original_indices_of_test_folds.extend(sublist)\n",
    "\t\t# print(len(full_y_test), len(full_original_indices_of_test_folds))\n",
    "\t\t# print(full_y_test)\n",
    "\t\t# print(full_original_indices_of_test_folds)\n",
    "\n",
    "\t\tfeature_extractor = FeatureExtractor()\n",
    "\n",
    "\t\t# The model itself\n",
    "\t\tclass MultitaskGPModel(gpytorch.models.ExactGP):\n",
    "\t\t\tdef __init__(self, train_x, train_y, likelihood):\n",
    "\t\t\t\tsuper(MultitaskGPModel, self).__init__(train_x, train_y, likelihood)\n",
    "\t\t\t\tself.mean_module = gpytorch.means.ConstantMean() # Mean function, Optimizable (check GPyTorch documentation for more info)\n",
    "\t\t\t\tself.covar_module = gpytorch.kernels.keops.MaternKernel(nu=0.5) # Covariance function, Optimizable (check GPyTorch documentation for more info)\n",
    "\t\t\t\tself.task_covar_module = gpytorch.kernels.IndexKernel(num_tasks=len(X_task_sets), rank=3) # Task-to-task covariance function, Optimizable (check GPyTorch documentation for more info)\n",
    "\t\t\t\tself.feature_extractor = feature_extractor\n",
    "\t\t\t\tself.scale_to_bounds = gpytorch.utils.grid.ScaleToBounds(-1., 1.) # Scaling/normalization\n",
    "\n",
    "\t\t\tdef forward(self, x, i):\n",
    "\t\t\t\textracted_features = self.feature_extractor(x)\n",
    "\t\n",
    "\t\t\t\t# Ensure extracted features are scaled appropriately\n",
    "\t\t\t\textracted_features = self.scale_to_bounds(extracted_features)\n",
    "\n",
    "\t\t\t\tmean_x = self.mean_module(extracted_features)\n",
    "\n",
    "\t\t\t\t# Get input-input covariance\n",
    "\t\t\t\tcovar_x = self.covar_module(extracted_features)\n",
    "\t\t\t\t# Get task-task covariance\n",
    "\t\t\t\tcovar_i = self.task_covar_module(i)\n",
    "\t\t\t\t# Multiply the two together to get the covariance we want\n",
    "\t\t\t\tcovar = covar_x.mul(covar_i)\n",
    "\n",
    "\t\t\t\treturn gpytorch.distributions.MultivariateNormal(mean_x, covar)\n",
    "\n",
    "\t\t\t\n",
    "\t\tlikelihood = gpytorch.likelihoods.GaussianLikelihood() # Standard component in GP models\n",
    "\t\tmodel = MultitaskGPModel((full_X_train, full_train_i), full_y_train, likelihood) # full_train_i tells the model which task each data point belongs\n",
    "\n",
    "\t\tmodel.train()\n",
    "\t\tlikelihood.train()\n",
    "\n",
    "\t\toptimizer = torch.optim.Adam(model.parameters(), lr=0.1) # Optimizable, Adam optimizer is widely used, learning rate can be changed\n",
    "\n",
    "\t\t# \"Loss\" for GPs - the marginal log likelihood\n",
    "\t\tmll = gpytorch.mlls.ExactMarginalLogLikelihood(likelihood, model) # Standard component in GP models\n",
    "\n",
    "\t\t# Training loop\n",
    "\t\tcounter = -1\n",
    "\t\titerator = tqdm.notebook.tqdm(range(training_iterations))\n",
    "\t\tfor i in iterator:\n",
    "\t\t\tcounter += 1\n",
    "\t\t\twith gpytorch.settings.cholesky_max_tries(5):\n",
    "\t\t\t\toptimizer.zero_grad()\n",
    "\t\t\t\toutput = model(full_X_train, full_train_i)\n",
    "\t\t\t\tloss = -mll(output, full_y_train)\n",
    "\t\t\t\tloss.backward()\n",
    "\t\t\t\titerator.set_postfix(loss=loss.item())\n",
    "\t\t\t\toptimizer.step()\n",
    "\n",
    "\t\t# Evaluation\n",
    "\t\tmodel.eval()\n",
    "\t\tlikelihood.eval()\n",
    "\t\twith torch.no_grad(), gpytorch.settings.use_toeplitz(False), gpytorch.settings.fast_pred_var():\n",
    "\t\t\ty_preds = likelihood(model(full_X_test, full_test_i))\n",
    "\t\t\tmean = y_preds.mean # The means are used as prediction values\n",
    "\t\t\tlower, upper = y_preds.confidence_region() # GP model's own confidence bounds (not using these at the moment)\n",
    "\n",
    "\t\ty_test_np = full_y_test.numpy()\n",
    "\t\tmean = mean.numpy()\n",
    "\t\tlower = lower.numpy()\n",
    "\t\tupper = upper.numpy()\n",
    "\n",
    "\t\t# Append the results\n",
    "\t\tfor i, y_test_point in enumerate(y_test_np):\n",
    "\t\t\tresults_per_id[full_original_indices_of_test_folds[i], cycle] = mean[i]\n",
    "\t\t\tif cycle == 0:\n",
    "\t\t\t\ttrue_values_per_id[full_original_indices_of_test_folds[i], 0] = y_test_point"
   ]
  },
  {
   "cell_type": "markdown",
   "metadata": {},
   "source": [
    "#### Process Results"
   ]
  },
  {
   "cell_type": "code",
   "execution_count": 50,
   "metadata": {},
   "outputs": [
    {
     "name": "stdout",
     "output_type": "stream",
     "text": [
      "168\n"
     ]
    },
    {
     "data": {
      "text/plain": [
       "array([[8.02118874, 8.77199364, 8.78098106, ..., 8.78249931, 8.75603294,\n",
       "        8.77375317],\n",
       "       [8.03759193, 8.50832176, 8.52676392, ..., 8.52467251, 8.5273037 ,\n",
       "        8.50647736],\n",
       "       [8.34956837, 8.48395538, 8.26676941, ..., 8.41182327, 8.49631882,\n",
       "        8.43726349],\n",
       "       ...,\n",
       "       [2.09582973, 2.44869852, 2.10826302, ..., 2.08713579, 2.16933203,\n",
       "        2.19035912],\n",
       "       [2.38056183, 2.28061652, 2.42849708, ..., 2.39040232, 2.36303377,\n",
       "        2.41819143],\n",
       "       [2.45751715, 2.46451354, 2.50718307, ..., 2.41407061, 2.51754618,\n",
       "        2.60501742]])"
      ]
     },
     "execution_count": 50,
     "metadata": {},
     "output_type": "execute_result"
    }
   ],
   "source": [
    "results_per_id_rows_with_nan = np.isnan(results_per_id).any(axis=1)\n",
    "results_per_id = results_per_id[~results_per_id_rows_with_nan]\n",
    "\n",
    "print(len(results_per_id))\n",
    "\n",
    "results_per_id"
   ]
  },
  {
   "cell_type": "code",
   "execution_count": 51,
   "metadata": {},
   "outputs": [
    {
     "name": "stdout",
     "output_type": "stream",
     "text": [
      "168\n"
     ]
    },
    {
     "data": {
      "text/plain": [
       "array([8.52922249, 8.83025169, 8.52922249, 8.83025169, 8.88140488,\n",
       "       9.16604424, 0.15757053, 0.73027861, 1.65067315, 2.34180689,\n",
       "       2.64184713, 0.01859135, 0.15757053, 0.73027861, 1.65067315,\n",
       "       1.94682193, 2.34180689, 2.64184713, 7.68049002, 7.83025217,\n",
       "       8.02982426, 8.11279869, 8.27611542, 8.46707439, 8.62613201,\n",
       "       8.81925678, 8.93576241, 9.22819233, 9.42224407, 7.68049002,\n",
       "       7.83025217, 8.02982426, 8.11279869, 8.27611542, 8.46707439,\n",
       "       8.62613201, 8.81925678, 8.93576241, 9.22819233, 9.42224407,\n",
       "       8.92716217, 8.83025169, 9.52922249, 9.83025169, 8.52922249,\n",
       "       8.83025169, 9.52922249, 9.14901066, 9.45004082, 9.62613201,\n",
       "       8.52922249, 8.83025169, 7.73334217, 8.03437233, 8.33540249,\n",
       "       8.51149368, 8.63643169, 8.81252289, 8.93746185, 9.03437233,\n",
       "       8.77617168, 8.77617168, 8.77617168, 8.45864105, 8.75967121,\n",
       "       8.93576241, 9.06070137, 9.15761089, 9.15761089, 9.55555153,\n",
       "       9.20591545, 9.08350945, 7.50119352, 0.73027861, 1.65067315,\n",
       "       1.94682193, 2.34180689, 2.64184713, 0.73027861, 1.65067315,\n",
       "       1.94682193, 2.34180689, 2.64184713, 8.10325336, 8.19822884,\n",
       "       8.54695129, 8.70531368, 8.89874744, 9.01470661, 9.14901066,\n",
       "       9.30737305, 9.50119305, 9.75107098, 8.10325336, 8.19822884,\n",
       "       8.54695129, 8.70531368, 8.89874744, 9.01470661, 9.14901066,\n",
       "       9.30737305, 9.50119305, 9.75107098, 8.92716217, 8.52922249,\n",
       "       8.83025169, 8.52922249, 8.83025169, 8.52922249, 8.83025169,\n",
       "       8.92716217, 8.92716217, 8.92716217, 8.92716217, 8.6541605 ,\n",
       "       8.95519066, 9.13128185, 8.6541605 , 8.95519066, 8.6541605 ,\n",
       "       8.95519066, 9.13128185, 9.25622082, 8.05210114, 8.52922249,\n",
       "       8.89719868, 8.6541605 , 8.95519066, 8.05210114, 8.52922249,\n",
       "       8.89719868, 8.05210114, 8.52922249, 8.05210114, 8.52922249,\n",
       "       8.05210114, 8.52922249, 8.6541605 , 8.95519066, 8.05210114,\n",
       "       8.52922249, 8.89719868, 9.09349346, 8.05210114, 8.52922249,\n",
       "       8.6541605 , 8.95519066, 8.62613201, 9.00234413, 9.00234413,\n",
       "       1.98186696, 2.37508416, 2.77830005, 1.98186696, 2.37508416,\n",
       "       2.77830005, 1.98186696, 2.37508416, 2.77830005, 1.98186696,\n",
       "       2.37508416, 2.77830005, 1.98186696, 2.37508416, 2.77830005,\n",
       "       1.98186696, 2.37508416, 2.77830005])"
      ]
     },
     "execution_count": 51,
     "metadata": {},
     "output_type": "execute_result"
    }
   ],
   "source": [
    "true_values_per_id_rows_with_nan = np.isnan(true_values_per_id).any(axis=1)\n",
    "true_values_per_id = true_values_per_id[~true_values_per_id_rows_with_nan]\n",
    "true_values_per_id = true_values_per_id.flatten()\n",
    "\n",
    "print(len(true_values_per_id))\n",
    "true_values_per_id"
   ]
  },
  {
   "cell_type": "code",
   "execution_count": 52,
   "metadata": {},
   "outputs": [
    {
     "data": {
      "text/plain": [
       "array([5.48146915e+08, 3.09296755e+08, 3.17643930e+08, 3.92584420e+08,\n",
       "       2.08198736e+09, 8.73013225e+08, 1.67385065e+01, 1.36649805e+00,\n",
       "       9.06794318e+00, 3.99280429e+02, 4.13564667e+02, 1.77766847e+00,\n",
       "       1.72862237e+00, 2.68072661e+01, 5.78008746e+00, 2.38573076e+02,\n",
       "       2.19773566e+02, 3.05634153e+02, 6.55129704e+07, 1.05941782e+08,\n",
       "       1.29112575e+08, 9.60108967e+07, 1.83389861e+08, 3.29945162e+08,\n",
       "       4.90965073e+08, 7.41885798e+08, 9.46018088e+08, 1.85823172e+09,\n",
       "       2.51874410e+09, 5.27278833e+07, 6.18067783e+07, 9.12652773e+07,\n",
       "       1.24753399e+08, 1.99206953e+08, 2.76906237e+08, 4.42702714e+08,\n",
       "       6.94980697e+08, 8.69423017e+08, 1.16306749e+09, 1.99161646e+09,\n",
       "       1.14696994e+09, 7.31055108e+08, 3.19512399e+09, 2.72157368e+09,\n",
       "       3.13693411e+08, 6.43483637e+08, 2.94788780e+09, 9.71899987e+08,\n",
       "       3.07614384e+09, 2.08611274e+09, 2.35012893e+08, 6.39594377e+08,\n",
       "       1.15661422e+08, 1.24594602e+08, 2.35149569e+08, 3.36022161e+08,\n",
       "       5.04094416e+08, 8.53255254e+08, 1.83529357e+09, 2.65016153e+09,\n",
       "       4.76769041e+08, 6.33223467e+08, 7.00769706e+08, 4.28669472e+08,\n",
       "       4.88316190e+08, 1.07120427e+09, 1.49041136e+09, 2.23872950e+09,\n",
       "       7.62832347e+08, 1.13074316e+09, 6.19382475e+08, 6.44144347e+08,\n",
       "       1.65670748e+08, 1.39943142e+01, 5.88983258e+01, 2.58457829e+02,\n",
       "       1.04901802e+02, 2.87818801e+02, 1.58587823e+01, 2.53314155e+01,\n",
       "       1.44834396e+02, 1.21004312e+02, 3.86256616e+02, 1.95049688e+08,\n",
       "       1.37481025e+08, 2.78031307e+08, 5.61727869e+08, 9.13201658e+08,\n",
       "       9.05692747e+08, 1.33874765e+09, 1.83046641e+09, 3.03704899e+09,\n",
       "       4.04961551e+09, 1.55806919e+08, 1.26991347e+08, 2.87425184e+08,\n",
       "       5.54440972e+08, 8.70395024e+08, 9.33546611e+08, 1.78590119e+09,\n",
       "       1.71735017e+09, 3.52469983e+09, 4.58139030e+09, 5.25614202e+08,\n",
       "       4.48285549e+08, 3.66379853e+08, 4.23882801e+08, 5.00319911e+08,\n",
       "       4.05514807e+08, 5.48660736e+08, 9.07318320e+08, 9.38113798e+08,\n",
       "       1.03006698e+09, 1.39731429e+09, 6.99515937e+08, 7.27412180e+08,\n",
       "       9.02085780e+08, 7.14869990e+08, 3.83118179e+08, 5.62228455e+08,\n",
       "       7.40684446e+08, 1.11297137e+09, 1.16800949e+09, 2.61080240e+08,\n",
       "       6.83911367e+08, 1.19267446e+09, 4.45544801e+08, 8.37198199e+08,\n",
       "       9.85075713e+07, 1.91142392e+08, 5.29605901e+08, 2.56956923e+08,\n",
       "       1.68599475e+08, 3.20480410e+08, 4.99172102e+08, 2.67232986e+08,\n",
       "       5.96086598e+08, 2.57616771e+08, 5.51044883e+08, 1.92280233e+08,\n",
       "       3.58919381e+08, 7.73403011e+08, 8.43043908e+08, 2.45117298e+08,\n",
       "       3.95447456e+08, 8.40565137e+08, 2.96867059e+08, 4.01578781e+08,\n",
       "       8.51545124e+08, 6.78496743e+08, 1.24159637e+02, 2.94336400e+02,\n",
       "       3.19035836e+02, 1.31569110e+02, 3.25448006e+02, 4.58013522e+02,\n",
       "       1.17905302e+02, 2.04116052e+02, 4.80204354e+02, 2.19689996e+02,\n",
       "       1.44194567e+02, 5.43684739e+02, 1.39710956e+02, 2.83886519e+02,\n",
       "       3.73450953e+02, 1.40443394e+02, 2.59225802e+02, 2.95780041e+02])"
      ]
     },
     "execution_count": 52,
     "metadata": {},
     "output_type": "execute_result"
    }
   ],
   "source": [
    "# The averages of the predictions are calculated from the original data scale.\n",
    "original_scale_results_per_id = 10 ** results_per_id\n",
    "original_scale_average_results_per_id = np.mean(original_scale_results_per_id, axis=1)\n",
    "\n",
    "original_scale_average_results_per_id"
   ]
  },
  {
   "cell_type": "code",
   "execution_count": 53,
   "metadata": {},
   "outputs": [
    {
     "data": {
      "text/plain": [
       "array([8.73889697, 8.49037536, 8.50194056, 8.59393306, 9.31847809,\n",
       "       8.94102082, 1.22371671, 0.13560902, 0.95750879, 2.60127802,\n",
       "       2.61654343, 0.24985077, 0.23770013, 1.42825252, 0.76193441,\n",
       "       2.37762143, 2.34197545, 2.48520188, 7.81632729, 8.02506728,\n",
       "       8.11096854, 7.98232053, 8.26337532, 8.51844176, 8.6910506 ,\n",
       "       8.87033706, 8.97589944, 9.26909987, 9.40118405, 7.72204034,\n",
       "       7.79103611, 7.96030558, 8.09605239, 8.29930449, 8.44233274,\n",
       "       8.64611218, 8.84197274, 8.93923113, 9.06560492, 9.29920571,\n",
       "       9.05955204, 8.86395012, 9.50448772, 9.4348201 , 8.4965054 ,\n",
       "       8.80853751, 9.46951095, 8.98762158, 9.48800664, 9.31933777,\n",
       "       8.37109169, 8.80590464, 8.06318853, 8.09549923, 8.37134419,\n",
       "       8.52636792, 8.70251189, 8.93107897, 9.26370554, 9.42327235,\n",
       "       8.67830805, 8.801557  , 8.84557532, 8.63212256, 8.68870112,\n",
       "       9.0298723 , 9.17330615, 9.35000162, 8.8824291 , 9.05336397,\n",
       "       8.79195891, 8.8089832 , 8.21924583, 1.14595162, 1.77010295,\n",
       "       2.41238969, 2.02078295, 2.45911916, 1.20026984, 1.40365946,\n",
       "       2.16087171, 2.08280085, 2.58687593, 8.29014526, 8.13824276,\n",
       "       8.4440937 , 8.74952597, 8.96056669, 8.95698089, 9.12669872,\n",
       "       9.26256176, 9.4824518 , 9.60741379, 8.19258674, 8.10377413,\n",
       "       8.45852482, 8.74385532, 8.9397164 , 8.97013601, 9.25185743,\n",
       "       9.23485886, 9.54712214, 9.66099729, 8.72066709, 8.65155474,\n",
       "       8.56393158, 8.6272458 , 8.69924779, 8.60800672, 8.73930388,\n",
       "       8.95775968, 8.97225552, 9.01286547, 9.1452941 , 8.84479761,\n",
       "       8.86178057, 8.95524784, 8.85422707, 8.58333276, 8.74991282,\n",
       "       8.86963322, 9.04648399, 9.06744637, 8.416774  , 8.83499982,\n",
       "       9.07652192, 8.64889138, 8.92282829, 7.99346961, 8.28135702,\n",
       "       8.72395282, 8.40986032, 8.22685622, 8.50580149, 8.69825031,\n",
       "       8.42689006, 8.77530936, 8.41097413, 8.74118697, 8.28393464,\n",
       "       8.55499691, 8.88840586, 8.92585019, 8.38937396, 8.59708879,\n",
       "       8.92457137, 8.47256201, 8.60377076, 8.93020767, 8.83154777,\n",
       "       2.09398043, 2.46884397, 2.50383947, 2.11915394, 2.51248161,\n",
       "       2.6608783 , 2.07153333, 2.30987716, 2.68142609, 2.34181028,\n",
       "       2.1589489 , 2.73534714, 2.14523046, 2.45314477, 2.57223357,\n",
       "       2.14750132, 2.41367823, 2.47096887])"
      ]
     },
     "execution_count": 53,
     "metadata": {},
     "output_type": "execute_result"
    }
   ],
   "source": [
    "log_scale_average_results_per_id = np.log10(original_scale_average_results_per_id)\n",
    "log_scale_average_results_per_id"
   ]
  },
  {
   "cell_type": "markdown",
   "metadata": {},
   "source": [
    "# Results"
   ]
  },
  {
   "cell_type": "code",
   "execution_count": 54,
   "metadata": {},
   "outputs": [
    {
     "name": "stdout",
     "output_type": "stream",
     "text": [
      "(168, 4)\n"
     ]
    },
    {
     "data": {
      "text/html": [
       "<div>\n",
       "<style scoped>\n",
       "    .dataframe tbody tr th:only-of-type {\n",
       "        vertical-align: middle;\n",
       "    }\n",
       "\n",
       "    .dataframe tbody tr th {\n",
       "        vertical-align: top;\n",
       "    }\n",
       "\n",
       "    .dataframe thead th {\n",
       "        text-align: right;\n",
       "    }\n",
       "</style>\n",
       "<table border=\"1\" class=\"dataframe\">\n",
       "  <thead>\n",
       "    <tr style=\"text-align: right;\">\n",
       "      <th></th>\n",
       "      <th>y_true</th>\n",
       "      <th>y_pred_average</th>\n",
       "      <th>error</th>\n",
       "      <th>standard_deviation</th>\n",
       "    </tr>\n",
       "  </thead>\n",
       "  <tbody>\n",
       "    <tr>\n",
       "      <th>0</th>\n",
       "      <td>8.529222</td>\n",
       "      <td>8.738897</td>\n",
       "      <td>0.209674</td>\n",
       "      <td>0.252086</td>\n",
       "    </tr>\n",
       "    <tr>\n",
       "      <th>1</th>\n",
       "      <td>8.830252</td>\n",
       "      <td>8.490375</td>\n",
       "      <td>-0.339876</td>\n",
       "      <td>0.162827</td>\n",
       "    </tr>\n",
       "    <tr>\n",
       "      <th>2</th>\n",
       "      <td>8.529222</td>\n",
       "      <td>8.501941</td>\n",
       "      <td>-0.027282</td>\n",
       "      <td>0.154307</td>\n",
       "    </tr>\n",
       "    <tr>\n",
       "      <th>3</th>\n",
       "      <td>8.830252</td>\n",
       "      <td>8.593933</td>\n",
       "      <td>-0.236319</td>\n",
       "      <td>0.112488</td>\n",
       "    </tr>\n",
       "    <tr>\n",
       "      <th>4</th>\n",
       "      <td>8.881405</td>\n",
       "      <td>9.318478</td>\n",
       "      <td>0.437073</td>\n",
       "      <td>0.046105</td>\n",
       "    </tr>\n",
       "    <tr>\n",
       "      <th>...</th>\n",
       "      <td>...</td>\n",
       "      <td>...</td>\n",
       "      <td>...</td>\n",
       "      <td>...</td>\n",
       "    </tr>\n",
       "    <tr>\n",
       "      <th>163</th>\n",
       "      <td>2.375084</td>\n",
       "      <td>2.453145</td>\n",
       "      <td>0.078061</td>\n",
       "      <td>0.094794</td>\n",
       "    </tr>\n",
       "    <tr>\n",
       "      <th>164</th>\n",
       "      <td>2.778300</td>\n",
       "      <td>2.572234</td>\n",
       "      <td>-0.206066</td>\n",
       "      <td>0.115167</td>\n",
       "    </tr>\n",
       "    <tr>\n",
       "      <th>165</th>\n",
       "      <td>1.981867</td>\n",
       "      <td>2.147501</td>\n",
       "      <td>0.165634</td>\n",
       "      <td>0.104116</td>\n",
       "    </tr>\n",
       "    <tr>\n",
       "      <th>166</th>\n",
       "      <td>2.375084</td>\n",
       "      <td>2.413678</td>\n",
       "      <td>0.038594</td>\n",
       "      <td>0.082682</td>\n",
       "    </tr>\n",
       "    <tr>\n",
       "      <th>167</th>\n",
       "      <td>2.778300</td>\n",
       "      <td>2.470969</td>\n",
       "      <td>-0.307331</td>\n",
       "      <td>0.096787</td>\n",
       "    </tr>\n",
       "  </tbody>\n",
       "</table>\n",
       "<p>168 rows × 4 columns</p>\n",
       "</div>"
      ],
      "text/plain": [
       "       y_true  y_pred_average     error  standard_deviation\n",
       "0    8.529222        8.738897  0.209674            0.252086\n",
       "1    8.830252        8.490375 -0.339876            0.162827\n",
       "2    8.529222        8.501941 -0.027282            0.154307\n",
       "3    8.830252        8.593933 -0.236319            0.112488\n",
       "4    8.881405        9.318478  0.437073            0.046105\n",
       "..        ...             ...       ...                 ...\n",
       "163  2.375084        2.453145  0.078061            0.094794\n",
       "164  2.778300        2.572234 -0.206066            0.115167\n",
       "165  1.981867        2.147501  0.165634            0.104116\n",
       "166  2.375084        2.413678  0.038594            0.082682\n",
       "167  2.778300        2.470969 -0.307331            0.096787\n",
       "\n",
       "[168 rows x 4 columns]"
      ]
     },
     "execution_count": 54,
     "metadata": {},
     "output_type": "execute_result"
    }
   ],
   "source": [
    "final_results_per_id = pd.DataFrame(columns=['y_true', 'y_pred_average', 'error', 'standard_deviation'])\n",
    "\n",
    "for i in range(len(true_values_per_id)):\n",
    "\tnew_row = pd.DataFrame({\n",
    "\t\t'y_true': [true_values_per_id[i]],\n",
    "\t\t'y_pred_average': [log_scale_average_results_per_id[i]],\n",
    "\t\t'error': [log_scale_average_results_per_id[i] - true_values_per_id[i]],\n",
    "\t\t'standard_deviation': [np.std(results_per_id[i], ddof=1)]\n",
    "\t})\n",
    "\tfinal_results_per_id = pd.concat([final_results_per_id, new_row], ignore_index=True)\n",
    "print(final_results_per_id.shape)\n",
    "final_results_per_id"
   ]
  },
  {
   "cell_type": "code",
   "execution_count": 55,
   "metadata": {},
   "outputs": [
    {
     "name": "stdout",
     "output_type": "stream",
     "text": [
      "0.24307019598317264 0.9931749439911343\n"
     ]
    }
   ],
   "source": [
    "gp_RMSE = root_mean_squared_error(final_results_per_id['y_true'], final_results_per_id['y_pred_average'])\n",
    "gp_R2 = r2_score(final_results_per_id['y_true'], final_results_per_id['y_pred_average'])\n",
    "print(gp_RMSE, gp_R2)"
   ]
  },
  {
   "cell_type": "markdown",
   "metadata": {},
   "source": [
    "#### Ensemble model results as a comparison (updated in July 26th 2024)"
   ]
  },
  {
   "cell_type": "code",
   "execution_count": 56,
   "metadata": {},
   "outputs": [
    {
     "data": {
      "text/html": [
       "<div>\n",
       "<style scoped>\n",
       "    .dataframe tbody tr th:only-of-type {\n",
       "        vertical-align: middle;\n",
       "    }\n",
       "\n",
       "    .dataframe tbody tr th {\n",
       "        vertical-align: top;\n",
       "    }\n",
       "\n",
       "    .dataframe thead th {\n",
       "        text-align: right;\n",
       "    }\n",
       "</style>\n",
       "<table border=\"1\" class=\"dataframe\">\n",
       "  <thead>\n",
       "    <tr style=\"text-align: right;\">\n",
       "      <th></th>\n",
       "      <th>Actual</th>\n",
       "      <th>Predicted</th>\n",
       "      <th>Abs_error</th>\n",
       "      <th>STD</th>\n",
       "    </tr>\n",
       "  </thead>\n",
       "  <tbody>\n",
       "    <tr>\n",
       "      <th>0</th>\n",
       "      <td>8.529222</td>\n",
       "      <td>8.287601</td>\n",
       "      <td>-0.241622</td>\n",
       "      <td>0.329885</td>\n",
       "    </tr>\n",
       "    <tr>\n",
       "      <th>1</th>\n",
       "      <td>8.830252</td>\n",
       "      <td>8.235695</td>\n",
       "      <td>-0.594557</td>\n",
       "      <td>0.318001</td>\n",
       "    </tr>\n",
       "    <tr>\n",
       "      <th>2</th>\n",
       "      <td>8.529222</td>\n",
       "      <td>8.014378</td>\n",
       "      <td>-0.514845</td>\n",
       "      <td>0.213826</td>\n",
       "    </tr>\n",
       "    <tr>\n",
       "      <th>3</th>\n",
       "      <td>8.830252</td>\n",
       "      <td>8.368659</td>\n",
       "      <td>-0.461593</td>\n",
       "      <td>0.293570</td>\n",
       "    </tr>\n",
       "    <tr>\n",
       "      <th>4</th>\n",
       "      <td>8.881405</td>\n",
       "      <td>9.238439</td>\n",
       "      <td>0.357034</td>\n",
       "      <td>0.181062</td>\n",
       "    </tr>\n",
       "    <tr>\n",
       "      <th>...</th>\n",
       "      <td>...</td>\n",
       "      <td>...</td>\n",
       "      <td>...</td>\n",
       "      <td>...</td>\n",
       "    </tr>\n",
       "    <tr>\n",
       "      <th>163</th>\n",
       "      <td>2.375084</td>\n",
       "      <td>2.563779</td>\n",
       "      <td>0.188695</td>\n",
       "      <td>0.090683</td>\n",
       "    </tr>\n",
       "    <tr>\n",
       "      <th>164</th>\n",
       "      <td>2.778300</td>\n",
       "      <td>2.426000</td>\n",
       "      <td>-0.352300</td>\n",
       "      <td>0.071308</td>\n",
       "    </tr>\n",
       "    <tr>\n",
       "      <th>165</th>\n",
       "      <td>1.981867</td>\n",
       "      <td>2.079478</td>\n",
       "      <td>0.097611</td>\n",
       "      <td>0.080304</td>\n",
       "    </tr>\n",
       "    <tr>\n",
       "      <th>166</th>\n",
       "      <td>2.375084</td>\n",
       "      <td>2.538110</td>\n",
       "      <td>0.163026</td>\n",
       "      <td>0.100658</td>\n",
       "    </tr>\n",
       "    <tr>\n",
       "      <th>167</th>\n",
       "      <td>2.778300</td>\n",
       "      <td>2.430696</td>\n",
       "      <td>-0.347604</td>\n",
       "      <td>0.092552</td>\n",
       "    </tr>\n",
       "  </tbody>\n",
       "</table>\n",
       "<p>168 rows × 4 columns</p>\n",
       "</div>"
      ],
      "text/plain": [
       "       Actual  Predicted  Abs_error       STD\n",
       "0    8.529222   8.287601  -0.241622  0.329885\n",
       "1    8.830252   8.235695  -0.594557  0.318001\n",
       "2    8.529222   8.014378  -0.514845  0.213826\n",
       "3    8.830252   8.368659  -0.461593  0.293570\n",
       "4    8.881405   9.238439   0.357034  0.181062\n",
       "..        ...        ...        ...       ...\n",
       "163  2.375084   2.563779   0.188695  0.090683\n",
       "164  2.778300   2.426000  -0.352300  0.071308\n",
       "165  1.981867   2.079478   0.097611  0.080304\n",
       "166  2.375084   2.538110   0.163026  0.100658\n",
       "167  2.778300   2.430696  -0.347604  0.092552\n",
       "\n",
       "[168 rows x 4 columns]"
      ]
     },
     "execution_count": 56,
     "metadata": {},
     "output_type": "execute_result"
    }
   ],
   "source": [
    "ensemble_cnn_df = pd.read_excel(ensemble_model_result_path)\n",
    "ensemble_cnn_df"
   ]
  },
  {
   "cell_type": "code",
   "execution_count": 57,
   "metadata": {},
   "outputs": [
    {
     "name": "stdout",
     "output_type": "stream",
     "text": [
      "0.29831998401621 0.9897196597029486\n"
     ]
    }
   ],
   "source": [
    "ensemble_RMSE = root_mean_squared_error(ensemble_cnn_df['Actual'], ensemble_cnn_df['Predicted'])\n",
    "ensemble_R2 = r2_score(ensemble_cnn_df['Actual'], ensemble_cnn_df['Predicted'])\n",
    "print(ensemble_RMSE, ensemble_R2)"
   ]
  },
  {
   "cell_type": "markdown",
   "metadata": {},
   "source": [
    "#### Comparing Results"
   ]
  },
  {
   "cell_type": "code",
   "execution_count": 58,
   "metadata": {},
   "outputs": [
    {
     "data": {
      "text/html": [
       "<div>\n",
       "<style scoped>\n",
       "    .dataframe tbody tr th:only-of-type {\n",
       "        vertical-align: middle;\n",
       "    }\n",
       "\n",
       "    .dataframe tbody tr th {\n",
       "        vertical-align: top;\n",
       "    }\n",
       "\n",
       "    .dataframe thead th {\n",
       "        text-align: right;\n",
       "    }\n",
       "</style>\n",
       "<table border=\"1\" class=\"dataframe\">\n",
       "  <thead>\n",
       "    <tr style=\"text-align: right;\">\n",
       "      <th></th>\n",
       "      <th>number of data points</th>\n",
       "      <th>GP RMSE</th>\n",
       "      <th>Ensemble RMSE</th>\n",
       "    </tr>\n",
       "  </thead>\n",
       "  <tbody>\n",
       "    <tr>\n",
       "      <th>0-1e2</th>\n",
       "      <td>20</td>\n",
       "      <td>0.471591</td>\n",
       "      <td>0.451631</td>\n",
       "    </tr>\n",
       "    <tr>\n",
       "      <th>1e2-1e3</th>\n",
       "      <td>20</td>\n",
       "      <td>0.176428</td>\n",
       "      <td>0.204203</td>\n",
       "    </tr>\n",
       "    <tr>\n",
       "      <th>1e3-1e4</th>\n",
       "      <td>0</td>\n",
       "      <td>NaN</td>\n",
       "      <td>NaN</td>\n",
       "    </tr>\n",
       "    <tr>\n",
       "      <th>1e4-1e5</th>\n",
       "      <td>0</td>\n",
       "      <td>NaN</td>\n",
       "      <td>NaN</td>\n",
       "    </tr>\n",
       "    <tr>\n",
       "      <th>1e5-1e6</th>\n",
       "      <td>0</td>\n",
       "      <td>NaN</td>\n",
       "      <td>NaN</td>\n",
       "    </tr>\n",
       "    <tr>\n",
       "      <th>1e6-1e7</th>\n",
       "      <td>0</td>\n",
       "      <td>NaN</td>\n",
       "      <td>NaN</td>\n",
       "    </tr>\n",
       "    <tr>\n",
       "      <th>1e7-1e8</th>\n",
       "      <td>6</td>\n",
       "      <td>0.337655</td>\n",
       "      <td>0.543032</td>\n",
       "    </tr>\n",
       "    <tr>\n",
       "      <th>1e8-1e9</th>\n",
       "      <td>88</td>\n",
       "      <td>0.179272</td>\n",
       "      <td>0.241064</td>\n",
       "    </tr>\n",
       "    <tr>\n",
       "      <th>1e9-1e10</th>\n",
       "      <td>34</td>\n",
       "      <td>0.198763</td>\n",
       "      <td>0.304601</td>\n",
       "    </tr>\n",
       "  </tbody>\n",
       "</table>\n",
       "</div>"
      ],
      "text/plain": [
       "         number of data points   GP RMSE Ensemble RMSE\n",
       "0-1e2                       20  0.471591      0.451631\n",
       "1e2-1e3                     20  0.176428      0.204203\n",
       "1e3-1e4                      0       NaN           NaN\n",
       "1e4-1e5                      0       NaN           NaN\n",
       "1e5-1e6                      0       NaN           NaN\n",
       "1e6-1e7                      0       NaN           NaN\n",
       "1e7-1e8                      6  0.337655      0.543032\n",
       "1e8-1e9                     88  0.179272      0.241064\n",
       "1e9-1e10                    34  0.198763      0.304601"
      ]
     },
     "execution_count": 58,
     "metadata": {},
     "output_type": "execute_result"
    }
   ],
   "source": [
    "index_names = ['0-1e2', '1e2-1e3', '1e3-1e4', '1e4-1e5', '1e5-1e6', '1e6-1e7', '1e7-1e8', '1e8-1e9', '1e9-1e10']\n",
    "column_names = ['number of data points', 'GP RMSE', 'Ensemble RMSE']\n",
    "results_split = pd.DataFrame(\n",
    "\tcolumns=column_names,\n",
    "\tindex=index_names\n",
    ")\n",
    "\n",
    "previous = 1\n",
    "for i, selection in enumerate([1e2, 1e3, 1e4, 1e5, 1e6, 1e7, 1e8, 1e9, 1e10]):\n",
    "\tselected_rows = final_results_per_id[(final_results_per_id['y_true'] >= np.log10(previous)) & (final_results_per_id['y_true'] < np.log10(selection))]\n",
    "\tresults_split.loc[index_names[i], 'number of data points'] = len(selected_rows)\n",
    "\tresults_split.loc[index_names[i], 'GP RMSE'] = root_mean_squared_error(selected_rows['y_true'], selected_rows['y_pred_average'])\n",
    "\t\n",
    "\tselected_rows = ensemble_cnn_df[(ensemble_cnn_df['Actual'] >= np.log10(previous)) & (ensemble_cnn_df['Actual'] < np.log10(selection))]\n",
    "\tresults_split.loc[index_names[i], 'Ensemble RMSE'] = root_mean_squared_error(selected_rows['Actual'], selected_rows['Predicted'])\n",
    "\n",
    "\tprevious = selection\n",
    "\t\n",
    "results_split"
   ]
  },
  {
   "cell_type": "code",
   "execution_count": 59,
   "metadata": {},
   "outputs": [],
   "source": [
    "if save_RMSE_comaprison_results:\n",
    "\tresults_split.to_excel(ensemble_GP_RMSE_split_comparison_path, index=True)"
   ]
  },
  {
   "cell_type": "markdown",
   "metadata": {},
   "source": [
    "# Plots"
   ]
  },
  {
   "cell_type": "code",
   "execution_count": 60,
   "metadata": {},
   "outputs": [
    {
     "name": "stdout",
     "output_type": "stream",
     "text": [
      "90th percentile\n",
      "GP 0.37902225510152987\n",
      "Ensemble 0.4807905626217658\n",
      "\n",
      "95th percentile\n",
      "GP 0.4684430146398993\n",
      "Ensemble 0.5879392841240789\n"
     ]
    },
    {
     "data": {
      "image/png": "[encoded data removed]",
      "text/plain": [
       "<Figure size 1000x600 with 1 Axes>"
      ]
     },
     "metadata": {},
     "output_type": "display_data"
    }
   ],
   "source": [
    "gp_errors = final_results_per_id['error'].to_list()\n",
    "gp_absolute_errors = [abs(value) for value in gp_errors]\n",
    "ensemble_cnn_errors = ensemble_cnn_df['Abs_error'].to_list()\n",
    "ensemble_cnn_absolute_errors = [abs(value) for value in ensemble_cnn_errors]\n",
    "\n",
    "percentiles = np.arange(0, 101, 1)\n",
    "gp_error_percentiles = np.percentile(gp_absolute_errors, percentiles)\n",
    "ensemble_cnn_error_percentiles = np.percentile(ensemble_cnn_absolute_errors, percentiles)\n",
    "\n",
    "gp_y_at_90th_percentile = gp_error_percentiles[90]\n",
    "ensemble_y_at_90th_percentile = ensemble_cnn_error_percentiles[90]\n",
    "gp_y_at_95th_percentile = gp_error_percentiles[95]\n",
    "ensemble_y_at_95th_percentile = ensemble_cnn_error_percentiles[95]\n",
    "print(\n",
    "\tf'''90th percentile\n",
    "GP {gp_y_at_90th_percentile}\n",
    "Ensemble {ensemble_y_at_90th_percentile}\n",
    "\n",
    "95th percentile\n",
    "GP {gp_y_at_95th_percentile}\n",
    "Ensemble {ensemble_y_at_95th_percentile}'''\n",
    ")\n",
    "\n",
    "plt.figure(figsize=(10, 6))\n",
    "plt.plot(percentiles, gp_error_percentiles, linestyle='-', color='#006BA4', label='GP')\n",
    "plt.plot(percentiles, ensemble_cnn_error_percentiles, linestyle='-', color='#FF800E', label='Ensemble')\n",
    "plt.plot([-10, 90], [gp_y_at_90th_percentile, gp_y_at_90th_percentile], color='#006BA4', linestyle='--', linewidth=1)\n",
    "plt.plot([-10, 90], [ensemble_y_at_90th_percentile, ensemble_y_at_90th_percentile], color='#FF800E', linestyle='--', linewidth=1)\n",
    "plt.plot([-10, 95], [gp_y_at_95th_percentile, gp_y_at_95th_percentile], color='#006BA4', linestyle=(0, (5, 2)), linewidth=1)\n",
    "plt.plot([-10, 95], [ensemble_y_at_95th_percentile, ensemble_y_at_95th_percentile], color='#FF800E', linestyle=(0, (5, 2)), linewidth=1)\n",
    "plt.axvline(x=95, color='#ABABAB', linestyle=(0, (5, 2)), linewidth=1)\n",
    "plt.axvline(x=90, color='#ABABAB', linestyle='--', linewidth=1)\n",
    "plt.yscale('log')\n",
    "plt.title('Absolute error distribution', fontsize=18)\n",
    "plt.xlabel('Percentile', fontsize=18)\n",
    "plt.ylabel('Absolute error (log10)', fontsize=18)\n",
    "plt.tick_params(axis='both', which='major', labelsize=12)\n",
    "plt.tick_params(axis='both', which='minor', labelsize=12)\n",
    "plt.xticks(np.arange(0, 101, 10))  # Setting x-axis values in steps of 10\n",
    "plt.legend(\n",
    "\tfontsize=18,  # Font size\n",
    "\tloc='lower center',  # Location\n",
    "\tframeon=False,  # Frame around the legend\n",
    "\tlabelspacing=1.2,  # Spacing between labels\n",
    "\thandlelength=3  # Length of the legend handles\n",
    ")\n",
    "plt.xlim((-1.0, 101.0))\n",
    "plt.tight_layout()\n",
    "plt.show()"
   ]
  },
  {
   "cell_type": "code",
   "execution_count": 61,
   "metadata": {},
   "outputs": [],
   "source": [
    "# abolute error percentiles for below and above threshold\n",
    "threshold = 5 # 10**5 = 100000, log10(100000) = 5\n",
    "GP_below_threshold = final_results_per_id[final_results_per_id['y_true'] < threshold]\n",
    "GP_above_threshold = final_results_per_id[final_results_per_id['y_true'] >= threshold]\n",
    "ensemble_below_threshold = ensemble_cnn_df[ensemble_cnn_df['Actual'] < threshold]\n",
    "ensemble_above_threshold = ensemble_cnn_df[ensemble_cnn_df['Actual'] >= threshold]"
   ]
  },
  {
   "cell_type": "code",
   "execution_count": 62,
   "metadata": {},
   "outputs": [
    {
     "name": "stdout",
     "output_type": "stream",
     "text": [
      "90th percentile\n",
      "\tGP 0.6045190704441151\n",
      "\tEnsemble 0.49488136570283703\n",
      "\n",
      "95th percentile\n",
      "\tGP 0.7075121550196843\n",
      "\tEnsemble 0.7240127339959903\n"
     ]
    },
    {
     "data": {
      "image/png": "[encoded data removed]",
      "text/plain": [
       "<Figure size 1000x600 with 1 Axes>"
      ]
     },
     "metadata": {},
     "output_type": "display_data"
    }
   ],
   "source": [
    "# Below hreshold\n",
    "gp_errors = GP_below_threshold['error'].to_list()\n",
    "gp_absolute_errors = [abs(value) for value in gp_errors]\n",
    "ensemble_cnn_errors = ensemble_below_threshold['Abs_error'].to_list()\n",
    "ensemble_cnn_absolute_errors = [abs(value) for value in ensemble_cnn_errors]\n",
    "\n",
    "percentiles = np.arange(0, 101, 1)\n",
    "gp_error_percentiles = np.percentile(gp_absolute_errors, percentiles)\n",
    "ensemble_cnn_error_percentiles = np.percentile(ensemble_cnn_absolute_errors, percentiles)\n",
    "\n",
    "gp_y_at_90th_percentile = gp_error_percentiles[90]\n",
    "ensemble_y_at_90th_percentile = ensemble_cnn_error_percentiles[90]\n",
    "gp_y_at_95th_percentile = gp_error_percentiles[95]\n",
    "ensemble_y_at_95th_percentile = ensemble_cnn_error_percentiles[95]\n",
    "print(\n",
    "\tf'''90th percentile\n",
    "\tGP {gp_y_at_90th_percentile}\n",
    "\tEnsemble {ensemble_y_at_90th_percentile}\n",
    "\n",
    "95th percentile\n",
    "\tGP {gp_y_at_95th_percentile}\n",
    "\tEnsemble {ensemble_y_at_95th_percentile}'''\n",
    ")\n",
    "\n",
    "plt.figure(figsize=(10, 6))\n",
    "plt.plot(percentiles, gp_error_percentiles, linestyle='-', color='#006BA4', label='GP')\n",
    "plt.plot(percentiles, ensemble_cnn_error_percentiles, linestyle='-', color='#FF800E', label='Ensemble')\n",
    "plt.plot([-10, 90], [gp_y_at_90th_percentile, gp_y_at_90th_percentile], color='#006BA4', linestyle='--', linewidth=1)\n",
    "plt.plot([-10, 90], [ensemble_y_at_90th_percentile, ensemble_y_at_90th_percentile], color='#FF800E', linestyle='--', linewidth=1)\n",
    "plt.plot([-10, 95], [gp_y_at_95th_percentile, gp_y_at_95th_percentile], color='#006BA4', linestyle=(0, (5, 2)), linewidth=1)\n",
    "plt.plot([-10, 95], [ensemble_y_at_95th_percentile, ensemble_y_at_95th_percentile], color='#FF800E', linestyle=(0, (5, 2)), linewidth=1)\n",
    "plt.axvline(x=95, color='#ABABAB', linestyle=(0, (5, 2)), linewidth=1)\n",
    "plt.axvline(x=90, color='#ABABAB', linestyle='--', linewidth=1)\n",
    "plt.yscale('log')\n",
    "plt.title('Absolute error distribution (below 100000 years)', fontsize=18)\n",
    "plt.xlabel('Percentile', fontsize=18)\n",
    "plt.ylabel('Absolute error (log10)', fontsize=18)\n",
    "plt.tick_params(axis='both', which='major', labelsize=12)\n",
    "plt.tick_params(axis='both', which='minor', labelsize=12)\n",
    "plt.xticks(np.arange(0, 101, 10))\n",
    "plt.legend(\n",
    "\tfontsize=18,  # Font size\n",
    "\tloc='lower center',  # Location\n",
    "\tframeon=False,  # Frame around the legend\n",
    "\tlabelspacing=1.2,  # Spacing between labels\n",
    "\thandlelength=3  # Length of the legend handles\n",
    ")\n",
    "plt.xlim((-1.0, 101.0))\n",
    "plt.tight_layout()\n",
    "plt.show()"
   ]
  },
  {
   "cell_type": "code",
   "execution_count": 63,
   "metadata": {},
   "outputs": [
    {
     "name": "stdout",
     "output_type": "stream",
     "text": [
      "90th percentile\n",
      "\tGP 0.3380538763175334\n",
      "\tEnsemble 0.46747136996653194\n",
      "\n",
      "95th percentile\n",
      "\tGP 0.39314554421518594\n",
      "\tEnsemble 0.5515709798211945\n"
     ]
    },
    {
     "data": {
      "image/png": "[encoded data removed]",
      "text/plain": [
       "<Figure size 1000x600 with 1 Axes>"
      ]
     },
     "metadata": {},
     "output_type": "display_data"
    }
   ],
   "source": [
    "# Above hreshold\n",
    "gp_errors = GP_above_threshold['error'].to_list()\n",
    "gp_absolute_errors = [abs(value) for value in gp_errors]\n",
    "ensemble_cnn_errors = ensemble_above_threshold['Abs_error'].to_list()\n",
    "ensemble_cnn_absolute_errors = [abs(value) for value in ensemble_cnn_errors]\n",
    "\n",
    "percentiles = np.arange(0, 101, 1)\n",
    "gp_error_percentiles = np.percentile(gp_absolute_errors, percentiles)\n",
    "ensemble_cnn_error_percentiles = np.percentile(ensemble_cnn_absolute_errors, percentiles)\n",
    "\n",
    "gp_y_at_90th_percentile = gp_error_percentiles[90]\n",
    "ensemble_y_at_90th_percentile = ensemble_cnn_error_percentiles[90]\n",
    "gp_y_at_95th_percentile = gp_error_percentiles[95]\n",
    "ensemble_y_at_95th_percentile = ensemble_cnn_error_percentiles[95]\n",
    "print(\n",
    "\tf'''90th percentile\n",
    "\tGP {gp_y_at_90th_percentile}\n",
    "\tEnsemble {ensemble_y_at_90th_percentile}\n",
    "\n",
    "95th percentile\n",
    "\tGP {gp_y_at_95th_percentile}\n",
    "\tEnsemble {ensemble_y_at_95th_percentile}'''\n",
    ")\n",
    "\n",
    "plt.figure(figsize=(10, 6))\n",
    "plt.plot(percentiles, gp_error_percentiles, linestyle='-', color='#006BA4', label='GP')\n",
    "plt.plot(percentiles, ensemble_cnn_error_percentiles, linestyle='-', color='#FF800E', label='Ensemble')\n",
    "plt.plot([-10, 90], [gp_y_at_90th_percentile, gp_y_at_90th_percentile], color='#006BA4', linestyle='--', linewidth=1)\n",
    "plt.plot([-10, 90], [ensemble_y_at_90th_percentile, ensemble_y_at_90th_percentile], color='#FF800E', linestyle='--', linewidth=1)\n",
    "plt.plot([-10, 95], [gp_y_at_95th_percentile, gp_y_at_95th_percentile], color='#006BA4', linestyle=(0, (5, 2)), linewidth=1)\n",
    "plt.plot([-10, 95], [ensemble_y_at_95th_percentile, ensemble_y_at_95th_percentile], color='#FF800E', linestyle=(0, (5, 2)), linewidth=1)\n",
    "plt.axvline(x=95, color='#ABABAB', linestyle=(0, (5, 2)), linewidth=1)\n",
    "plt.axvline(x=90, color='#ABABAB', linestyle='--', linewidth=1)\n",
    "plt.yscale('log')\n",
    "plt.title('Absolute error distribution (above 100000 years)', fontsize=18)\n",
    "plt.xlabel('Percentile', fontsize=18)\n",
    "plt.ylabel('Absolute error (log10)', fontsize=18)\n",
    "plt.tick_params(axis='both', which='major', labelsize=12)\n",
    "plt.tick_params(axis='both', which='minor', labelsize=12)\n",
    "plt.xticks(np.arange(0, 101, 10))\n",
    "plt.legend(\n",
    "\tfontsize=18,  # Font size\n",
    "\tloc='lower center',  # Location\n",
    "\tframeon=False,  # Frame around the legend\n",
    "\tlabelspacing=1.2,  # Spacing between labels\n",
    "\thandlelength=3  # Length of the legend handles\n",
    ")\n",
    "plt.xlim((-1.0, 101.0))\n",
    "plt.tight_layout()\n",
    "plt.show()"
   ]
  },
  {
   "cell_type": "code",
   "execution_count": 64,
   "metadata": {},
   "outputs": [
    {
     "data": {
      "image/png": "[encoded data removed]",
      "text/plain": [
       "<Figure size 1600x1000 with 2 Axes>"
      ]
     },
     "metadata": {},
     "output_type": "display_data"
    }
   ],
   "source": [
    "gp_actual = final_results_per_id['y_true']\n",
    "gp_predicted = final_results_per_id['y_pred_average']\n",
    "gp_std = final_results_per_id['standard_deviation']\n",
    "\n",
    "cnn_tree_actual = ensemble_cnn_df['Actual']\n",
    "cnn_tree_predicted = ensemble_cnn_df['Predicted']\n",
    "cnn_tree_std = ensemble_cnn_df['STD']\n",
    "\n",
    "true_line = pd.Series([-1, 12])\n",
    "interval1 = true_line-1\n",
    "interval2 = true_line-0.5\n",
    "interval3 = true_line+0.5\n",
    "interval4 = true_line+1\n",
    "\n",
    "fig, (ax1, ax2) = plt.subplots(1, 2, figsize=(16, 10))\n",
    "\n",
    "ax1.plot(true_line, true_line, color='black', linestyle='-', linewidth=1, label='0 error')\n",
    "ax1.plot(true_line, interval2, color='#FFBC79', linestyle='-', linewidth=1, label='0.5 error')\n",
    "ax1.plot(true_line, interval1, color='#A2C8EC', linestyle='-', linewidth=1, label='1 error')\n",
    "ax1.plot(true_line, interval3, color='#FFBC79', linestyle='-', linewidth=1)\n",
    "ax1.plot(true_line, interval4, color='#A2C8EC', linestyle='-', linewidth=1)\n",
    "ax1.errorbar(gp_actual, gp_predicted, yerr=[gp_std, gp_std], capsize=2, fmt='.', color='black', ecolor='red', alpha=1)\n",
    "ax1.set_xlim(-0.5, max(gp_predicted) + 0.5)\n",
    "ax1.set_ylim(-0.5, max(gp_predicted) + 0.5)\n",
    "ax1.set_xticks(np.arange(0, max(y_test)+1.1, 1))\n",
    "ax1.set_yticks(np.arange(0, max(y_test)+1.1, 1))\n",
    "ax1.tick_params(axis='both', which='major', labelsize=12)\n",
    "ax1.tick_params(axis='both', which='minor', labelsize=12)\n",
    "ax1.set_xlabel('True exposure time (log10)', fontsize=18)\n",
    "ax1.set_ylabel('Predicted exposure time (log10)', fontsize=18)\n",
    "ax1.set_title('GP', fontsize=18)\n",
    "ax1.legend(\n",
    "\tfontsize=18,  # Font size\n",
    "\tloc='upper left',  # Location\n",
    "\tframeon=False,  # Frame around the legend\n",
    "\tlabelspacing=1.2,  # Spacing between labels\n",
    "\thandlelength=3  # Length of the legend handles\n",
    ")\n",
    "ax1.text(\n",
    "\t8, 0,  # Position of the text box\n",
    "\tf'RMSE = {gp_RMSE:.3f}\\n     R$^2$ = {gp_R2:.3f}', # Text\n",
    "\tfontsize=18,  # Font size\n",
    "\tbbox=dict(facecolor='white', edgecolor='none', boxstyle='round,pad=0.5'),  # Box properties\n",
    "\tha='center'\n",
    ")\n",
    "ax1.set_aspect('equal', adjustable='box')\n",
    "\n",
    "ax2.plot(true_line, true_line, color='black', linestyle='-', linewidth=1, label='0 error')\n",
    "ax2.plot(true_line, interval2, color='#FFBC79', linestyle='-', linewidth=1, label='0.5 error')\n",
    "ax2.plot(true_line, interval1, color='#A2C8EC', linestyle='-', linewidth=1, label='1 error')\n",
    "ax2.plot(true_line, interval3, color='#FFBC79', linestyle='-', linewidth=1)\n",
    "ax2.plot(true_line, interval4, color='#A2C8EC', linestyle='-', linewidth=1)\n",
    "ax2.errorbar(cnn_tree_actual, cnn_tree_predicted, yerr=[cnn_tree_std, cnn_tree_std], capsize=2, fmt='.', color='black', ecolor='red', alpha=1)\n",
    "ax2.set_xlim(-0.5, max(gp_predicted) + 0.5)\n",
    "ax2.set_ylim(-0.5, max(gp_predicted) + 0.5)\n",
    "ax2.set_xticks(np.arange(0, max(y_test)+1.1, 1))\n",
    "ax2.set_yticks(np.arange(0, max(y_test)+1.1, 1))\n",
    "ax2.tick_params(axis='both', which='major', labelsize=12)\n",
    "ax2.tick_params(axis='both', which='minor', labelsize=12)\n",
    "ax2.set_xlabel('True exposure time (log10)', fontsize=18)\n",
    "# ax2.set_ylabel('Predicted exposure time (log10)', fontsize=18)\n",
    "ax2.set_title('Ensemble', fontsize=18)\n",
    "ax2.legend(\n",
    "\tfontsize=18,  # Font size\n",
    "\tloc='upper left',  # Location\n",
    "\tframeon=False,  # Frame around the legend\n",
    "\tlabelspacing=1.2,  # Spacing between labels\n",
    "\thandlelength=3  # Length of the legend handles\n",
    ")\n",
    "ax2.text(\n",
    "\t8, 0,  # Position of the text box\n",
    "\tf'RMSE = {ensemble_RMSE:.3f}\\n     R$^2$ = {ensemble_R2:.3f}', # Text\n",
    "\tfontsize=18,  # Font size\n",
    "\tbbox=dict(facecolor='white', edgecolor='none', boxstyle='round,pad=0.5'),  # Box properties\n",
    "\tha='center'\n",
    ")\n",
    "ax2.set_aspect('equal', adjustable='box')\n",
    "\n",
    "# plt.tight_layout()\n",
    "plt.show()"
   ]
  }
 ],
 "metadata": {
  "kernelspec": {
   "display_name": "Python 3",
   "language": "python",
   "name": "python3"
  },
  "language_info": {
   "codemirror_mode": {
    "name": "ipython",
    "version": 3
   },
   "file_extension": ".py",
   "mimetype": "text/x-python",
   "name": "python",
   "nbconvert_exporter": "python",
   "pygments_lexer": "ipython3",
   "version": "3.10.3"
  }
 },
 "nbformat": 4,
 "nbformat_minor": 2
}
