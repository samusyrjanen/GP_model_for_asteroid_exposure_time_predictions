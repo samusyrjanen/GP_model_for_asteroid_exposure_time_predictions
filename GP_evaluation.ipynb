{
 "cells": [
  {
   "cell_type": "markdown",
   "metadata": {},
   "source": [
    "# Settings"
   ]
  },
  {
   "cell_type": "code",
   "execution_count": 135,
   "metadata": {},
   "outputs": [],
   "source": [
    "save_preprocessed_data = True\n",
    "save_RMSE_comaprison_results = True\n",
    "\n",
    "cycles = 30 # Number of models used for evaluation\n",
    "training_iterations = 150 # Default 150, optimal iteration count may change if model is modified\n",
    "folds = 7 # Number of folds in cross validation"
   ]
  },
  {
   "cell_type": "markdown",
   "metadata": {},
   "source": [
    "# Imports"
   ]
  },
  {
   "cell_type": "code",
   "execution_count": 136,
   "metadata": {},
   "outputs": [
    {
     "name": "stdout",
     "output_type": "stream",
     "text": [
      "The autoreload extension is already loaded. To reload it, use:\n",
      "  %reload_ext autoreload\n"
     ]
    }
   ],
   "source": [
    "import pandas as pd\n",
    "import os\n",
    "import numpy as np\n",
    "import torch\n",
    "import torch.nn.functional as F\n",
    "import gpytorch\n",
    "from sklearn.model_selection import KFold\n",
    "from math_functions import mean_squared_error, root_mean_squared_error, denoise_and_norm\n",
    "from sklearn.metrics import r2_score\n",
    "import tqdm\n",
    "import matplotlib.pyplot as plt\n",
    "\n",
    "%matplotlib inline\n",
    "%load_ext autoreload\n",
    "%autoreload 2"
   ]
  },
  {
   "cell_type": "markdown",
   "metadata": {},
   "source": [
    "# Data preprocessing"
   ]
  },
  {
   "cell_type": "markdown",
   "metadata": {},
   "source": [
    "#### Sample Information"
   ]
  },
  {
   "cell_type": "code",
   "execution_count": 137,
   "metadata": {},
   "outputs": [
    {
     "name": "stdout",
     "output_type": "stream",
     "text": [
      "Sample name     object\n",
      "Irradiation      int64\n",
      "ET_1AU         float64\n",
      "group            int64\n",
      "dtype: object \n",
      "\n"
     ]
    },
    {
     "data": {
      "text/html": [
       "<div>\n",
       "<style scoped>\n",
       "    .dataframe tbody tr th:only-of-type {\n",
       "        vertical-align: middle;\n",
       "    }\n",
       "\n",
       "    .dataframe tbody tr th {\n",
       "        vertical-align: top;\n",
       "    }\n",
       "\n",
       "    .dataframe thead th {\n",
       "        text-align: right;\n",
       "    }\n",
       "</style>\n",
       "<table border=\"1\" class=\"dataframe\">\n",
       "  <thead>\n",
       "    <tr style=\"text-align: right;\">\n",
       "      <th></th>\n",
       "      <th>Sample name</th>\n",
       "      <th>Irradiation</th>\n",
       "      <th>ET_1AU</th>\n",
       "      <th>group</th>\n",
       "    </tr>\n",
       "  </thead>\n",
       "  <tbody>\n",
       "    <tr>\n",
       "      <th>0</th>\n",
       "      <td>PO_TXH_007</td>\n",
       "      <td>10</td>\n",
       "      <td>3.382378e+08</td>\n",
       "      <td>8</td>\n",
       "    </tr>\n",
       "    <tr>\n",
       "      <th>1</th>\n",
       "      <td>PO_TXH_008</td>\n",
       "      <td>10</td>\n",
       "      <td>6.764756e+08</td>\n",
       "      <td>8</td>\n",
       "    </tr>\n",
       "    <tr>\n",
       "      <th>2</th>\n",
       "      <td>PO_TXH_081_CP1</td>\n",
       "      <td>10</td>\n",
       "      <td>3.382378e+08</td>\n",
       "      <td>8</td>\n",
       "    </tr>\n",
       "    <tr>\n",
       "      <th>3</th>\n",
       "      <td>PO_TXH_081_CP2</td>\n",
       "      <td>10</td>\n",
       "      <td>6.764756e+08</td>\n",
       "      <td>8</td>\n",
       "    </tr>\n",
       "    <tr>\n",
       "      <th>4</th>\n",
       "      <td>RB_LE4OLV</td>\n",
       "      <td>10</td>\n",
       "      <td>7.610350e+08</td>\n",
       "      <td>8</td>\n",
       "    </tr>\n",
       "    <tr>\n",
       "      <th>...</th>\n",
       "      <td>...</td>\n",
       "      <td>...</td>\n",
       "      <td>...</td>\n",
       "      <td>...</td>\n",
       "    </tr>\n",
       "    <tr>\n",
       "      <th>204</th>\n",
       "      <td>OC_LP_A2_3</td>\n",
       "      <td>3</td>\n",
       "      <td>2.361833e+02</td>\n",
       "      <td>2</td>\n",
       "    </tr>\n",
       "    <tr>\n",
       "      <th>205</th>\n",
       "      <td>OC_LP_A3_3</td>\n",
       "      <td>3</td>\n",
       "      <td>5.992057e+02</td>\n",
       "      <td>2</td>\n",
       "    </tr>\n",
       "    <tr>\n",
       "      <th>206</th>\n",
       "      <td>MJL_OLV_1</td>\n",
       "      <td>9</td>\n",
       "      <td>1.001362e+03</td>\n",
       "      <td>3</td>\n",
       "    </tr>\n",
       "    <tr>\n",
       "      <th>207</th>\n",
       "      <td>MJL_OLV_2</td>\n",
       "      <td>9</td>\n",
       "      <td>3.538145e+03</td>\n",
       "      <td>3</td>\n",
       "    </tr>\n",
       "    <tr>\n",
       "      <th>208</th>\n",
       "      <td>MJL_OLV_3</td>\n",
       "      <td>9</td>\n",
       "      <td>1.668936e+04</td>\n",
       "      <td>3</td>\n",
       "    </tr>\n",
       "  </tbody>\n",
       "</table>\n",
       "<p>209 rows × 4 columns</p>\n",
       "</div>"
      ],
      "text/plain": [
       "        Sample name  Irradiation        ET_1AU  group\n",
       "0        PO_TXH_007           10  3.382378e+08      8\n",
       "1        PO_TXH_008           10  6.764756e+08      8\n",
       "2    PO_TXH_081_CP1           10  3.382378e+08      8\n",
       "3    PO_TXH_081_CP2           10  6.764756e+08      8\n",
       "4         RB_LE4OLV           10  7.610350e+08      8\n",
       "..              ...          ...           ...    ...\n",
       "204      OC_LP_A2_3            3  2.361833e+02      2\n",
       "205      OC_LP_A3_3            3  5.992057e+02      2\n",
       "206       MJL_OLV_1            9  1.001362e+03      3\n",
       "207       MJL_OLV_2            9  3.538145e+03      3\n",
       "208       MJL_OLV_3            9  1.668936e+04      3\n",
       "\n",
       "[209 rows x 4 columns]"
      ]
     },
     "execution_count": 137,
     "metadata": {},
     "output_type": "execute_result"
    }
   ],
   "source": [
    "file_path = 'data/data_all_no0_only_important.csv'\n",
    "sample_info = pd.read_csv(file_path, dtype={'Sample name': str, 'Irradiation': int, 'ET_1AU': float, 'group': int})\n",
    "\n",
    "print(sample_info.dtypes, '\\n')\n",
    "sample_info"
   ]
  },
  {
   "cell_type": "markdown",
   "metadata": {},
   "source": [
    "#### Load Wavelength and Reflectance"
   ]
  },
  {
   "cell_type": "code",
   "execution_count": 138,
   "metadata": {},
   "outputs": [],
   "source": [
    "extract_path = 'data/reflectance_data'\n",
    "\n",
    "too_large_first_wavelength = ['MJL_OLV_1', 'MJL_OLV_2', 'MJL_OLV_3']# These have too large first wavelength\n",
    "discarded_samples = ['KC_OL_lm_12', 'KC_OL_lvn_12', 'RB_LE3CPX', 'KC_OPX_lvn_11', 'KC_OPX_lm_11', 'TJ_OPX_1'] # Discarded because exposure times were unrealisticly high\n",
    "unwanted_samples = too_large_first_wavelength + discarded_samples\n",
    "\n",
    "# Initialize empty dictionaries to hold data for W and R\n",
    "w_data = {}\n",
    "r_data = {}\n",
    "\n",
    "# Iterate through the extracted files and process CSV files\n",
    "for root, dirs, files in os.walk(extract_path):\n",
    "    for file in files:\n",
    "        if file.endswith('.csv'):\n",
    "            file_path = os.path.join(root, file)\n",
    "            df = pd.read_csv(file_path, header=None)\n",
    "\n",
    "            # Extract the filename without extension to use as column header\n",
    "            file_name = file.split('.')[0]\n",
    "            if file_name in sample_info['Sample name'].values and file_name not in unwanted_samples:\n",
    "                df.columns = df.iloc[1]\n",
    "                df = df[2:].astype(float)\n",
    "\n",
    "                wavelengths = df[\"W\"].to_numpy() * 1000\n",
    "                reflectances = df[\"R\"].to_numpy()\n",
    "\n",
    "                w_data[file_name] = wavelengths\n",
    "                r_data[file_name] = reflectances"
   ]
  },
  {
   "cell_type": "markdown",
   "metadata": {},
   "source": [
    "#### Preprocess Wavelength Data"
   ]
  },
  {
   "cell_type": "code",
   "execution_count": 139,
   "metadata": {},
   "outputs": [
    {
     "name": "stdout",
     "output_type": "stream",
     "text": [
      "540.88\n",
      "2480.84157\n"
     ]
    },
    {
     "data": {
      "text/html": [
       "<div>\n",
       "<style scoped>\n",
       "    .dataframe tbody tr th:only-of-type {\n",
       "        vertical-align: middle;\n",
       "    }\n",
       "\n",
       "    .dataframe tbody tr th {\n",
       "        vertical-align: top;\n",
       "    }\n",
       "\n",
       "    .dataframe thead th {\n",
       "        text-align: right;\n",
       "    }\n",
       "</style>\n",
       "<table border=\"1\" class=\"dataframe\">\n",
       "  <thead>\n",
       "    <tr style=\"text-align: right;\">\n",
       "      <th></th>\n",
       "      <th>OC_LP_B2_1</th>\n",
       "      <th>KC_OPX_hevn_1</th>\n",
       "      <th>KC_OPX_lm_9</th>\n",
       "      <th>OC_TXH_011_A60</th>\n",
       "      <th>RB_LE4OLV</th>\n",
       "      <th>KC_OL_arvn_5</th>\n",
       "      <th>OWN_OL4_EN1_1</th>\n",
       "      <th>MY_OL_30</th>\n",
       "      <th>XT_TXH_030_P2</th>\n",
       "      <th>KC_OPX_lm_8</th>\n",
       "      <th>...</th>\n",
       "      <th>KC_OPX_lvn_1</th>\n",
       "      <th>KC_OPX_lvn_10</th>\n",
       "      <th>OC_TXH_013_P05</th>\n",
       "      <th>KC_OPX_hevn_3</th>\n",
       "      <th>KC_OL_hm_2</th>\n",
       "      <th>OC_LP_A3_1</th>\n",
       "      <th>KC_OPX_arvn_5</th>\n",
       "      <th>RB_LE2CPX</th>\n",
       "      <th>KC_OL_arm_1</th>\n",
       "      <th>OC_LP_A2_2</th>\n",
       "    </tr>\n",
       "  </thead>\n",
       "  <tbody>\n",
       "    <tr>\n",
       "      <th>0</th>\n",
       "      <td>250.0</td>\n",
       "      <td>540.88</td>\n",
       "      <td>500.12</td>\n",
       "      <td>300.0</td>\n",
       "      <td>250.0</td>\n",
       "      <td>540.88</td>\n",
       "      <td>496.605913</td>\n",
       "      <td>255.855137</td>\n",
       "      <td>280.0</td>\n",
       "      <td>500.12</td>\n",
       "      <td>...</td>\n",
       "      <td>450.10</td>\n",
       "      <td>450.10</td>\n",
       "      <td>250.0</td>\n",
       "      <td>540.88</td>\n",
       "      <td>500.12</td>\n",
       "      <td>250.0</td>\n",
       "      <td>540.88</td>\n",
       "      <td>250.0</td>\n",
       "      <td>500.12</td>\n",
       "      <td>250.0</td>\n",
       "    </tr>\n",
       "    <tr>\n",
       "      <th>1</th>\n",
       "      <td>255.0</td>\n",
       "      <td>541.33</td>\n",
       "      <td>500.31</td>\n",
       "      <td>305.0</td>\n",
       "      <td>251.0</td>\n",
       "      <td>541.33</td>\n",
       "      <td>498.919256</td>\n",
       "      <td>258.242041</td>\n",
       "      <td>285.0</td>\n",
       "      <td>500.31</td>\n",
       "      <td>...</td>\n",
       "      <td>450.26</td>\n",
       "      <td>450.26</td>\n",
       "      <td>255.0</td>\n",
       "      <td>541.33</td>\n",
       "      <td>500.31</td>\n",
       "      <td>255.0</td>\n",
       "      <td>541.33</td>\n",
       "      <td>251.0</td>\n",
       "      <td>500.31</td>\n",
       "      <td>255.0</td>\n",
       "    </tr>\n",
       "    <tr>\n",
       "      <th>2</th>\n",
       "      <td>260.0</td>\n",
       "      <td>541.79</td>\n",
       "      <td>500.50</td>\n",
       "      <td>310.0</td>\n",
       "      <td>252.0</td>\n",
       "      <td>541.79</td>\n",
       "      <td>500.461484</td>\n",
       "      <td>261.023115</td>\n",
       "      <td>290.0</td>\n",
       "      <td>500.50</td>\n",
       "      <td>...</td>\n",
       "      <td>450.42</td>\n",
       "      <td>450.42</td>\n",
       "      <td>260.0</td>\n",
       "      <td>541.79</td>\n",
       "      <td>500.50</td>\n",
       "      <td>260.0</td>\n",
       "      <td>541.79</td>\n",
       "      <td>252.0</td>\n",
       "      <td>500.50</td>\n",
       "      <td>260.0</td>\n",
       "    </tr>\n",
       "    <tr>\n",
       "      <th>3</th>\n",
       "      <td>265.0</td>\n",
       "      <td>542.24</td>\n",
       "      <td>500.70</td>\n",
       "      <td>315.0</td>\n",
       "      <td>253.0</td>\n",
       "      <td>542.24</td>\n",
       "      <td>502.260751</td>\n",
       "      <td>263.815131</td>\n",
       "      <td>295.0</td>\n",
       "      <td>500.70</td>\n",
       "      <td>...</td>\n",
       "      <td>450.57</td>\n",
       "      <td>450.57</td>\n",
       "      <td>265.0</td>\n",
       "      <td>542.24</td>\n",
       "      <td>500.70</td>\n",
       "      <td>265.0</td>\n",
       "      <td>542.24</td>\n",
       "      <td>253.0</td>\n",
       "      <td>500.70</td>\n",
       "      <td>265.0</td>\n",
       "    </tr>\n",
       "    <tr>\n",
       "      <th>4</th>\n",
       "      <td>270.0</td>\n",
       "      <td>542.69</td>\n",
       "      <td>500.89</td>\n",
       "      <td>320.0</td>\n",
       "      <td>254.0</td>\n",
       "      <td>542.69</td>\n",
       "      <td>503.288903</td>\n",
       "      <td>266.194741</td>\n",
       "      <td>300.0</td>\n",
       "      <td>500.89</td>\n",
       "      <td>...</td>\n",
       "      <td>450.73</td>\n",
       "      <td>450.73</td>\n",
       "      <td>270.0</td>\n",
       "      <td>542.69</td>\n",
       "      <td>500.89</td>\n",
       "      <td>270.0</td>\n",
       "      <td>542.69</td>\n",
       "      <td>254.0</td>\n",
       "      <td>500.89</td>\n",
       "      <td>270.0</td>\n",
       "    </tr>\n",
       "    <tr>\n",
       "      <th>...</th>\n",
       "      <td>...</td>\n",
       "      <td>...</td>\n",
       "      <td>...</td>\n",
       "      <td>...</td>\n",
       "      <td>...</td>\n",
       "      <td>...</td>\n",
       "      <td>...</td>\n",
       "      <td>...</td>\n",
       "      <td>...</td>\n",
       "      <td>...</td>\n",
       "      <td>...</td>\n",
       "      <td>...</td>\n",
       "      <td>...</td>\n",
       "      <td>...</td>\n",
       "      <td>...</td>\n",
       "      <td>...</td>\n",
       "      <td>...</td>\n",
       "      <td>...</td>\n",
       "      <td>...</td>\n",
       "      <td>...</td>\n",
       "      <td>...</td>\n",
       "    </tr>\n",
       "    <tr>\n",
       "      <th>4651</th>\n",
       "      <td>NaN</td>\n",
       "      <td>NaN</td>\n",
       "      <td>NaN</td>\n",
       "      <td>NaN</td>\n",
       "      <td>NaN</td>\n",
       "      <td>NaN</td>\n",
       "      <td>NaN</td>\n",
       "      <td>NaN</td>\n",
       "      <td>NaN</td>\n",
       "      <td>NaN</td>\n",
       "      <td>...</td>\n",
       "      <td>2494.10</td>\n",
       "      <td>2494.10</td>\n",
       "      <td>NaN</td>\n",
       "      <td>NaN</td>\n",
       "      <td>NaN</td>\n",
       "      <td>NaN</td>\n",
       "      <td>NaN</td>\n",
       "      <td>NaN</td>\n",
       "      <td>NaN</td>\n",
       "      <td>NaN</td>\n",
       "    </tr>\n",
       "    <tr>\n",
       "      <th>4652</th>\n",
       "      <td>NaN</td>\n",
       "      <td>NaN</td>\n",
       "      <td>NaN</td>\n",
       "      <td>NaN</td>\n",
       "      <td>NaN</td>\n",
       "      <td>NaN</td>\n",
       "      <td>NaN</td>\n",
       "      <td>NaN</td>\n",
       "      <td>NaN</td>\n",
       "      <td>NaN</td>\n",
       "      <td>...</td>\n",
       "      <td>2495.30</td>\n",
       "      <td>2495.30</td>\n",
       "      <td>NaN</td>\n",
       "      <td>NaN</td>\n",
       "      <td>NaN</td>\n",
       "      <td>NaN</td>\n",
       "      <td>NaN</td>\n",
       "      <td>NaN</td>\n",
       "      <td>NaN</td>\n",
       "      <td>NaN</td>\n",
       "    </tr>\n",
       "    <tr>\n",
       "      <th>4653</th>\n",
       "      <td>NaN</td>\n",
       "      <td>NaN</td>\n",
       "      <td>NaN</td>\n",
       "      <td>NaN</td>\n",
       "      <td>NaN</td>\n",
       "      <td>NaN</td>\n",
       "      <td>NaN</td>\n",
       "      <td>NaN</td>\n",
       "      <td>NaN</td>\n",
       "      <td>NaN</td>\n",
       "      <td>...</td>\n",
       "      <td>2496.50</td>\n",
       "      <td>2496.50</td>\n",
       "      <td>NaN</td>\n",
       "      <td>NaN</td>\n",
       "      <td>NaN</td>\n",
       "      <td>NaN</td>\n",
       "      <td>NaN</td>\n",
       "      <td>NaN</td>\n",
       "      <td>NaN</td>\n",
       "      <td>NaN</td>\n",
       "    </tr>\n",
       "    <tr>\n",
       "      <th>4654</th>\n",
       "      <td>NaN</td>\n",
       "      <td>NaN</td>\n",
       "      <td>NaN</td>\n",
       "      <td>NaN</td>\n",
       "      <td>NaN</td>\n",
       "      <td>NaN</td>\n",
       "      <td>NaN</td>\n",
       "      <td>NaN</td>\n",
       "      <td>NaN</td>\n",
       "      <td>NaN</td>\n",
       "      <td>...</td>\n",
       "      <td>2497.70</td>\n",
       "      <td>2497.70</td>\n",
       "      <td>NaN</td>\n",
       "      <td>NaN</td>\n",
       "      <td>NaN</td>\n",
       "      <td>NaN</td>\n",
       "      <td>NaN</td>\n",
       "      <td>NaN</td>\n",
       "      <td>NaN</td>\n",
       "      <td>NaN</td>\n",
       "    </tr>\n",
       "    <tr>\n",
       "      <th>4655</th>\n",
       "      <td>NaN</td>\n",
       "      <td>NaN</td>\n",
       "      <td>NaN</td>\n",
       "      <td>NaN</td>\n",
       "      <td>NaN</td>\n",
       "      <td>NaN</td>\n",
       "      <td>NaN</td>\n",
       "      <td>NaN</td>\n",
       "      <td>NaN</td>\n",
       "      <td>NaN</td>\n",
       "      <td>...</td>\n",
       "      <td>2498.90</td>\n",
       "      <td>2498.90</td>\n",
       "      <td>NaN</td>\n",
       "      <td>NaN</td>\n",
       "      <td>NaN</td>\n",
       "      <td>NaN</td>\n",
       "      <td>NaN</td>\n",
       "      <td>NaN</td>\n",
       "      <td>NaN</td>\n",
       "      <td>NaN</td>\n",
       "    </tr>\n",
       "  </tbody>\n",
       "</table>\n",
       "<p>4656 rows × 200 columns</p>\n",
       "</div>"
      ],
      "text/plain": [
       "      OC_LP_B2_1  KC_OPX_hevn_1  KC_OPX_lm_9  OC_TXH_011_A60  RB_LE4OLV  \\\n",
       "0          250.0         540.88       500.12           300.0      250.0   \n",
       "1          255.0         541.33       500.31           305.0      251.0   \n",
       "2          260.0         541.79       500.50           310.0      252.0   \n",
       "3          265.0         542.24       500.70           315.0      253.0   \n",
       "4          270.0         542.69       500.89           320.0      254.0   \n",
       "...          ...            ...          ...             ...        ...   \n",
       "4651         NaN            NaN          NaN             NaN        NaN   \n",
       "4652         NaN            NaN          NaN             NaN        NaN   \n",
       "4653         NaN            NaN          NaN             NaN        NaN   \n",
       "4654         NaN            NaN          NaN             NaN        NaN   \n",
       "4655         NaN            NaN          NaN             NaN        NaN   \n",
       "\n",
       "      KC_OL_arvn_5  OWN_OL4_EN1_1    MY_OL_30  XT_TXH_030_P2  KC_OPX_lm_8  \\\n",
       "0           540.88     496.605913  255.855137          280.0       500.12   \n",
       "1           541.33     498.919256  258.242041          285.0       500.31   \n",
       "2           541.79     500.461484  261.023115          290.0       500.50   \n",
       "3           542.24     502.260751  263.815131          295.0       500.70   \n",
       "4           542.69     503.288903  266.194741          300.0       500.89   \n",
       "...            ...            ...         ...            ...          ...   \n",
       "4651           NaN            NaN         NaN            NaN          NaN   \n",
       "4652           NaN            NaN         NaN            NaN          NaN   \n",
       "4653           NaN            NaN         NaN            NaN          NaN   \n",
       "4654           NaN            NaN         NaN            NaN          NaN   \n",
       "4655           NaN            NaN         NaN            NaN          NaN   \n",
       "\n",
       "      ...  KC_OPX_lvn_1  KC_OPX_lvn_10  OC_TXH_013_P05  KC_OPX_hevn_3  \\\n",
       "0     ...        450.10         450.10           250.0         540.88   \n",
       "1     ...        450.26         450.26           255.0         541.33   \n",
       "2     ...        450.42         450.42           260.0         541.79   \n",
       "3     ...        450.57         450.57           265.0         542.24   \n",
       "4     ...        450.73         450.73           270.0         542.69   \n",
       "...   ...           ...            ...             ...            ...   \n",
       "4651  ...       2494.10        2494.10             NaN            NaN   \n",
       "4652  ...       2495.30        2495.30             NaN            NaN   \n",
       "4653  ...       2496.50        2496.50             NaN            NaN   \n",
       "4654  ...       2497.70        2497.70             NaN            NaN   \n",
       "4655  ...       2498.90        2498.90             NaN            NaN   \n",
       "\n",
       "      KC_OL_hm_2  OC_LP_A3_1  KC_OPX_arvn_5  RB_LE2CPX  KC_OL_arm_1  \\\n",
       "0         500.12       250.0         540.88      250.0       500.12   \n",
       "1         500.31       255.0         541.33      251.0       500.31   \n",
       "2         500.50       260.0         541.79      252.0       500.50   \n",
       "3         500.70       265.0         542.24      253.0       500.70   \n",
       "4         500.89       270.0         542.69      254.0       500.89   \n",
       "...          ...         ...            ...        ...          ...   \n",
       "4651         NaN         NaN            NaN        NaN          NaN   \n",
       "4652         NaN         NaN            NaN        NaN          NaN   \n",
       "4653         NaN         NaN            NaN        NaN          NaN   \n",
       "4654         NaN         NaN            NaN        NaN          NaN   \n",
       "4655         NaN         NaN            NaN        NaN          NaN   \n",
       "\n",
       "      OC_LP_A2_2  \n",
       "0          250.0  \n",
       "1          255.0  \n",
       "2          260.0  \n",
       "3          265.0  \n",
       "4          270.0  \n",
       "...          ...  \n",
       "4651         NaN  \n",
       "4652         NaN  \n",
       "4653         NaN  \n",
       "4654         NaN  \n",
       "4655         NaN  \n",
       "\n",
       "[4656 rows x 200 columns]"
      ]
     },
     "execution_count": 139,
     "metadata": {},
     "output_type": "execute_result"
    }
   ],
   "source": [
    "max_first_wavelength = float('-inf')\n",
    "for key, value in w_data.items():\n",
    "    if value[0] > max_first_wavelength:\n",
    "        max_first_wavelength = value[0]\n",
    "print(max_first_wavelength)\n",
    "\n",
    "min_last_wavelength = float('inf')\n",
    "for key, value in w_data.items():\n",
    "    if value[-1] < min_last_wavelength:\n",
    "        min_last_wavelength = value[-1]\n",
    "print(min_last_wavelength)\n",
    "\n",
    "# Convert the dictionaries to DataFrames\n",
    "w_df = pd.DataFrame(dict([(k, pd.Series(v)) for k, v in w_data.items()]))\n",
    "\n",
    "w_df"
   ]
  },
  {
   "cell_type": "markdown",
   "metadata": {},
   "source": [
    "#### Preprocess Reflectance Data"
   ]
  },
  {
   "cell_type": "code",
   "execution_count": 140,
   "metadata": {},
   "outputs": [
    {
     "data": {
      "text/html": [
       "<div>\n",
       "<style scoped>\n",
       "    .dataframe tbody tr th:only-of-type {\n",
       "        vertical-align: middle;\n",
       "    }\n",
       "\n",
       "    .dataframe tbody tr th {\n",
       "        vertical-align: top;\n",
       "    }\n",
       "\n",
       "    .dataframe thead th {\n",
       "        text-align: right;\n",
       "    }\n",
       "</style>\n",
       "<table border=\"1\" class=\"dataframe\">\n",
       "  <thead>\n",
       "    <tr style=\"text-align: right;\">\n",
       "      <th></th>\n",
       "      <th>OC_LP_B2_1</th>\n",
       "      <th>KC_OPX_hevn_1</th>\n",
       "      <th>KC_OPX_lm_9</th>\n",
       "      <th>OC_TXH_011_A60</th>\n",
       "      <th>RB_LE4OLV</th>\n",
       "      <th>KC_OL_arvn_5</th>\n",
       "      <th>OWN_OL4_EN1_1</th>\n",
       "      <th>MY_OL_30</th>\n",
       "      <th>XT_TXH_030_P2</th>\n",
       "      <th>KC_OPX_lm_8</th>\n",
       "      <th>...</th>\n",
       "      <th>KC_OPX_lvn_1</th>\n",
       "      <th>KC_OPX_lvn_10</th>\n",
       "      <th>OC_TXH_013_P05</th>\n",
       "      <th>KC_OPX_hevn_3</th>\n",
       "      <th>KC_OL_hm_2</th>\n",
       "      <th>OC_LP_A3_1</th>\n",
       "      <th>KC_OPX_arvn_5</th>\n",
       "      <th>RB_LE2CPX</th>\n",
       "      <th>KC_OL_arm_1</th>\n",
       "      <th>OC_LP_A2_2</th>\n",
       "    </tr>\n",
       "  </thead>\n",
       "  <tbody>\n",
       "    <tr>\n",
       "      <th>0</th>\n",
       "      <td>0.091267</td>\n",
       "      <td>0.30316</td>\n",
       "      <td>0.17514</td>\n",
       "      <td>0.08142</td>\n",
       "      <td>0.102687</td>\n",
       "      <td>0.69376</td>\n",
       "      <td>0.222230</td>\n",
       "      <td>0.078070</td>\n",
       "      <td>0.19662</td>\n",
       "      <td>0.18813</td>\n",
       "      <td>...</td>\n",
       "      <td>0.29841</td>\n",
       "      <td>0.10807</td>\n",
       "      <td>0.087242</td>\n",
       "      <td>0.29999</td>\n",
       "      <td>0.66890</td>\n",
       "      <td>0.073795</td>\n",
       "      <td>0.30564</td>\n",
       "      <td>0.139433</td>\n",
       "      <td>0.45412</td>\n",
       "      <td>0.068925</td>\n",
       "    </tr>\n",
       "    <tr>\n",
       "      <th>1</th>\n",
       "      <td>0.095063</td>\n",
       "      <td>0.30342</td>\n",
       "      <td>0.15834</td>\n",
       "      <td>0.08278</td>\n",
       "      <td>0.102185</td>\n",
       "      <td>0.69462</td>\n",
       "      <td>0.222707</td>\n",
       "      <td>0.079495</td>\n",
       "      <td>0.14896</td>\n",
       "      <td>0.18181</td>\n",
       "      <td>...</td>\n",
       "      <td>0.29947</td>\n",
       "      <td>0.10395</td>\n",
       "      <td>0.088632</td>\n",
       "      <td>0.30073</td>\n",
       "      <td>0.66179</td>\n",
       "      <td>0.075704</td>\n",
       "      <td>0.30569</td>\n",
       "      <td>0.138631</td>\n",
       "      <td>0.44680</td>\n",
       "      <td>0.070946</td>\n",
       "    </tr>\n",
       "    <tr>\n",
       "      <th>2</th>\n",
       "      <td>0.099236</td>\n",
       "      <td>0.30346</td>\n",
       "      <td>0.15316</td>\n",
       "      <td>0.08263</td>\n",
       "      <td>0.102471</td>\n",
       "      <td>0.69529</td>\n",
       "      <td>0.223281</td>\n",
       "      <td>0.080919</td>\n",
       "      <td>0.13586</td>\n",
       "      <td>0.16909</td>\n",
       "      <td>...</td>\n",
       "      <td>0.29177</td>\n",
       "      <td>0.10738</td>\n",
       "      <td>0.088888</td>\n",
       "      <td>0.30058</td>\n",
       "      <td>0.66537</td>\n",
       "      <td>0.077820</td>\n",
       "      <td>0.30536</td>\n",
       "      <td>0.138315</td>\n",
       "      <td>0.44301</td>\n",
       "      <td>0.073034</td>\n",
       "    </tr>\n",
       "    <tr>\n",
       "      <th>3</th>\n",
       "      <td>0.103076</td>\n",
       "      <td>0.30354</td>\n",
       "      <td>0.15552</td>\n",
       "      <td>0.08353</td>\n",
       "      <td>0.102007</td>\n",
       "      <td>0.69547</td>\n",
       "      <td>0.223663</td>\n",
       "      <td>0.083058</td>\n",
       "      <td>0.13219</td>\n",
       "      <td>0.16247</td>\n",
       "      <td>...</td>\n",
       "      <td>0.28526</td>\n",
       "      <td>0.11490</td>\n",
       "      <td>0.087427</td>\n",
       "      <td>0.30090</td>\n",
       "      <td>0.66944</td>\n",
       "      <td>0.079724</td>\n",
       "      <td>0.30506</td>\n",
       "      <td>0.138342</td>\n",
       "      <td>0.43171</td>\n",
       "      <td>0.074928</td>\n",
       "    </tr>\n",
       "    <tr>\n",
       "      <th>4</th>\n",
       "      <td>0.107064</td>\n",
       "      <td>0.30343</td>\n",
       "      <td>0.15903</td>\n",
       "      <td>0.08438</td>\n",
       "      <td>0.101547</td>\n",
       "      <td>0.69554</td>\n",
       "      <td>0.224141</td>\n",
       "      <td>0.084007</td>\n",
       "      <td>0.13455</td>\n",
       "      <td>0.16843</td>\n",
       "      <td>...</td>\n",
       "      <td>0.28488</td>\n",
       "      <td>0.13047</td>\n",
       "      <td>0.088377</td>\n",
       "      <td>0.30071</td>\n",
       "      <td>0.66752</td>\n",
       "      <td>0.081352</td>\n",
       "      <td>0.30471</td>\n",
       "      <td>0.137929</td>\n",
       "      <td>0.43110</td>\n",
       "      <td>0.076659</td>\n",
       "    </tr>\n",
       "    <tr>\n",
       "      <th>...</th>\n",
       "      <td>...</td>\n",
       "      <td>...</td>\n",
       "      <td>...</td>\n",
       "      <td>...</td>\n",
       "      <td>...</td>\n",
       "      <td>...</td>\n",
       "      <td>...</td>\n",
       "      <td>...</td>\n",
       "      <td>...</td>\n",
       "      <td>...</td>\n",
       "      <td>...</td>\n",
       "      <td>...</td>\n",
       "      <td>...</td>\n",
       "      <td>...</td>\n",
       "      <td>...</td>\n",
       "      <td>...</td>\n",
       "      <td>...</td>\n",
       "      <td>...</td>\n",
       "      <td>...</td>\n",
       "      <td>...</td>\n",
       "      <td>...</td>\n",
       "    </tr>\n",
       "    <tr>\n",
       "      <th>4651</th>\n",
       "      <td>NaN</td>\n",
       "      <td>NaN</td>\n",
       "      <td>NaN</td>\n",
       "      <td>NaN</td>\n",
       "      <td>NaN</td>\n",
       "      <td>NaN</td>\n",
       "      <td>NaN</td>\n",
       "      <td>NaN</td>\n",
       "      <td>NaN</td>\n",
       "      <td>NaN</td>\n",
       "      <td>...</td>\n",
       "      <td>0.54237</td>\n",
       "      <td>0.43920</td>\n",
       "      <td>NaN</td>\n",
       "      <td>NaN</td>\n",
       "      <td>NaN</td>\n",
       "      <td>NaN</td>\n",
       "      <td>NaN</td>\n",
       "      <td>NaN</td>\n",
       "      <td>NaN</td>\n",
       "      <td>NaN</td>\n",
       "    </tr>\n",
       "    <tr>\n",
       "      <th>4652</th>\n",
       "      <td>NaN</td>\n",
       "      <td>NaN</td>\n",
       "      <td>NaN</td>\n",
       "      <td>NaN</td>\n",
       "      <td>NaN</td>\n",
       "      <td>NaN</td>\n",
       "      <td>NaN</td>\n",
       "      <td>NaN</td>\n",
       "      <td>NaN</td>\n",
       "      <td>NaN</td>\n",
       "      <td>...</td>\n",
       "      <td>0.54303</td>\n",
       "      <td>0.43950</td>\n",
       "      <td>NaN</td>\n",
       "      <td>NaN</td>\n",
       "      <td>NaN</td>\n",
       "      <td>NaN</td>\n",
       "      <td>NaN</td>\n",
       "      <td>NaN</td>\n",
       "      <td>NaN</td>\n",
       "      <td>NaN</td>\n",
       "    </tr>\n",
       "    <tr>\n",
       "      <th>4653</th>\n",
       "      <td>NaN</td>\n",
       "      <td>NaN</td>\n",
       "      <td>NaN</td>\n",
       "      <td>NaN</td>\n",
       "      <td>NaN</td>\n",
       "      <td>NaN</td>\n",
       "      <td>NaN</td>\n",
       "      <td>NaN</td>\n",
       "      <td>NaN</td>\n",
       "      <td>NaN</td>\n",
       "      <td>...</td>\n",
       "      <td>0.54355</td>\n",
       "      <td>0.43975</td>\n",
       "      <td>NaN</td>\n",
       "      <td>NaN</td>\n",
       "      <td>NaN</td>\n",
       "      <td>NaN</td>\n",
       "      <td>NaN</td>\n",
       "      <td>NaN</td>\n",
       "      <td>NaN</td>\n",
       "      <td>NaN</td>\n",
       "    </tr>\n",
       "    <tr>\n",
       "      <th>4654</th>\n",
       "      <td>NaN</td>\n",
       "      <td>NaN</td>\n",
       "      <td>NaN</td>\n",
       "      <td>NaN</td>\n",
       "      <td>NaN</td>\n",
       "      <td>NaN</td>\n",
       "      <td>NaN</td>\n",
       "      <td>NaN</td>\n",
       "      <td>NaN</td>\n",
       "      <td>NaN</td>\n",
       "      <td>...</td>\n",
       "      <td>0.54356</td>\n",
       "      <td>0.43966</td>\n",
       "      <td>NaN</td>\n",
       "      <td>NaN</td>\n",
       "      <td>NaN</td>\n",
       "      <td>NaN</td>\n",
       "      <td>NaN</td>\n",
       "      <td>NaN</td>\n",
       "      <td>NaN</td>\n",
       "      <td>NaN</td>\n",
       "    </tr>\n",
       "    <tr>\n",
       "      <th>4655</th>\n",
       "      <td>NaN</td>\n",
       "      <td>NaN</td>\n",
       "      <td>NaN</td>\n",
       "      <td>NaN</td>\n",
       "      <td>NaN</td>\n",
       "      <td>NaN</td>\n",
       "      <td>NaN</td>\n",
       "      <td>NaN</td>\n",
       "      <td>NaN</td>\n",
       "      <td>NaN</td>\n",
       "      <td>...</td>\n",
       "      <td>0.54482</td>\n",
       "      <td>0.44079</td>\n",
       "      <td>NaN</td>\n",
       "      <td>NaN</td>\n",
       "      <td>NaN</td>\n",
       "      <td>NaN</td>\n",
       "      <td>NaN</td>\n",
       "      <td>NaN</td>\n",
       "      <td>NaN</td>\n",
       "      <td>NaN</td>\n",
       "    </tr>\n",
       "  </tbody>\n",
       "</table>\n",
       "<p>4656 rows × 200 columns</p>\n",
       "</div>"
      ],
      "text/plain": [
       "      OC_LP_B2_1  KC_OPX_hevn_1  KC_OPX_lm_9  OC_TXH_011_A60  RB_LE4OLV  \\\n",
       "0       0.091267        0.30316      0.17514         0.08142   0.102687   \n",
       "1       0.095063        0.30342      0.15834         0.08278   0.102185   \n",
       "2       0.099236        0.30346      0.15316         0.08263   0.102471   \n",
       "3       0.103076        0.30354      0.15552         0.08353   0.102007   \n",
       "4       0.107064        0.30343      0.15903         0.08438   0.101547   \n",
       "...          ...            ...          ...             ...        ...   \n",
       "4651         NaN            NaN          NaN             NaN        NaN   \n",
       "4652         NaN            NaN          NaN             NaN        NaN   \n",
       "4653         NaN            NaN          NaN             NaN        NaN   \n",
       "4654         NaN            NaN          NaN             NaN        NaN   \n",
       "4655         NaN            NaN          NaN             NaN        NaN   \n",
       "\n",
       "      KC_OL_arvn_5  OWN_OL4_EN1_1  MY_OL_30  XT_TXH_030_P2  KC_OPX_lm_8  ...  \\\n",
       "0          0.69376       0.222230  0.078070        0.19662      0.18813  ...   \n",
       "1          0.69462       0.222707  0.079495        0.14896      0.18181  ...   \n",
       "2          0.69529       0.223281  0.080919        0.13586      0.16909  ...   \n",
       "3          0.69547       0.223663  0.083058        0.13219      0.16247  ...   \n",
       "4          0.69554       0.224141  0.084007        0.13455      0.16843  ...   \n",
       "...            ...            ...       ...            ...          ...  ...   \n",
       "4651           NaN            NaN       NaN            NaN          NaN  ...   \n",
       "4652           NaN            NaN       NaN            NaN          NaN  ...   \n",
       "4653           NaN            NaN       NaN            NaN          NaN  ...   \n",
       "4654           NaN            NaN       NaN            NaN          NaN  ...   \n",
       "4655           NaN            NaN       NaN            NaN          NaN  ...   \n",
       "\n",
       "      KC_OPX_lvn_1  KC_OPX_lvn_10  OC_TXH_013_P05  KC_OPX_hevn_3  KC_OL_hm_2  \\\n",
       "0          0.29841        0.10807        0.087242        0.29999     0.66890   \n",
       "1          0.29947        0.10395        0.088632        0.30073     0.66179   \n",
       "2          0.29177        0.10738        0.088888        0.30058     0.66537   \n",
       "3          0.28526        0.11490        0.087427        0.30090     0.66944   \n",
       "4          0.28488        0.13047        0.088377        0.30071     0.66752   \n",
       "...            ...            ...             ...            ...         ...   \n",
       "4651       0.54237        0.43920             NaN            NaN         NaN   \n",
       "4652       0.54303        0.43950             NaN            NaN         NaN   \n",
       "4653       0.54355        0.43975             NaN            NaN         NaN   \n",
       "4654       0.54356        0.43966             NaN            NaN         NaN   \n",
       "4655       0.54482        0.44079             NaN            NaN         NaN   \n",
       "\n",
       "      OC_LP_A3_1  KC_OPX_arvn_5  RB_LE2CPX  KC_OL_arm_1  OC_LP_A2_2  \n",
       "0       0.073795        0.30564   0.139433      0.45412    0.068925  \n",
       "1       0.075704        0.30569   0.138631      0.44680    0.070946  \n",
       "2       0.077820        0.30536   0.138315      0.44301    0.073034  \n",
       "3       0.079724        0.30506   0.138342      0.43171    0.074928  \n",
       "4       0.081352        0.30471   0.137929      0.43110    0.076659  \n",
       "...          ...            ...        ...          ...         ...  \n",
       "4651         NaN            NaN        NaN          NaN         NaN  \n",
       "4652         NaN            NaN        NaN          NaN         NaN  \n",
       "4653         NaN            NaN        NaN          NaN         NaN  \n",
       "4654         NaN            NaN        NaN          NaN         NaN  \n",
       "4655         NaN            NaN        NaN          NaN         NaN  \n",
       "\n",
       "[4656 rows x 200 columns]"
      ]
     },
     "execution_count": 140,
     "metadata": {},
     "output_type": "execute_result"
    }
   ],
   "source": [
    "r_df = pd.DataFrame(dict([(k, pd.Series(v)) for k, v in r_data.items()]))\n",
    "\n",
    "r_df"
   ]
  },
  {
   "cell_type": "markdown",
   "metadata": {},
   "source": [
    "#### Interpolate and Normalize Data"
   ]
  },
  {
   "cell_type": "code",
   "execution_count": 141,
   "metadata": {},
   "outputs": [
    {
     "data": {
      "image/png": "[encoded data removed]",
      "text/plain": [
       "<Figure size 640x480 with 1 Axes>"
      ]
     },
     "metadata": {},
     "output_type": "display_data"
    },
    {
     "data": {
      "text/html": [
       "<div>\n",
       "<style scoped>\n",
       "    .dataframe tbody tr th:only-of-type {\n",
       "        vertical-align: middle;\n",
       "    }\n",
       "\n",
       "    .dataframe tbody tr th {\n",
       "        vertical-align: top;\n",
       "    }\n",
       "\n",
       "    .dataframe thead th {\n",
       "        text-align: right;\n",
       "    }\n",
       "</style>\n",
       "<table border=\"1\" class=\"dataframe\">\n",
       "  <thead>\n",
       "    <tr style=\"text-align: right;\">\n",
       "      <th></th>\n",
       "      <th>OC_LP_B2_1</th>\n",
       "      <th>KC_OPX_hevn_1</th>\n",
       "      <th>KC_OPX_lm_9</th>\n",
       "      <th>OC_TXH_011_A60</th>\n",
       "      <th>RB_LE4OLV</th>\n",
       "      <th>KC_OL_arvn_5</th>\n",
       "      <th>OWN_OL4_EN1_1</th>\n",
       "      <th>MY_OL_30</th>\n",
       "      <th>XT_TXH_030_P2</th>\n",
       "      <th>KC_OPX_lm_8</th>\n",
       "      <th>...</th>\n",
       "      <th>KC_OPX_lvn_1</th>\n",
       "      <th>KC_OPX_lvn_10</th>\n",
       "      <th>OC_TXH_013_P05</th>\n",
       "      <th>KC_OPX_hevn_3</th>\n",
       "      <th>KC_OL_hm_2</th>\n",
       "      <th>OC_LP_A3_1</th>\n",
       "      <th>KC_OPX_arvn_5</th>\n",
       "      <th>RB_LE2CPX</th>\n",
       "      <th>KC_OL_arm_1</th>\n",
       "      <th>OC_LP_A2_2</th>\n",
       "    </tr>\n",
       "  </thead>\n",
       "  <tbody>\n",
       "    <tr>\n",
       "      <th>550.0</th>\n",
       "      <td>1.000000</td>\n",
       "      <td>1.000000</td>\n",
       "      <td>1.000000</td>\n",
       "      <td>1.000000</td>\n",
       "      <td>1.000000</td>\n",
       "      <td>1.000000</td>\n",
       "      <td>1.000000</td>\n",
       "      <td>1.000000</td>\n",
       "      <td>1.000000</td>\n",
       "      <td>1.000000</td>\n",
       "      <td>...</td>\n",
       "      <td>1.000000</td>\n",
       "      <td>1.000000</td>\n",
       "      <td>1.000000</td>\n",
       "      <td>1.000000</td>\n",
       "      <td>1.000000</td>\n",
       "      <td>1.000000</td>\n",
       "      <td>1.000000</td>\n",
       "      <td>1.000000</td>\n",
       "      <td>1.000000</td>\n",
       "      <td>1.000000</td>\n",
       "    </tr>\n",
       "    <tr>\n",
       "      <th>584.0</th>\n",
       "      <td>1.025818</td>\n",
       "      <td>1.023912</td>\n",
       "      <td>1.085563</td>\n",
       "      <td>1.038690</td>\n",
       "      <td>1.048641</td>\n",
       "      <td>1.012260</td>\n",
       "      <td>1.037647</td>\n",
       "      <td>1.063113</td>\n",
       "      <td>1.028520</td>\n",
       "      <td>1.101411</td>\n",
       "      <td>...</td>\n",
       "      <td>1.050305</td>\n",
       "      <td>1.090798</td>\n",
       "      <td>1.017611</td>\n",
       "      <td>1.025000</td>\n",
       "      <td>1.006495</td>\n",
       "      <td>1.088583</td>\n",
       "      <td>1.030655</td>\n",
       "      <td>1.035233</td>\n",
       "      <td>1.038322</td>\n",
       "      <td>1.105729</td>\n",
       "    </tr>\n",
       "    <tr>\n",
       "      <th>618.0</th>\n",
       "      <td>1.041532</td>\n",
       "      <td>1.056567</td>\n",
       "      <td>1.172919</td>\n",
       "      <td>1.068086</td>\n",
       "      <td>1.077656</td>\n",
       "      <td>1.007257</td>\n",
       "      <td>1.074555</td>\n",
       "      <td>1.109795</td>\n",
       "      <td>1.031543</td>\n",
       "      <td>1.182591</td>\n",
       "      <td>...</td>\n",
       "      <td>1.083221</td>\n",
       "      <td>1.163220</td>\n",
       "      <td>1.033550</td>\n",
       "      <td>1.061388</td>\n",
       "      <td>1.001083</td>\n",
       "      <td>1.151232</td>\n",
       "      <td>1.071262</td>\n",
       "      <td>1.065463</td>\n",
       "      <td>1.056541</td>\n",
       "      <td>1.175916</td>\n",
       "    </tr>\n",
       "    <tr>\n",
       "      <th>652.0</th>\n",
       "      <td>1.056156</td>\n",
       "      <td>1.101019</td>\n",
       "      <td>1.254283</td>\n",
       "      <td>1.096362</td>\n",
       "      <td>1.110248</td>\n",
       "      <td>1.008834</td>\n",
       "      <td>1.107209</td>\n",
       "      <td>1.143272</td>\n",
       "      <td>1.046723</td>\n",
       "      <td>1.254749</td>\n",
       "      <td>...</td>\n",
       "      <td>1.119670</td>\n",
       "      <td>1.229345</td>\n",
       "      <td>1.051170</td>\n",
       "      <td>1.110001</td>\n",
       "      <td>1.007799</td>\n",
       "      <td>1.191792</td>\n",
       "      <td>1.102640</td>\n",
       "      <td>1.092927</td>\n",
       "      <td>1.079361</td>\n",
       "      <td>1.219676</td>\n",
       "    </tr>\n",
       "    <tr>\n",
       "      <th>686.0</th>\n",
       "      <td>1.065866</td>\n",
       "      <td>1.144549</td>\n",
       "      <td>1.320872</td>\n",
       "      <td>1.113485</td>\n",
       "      <td>1.146285</td>\n",
       "      <td>1.009464</td>\n",
       "      <td>1.139044</td>\n",
       "      <td>1.185546</td>\n",
       "      <td>1.071987</td>\n",
       "      <td>1.329229</td>\n",
       "      <td>...</td>\n",
       "      <td>1.161474</td>\n",
       "      <td>1.286154</td>\n",
       "      <td>1.065420</td>\n",
       "      <td>1.147666</td>\n",
       "      <td>1.010311</td>\n",
       "      <td>1.219460</td>\n",
       "      <td>1.153756</td>\n",
       "      <td>1.119006</td>\n",
       "      <td>1.098171</td>\n",
       "      <td>1.247651</td>\n",
       "    </tr>\n",
       "    <tr>\n",
       "      <th>720.0</th>\n",
       "      <td>1.070456</td>\n",
       "      <td>1.187161</td>\n",
       "      <td>1.377180</td>\n",
       "      <td>1.115344</td>\n",
       "      <td>1.146664</td>\n",
       "      <td>0.983658</td>\n",
       "      <td>1.165315</td>\n",
       "      <td>1.198987</td>\n",
       "      <td>1.082094</td>\n",
       "      <td>1.380829</td>\n",
       "      <td>...</td>\n",
       "      <td>1.199106</td>\n",
       "      <td>1.328543</td>\n",
       "      <td>1.079248</td>\n",
       "      <td>1.188370</td>\n",
       "      <td>0.984608</td>\n",
       "      <td>1.236806</td>\n",
       "      <td>1.205637</td>\n",
       "      <td>1.159498</td>\n",
       "      <td>1.097729</td>\n",
       "      <td>1.263192</td>\n",
       "    </tr>\n",
       "    <tr>\n",
       "      <th>754.0</th>\n",
       "      <td>1.061514</td>\n",
       "      <td>1.214569</td>\n",
       "      <td>1.357387</td>\n",
       "      <td>1.100633</td>\n",
       "      <td>1.138979</td>\n",
       "      <td>0.940578</td>\n",
       "      <td>1.186650</td>\n",
       "      <td>1.194375</td>\n",
       "      <td>1.043446</td>\n",
       "      <td>1.365064</td>\n",
       "      <td>...</td>\n",
       "      <td>1.193812</td>\n",
       "      <td>1.311839</td>\n",
       "      <td>1.084272</td>\n",
       "      <td>1.213442</td>\n",
       "      <td>0.937861</td>\n",
       "      <td>1.236653</td>\n",
       "      <td>1.231927</td>\n",
       "      <td>1.189243</td>\n",
       "      <td>1.071949</td>\n",
       "      <td>1.260106</td>\n",
       "    </tr>\n",
       "    <tr>\n",
       "      <th>788.0</th>\n",
       "      <td>1.034156</td>\n",
       "      <td>1.152679</td>\n",
       "      <td>1.222129</td>\n",
       "      <td>1.060663</td>\n",
       "      <td>1.103010</td>\n",
       "      <td>0.890738</td>\n",
       "      <td>1.195784</td>\n",
       "      <td>1.178256</td>\n",
       "      <td>0.941096</td>\n",
       "      <td>1.239008</td>\n",
       "      <td>...</td>\n",
       "      <td>1.104968</td>\n",
       "      <td>1.193353</td>\n",
       "      <td>1.074962</td>\n",
       "      <td>1.145232</td>\n",
       "      <td>0.884774</td>\n",
       "      <td>1.217217</td>\n",
       "      <td>1.178402</td>\n",
       "      <td>1.230141</td>\n",
       "      <td>1.040170</td>\n",
       "      <td>1.236116</td>\n",
       "    </tr>\n",
       "    <tr>\n",
       "      <th>822.0</th>\n",
       "      <td>0.990079</td>\n",
       "      <td>1.017062</td>\n",
       "      <td>1.015402</td>\n",
       "      <td>1.000615</td>\n",
       "      <td>1.083838</td>\n",
       "      <td>0.850030</td>\n",
       "      <td>1.195788</td>\n",
       "      <td>1.154509</td>\n",
       "      <td>0.790606</td>\n",
       "      <td>1.032367</td>\n",
       "      <td>...</td>\n",
       "      <td>0.933553</td>\n",
       "      <td>1.005976</td>\n",
       "      <td>1.056105</td>\n",
       "      <td>1.008453</td>\n",
       "      <td>0.843718</td>\n",
       "      <td>1.178752</td>\n",
       "      <td>1.042542</td>\n",
       "      <td>1.264141</td>\n",
       "      <td>1.011377</td>\n",
       "      <td>1.193089</td>\n",
       "    </tr>\n",
       "    <tr>\n",
       "      <th>856.0</th>\n",
       "      <td>0.938160</td>\n",
       "      <td>0.877875</td>\n",
       "      <td>0.816616</td>\n",
       "      <td>0.935963</td>\n",
       "      <td>1.066920</td>\n",
       "      <td>0.826343</td>\n",
       "      <td>1.192161</td>\n",
       "      <td>1.158415</td>\n",
       "      <td>0.654814</td>\n",
       "      <td>0.838159</td>\n",
       "      <td>...</td>\n",
       "      <td>0.777054</td>\n",
       "      <td>0.819551</td>\n",
       "      <td>1.028452</td>\n",
       "      <td>0.872187</td>\n",
       "      <td>0.817458</td>\n",
       "      <td>1.122173</td>\n",
       "      <td>0.900563</td>\n",
       "      <td>1.257603</td>\n",
       "      <td>0.997408</td>\n",
       "      <td>1.143957</td>\n",
       "    </tr>\n",
       "    <tr>\n",
       "      <th>890.0</th>\n",
       "      <td>0.903767</td>\n",
       "      <td>0.794159</td>\n",
       "      <td>0.700748</td>\n",
       "      <td>0.892842</td>\n",
       "      <td>1.089236</td>\n",
       "      <td>0.807129</td>\n",
       "      <td>1.188650</td>\n",
       "      <td>1.150961</td>\n",
       "      <td>0.568824</td>\n",
       "      <td>0.725110</td>\n",
       "      <td>...</td>\n",
       "      <td>0.682201</td>\n",
       "      <td>0.704415</td>\n",
       "      <td>1.004062</td>\n",
       "      <td>0.785474</td>\n",
       "      <td>0.797563</td>\n",
       "      <td>1.089057</td>\n",
       "      <td>0.821531</td>\n",
       "      <td>1.266989</td>\n",
       "      <td>0.986085</td>\n",
       "      <td>1.119427</td>\n",
       "    </tr>\n",
       "    <tr>\n",
       "      <th>924.0</th>\n",
       "      <td>0.890517</td>\n",
       "      <td>0.787336</td>\n",
       "      <td>0.672524</td>\n",
       "      <td>0.868554</td>\n",
       "      <td>1.058200</td>\n",
       "      <td>0.774643</td>\n",
       "      <td>1.193787</td>\n",
       "      <td>1.138036</td>\n",
       "      <td>0.543726</td>\n",
       "      <td>0.696246</td>\n",
       "      <td>...</td>\n",
       "      <td>0.658424</td>\n",
       "      <td>0.677150</td>\n",
       "      <td>0.987944</td>\n",
       "      <td>0.772174</td>\n",
       "      <td>0.765161</td>\n",
       "      <td>1.079648</td>\n",
       "      <td>0.811610</td>\n",
       "      <td>1.230753</td>\n",
       "      <td>0.960376</td>\n",
       "      <td>1.116544</td>\n",
       "    </tr>\n",
       "    <tr>\n",
       "      <th>958.0</th>\n",
       "      <td>0.893168</td>\n",
       "      <td>0.843116</td>\n",
       "      <td>0.732470</td>\n",
       "      <td>0.866363</td>\n",
       "      <td>1.005971</td>\n",
       "      <td>0.726792</td>\n",
       "      <td>1.203510</td>\n",
       "      <td>1.103106</td>\n",
       "      <td>0.572364</td>\n",
       "      <td>0.755143</td>\n",
       "      <td>...</td>\n",
       "      <td>0.705648</td>\n",
       "      <td>0.731542</td>\n",
       "      <td>0.982544</td>\n",
       "      <td>0.823351</td>\n",
       "      <td>0.716306</td>\n",
       "      <td>1.091727</td>\n",
       "      <td>0.862422</td>\n",
       "      <td>1.184433</td>\n",
       "      <td>0.915655</td>\n",
       "      <td>1.125407</td>\n",
       "    </tr>\n",
       "    <tr>\n",
       "      <th>992.0</th>\n",
       "      <td>0.901822</td>\n",
       "      <td>0.951298</td>\n",
       "      <td>0.874878</td>\n",
       "      <td>0.879177</td>\n",
       "      <td>0.940761</td>\n",
       "      <td>0.680492</td>\n",
       "      <td>1.211573</td>\n",
       "      <td>1.048230</td>\n",
       "      <td>0.654056</td>\n",
       "      <td>0.896734</td>\n",
       "      <td>...</td>\n",
       "      <td>0.822090</td>\n",
       "      <td>0.863904</td>\n",
       "      <td>0.982115</td>\n",
       "      <td>0.934833</td>\n",
       "      <td>0.665949</td>\n",
       "      <td>1.110845</td>\n",
       "      <td>0.967626</td>\n",
       "      <td>1.114264</td>\n",
       "      <td>0.866699</td>\n",
       "      <td>1.144533</td>\n",
       "    </tr>\n",
       "    <tr>\n",
       "      <th>1026.0</th>\n",
       "      <td>0.910006</td>\n",
       "      <td>1.118233</td>\n",
       "      <td>1.064596</td>\n",
       "      <td>0.896978</td>\n",
       "      <td>0.906418</td>\n",
       "      <td>0.641268</td>\n",
       "      <td>1.220223</td>\n",
       "      <td>1.012173</td>\n",
       "      <td>0.762327</td>\n",
       "      <td>1.077785</td>\n",
       "      <td>...</td>\n",
       "      <td>0.982215</td>\n",
       "      <td>1.049093</td>\n",
       "      <td>0.979612</td>\n",
       "      <td>1.099490</td>\n",
       "      <td>0.631264</td>\n",
       "      <td>1.122767</td>\n",
       "      <td>1.127839</td>\n",
       "      <td>1.070717</td>\n",
       "      <td>0.828285</td>\n",
       "      <td>1.153378</td>\n",
       "    </tr>\n",
       "    <tr>\n",
       "      <th>1060.0</th>\n",
       "      <td>0.912385</td>\n",
       "      <td>1.278417</td>\n",
       "      <td>1.269726</td>\n",
       "      <td>0.919493</td>\n",
       "      <td>0.905002</td>\n",
       "      <td>0.633843</td>\n",
       "      <td>1.237478</td>\n",
       "      <td>0.993972</td>\n",
       "      <td>0.859570</td>\n",
       "      <td>1.272943</td>\n",
       "      <td>...</td>\n",
       "      <td>1.140934</td>\n",
       "      <td>1.231647</td>\n",
       "      <td>0.983893</td>\n",
       "      <td>1.250041</td>\n",
       "      <td>0.624577</td>\n",
       "      <td>1.132075</td>\n",
       "      <td>1.293205</td>\n",
       "      <td>1.076089</td>\n",
       "      <td>0.823646</td>\n",
       "      <td>1.159703</td>\n",
       "    </tr>\n",
       "    <tr>\n",
       "      <th>1094.0</th>\n",
       "      <td>0.924762</td>\n",
       "      <td>1.410914</td>\n",
       "      <td>1.436252</td>\n",
       "      <td>0.951609</td>\n",
       "      <td>0.944352</td>\n",
       "      <td>0.650673</td>\n",
       "      <td>1.269936</td>\n",
       "      <td>1.012786</td>\n",
       "      <td>0.929477</td>\n",
       "      <td>1.426344</td>\n",
       "      <td>...</td>\n",
       "      <td>1.274288</td>\n",
       "      <td>1.380622</td>\n",
       "      <td>0.989585</td>\n",
       "      <td>1.385322</td>\n",
       "      <td>0.641778</td>\n",
       "      <td>1.145082</td>\n",
       "      <td>1.420528</td>\n",
       "      <td>1.132825</td>\n",
       "      <td>0.855268</td>\n",
       "      <td>1.169836</td>\n",
       "    </tr>\n",
       "    <tr>\n",
       "      <th>1128.0</th>\n",
       "      <td>0.940222</td>\n",
       "      <td>1.511042</td>\n",
       "      <td>1.554899</td>\n",
       "      <td>0.981141</td>\n",
       "      <td>0.996145</td>\n",
       "      <td>0.682963</td>\n",
       "      <td>1.304887</td>\n",
       "      <td>1.061644</td>\n",
       "      <td>0.976871</td>\n",
       "      <td>1.549935</td>\n",
       "      <td>...</td>\n",
       "      <td>1.369473</td>\n",
       "      <td>1.492221</td>\n",
       "      <td>0.999690</td>\n",
       "      <td>1.476927</td>\n",
       "      <td>0.671876</td>\n",
       "      <td>1.158178</td>\n",
       "      <td>1.501460</td>\n",
       "      <td>1.224648</td>\n",
       "      <td>0.895891</td>\n",
       "      <td>1.179701</td>\n",
       "    </tr>\n",
       "    <tr>\n",
       "      <th>1162.0</th>\n",
       "      <td>0.948687</td>\n",
       "      <td>1.561786</td>\n",
       "      <td>1.636138</td>\n",
       "      <td>1.012814</td>\n",
       "      <td>1.043268</td>\n",
       "      <td>0.708310</td>\n",
       "      <td>1.336768</td>\n",
       "      <td>1.107445</td>\n",
       "      <td>1.008580</td>\n",
       "      <td>1.632837</td>\n",
       "      <td>...</td>\n",
       "      <td>1.430971</td>\n",
       "      <td>1.576944</td>\n",
       "      <td>1.005515</td>\n",
       "      <td>1.531373</td>\n",
       "      <td>0.696598</td>\n",
       "      <td>1.159562</td>\n",
       "      <td>1.550040</td>\n",
       "      <td>1.313621</td>\n",
       "      <td>0.927230</td>\n",
       "      <td>1.184446</td>\n",
       "    </tr>\n",
       "    <tr>\n",
       "      <th>1196.0</th>\n",
       "      <td>0.951657</td>\n",
       "      <td>1.600264</td>\n",
       "      <td>1.713209</td>\n",
       "      <td>1.035760</td>\n",
       "      <td>1.076717</td>\n",
       "      <td>0.725684</td>\n",
       "      <td>1.362699</td>\n",
       "      <td>1.141757</td>\n",
       "      <td>1.032348</td>\n",
       "      <td>1.705473</td>\n",
       "      <td>...</td>\n",
       "      <td>1.476712</td>\n",
       "      <td>1.646427</td>\n",
       "      <td>1.008093</td>\n",
       "      <td>1.577522</td>\n",
       "      <td>0.712627</td>\n",
       "      <td>1.173258</td>\n",
       "      <td>1.589634</td>\n",
       "      <td>1.384276</td>\n",
       "      <td>0.954491</td>\n",
       "      <td>1.182813</td>\n",
       "    </tr>\n",
       "    <tr>\n",
       "      <th>1230.0</th>\n",
       "      <td>0.952621</td>\n",
       "      <td>1.632532</td>\n",
       "      <td>1.770244</td>\n",
       "      <td>1.052255</td>\n",
       "      <td>1.110124</td>\n",
       "      <td>0.738302</td>\n",
       "      <td>1.385116</td>\n",
       "      <td>1.174496</td>\n",
       "      <td>1.054526</td>\n",
       "      <td>1.767082</td>\n",
       "      <td>...</td>\n",
       "      <td>1.514820</td>\n",
       "      <td>1.713945</td>\n",
       "      <td>1.005484</td>\n",
       "      <td>1.603359</td>\n",
       "      <td>0.727004</td>\n",
       "      <td>1.167875</td>\n",
       "      <td>1.604979</td>\n",
       "      <td>1.443379</td>\n",
       "      <td>0.975662</td>\n",
       "      <td>1.180173</td>\n",
       "    </tr>\n",
       "    <tr>\n",
       "      <th>1264.0</th>\n",
       "      <td>0.954931</td>\n",
       "      <td>1.646660</td>\n",
       "      <td>1.832044</td>\n",
       "      <td>1.068899</td>\n",
       "      <td>1.152807</td>\n",
       "      <td>0.753682</td>\n",
       "      <td>1.405858</td>\n",
       "      <td>1.203678</td>\n",
       "      <td>1.076743</td>\n",
       "      <td>1.826036</td>\n",
       "      <td>...</td>\n",
       "      <td>1.542736</td>\n",
       "      <td>1.772134</td>\n",
       "      <td>1.006522</td>\n",
       "      <td>1.619316</td>\n",
       "      <td>0.746659</td>\n",
       "      <td>1.177133</td>\n",
       "      <td>1.622327</td>\n",
       "      <td>1.494045</td>\n",
       "      <td>1.002283</td>\n",
       "      <td>1.178902</td>\n",
       "    </tr>\n",
       "    <tr>\n",
       "      <th>1298.0</th>\n",
       "      <td>0.959432</td>\n",
       "      <td>1.654405</td>\n",
       "      <td>1.878266</td>\n",
       "      <td>1.085074</td>\n",
       "      <td>1.195573</td>\n",
       "      <td>0.776241</td>\n",
       "      <td>1.431427</td>\n",
       "      <td>1.241319</td>\n",
       "      <td>1.101833</td>\n",
       "      <td>1.859537</td>\n",
       "      <td>...</td>\n",
       "      <td>1.557146</td>\n",
       "      <td>1.821615</td>\n",
       "      <td>1.003261</td>\n",
       "      <td>1.627150</td>\n",
       "      <td>0.768544</td>\n",
       "      <td>1.174960</td>\n",
       "      <td>1.632906</td>\n",
       "      <td>1.538665</td>\n",
       "      <td>1.034479</td>\n",
       "      <td>1.176677</td>\n",
       "    </tr>\n",
       "    <tr>\n",
       "      <th>1332.0</th>\n",
       "      <td>0.964910</td>\n",
       "      <td>1.646472</td>\n",
       "      <td>1.891483</td>\n",
       "      <td>1.109854</td>\n",
       "      <td>1.256368</td>\n",
       "      <td>0.808553</td>\n",
       "      <td>1.458889</td>\n",
       "      <td>1.281401</td>\n",
       "      <td>1.124958</td>\n",
       "      <td>1.881023</td>\n",
       "      <td>...</td>\n",
       "      <td>1.550620</td>\n",
       "      <td>1.852202</td>\n",
       "      <td>1.005557</td>\n",
       "      <td>1.622069</td>\n",
       "      <td>0.797544</td>\n",
       "      <td>1.172003</td>\n",
       "      <td>1.628924</td>\n",
       "      <td>1.578681</td>\n",
       "      <td>1.074101</td>\n",
       "      <td>1.172750</td>\n",
       "    </tr>\n",
       "    <tr>\n",
       "      <th>1366.0</th>\n",
       "      <td>0.970093</td>\n",
       "      <td>1.609365</td>\n",
       "      <td>1.898695</td>\n",
       "      <td>1.132381</td>\n",
       "      <td>1.329018</td>\n",
       "      <td>0.836279</td>\n",
       "      <td>1.483743</td>\n",
       "      <td>1.318294</td>\n",
       "      <td>1.140994</td>\n",
       "      <td>1.872862</td>\n",
       "      <td>...</td>\n",
       "      <td>1.526412</td>\n",
       "      <td>1.856366</td>\n",
       "      <td>1.011326</td>\n",
       "      <td>1.582044</td>\n",
       "      <td>0.834301</td>\n",
       "      <td>1.170172</td>\n",
       "      <td>1.592812</td>\n",
       "      <td>1.620991</td>\n",
       "      <td>1.123699</td>\n",
       "      <td>1.169687</td>\n",
       "    </tr>\n",
       "    <tr>\n",
       "      <th>1400.0</th>\n",
       "      <td>0.973727</td>\n",
       "      <td>1.550544</td>\n",
       "      <td>1.851013</td>\n",
       "      <td>1.163907</td>\n",
       "      <td>1.410019</td>\n",
       "      <td>0.880808</td>\n",
       "      <td>1.507981</td>\n",
       "      <td>1.369234</td>\n",
       "      <td>1.148678</td>\n",
       "      <td>1.825441</td>\n",
       "      <td>...</td>\n",
       "      <td>1.467591</td>\n",
       "      <td>1.820133</td>\n",
       "      <td>1.008367</td>\n",
       "      <td>1.530443</td>\n",
       "      <td>0.873855</td>\n",
       "      <td>1.167475</td>\n",
       "      <td>1.546849</td>\n",
       "      <td>1.638798</td>\n",
       "      <td>1.179999</td>\n",
       "      <td>1.169383</td>\n",
       "    </tr>\n",
       "    <tr>\n",
       "      <th>1434.0</th>\n",
       "      <td>0.975036</td>\n",
       "      <td>1.520267</td>\n",
       "      <td>1.811683</td>\n",
       "      <td>1.192527</td>\n",
       "      <td>1.491900</td>\n",
       "      <td>0.925520</td>\n",
       "      <td>1.531209</td>\n",
       "      <td>1.435208</td>\n",
       "      <td>1.144522</td>\n",
       "      <td>1.783678</td>\n",
       "      <td>...</td>\n",
       "      <td>1.429829</td>\n",
       "      <td>1.792172</td>\n",
       "      <td>1.005703</td>\n",
       "      <td>1.496503</td>\n",
       "      <td>0.918883</td>\n",
       "      <td>1.164288</td>\n",
       "      <td>1.508892</td>\n",
       "      <td>1.662070</td>\n",
       "      <td>1.238789</td>\n",
       "      <td>1.166408</td>\n",
       "    </tr>\n",
       "    <tr>\n",
       "      <th>1468.0</th>\n",
       "      <td>0.973798</td>\n",
       "      <td>1.456032</td>\n",
       "      <td>1.746583</td>\n",
       "      <td>1.216421</td>\n",
       "      <td>1.587041</td>\n",
       "      <td>0.964643</td>\n",
       "      <td>1.553205</td>\n",
       "      <td>1.514545</td>\n",
       "      <td>1.128384</td>\n",
       "      <td>1.716791</td>\n",
       "      <td>...</td>\n",
       "      <td>1.368004</td>\n",
       "      <td>1.736193</td>\n",
       "      <td>1.002434</td>\n",
       "      <td>1.436448</td>\n",
       "      <td>0.964411</td>\n",
       "      <td>1.160135</td>\n",
       "      <td>1.435122</td>\n",
       "      <td>1.687872</td>\n",
       "      <td>1.297433</td>\n",
       "      <td>1.161437</td>\n",
       "    </tr>\n",
       "    <tr>\n",
       "      <th>1502.0</th>\n",
       "      <td>0.969811</td>\n",
       "      <td>1.385308</td>\n",
       "      <td>1.664664</td>\n",
       "      <td>1.232904</td>\n",
       "      <td>1.688925</td>\n",
       "      <td>1.007755</td>\n",
       "      <td>1.570457</td>\n",
       "      <td>1.569676</td>\n",
       "      <td>1.098715</td>\n",
       "      <td>1.638026</td>\n",
       "      <td>...</td>\n",
       "      <td>1.300067</td>\n",
       "      <td>1.666092</td>\n",
       "      <td>0.996248</td>\n",
       "      <td>1.366047</td>\n",
       "      <td>1.006842</td>\n",
       "      <td>1.152463</td>\n",
       "      <td>1.376345</td>\n",
       "      <td>1.715830</td>\n",
       "      <td>1.355347</td>\n",
       "      <td>1.154458</td>\n",
       "    </tr>\n",
       "    <tr>\n",
       "      <th>1536.0</th>\n",
       "      <td>0.962880</td>\n",
       "      <td>1.318202</td>\n",
       "      <td>1.579250</td>\n",
       "      <td>1.244045</td>\n",
       "      <td>1.788577</td>\n",
       "      <td>1.048640</td>\n",
       "      <td>1.584373</td>\n",
       "      <td>1.627613</td>\n",
       "      <td>1.058323</td>\n",
       "      <td>1.552082</td>\n",
       "      <td>...</td>\n",
       "      <td>1.228943</td>\n",
       "      <td>1.587419</td>\n",
       "      <td>0.993566</td>\n",
       "      <td>1.301142</td>\n",
       "      <td>1.046508</td>\n",
       "      <td>1.146484</td>\n",
       "      <td>1.311234</td>\n",
       "      <td>1.738326</td>\n",
       "      <td>1.410930</td>\n",
       "      <td>1.144418</td>\n",
       "    </tr>\n",
       "    <tr>\n",
       "      <th>1570.0</th>\n",
       "      <td>0.953221</td>\n",
       "      <td>1.253753</td>\n",
       "      <td>1.496399</td>\n",
       "      <td>1.249092</td>\n",
       "      <td>1.879800</td>\n",
       "      <td>1.081623</td>\n",
       "      <td>1.597839</td>\n",
       "      <td>1.680607</td>\n",
       "      <td>1.012472</td>\n",
       "      <td>1.471020</td>\n",
       "      <td>...</td>\n",
       "      <td>1.162582</td>\n",
       "      <td>1.507893</td>\n",
       "      <td>0.984439</td>\n",
       "      <td>1.237581</td>\n",
       "      <td>1.079163</td>\n",
       "      <td>1.137932</td>\n",
       "      <td>1.250617</td>\n",
       "      <td>1.757827</td>\n",
       "      <td>1.453060</td>\n",
       "      <td>1.134389</td>\n",
       "    </tr>\n",
       "    <tr>\n",
       "      <th>1604.0</th>\n",
       "      <td>0.941627</td>\n",
       "      <td>1.191538</td>\n",
       "      <td>1.416643</td>\n",
       "      <td>1.244746</td>\n",
       "      <td>1.963043</td>\n",
       "      <td>1.117411</td>\n",
       "      <td>1.607119</td>\n",
       "      <td>1.721111</td>\n",
       "      <td>0.963996</td>\n",
       "      <td>1.393601</td>\n",
       "      <td>...</td>\n",
       "      <td>1.101040</td>\n",
       "      <td>1.434973</td>\n",
       "      <td>0.976784</td>\n",
       "      <td>1.175894</td>\n",
       "      <td>1.104405</td>\n",
       "      <td>1.123621</td>\n",
       "      <td>1.201109</td>\n",
       "      <td>1.774292</td>\n",
       "      <td>1.492280</td>\n",
       "      <td>1.122426</td>\n",
       "    </tr>\n",
       "    <tr>\n",
       "      <th>1638.0</th>\n",
       "      <td>0.928953</td>\n",
       "      <td>1.144681</td>\n",
       "      <td>1.344245</td>\n",
       "      <td>1.232633</td>\n",
       "      <td>2.024452</td>\n",
       "      <td>1.132261</td>\n",
       "      <td>1.616542</td>\n",
       "      <td>1.756694</td>\n",
       "      <td>0.915979</td>\n",
       "      <td>1.320010</td>\n",
       "      <td>...</td>\n",
       "      <td>1.051175</td>\n",
       "      <td>1.368501</td>\n",
       "      <td>0.966093</td>\n",
       "      <td>1.127106</td>\n",
       "      <td>1.125354</td>\n",
       "      <td>1.112972</td>\n",
       "      <td>1.148424</td>\n",
       "      <td>1.784183</td>\n",
       "      <td>1.517401</td>\n",
       "      <td>1.109295</td>\n",
       "    </tr>\n",
       "    <tr>\n",
       "      <th>1672.0</th>\n",
       "      <td>0.916038</td>\n",
       "      <td>1.101211</td>\n",
       "      <td>1.281830</td>\n",
       "      <td>1.224398</td>\n",
       "      <td>2.078213</td>\n",
       "      <td>1.137753</td>\n",
       "      <td>1.625973</td>\n",
       "      <td>1.784381</td>\n",
       "      <td>0.872895</td>\n",
       "      <td>1.261622</td>\n",
       "      <td>...</td>\n",
       "      <td>1.002384</td>\n",
       "      <td>1.310936</td>\n",
       "      <td>0.953297</td>\n",
       "      <td>1.086427</td>\n",
       "      <td>1.139412</td>\n",
       "      <td>1.100372</td>\n",
       "      <td>1.094994</td>\n",
       "      <td>1.791291</td>\n",
       "      <td>1.536426</td>\n",
       "      <td>1.095991</td>\n",
       "    </tr>\n",
       "    <tr>\n",
       "      <th>1706.0</th>\n",
       "      <td>0.903421</td>\n",
       "      <td>1.062525</td>\n",
       "      <td>1.235567</td>\n",
       "      <td>1.208937</td>\n",
       "      <td>2.128090</td>\n",
       "      <td>1.151148</td>\n",
       "      <td>1.634155</td>\n",
       "      <td>1.809769</td>\n",
       "      <td>0.836860</td>\n",
       "      <td>1.212581</td>\n",
       "      <td>...</td>\n",
       "      <td>0.966589</td>\n",
       "      <td>1.262912</td>\n",
       "      <td>0.945759</td>\n",
       "      <td>1.045898</td>\n",
       "      <td>1.148292</td>\n",
       "      <td>1.094807</td>\n",
       "      <td>1.064851</td>\n",
       "      <td>1.798160</td>\n",
       "      <td>1.553525</td>\n",
       "      <td>1.082488</td>\n",
       "    </tr>\n",
       "    <tr>\n",
       "      <th>1740.0</th>\n",
       "      <td>0.891081</td>\n",
       "      <td>1.027546</td>\n",
       "      <td>1.199624</td>\n",
       "      <td>1.198313</td>\n",
       "      <td>2.161993</td>\n",
       "      <td>1.162823</td>\n",
       "      <td>1.642243</td>\n",
       "      <td>1.827798</td>\n",
       "      <td>0.802735</td>\n",
       "      <td>1.171486</td>\n",
       "      <td>...</td>\n",
       "      <td>0.935837</td>\n",
       "      <td>1.229324</td>\n",
       "      <td>0.931900</td>\n",
       "      <td>1.014884</td>\n",
       "      <td>1.155754</td>\n",
       "      <td>1.084158</td>\n",
       "      <td>1.038510</td>\n",
       "      <td>1.799882</td>\n",
       "      <td>1.563322</td>\n",
       "      <td>1.069250</td>\n",
       "    </tr>\n",
       "    <tr>\n",
       "      <th>1774.0</th>\n",
       "      <td>0.878935</td>\n",
       "      <td>1.009352</td>\n",
       "      <td>1.169467</td>\n",
       "      <td>1.186311</td>\n",
       "      <td>2.186797</td>\n",
       "      <td>1.175092</td>\n",
       "      <td>1.651927</td>\n",
       "      <td>1.837696</td>\n",
       "      <td>0.776895</td>\n",
       "      <td>1.150316</td>\n",
       "      <td>...</td>\n",
       "      <td>0.913548</td>\n",
       "      <td>1.202289</td>\n",
       "      <td>0.920673</td>\n",
       "      <td>0.997740</td>\n",
       "      <td>1.158837</td>\n",
       "      <td>1.072764</td>\n",
       "      <td>1.021355</td>\n",
       "      <td>1.794910</td>\n",
       "      <td>1.574541</td>\n",
       "      <td>1.054628</td>\n",
       "    </tr>\n",
       "    <tr>\n",
       "      <th>1808.0</th>\n",
       "      <td>0.866898</td>\n",
       "      <td>1.003282</td>\n",
       "      <td>1.162267</td>\n",
       "      <td>1.176241</td>\n",
       "      <td>2.206007</td>\n",
       "      <td>1.171330</td>\n",
       "      <td>1.663222</td>\n",
       "      <td>1.845461</td>\n",
       "      <td>0.756146</td>\n",
       "      <td>1.136852</td>\n",
       "      <td>...</td>\n",
       "      <td>0.904671</td>\n",
       "      <td>1.190003</td>\n",
       "      <td>0.911224</td>\n",
       "      <td>0.990181</td>\n",
       "      <td>1.162600</td>\n",
       "      <td>1.056976</td>\n",
       "      <td>1.010012</td>\n",
       "      <td>1.789784</td>\n",
       "      <td>1.580837</td>\n",
       "      <td>1.040339</td>\n",
       "    </tr>\n",
       "    <tr>\n",
       "      <th>1842.0</th>\n",
       "      <td>0.855130</td>\n",
       "      <td>0.994504</td>\n",
       "      <td>1.163600</td>\n",
       "      <td>1.167157</td>\n",
       "      <td>2.230476</td>\n",
       "      <td>1.171011</td>\n",
       "      <td>1.674283</td>\n",
       "      <td>1.833060</td>\n",
       "      <td>0.741645</td>\n",
       "      <td>1.142050</td>\n",
       "      <td>...</td>\n",
       "      <td>0.904856</td>\n",
       "      <td>1.192496</td>\n",
       "      <td>0.906923</td>\n",
       "      <td>0.980125</td>\n",
       "      <td>1.161015</td>\n",
       "      <td>1.039826</td>\n",
       "      <td>1.012625</td>\n",
       "      <td>1.787228</td>\n",
       "      <td>1.586570</td>\n",
       "      <td>1.027364</td>\n",
       "    </tr>\n",
       "    <tr>\n",
       "      <th>1876.0</th>\n",
       "      <td>0.844381</td>\n",
       "      <td>0.997129</td>\n",
       "      <td>1.179075</td>\n",
       "      <td>1.159426</td>\n",
       "      <td>2.248648</td>\n",
       "      <td>1.177705</td>\n",
       "      <td>1.685917</td>\n",
       "      <td>1.835352</td>\n",
       "      <td>0.729130</td>\n",
       "      <td>1.156768</td>\n",
       "      <td>...</td>\n",
       "      <td>0.912941</td>\n",
       "      <td>1.211647</td>\n",
       "      <td>0.896315</td>\n",
       "      <td>0.984252</td>\n",
       "      <td>1.163026</td>\n",
       "      <td>1.037380</td>\n",
       "      <td>1.024986</td>\n",
       "      <td>1.771645</td>\n",
       "      <td>1.588428</td>\n",
       "      <td>1.018883</td>\n",
       "    </tr>\n",
       "    <tr>\n",
       "      <th>1910.0</th>\n",
       "      <td>0.835497</td>\n",
       "      <td>1.017610</td>\n",
       "      <td>1.206213</td>\n",
       "      <td>1.154059</td>\n",
       "      <td>2.186282</td>\n",
       "      <td>1.176920</td>\n",
       "      <td>1.696647</td>\n",
       "      <td>1.826293</td>\n",
       "      <td>0.729205</td>\n",
       "      <td>1.182464</td>\n",
       "      <td>...</td>\n",
       "      <td>0.926108</td>\n",
       "      <td>1.236739</td>\n",
       "      <td>0.881904</td>\n",
       "      <td>1.006196</td>\n",
       "      <td>1.156865</td>\n",
       "      <td>1.031567</td>\n",
       "      <td>1.043966</td>\n",
       "      <td>1.687679</td>\n",
       "      <td>1.586530</td>\n",
       "      <td>1.012304</td>\n",
       "    </tr>\n",
       "    <tr>\n",
       "      <th>1944.0</th>\n",
       "      <td>0.829337</td>\n",
       "      <td>1.048116</td>\n",
       "      <td>1.255671</td>\n",
       "      <td>1.154810</td>\n",
       "      <td>2.236935</td>\n",
       "      <td>1.175083</td>\n",
       "      <td>1.708902</td>\n",
       "      <td>1.835017</td>\n",
       "      <td>0.736053</td>\n",
       "      <td>1.225918</td>\n",
       "      <td>...</td>\n",
       "      <td>0.955250</td>\n",
       "      <td>1.282996</td>\n",
       "      <td>0.871185</td>\n",
       "      <td>1.036601</td>\n",
       "      <td>1.158218</td>\n",
       "      <td>1.025678</td>\n",
       "      <td>1.067614</td>\n",
       "      <td>1.699052</td>\n",
       "      <td>1.591091</td>\n",
       "      <td>1.010004</td>\n",
       "    </tr>\n",
       "    <tr>\n",
       "      <th>1978.0</th>\n",
       "      <td>0.826339</td>\n",
       "      <td>1.091401</td>\n",
       "      <td>1.321182</td>\n",
       "      <td>1.153665</td>\n",
       "      <td>2.278695</td>\n",
       "      <td>1.166192</td>\n",
       "      <td>1.725969</td>\n",
       "      <td>1.865297</td>\n",
       "      <td>0.749689</td>\n",
       "      <td>1.286568</td>\n",
       "      <td>...</td>\n",
       "      <td>0.993544</td>\n",
       "      <td>1.345685</td>\n",
       "      <td>0.865860</td>\n",
       "      <td>1.079940</td>\n",
       "      <td>1.158315</td>\n",
       "      <td>1.025324</td>\n",
       "      <td>1.093369</td>\n",
       "      <td>1.699007</td>\n",
       "      <td>1.592915</td>\n",
       "      <td>1.011335</td>\n",
       "    </tr>\n",
       "    <tr>\n",
       "      <th>2012.0</th>\n",
       "      <td>0.825646</td>\n",
       "      <td>1.135331</td>\n",
       "      <td>1.394563</td>\n",
       "      <td>1.162048</td>\n",
       "      <td>2.313884</td>\n",
       "      <td>1.160736</td>\n",
       "      <td>1.745645</td>\n",
       "      <td>1.896857</td>\n",
       "      <td>0.770406</td>\n",
       "      <td>1.360595</td>\n",
       "      <td>...</td>\n",
       "      <td>1.042861</td>\n",
       "      <td>1.421100</td>\n",
       "      <td>0.860360</td>\n",
       "      <td>1.121891</td>\n",
       "      <td>1.159506</td>\n",
       "      <td>1.030239</td>\n",
       "      <td>1.133538</td>\n",
       "      <td>1.690705</td>\n",
       "      <td>1.595048</td>\n",
       "      <td>1.012174</td>\n",
       "    </tr>\n",
       "    <tr>\n",
       "      <th>2046.0</th>\n",
       "      <td>0.826123</td>\n",
       "      <td>1.189776</td>\n",
       "      <td>1.483329</td>\n",
       "      <td>1.167243</td>\n",
       "      <td>2.339006</td>\n",
       "      <td>1.173285</td>\n",
       "      <td>1.766295</td>\n",
       "      <td>1.921888</td>\n",
       "      <td>0.795611</td>\n",
       "      <td>1.446422</td>\n",
       "      <td>...</td>\n",
       "      <td>1.099277</td>\n",
       "      <td>1.512977</td>\n",
       "      <td>0.852870</td>\n",
       "      <td>1.177896</td>\n",
       "      <td>1.159430</td>\n",
       "      <td>1.028979</td>\n",
       "      <td>1.202908</td>\n",
       "      <td>1.680711</td>\n",
       "      <td>1.597080</td>\n",
       "      <td>1.012669</td>\n",
       "    </tr>\n",
       "    <tr>\n",
       "      <th>2080.0</th>\n",
       "      <td>0.826637</td>\n",
       "      <td>1.250775</td>\n",
       "      <td>1.591635</td>\n",
       "      <td>1.178617</td>\n",
       "      <td>2.351942</td>\n",
       "      <td>1.173480</td>\n",
       "      <td>1.782242</td>\n",
       "      <td>1.937028</td>\n",
       "      <td>0.823555</td>\n",
       "      <td>1.549109</td>\n",
       "      <td>...</td>\n",
       "      <td>1.164400</td>\n",
       "      <td>1.609405</td>\n",
       "      <td>0.855414</td>\n",
       "      <td>1.239949</td>\n",
       "      <td>1.158701</td>\n",
       "      <td>1.026239</td>\n",
       "      <td>1.271093</td>\n",
       "      <td>1.662867</td>\n",
       "      <td>1.598322</td>\n",
       "      <td>1.014064</td>\n",
       "    </tr>\n",
       "    <tr>\n",
       "      <th>2114.0</th>\n",
       "      <td>0.826309</td>\n",
       "      <td>1.322034</td>\n",
       "      <td>1.702021</td>\n",
       "      <td>1.188674</td>\n",
       "      <td>2.370500</td>\n",
       "      <td>1.186050</td>\n",
       "      <td>1.797209</td>\n",
       "      <td>1.955398</td>\n",
       "      <td>0.861121</td>\n",
       "      <td>1.659942</td>\n",
       "      <td>...</td>\n",
       "      <td>1.237356</td>\n",
       "      <td>1.727606</td>\n",
       "      <td>0.850153</td>\n",
       "      <td>1.313488</td>\n",
       "      <td>1.158046</td>\n",
       "      <td>1.024531</td>\n",
       "      <td>1.348687</td>\n",
       "      <td>1.643458</td>\n",
       "      <td>1.600445</td>\n",
       "      <td>1.016990</td>\n",
       "    </tr>\n",
       "    <tr>\n",
       "      <th>2148.0</th>\n",
       "      <td>0.825482</td>\n",
       "      <td>1.386224</td>\n",
       "      <td>1.822650</td>\n",
       "      <td>1.197772</td>\n",
       "      <td>2.391162</td>\n",
       "      <td>1.176119</td>\n",
       "      <td>1.810478</td>\n",
       "      <td>1.974212</td>\n",
       "      <td>0.898091</td>\n",
       "      <td>1.769640</td>\n",
       "      <td>...</td>\n",
       "      <td>1.316244</td>\n",
       "      <td>1.847641</td>\n",
       "      <td>0.845152</td>\n",
       "      <td>1.376401</td>\n",
       "      <td>1.161534</td>\n",
       "      <td>1.016583</td>\n",
       "      <td>1.407722</td>\n",
       "      <td>1.630428</td>\n",
       "      <td>1.604144</td>\n",
       "      <td>1.011704</td>\n",
       "    </tr>\n",
       "    <tr>\n",
       "      <th>2182.0</th>\n",
       "      <td>0.824836</td>\n",
       "      <td>1.465500</td>\n",
       "      <td>1.933115</td>\n",
       "      <td>1.205711</td>\n",
       "      <td>2.417522</td>\n",
       "      <td>1.170057</td>\n",
       "      <td>1.819914</td>\n",
       "      <td>1.976503</td>\n",
       "      <td>0.935737</td>\n",
       "      <td>1.880424</td>\n",
       "      <td>...</td>\n",
       "      <td>1.388964</td>\n",
       "      <td>1.958428</td>\n",
       "      <td>0.841009</td>\n",
       "      <td>1.452785</td>\n",
       "      <td>1.158879</td>\n",
       "      <td>1.013190</td>\n",
       "      <td>1.474815</td>\n",
       "      <td>1.615726</td>\n",
       "      <td>1.602127</td>\n",
       "      <td>1.007090</td>\n",
       "    </tr>\n",
       "    <tr>\n",
       "      <th>2216.0</th>\n",
       "      <td>0.825052</td>\n",
       "      <td>1.529475</td>\n",
       "      <td>2.035563</td>\n",
       "      <td>1.216187</td>\n",
       "      <td>2.421736</td>\n",
       "      <td>1.164325</td>\n",
       "      <td>1.819757</td>\n",
       "      <td>1.952747</td>\n",
       "      <td>0.975719</td>\n",
       "      <td>1.984931</td>\n",
       "      <td>...</td>\n",
       "      <td>1.450459</td>\n",
       "      <td>2.064946</td>\n",
       "      <td>0.838833</td>\n",
       "      <td>1.518700</td>\n",
       "      <td>1.155423</td>\n",
       "      <td>1.016311</td>\n",
       "      <td>1.535030</td>\n",
       "      <td>1.601104</td>\n",
       "      <td>1.601642</td>\n",
       "      <td>1.007014</td>\n",
       "    </tr>\n",
       "    <tr>\n",
       "      <th>2250.0</th>\n",
       "      <td>0.826639</td>\n",
       "      <td>1.585066</td>\n",
       "      <td>2.124144</td>\n",
       "      <td>1.223425</td>\n",
       "      <td>2.440278</td>\n",
       "      <td>1.174580</td>\n",
       "      <td>1.829455</td>\n",
       "      <td>1.944309</td>\n",
       "      <td>1.008683</td>\n",
       "      <td>2.069057</td>\n",
       "      <td>...</td>\n",
       "      <td>1.496296</td>\n",
       "      <td>2.146940</td>\n",
       "      <td>0.833696</td>\n",
       "      <td>1.574923</td>\n",
       "      <td>1.150625</td>\n",
       "      <td>1.011532</td>\n",
       "      <td>1.602268</td>\n",
       "      <td>1.595675</td>\n",
       "      <td>1.597225</td>\n",
       "      <td>1.008625</td>\n",
       "    </tr>\n",
       "  </tbody>\n",
       "</table>\n",
       "<p>51 rows × 200 columns</p>\n",
       "</div>"
      ],
      "text/plain": [
       "        OC_LP_B2_1  KC_OPX_hevn_1  KC_OPX_lm_9  OC_TXH_011_A60  RB_LE4OLV  \\\n",
       "550.0     1.000000       1.000000     1.000000        1.000000   1.000000   \n",
       "584.0     1.025818       1.023912     1.085563        1.038690   1.048641   \n",
       "618.0     1.041532       1.056567     1.172919        1.068086   1.077656   \n",
       "652.0     1.056156       1.101019     1.254283        1.096362   1.110248   \n",
       "686.0     1.065866       1.144549     1.320872        1.113485   1.146285   \n",
       "720.0     1.070456       1.187161     1.377180        1.115344   1.146664   \n",
       "754.0     1.061514       1.214569     1.357387        1.100633   1.138979   \n",
       "788.0     1.034156       1.152679     1.222129        1.060663   1.103010   \n",
       "822.0     0.990079       1.017062     1.015402        1.000615   1.083838   \n",
       "856.0     0.938160       0.877875     0.816616        0.935963   1.066920   \n",
       "890.0     0.903767       0.794159     0.700748        0.892842   1.089236   \n",
       "924.0     0.890517       0.787336     0.672524        0.868554   1.058200   \n",
       "958.0     0.893168       0.843116     0.732470        0.866363   1.005971   \n",
       "992.0     0.901822       0.951298     0.874878        0.879177   0.940761   \n",
       "1026.0    0.910006       1.118233     1.064596        0.896978   0.906418   \n",
       "1060.0    0.912385       1.278417     1.269726        0.919493   0.905002   \n",
       "1094.0    0.924762       1.410914     1.436252        0.951609   0.944352   \n",
       "1128.0    0.940222       1.511042     1.554899        0.981141   0.996145   \n",
       "1162.0    0.948687       1.561786     1.636138        1.012814   1.043268   \n",
       "1196.0    0.951657       1.600264     1.713209        1.035760   1.076717   \n",
       "1230.0    0.952621       1.632532     1.770244        1.052255   1.110124   \n",
       "1264.0    0.954931       1.646660     1.832044        1.068899   1.152807   \n",
       "1298.0    0.959432       1.654405     1.878266        1.085074   1.195573   \n",
       "1332.0    0.964910       1.646472     1.891483        1.109854   1.256368   \n",
       "1366.0    0.970093       1.609365     1.898695        1.132381   1.329018   \n",
       "1400.0    0.973727       1.550544     1.851013        1.163907   1.410019   \n",
       "1434.0    0.975036       1.520267     1.811683        1.192527   1.491900   \n",
       "1468.0    0.973798       1.456032     1.746583        1.216421   1.587041   \n",
       "1502.0    0.969811       1.385308     1.664664        1.232904   1.688925   \n",
       "1536.0    0.962880       1.318202     1.579250        1.244045   1.788577   \n",
       "1570.0    0.953221       1.253753     1.496399        1.249092   1.879800   \n",
       "1604.0    0.941627       1.191538     1.416643        1.244746   1.963043   \n",
       "1638.0    0.928953       1.144681     1.344245        1.232633   2.024452   \n",
       "1672.0    0.916038       1.101211     1.281830        1.224398   2.078213   \n",
       "1706.0    0.903421       1.062525     1.235567        1.208937   2.128090   \n",
       "1740.0    0.891081       1.027546     1.199624        1.198313   2.161993   \n",
       "1774.0    0.878935       1.009352     1.169467        1.186311   2.186797   \n",
       "1808.0    0.866898       1.003282     1.162267        1.176241   2.206007   \n",
       "1842.0    0.855130       0.994504     1.163600        1.167157   2.230476   \n",
       "1876.0    0.844381       0.997129     1.179075        1.159426   2.248648   \n",
       "1910.0    0.835497       1.017610     1.206213        1.154059   2.186282   \n",
       "1944.0    0.829337       1.048116     1.255671        1.154810   2.236935   \n",
       "1978.0    0.826339       1.091401     1.321182        1.153665   2.278695   \n",
       "2012.0    0.825646       1.135331     1.394563        1.162048   2.313884   \n",
       "2046.0    0.826123       1.189776     1.483329        1.167243   2.339006   \n",
       "2080.0    0.826637       1.250775     1.591635        1.178617   2.351942   \n",
       "2114.0    0.826309       1.322034     1.702021        1.188674   2.370500   \n",
       "2148.0    0.825482       1.386224     1.822650        1.197772   2.391162   \n",
       "2182.0    0.824836       1.465500     1.933115        1.205711   2.417522   \n",
       "2216.0    0.825052       1.529475     2.035563        1.216187   2.421736   \n",
       "2250.0    0.826639       1.585066     2.124144        1.223425   2.440278   \n",
       "\n",
       "        KC_OL_arvn_5  OWN_OL4_EN1_1  MY_OL_30  XT_TXH_030_P2  KC_OPX_lm_8  \\\n",
       "550.0       1.000000       1.000000  1.000000       1.000000     1.000000   \n",
       "584.0       1.012260       1.037647  1.063113       1.028520     1.101411   \n",
       "618.0       1.007257       1.074555  1.109795       1.031543     1.182591   \n",
       "652.0       1.008834       1.107209  1.143272       1.046723     1.254749   \n",
       "686.0       1.009464       1.139044  1.185546       1.071987     1.329229   \n",
       "720.0       0.983658       1.165315  1.198987       1.082094     1.380829   \n",
       "754.0       0.940578       1.186650  1.194375       1.043446     1.365064   \n",
       "788.0       0.890738       1.195784  1.178256       0.941096     1.239008   \n",
       "822.0       0.850030       1.195788  1.154509       0.790606     1.032367   \n",
       "856.0       0.826343       1.192161  1.158415       0.654814     0.838159   \n",
       "890.0       0.807129       1.188650  1.150961       0.568824     0.725110   \n",
       "924.0       0.774643       1.193787  1.138036       0.543726     0.696246   \n",
       "958.0       0.726792       1.203510  1.103106       0.572364     0.755143   \n",
       "992.0       0.680492       1.211573  1.048230       0.654056     0.896734   \n",
       "1026.0      0.641268       1.220223  1.012173       0.762327     1.077785   \n",
       "1060.0      0.633843       1.237478  0.993972       0.859570     1.272943   \n",
       "1094.0      0.650673       1.269936  1.012786       0.929477     1.426344   \n",
       "1128.0      0.682963       1.304887  1.061644       0.976871     1.549935   \n",
       "1162.0      0.708310       1.336768  1.107445       1.008580     1.632837   \n",
       "1196.0      0.725684       1.362699  1.141757       1.032348     1.705473   \n",
       "1230.0      0.738302       1.385116  1.174496       1.054526     1.767082   \n",
       "1264.0      0.753682       1.405858  1.203678       1.076743     1.826036   \n",
       "1298.0      0.776241       1.431427  1.241319       1.101833     1.859537   \n",
       "1332.0      0.808553       1.458889  1.281401       1.124958     1.881023   \n",
       "1366.0      0.836279       1.483743  1.318294       1.140994     1.872862   \n",
       "1400.0      0.880808       1.507981  1.369234       1.148678     1.825441   \n",
       "1434.0      0.925520       1.531209  1.435208       1.144522     1.783678   \n",
       "1468.0      0.964643       1.553205  1.514545       1.128384     1.716791   \n",
       "1502.0      1.007755       1.570457  1.569676       1.098715     1.638026   \n",
       "1536.0      1.048640       1.584373  1.627613       1.058323     1.552082   \n",
       "1570.0      1.081623       1.597839  1.680607       1.012472     1.471020   \n",
       "1604.0      1.117411       1.607119  1.721111       0.963996     1.393601   \n",
       "1638.0      1.132261       1.616542  1.756694       0.915979     1.320010   \n",
       "1672.0      1.137753       1.625973  1.784381       0.872895     1.261622   \n",
       "1706.0      1.151148       1.634155  1.809769       0.836860     1.212581   \n",
       "1740.0      1.162823       1.642243  1.827798       0.802735     1.171486   \n",
       "1774.0      1.175092       1.651927  1.837696       0.776895     1.150316   \n",
       "1808.0      1.171330       1.663222  1.845461       0.756146     1.136852   \n",
       "1842.0      1.171011       1.674283  1.833060       0.741645     1.142050   \n",
       "1876.0      1.177705       1.685917  1.835352       0.729130     1.156768   \n",
       "1910.0      1.176920       1.696647  1.826293       0.729205     1.182464   \n",
       "1944.0      1.175083       1.708902  1.835017       0.736053     1.225918   \n",
       "1978.0      1.166192       1.725969  1.865297       0.749689     1.286568   \n",
       "2012.0      1.160736       1.745645  1.896857       0.770406     1.360595   \n",
       "2046.0      1.173285       1.766295  1.921888       0.795611     1.446422   \n",
       "2080.0      1.173480       1.782242  1.937028       0.823555     1.549109   \n",
       "2114.0      1.186050       1.797209  1.955398       0.861121     1.659942   \n",
       "2148.0      1.176119       1.810478  1.974212       0.898091     1.769640   \n",
       "2182.0      1.170057       1.819914  1.976503       0.935737     1.880424   \n",
       "2216.0      1.164325       1.819757  1.952747       0.975719     1.984931   \n",
       "2250.0      1.174580       1.829455  1.944309       1.008683     2.069057   \n",
       "\n",
       "        ...  KC_OPX_lvn_1  KC_OPX_lvn_10  OC_TXH_013_P05  KC_OPX_hevn_3  \\\n",
       "550.0   ...      1.000000       1.000000        1.000000       1.000000   \n",
       "584.0   ...      1.050305       1.090798        1.017611       1.025000   \n",
       "618.0   ...      1.083221       1.163220        1.033550       1.061388   \n",
       "652.0   ...      1.119670       1.229345        1.051170       1.110001   \n",
       "686.0   ...      1.161474       1.286154        1.065420       1.147666   \n",
       "720.0   ...      1.199106       1.328543        1.079248       1.188370   \n",
       "754.0   ...      1.193812       1.311839        1.084272       1.213442   \n",
       "788.0   ...      1.104968       1.193353        1.074962       1.145232   \n",
       "822.0   ...      0.933553       1.005976        1.056105       1.008453   \n",
       "856.0   ...      0.777054       0.819551        1.028452       0.872187   \n",
       "890.0   ...      0.682201       0.704415        1.004062       0.785474   \n",
       "924.0   ...      0.658424       0.677150        0.987944       0.772174   \n",
       "958.0   ...      0.705648       0.731542        0.982544       0.823351   \n",
       "992.0   ...      0.822090       0.863904        0.982115       0.934833   \n",
       "1026.0  ...      0.982215       1.049093        0.979612       1.099490   \n",
       "1060.0  ...      1.140934       1.231647        0.983893       1.250041   \n",
       "1094.0  ...      1.274288       1.380622        0.989585       1.385322   \n",
       "1128.0  ...      1.369473       1.492221        0.999690       1.476927   \n",
       "1162.0  ...      1.430971       1.576944        1.005515       1.531373   \n",
       "1196.0  ...      1.476712       1.646427        1.008093       1.577522   \n",
       "1230.0  ...      1.514820       1.713945        1.005484       1.603359   \n",
       "1264.0  ...      1.542736       1.772134        1.006522       1.619316   \n",
       "1298.0  ...      1.557146       1.821615        1.003261       1.627150   \n",
       "1332.0  ...      1.550620       1.852202        1.005557       1.622069   \n",
       "1366.0  ...      1.526412       1.856366        1.011326       1.582044   \n",
       "1400.0  ...      1.467591       1.820133        1.008367       1.530443   \n",
       "1434.0  ...      1.429829       1.792172        1.005703       1.496503   \n",
       "1468.0  ...      1.368004       1.736193        1.002434       1.436448   \n",
       "1502.0  ...      1.300067       1.666092        0.996248       1.366047   \n",
       "1536.0  ...      1.228943       1.587419        0.993566       1.301142   \n",
       "1570.0  ...      1.162582       1.507893        0.984439       1.237581   \n",
       "1604.0  ...      1.101040       1.434973        0.976784       1.175894   \n",
       "1638.0  ...      1.051175       1.368501        0.966093       1.127106   \n",
       "1672.0  ...      1.002384       1.310936        0.953297       1.086427   \n",
       "1706.0  ...      0.966589       1.262912        0.945759       1.045898   \n",
       "1740.0  ...      0.935837       1.229324        0.931900       1.014884   \n",
       "1774.0  ...      0.913548       1.202289        0.920673       0.997740   \n",
       "1808.0  ...      0.904671       1.190003        0.911224       0.990181   \n",
       "1842.0  ...      0.904856       1.192496        0.906923       0.980125   \n",
       "1876.0  ...      0.912941       1.211647        0.896315       0.984252   \n",
       "1910.0  ...      0.926108       1.236739        0.881904       1.006196   \n",
       "1944.0  ...      0.955250       1.282996        0.871185       1.036601   \n",
       "1978.0  ...      0.993544       1.345685        0.865860       1.079940   \n",
       "2012.0  ...      1.042861       1.421100        0.860360       1.121891   \n",
       "2046.0  ...      1.099277       1.512977        0.852870       1.177896   \n",
       "2080.0  ...      1.164400       1.609405        0.855414       1.239949   \n",
       "2114.0  ...      1.237356       1.727606        0.850153       1.313488   \n",
       "2148.0  ...      1.316244       1.847641        0.845152       1.376401   \n",
       "2182.0  ...      1.388964       1.958428        0.841009       1.452785   \n",
       "2216.0  ...      1.450459       2.064946        0.838833       1.518700   \n",
       "2250.0  ...      1.496296       2.146940        0.833696       1.574923   \n",
       "\n",
       "        KC_OL_hm_2  OC_LP_A3_1  KC_OPX_arvn_5  RB_LE2CPX  KC_OL_arm_1  \\\n",
       "550.0     1.000000    1.000000       1.000000   1.000000     1.000000   \n",
       "584.0     1.006495    1.088583       1.030655   1.035233     1.038322   \n",
       "618.0     1.001083    1.151232       1.071262   1.065463     1.056541   \n",
       "652.0     1.007799    1.191792       1.102640   1.092927     1.079361   \n",
       "686.0     1.010311    1.219460       1.153756   1.119006     1.098171   \n",
       "720.0     0.984608    1.236806       1.205637   1.159498     1.097729   \n",
       "754.0     0.937861    1.236653       1.231927   1.189243     1.071949   \n",
       "788.0     0.884774    1.217217       1.178402   1.230141     1.040170   \n",
       "822.0     0.843718    1.178752       1.042542   1.264141     1.011377   \n",
       "856.0     0.817458    1.122173       0.900563   1.257603     0.997408   \n",
       "890.0     0.797563    1.089057       0.821531   1.266989     0.986085   \n",
       "924.0     0.765161    1.079648       0.811610   1.230753     0.960376   \n",
       "958.0     0.716306    1.091727       0.862422   1.184433     0.915655   \n",
       "992.0     0.665949    1.110845       0.967626   1.114264     0.866699   \n",
       "1026.0    0.631264    1.122767       1.127839   1.070717     0.828285   \n",
       "1060.0    0.624577    1.132075       1.293205   1.076089     0.823646   \n",
       "1094.0    0.641778    1.145082       1.420528   1.132825     0.855268   \n",
       "1128.0    0.671876    1.158178       1.501460   1.224648     0.895891   \n",
       "1162.0    0.696598    1.159562       1.550040   1.313621     0.927230   \n",
       "1196.0    0.712627    1.173258       1.589634   1.384276     0.954491   \n",
       "1230.0    0.727004    1.167875       1.604979   1.443379     0.975662   \n",
       "1264.0    0.746659    1.177133       1.622327   1.494045     1.002283   \n",
       "1298.0    0.768544    1.174960       1.632906   1.538665     1.034479   \n",
       "1332.0    0.797544    1.172003       1.628924   1.578681     1.074101   \n",
       "1366.0    0.834301    1.170172       1.592812   1.620991     1.123699   \n",
       "1400.0    0.873855    1.167475       1.546849   1.638798     1.179999   \n",
       "1434.0    0.918883    1.164288       1.508892   1.662070     1.238789   \n",
       "1468.0    0.964411    1.160135       1.435122   1.687872     1.297433   \n",
       "1502.0    1.006842    1.152463       1.376345   1.715830     1.355347   \n",
       "1536.0    1.046508    1.146484       1.311234   1.738326     1.410930   \n",
       "1570.0    1.079163    1.137932       1.250617   1.757827     1.453060   \n",
       "1604.0    1.104405    1.123621       1.201109   1.774292     1.492280   \n",
       "1638.0    1.125354    1.112972       1.148424   1.784183     1.517401   \n",
       "1672.0    1.139412    1.100372       1.094994   1.791291     1.536426   \n",
       "1706.0    1.148292    1.094807       1.064851   1.798160     1.553525   \n",
       "1740.0    1.155754    1.084158       1.038510   1.799882     1.563322   \n",
       "1774.0    1.158837    1.072764       1.021355   1.794910     1.574541   \n",
       "1808.0    1.162600    1.056976       1.010012   1.789784     1.580837   \n",
       "1842.0    1.161015    1.039826       1.012625   1.787228     1.586570   \n",
       "1876.0    1.163026    1.037380       1.024986   1.771645     1.588428   \n",
       "1910.0    1.156865    1.031567       1.043966   1.687679     1.586530   \n",
       "1944.0    1.158218    1.025678       1.067614   1.699052     1.591091   \n",
       "1978.0    1.158315    1.025324       1.093369   1.699007     1.592915   \n",
       "2012.0    1.159506    1.030239       1.133538   1.690705     1.595048   \n",
       "2046.0    1.159430    1.028979       1.202908   1.680711     1.597080   \n",
       "2080.0    1.158701    1.026239       1.271093   1.662867     1.598322   \n",
       "2114.0    1.158046    1.024531       1.348687   1.643458     1.600445   \n",
       "2148.0    1.161534    1.016583       1.407722   1.630428     1.604144   \n",
       "2182.0    1.158879    1.013190       1.474815   1.615726     1.602127   \n",
       "2216.0    1.155423    1.016311       1.535030   1.601104     1.601642   \n",
       "2250.0    1.150625    1.011532       1.602268   1.595675     1.597225   \n",
       "\n",
       "        OC_LP_A2_2  \n",
       "550.0     1.000000  \n",
       "584.0     1.105729  \n",
       "618.0     1.175916  \n",
       "652.0     1.219676  \n",
       "686.0     1.247651  \n",
       "720.0     1.263192  \n",
       "754.0     1.260106  \n",
       "788.0     1.236116  \n",
       "822.0     1.193089  \n",
       "856.0     1.143957  \n",
       "890.0     1.119427  \n",
       "924.0     1.116544  \n",
       "958.0     1.125407  \n",
       "992.0     1.144533  \n",
       "1026.0    1.153378  \n",
       "1060.0    1.159703  \n",
       "1094.0    1.169836  \n",
       "1128.0    1.179701  \n",
       "1162.0    1.184446  \n",
       "1196.0    1.182813  \n",
       "1230.0    1.180173  \n",
       "1264.0    1.178902  \n",
       "1298.0    1.176677  \n",
       "1332.0    1.172750  \n",
       "1366.0    1.169687  \n",
       "1400.0    1.169383  \n",
       "1434.0    1.166408  \n",
       "1468.0    1.161437  \n",
       "1502.0    1.154458  \n",
       "1536.0    1.144418  \n",
       "1570.0    1.134389  \n",
       "1604.0    1.122426  \n",
       "1638.0    1.109295  \n",
       "1672.0    1.095991  \n",
       "1706.0    1.082488  \n",
       "1740.0    1.069250  \n",
       "1774.0    1.054628  \n",
       "1808.0    1.040339  \n",
       "1842.0    1.027364  \n",
       "1876.0    1.018883  \n",
       "1910.0    1.012304  \n",
       "1944.0    1.010004  \n",
       "1978.0    1.011335  \n",
       "2012.0    1.012174  \n",
       "2046.0    1.012669  \n",
       "2080.0    1.014064  \n",
       "2114.0    1.016990  \n",
       "2148.0    1.011704  \n",
       "2182.0    1.007090  \n",
       "2216.0    1.007014  \n",
       "2250.0    1.008625  \n",
       "\n",
       "[51 rows x 200 columns]"
      ]
     },
     "execution_count": 141,
     "metadata": {},
     "output_type": "execute_result"
    }
   ],
   "source": [
    "use_denoising_and_normalization = True\n",
    "only_normalization = False\n",
    "number_of_wavelengths = 51\n",
    "\n",
    "# interpolation_wavelengths = np.linspace(541., 2424., number_of_wavelengths)\n",
    "interpolation_wavelengths = np.linspace(550., 2250., number_of_wavelengths)\n",
    "interpolation_dict = {}\n",
    "\n",
    "for i in range(len(w_df.columns)):\n",
    "\twavelengths = w_df.iloc[:, i].to_numpy()\n",
    "\tunique_wavelengths, unique_indices = np.unique(wavelengths, return_index=True)\n",
    "\n",
    "\treflectances = r_df.iloc[:, i].to_numpy()\n",
    "\tunique_reflectances = reflectances[unique_indices]\n",
    "\n",
    "\tinterpolation = np.interp(interpolation_wavelengths, unique_wavelengths, unique_reflectances)\n",
    "\n",
    "\tif use_denoising_and_normalization:\n",
    "\t\tdenoised_normalized_data = denoise_and_norm(interpolation, interpolation_wavelengths, denoising=True, normalising=True)\n",
    "\t\tdenoised_normalized_data = denoised_normalized_data.flatten()\n",
    "\t\tinterpolation_dict[w_df.columns[i]] = denoised_normalized_data\n",
    "\t\tnormalized_interpolation = interpolation / interpolation[0]\n",
    "\t\t# print(np.mean((denoised_normalized_data - normalized_interpolation) ** 2)) # Similarity of own and Davids methods\n",
    "\t\t# print(np.array_equal(denoised_normalized_data, normalized_interpolation))\n",
    "\telif only_normalization:\n",
    "\t\tnormalized_interpolation = interpolation / interpolation[0]\n",
    "\t\tinterpolation_dict[w_df.columns[i]] = normalized_interpolation\n",
    "\telse:\n",
    "\t\tinterpolation_dict[w_df.columns[i]] = interpolation\n",
    "\n",
    "interpolation_df = pd.DataFrame(interpolation_dict, index=interpolation_wavelengths)\n",
    "#interpolation_df = interpolation_df.transpose()\n",
    "\n",
    "plt.plot(unique_wavelengths, unique_reflectances, 'o', label='data')\n",
    "plt.plot(interpolation_wavelengths, interpolation, '-', label='linear interp')\n",
    "plt.legend(loc='best')\n",
    "plt.title('The last interpolation as a visualization')\n",
    "plt.show()\n",
    "\n",
    "interpolation_df"
   ]
  },
  {
   "cell_type": "markdown",
   "metadata": {},
   "source": [
    "#### Combine Sample Info and Reflectance Data"
   ]
  },
  {
   "cell_type": "code",
   "execution_count": 142,
   "metadata": {},
   "outputs": [
    {
     "data": {
      "text/html": [
       "<div>\n",
       "<style scoped>\n",
       "    .dataframe tbody tr th:only-of-type {\n",
       "        vertical-align: middle;\n",
       "    }\n",
       "\n",
       "    .dataframe tbody tr th {\n",
       "        vertical-align: top;\n",
       "    }\n",
       "\n",
       "    .dataframe thead th {\n",
       "        text-align: right;\n",
       "    }\n",
       "</style>\n",
       "<table border=\"1\" class=\"dataframe\">\n",
       "  <thead>\n",
       "    <tr style=\"text-align: right;\">\n",
       "      <th></th>\n",
       "      <th>Sample name</th>\n",
       "      <th>Irradiation</th>\n",
       "      <th>ET_1AU</th>\n",
       "      <th>group</th>\n",
       "      <th>550.0</th>\n",
       "      <th>584.0</th>\n",
       "      <th>618.0</th>\n",
       "      <th>652.0</th>\n",
       "      <th>686.0</th>\n",
       "      <th>720.0</th>\n",
       "      <th>...</th>\n",
       "      <th>1944.0</th>\n",
       "      <th>1978.0</th>\n",
       "      <th>2012.0</th>\n",
       "      <th>2046.0</th>\n",
       "      <th>2080.0</th>\n",
       "      <th>2114.0</th>\n",
       "      <th>2148.0</th>\n",
       "      <th>2182.0</th>\n",
       "      <th>2216.0</th>\n",
       "      <th>2250.0</th>\n",
       "    </tr>\n",
       "  </thead>\n",
       "  <tbody>\n",
       "    <tr>\n",
       "      <th>0</th>\n",
       "      <td>PO_TXH_007</td>\n",
       "      <td>10</td>\n",
       "      <td>3.382378e+08</td>\n",
       "      <td>8</td>\n",
       "      <td>1.0</td>\n",
       "      <td>1.007878</td>\n",
       "      <td>0.988193</td>\n",
       "      <td>0.982036</td>\n",
       "      <td>0.981669</td>\n",
       "      <td>0.948793</td>\n",
       "      <td>...</td>\n",
       "      <td>1.191461</td>\n",
       "      <td>1.190995</td>\n",
       "      <td>1.194271</td>\n",
       "      <td>1.193846</td>\n",
       "      <td>1.195411</td>\n",
       "      <td>1.199186</td>\n",
       "      <td>1.198067</td>\n",
       "      <td>1.197574</td>\n",
       "      <td>1.200647</td>\n",
       "      <td>1.202141</td>\n",
       "    </tr>\n",
       "    <tr>\n",
       "      <th>1</th>\n",
       "      <td>PO_TXH_008</td>\n",
       "      <td>10</td>\n",
       "      <td>6.764756e+08</td>\n",
       "      <td>8</td>\n",
       "      <td>1.0</td>\n",
       "      <td>1.009224</td>\n",
       "      <td>0.993181</td>\n",
       "      <td>0.989376</td>\n",
       "      <td>0.990417</td>\n",
       "      <td>0.958965</td>\n",
       "      <td>...</td>\n",
       "      <td>1.216220</td>\n",
       "      <td>1.214997</td>\n",
       "      <td>1.216873</td>\n",
       "      <td>1.218533</td>\n",
       "      <td>1.218845</td>\n",
       "      <td>1.223721</td>\n",
       "      <td>1.223077</td>\n",
       "      <td>1.223112</td>\n",
       "      <td>1.226167</td>\n",
       "      <td>1.228659</td>\n",
       "    </tr>\n",
       "    <tr>\n",
       "      <th>2</th>\n",
       "      <td>PO_TXH_081_CP1</td>\n",
       "      <td>10</td>\n",
       "      <td>3.382378e+08</td>\n",
       "      <td>8</td>\n",
       "      <td>1.0</td>\n",
       "      <td>1.024809</td>\n",
       "      <td>1.028070</td>\n",
       "      <td>1.038039</td>\n",
       "      <td>1.045095</td>\n",
       "      <td>1.016770</td>\n",
       "      <td>...</td>\n",
       "      <td>1.311319</td>\n",
       "      <td>1.312123</td>\n",
       "      <td>1.317130</td>\n",
       "      <td>1.318421</td>\n",
       "      <td>1.321785</td>\n",
       "      <td>1.323010</td>\n",
       "      <td>1.320729</td>\n",
       "      <td>1.323559</td>\n",
       "      <td>1.321747</td>\n",
       "      <td>1.318766</td>\n",
       "    </tr>\n",
       "    <tr>\n",
       "      <th>3</th>\n",
       "      <td>PO_TXH_081_CP2</td>\n",
       "      <td>10</td>\n",
       "      <td>6.764756e+08</td>\n",
       "      <td>8</td>\n",
       "      <td>1.0</td>\n",
       "      <td>1.045083</td>\n",
       "      <td>1.057163</td>\n",
       "      <td>1.080219</td>\n",
       "      <td>1.080057</td>\n",
       "      <td>1.069199</td>\n",
       "      <td>...</td>\n",
       "      <td>1.510710</td>\n",
       "      <td>1.515629</td>\n",
       "      <td>1.522968</td>\n",
       "      <td>1.524898</td>\n",
       "      <td>1.527924</td>\n",
       "      <td>1.532406</td>\n",
       "      <td>1.532107</td>\n",
       "      <td>1.532269</td>\n",
       "      <td>1.540105</td>\n",
       "      <td>1.532981</td>\n",
       "    </tr>\n",
       "    <tr>\n",
       "      <th>4</th>\n",
       "      <td>RB_LE4OLV</td>\n",
       "      <td>10</td>\n",
       "      <td>7.610350e+08</td>\n",
       "      <td>8</td>\n",
       "      <td>1.0</td>\n",
       "      <td>1.048641</td>\n",
       "      <td>1.077656</td>\n",
       "      <td>1.110248</td>\n",
       "      <td>1.146285</td>\n",
       "      <td>1.146664</td>\n",
       "      <td>...</td>\n",
       "      <td>2.236935</td>\n",
       "      <td>2.278695</td>\n",
       "      <td>2.313884</td>\n",
       "      <td>2.339006</td>\n",
       "      <td>2.351942</td>\n",
       "      <td>2.370500</td>\n",
       "      <td>2.391162</td>\n",
       "      <td>2.417522</td>\n",
       "      <td>2.421736</td>\n",
       "      <td>2.440278</td>\n",
       "    </tr>\n",
       "    <tr>\n",
       "      <th>...</th>\n",
       "      <td>...</td>\n",
       "      <td>...</td>\n",
       "      <td>...</td>\n",
       "      <td>...</td>\n",
       "      <td>...</td>\n",
       "      <td>...</td>\n",
       "      <td>...</td>\n",
       "      <td>...</td>\n",
       "      <td>...</td>\n",
       "      <td>...</td>\n",
       "      <td>...</td>\n",
       "      <td>...</td>\n",
       "      <td>...</td>\n",
       "      <td>...</td>\n",
       "      <td>...</td>\n",
       "      <td>...</td>\n",
       "      <td>...</td>\n",
       "      <td>...</td>\n",
       "      <td>...</td>\n",
       "      <td>...</td>\n",
       "      <td>...</td>\n",
       "    </tr>\n",
       "    <tr>\n",
       "      <th>195</th>\n",
       "      <td>OC_LP_A2_2</td>\n",
       "      <td>3</td>\n",
       "      <td>2.361833e+02</td>\n",
       "      <td>2</td>\n",
       "      <td>1.0</td>\n",
       "      <td>1.105729</td>\n",
       "      <td>1.175916</td>\n",
       "      <td>1.219676</td>\n",
       "      <td>1.247651</td>\n",
       "      <td>1.263192</td>\n",
       "      <td>...</td>\n",
       "      <td>1.010004</td>\n",
       "      <td>1.011335</td>\n",
       "      <td>1.012174</td>\n",
       "      <td>1.012669</td>\n",
       "      <td>1.014064</td>\n",
       "      <td>1.016990</td>\n",
       "      <td>1.011704</td>\n",
       "      <td>1.007090</td>\n",
       "      <td>1.007014</td>\n",
       "      <td>1.008625</td>\n",
       "    </tr>\n",
       "    <tr>\n",
       "      <th>196</th>\n",
       "      <td>OC_LP_A3_2</td>\n",
       "      <td>3</td>\n",
       "      <td>5.992057e+02</td>\n",
       "      <td>2</td>\n",
       "      <td>1.0</td>\n",
       "      <td>1.097169</td>\n",
       "      <td>1.163768</td>\n",
       "      <td>1.207710</td>\n",
       "      <td>1.237273</td>\n",
       "      <td>1.255537</td>\n",
       "      <td>...</td>\n",
       "      <td>1.048189</td>\n",
       "      <td>1.050554</td>\n",
       "      <td>1.051604</td>\n",
       "      <td>1.053263</td>\n",
       "      <td>1.054960</td>\n",
       "      <td>1.058765</td>\n",
       "      <td>1.052953</td>\n",
       "      <td>1.048257</td>\n",
       "      <td>1.050416</td>\n",
       "      <td>1.053120</td>\n",
       "    </tr>\n",
       "    <tr>\n",
       "      <th>197</th>\n",
       "      <td>OC_LP_A1_3</td>\n",
       "      <td>3</td>\n",
       "      <td>9.491069e+01</td>\n",
       "      <td>1</td>\n",
       "      <td>1.0</td>\n",
       "      <td>1.098777</td>\n",
       "      <td>1.162888</td>\n",
       "      <td>1.200541</td>\n",
       "      <td>1.222890</td>\n",
       "      <td>1.234319</td>\n",
       "      <td>...</td>\n",
       "      <td>0.949880</td>\n",
       "      <td>0.950406</td>\n",
       "      <td>0.951033</td>\n",
       "      <td>0.949815</td>\n",
       "      <td>0.951064</td>\n",
       "      <td>0.950365</td>\n",
       "      <td>0.941783</td>\n",
       "      <td>0.940278</td>\n",
       "      <td>0.939529</td>\n",
       "      <td>0.940415</td>\n",
       "    </tr>\n",
       "    <tr>\n",
       "      <th>198</th>\n",
       "      <td>OC_LP_A2_3</td>\n",
       "      <td>3</td>\n",
       "      <td>2.361833e+02</td>\n",
       "      <td>2</td>\n",
       "      <td>1.0</td>\n",
       "      <td>1.101528</td>\n",
       "      <td>1.169834</td>\n",
       "      <td>1.211440</td>\n",
       "      <td>1.236943</td>\n",
       "      <td>1.251505</td>\n",
       "      <td>...</td>\n",
       "      <td>0.997011</td>\n",
       "      <td>0.998404</td>\n",
       "      <td>0.999469</td>\n",
       "      <td>0.998505</td>\n",
       "      <td>1.000379</td>\n",
       "      <td>0.999339</td>\n",
       "      <td>0.990166</td>\n",
       "      <td>0.988745</td>\n",
       "      <td>0.989049</td>\n",
       "      <td>0.990642</td>\n",
       "    </tr>\n",
       "    <tr>\n",
       "      <th>199</th>\n",
       "      <td>OC_LP_A3_3</td>\n",
       "      <td>3</td>\n",
       "      <td>5.992057e+02</td>\n",
       "      <td>2</td>\n",
       "      <td>1.0</td>\n",
       "      <td>1.090837</td>\n",
       "      <td>1.154875</td>\n",
       "      <td>1.193027</td>\n",
       "      <td>1.221807</td>\n",
       "      <td>1.238872</td>\n",
       "      <td>...</td>\n",
       "      <td>1.003092</td>\n",
       "      <td>1.003804</td>\n",
       "      <td>1.004965</td>\n",
       "      <td>1.006095</td>\n",
       "      <td>1.008243</td>\n",
       "      <td>1.008672</td>\n",
       "      <td>1.000371</td>\n",
       "      <td>0.999608</td>\n",
       "      <td>1.000299</td>\n",
       "      <td>1.002430</td>\n",
       "    </tr>\n",
       "  </tbody>\n",
       "</table>\n",
       "<p>200 rows × 55 columns</p>\n",
       "</div>"
      ],
      "text/plain": [
       "        Sample name  Irradiation        ET_1AU  group  550.0     584.0  \\\n",
       "0        PO_TXH_007           10  3.382378e+08      8    1.0  1.007878   \n",
       "1        PO_TXH_008           10  6.764756e+08      8    1.0  1.009224   \n",
       "2    PO_TXH_081_CP1           10  3.382378e+08      8    1.0  1.024809   \n",
       "3    PO_TXH_081_CP2           10  6.764756e+08      8    1.0  1.045083   \n",
       "4         RB_LE4OLV           10  7.610350e+08      8    1.0  1.048641   \n",
       "..              ...          ...           ...    ...    ...       ...   \n",
       "195      OC_LP_A2_2            3  2.361833e+02      2    1.0  1.105729   \n",
       "196      OC_LP_A3_2            3  5.992057e+02      2    1.0  1.097169   \n",
       "197      OC_LP_A1_3            3  9.491069e+01      1    1.0  1.098777   \n",
       "198      OC_LP_A2_3            3  2.361833e+02      2    1.0  1.101528   \n",
       "199      OC_LP_A3_3            3  5.992057e+02      2    1.0  1.090837   \n",
       "\n",
       "        618.0     652.0     686.0     720.0  ...    1944.0    1978.0  \\\n",
       "0    0.988193  0.982036  0.981669  0.948793  ...  1.191461  1.190995   \n",
       "1    0.993181  0.989376  0.990417  0.958965  ...  1.216220  1.214997   \n",
       "2    1.028070  1.038039  1.045095  1.016770  ...  1.311319  1.312123   \n",
       "3    1.057163  1.080219  1.080057  1.069199  ...  1.510710  1.515629   \n",
       "4    1.077656  1.110248  1.146285  1.146664  ...  2.236935  2.278695   \n",
       "..        ...       ...       ...       ...  ...       ...       ...   \n",
       "195  1.175916  1.219676  1.247651  1.263192  ...  1.010004  1.011335   \n",
       "196  1.163768  1.207710  1.237273  1.255537  ...  1.048189  1.050554   \n",
       "197  1.162888  1.200541  1.222890  1.234319  ...  0.949880  0.950406   \n",
       "198  1.169834  1.211440  1.236943  1.251505  ...  0.997011  0.998404   \n",
       "199  1.154875  1.193027  1.221807  1.238872  ...  1.003092  1.003804   \n",
       "\n",
       "       2012.0    2046.0    2080.0    2114.0    2148.0    2182.0    2216.0  \\\n",
       "0    1.194271  1.193846  1.195411  1.199186  1.198067  1.197574  1.200647   \n",
       "1    1.216873  1.218533  1.218845  1.223721  1.223077  1.223112  1.226167   \n",
       "2    1.317130  1.318421  1.321785  1.323010  1.320729  1.323559  1.321747   \n",
       "3    1.522968  1.524898  1.527924  1.532406  1.532107  1.532269  1.540105   \n",
       "4    2.313884  2.339006  2.351942  2.370500  2.391162  2.417522  2.421736   \n",
       "..        ...       ...       ...       ...       ...       ...       ...   \n",
       "195  1.012174  1.012669  1.014064  1.016990  1.011704  1.007090  1.007014   \n",
       "196  1.051604  1.053263  1.054960  1.058765  1.052953  1.048257  1.050416   \n",
       "197  0.951033  0.949815  0.951064  0.950365  0.941783  0.940278  0.939529   \n",
       "198  0.999469  0.998505  1.000379  0.999339  0.990166  0.988745  0.989049   \n",
       "199  1.004965  1.006095  1.008243  1.008672  1.000371  0.999608  1.000299   \n",
       "\n",
       "       2250.0  \n",
       "0    1.202141  \n",
       "1    1.228659  \n",
       "2    1.318766  \n",
       "3    1.532981  \n",
       "4    2.440278  \n",
       "..        ...  \n",
       "195  1.008625  \n",
       "196  1.053120  \n",
       "197  0.940415  \n",
       "198  0.990642  \n",
       "199  1.002430  \n",
       "\n",
       "[200 rows x 55 columns]"
      ]
     },
     "execution_count": 142,
     "metadata": {},
     "output_type": "execute_result"
    }
   ],
   "source": [
    "reflectance_data_transposed = interpolation_df.T\n",
    "reflectance_data_transposed.reset_index(inplace=True)\n",
    "reflectance_data_transposed.rename(columns={'index': 'Sample name'}, inplace=True)\n",
    "\n",
    "# Merge sample_info with the transposed reflectance_data\n",
    "merged_data = pd.merge(sample_info, reflectance_data_transposed, on='Sample name')\n",
    "merged_data"
   ]
  },
  {
   "cell_type": "markdown",
   "metadata": {},
   "source": [
    "#### Save the Data"
   ]
  },
  {
   "cell_type": "code",
   "execution_count": 143,
   "metadata": {},
   "outputs": [],
   "source": [
    "if save_preprocessed_data:\n",
    "\tmerged_data.to_csv('data/combined_data_550-2250.csv', index=False)"
   ]
  },
  {
   "cell_type": "markdown",
   "metadata": {},
   "source": [
    "#### Prepare the Data for the Model"
   ]
  },
  {
   "cell_type": "code",
   "execution_count": 144,
   "metadata": {},
   "outputs": [
    {
     "data": {
      "text/plain": [
       "count    2.000000e+02\n",
       "mean     6.074343e+08\n",
       "std      1.012104e+09\n",
       "min      4.373764e-02\n",
       "25%      6.675746e+02\n",
       "50%      3.089238e+08\n",
       "75%      8.054287e+08\n",
       "max      6.764756e+09\n",
       "Name: ET_1AU, dtype: float64"
      ]
     },
     "execution_count": 144,
     "metadata": {},
     "output_type": "execute_result"
    }
   ],
   "source": [
    "data = pd.read_csv('data/combined_data_550-2250.csv')\n",
    "data['ET_1AU'].describe()"
   ]
  },
  {
   "cell_type": "code",
   "execution_count": null,
   "metadata": {},
   "outputs": [],
   "source": [
    "irradiation_types = {\n",
    "    1: \"I_H_OL\",\n",
    "    2: \"I_H_PX\",\n",
    "    3: \"I_H_M\",\n",
    "    4: \"I_Ar_OL\",\n",
    "    5: \"I_Ar_PX\",\n",
    "    6: \"I_Ar_M\",\n",
    "    7: \"I_He_OL\",\n",
    "    8: \"I_He_PX\",\n",
    "    9: \"I_He_M\",\n",
    "    10: \"L_OL\",\n",
    "    11: \"L_PX\",\n",
    "    12: \"L_M\"\n",
    "}"
   ]
  },
  {
   "cell_type": "code",
   "execution_count": 145,
   "metadata": {},
   "outputs": [
    {
     "name": "stdout",
     "output_type": "stream",
     "text": [
      "10    58\n",
      "12    46\n",
      "11    24\n",
      "3     18\n",
      "1     12\n",
      "2     10\n",
      "4      9\n",
      "5      7\n",
      "7      6\n",
      "8      5\n",
      "6      5\n",
      "Name: Irradiation, dtype: int64\n",
      "200\n"
     ]
    },
    {
     "data": {
      "text/html": [
       "<div>\n",
       "<style scoped>\n",
       "    .dataframe tbody tr th:only-of-type {\n",
       "        vertical-align: middle;\n",
       "    }\n",
       "\n",
       "    .dataframe tbody tr th {\n",
       "        vertical-align: top;\n",
       "    }\n",
       "\n",
       "    .dataframe thead th {\n",
       "        text-align: right;\n",
       "    }\n",
       "</style>\n",
       "<table border=\"1\" class=\"dataframe\">\n",
       "  <thead>\n",
       "    <tr style=\"text-align: right;\">\n",
       "      <th></th>\n",
       "      <th>Sample name</th>\n",
       "      <th>Irradiation</th>\n",
       "      <th>ET_1AU</th>\n",
       "      <th>group</th>\n",
       "      <th>550.0</th>\n",
       "      <th>584.0</th>\n",
       "      <th>618.0</th>\n",
       "      <th>652.0</th>\n",
       "      <th>686.0</th>\n",
       "      <th>720.0</th>\n",
       "      <th>...</th>\n",
       "      <th>1944.0</th>\n",
       "      <th>1978.0</th>\n",
       "      <th>2012.0</th>\n",
       "      <th>2046.0</th>\n",
       "      <th>2080.0</th>\n",
       "      <th>2114.0</th>\n",
       "      <th>2148.0</th>\n",
       "      <th>2182.0</th>\n",
       "      <th>2216.0</th>\n",
       "      <th>2250.0</th>\n",
       "    </tr>\n",
       "  </thead>\n",
       "  <tbody>\n",
       "    <tr>\n",
       "      <th>0</th>\n",
       "      <td>PO_TXH_007</td>\n",
       "      <td>10</td>\n",
       "      <td>8.529222</td>\n",
       "      <td>8</td>\n",
       "      <td>1.0</td>\n",
       "      <td>1.007878</td>\n",
       "      <td>0.988193</td>\n",
       "      <td>0.982036</td>\n",
       "      <td>0.981669</td>\n",
       "      <td>0.948793</td>\n",
       "      <td>...</td>\n",
       "      <td>1.191461</td>\n",
       "      <td>1.190995</td>\n",
       "      <td>1.194271</td>\n",
       "      <td>1.193846</td>\n",
       "      <td>1.195411</td>\n",
       "      <td>1.199186</td>\n",
       "      <td>1.198067</td>\n",
       "      <td>1.197574</td>\n",
       "      <td>1.200647</td>\n",
       "      <td>1.202141</td>\n",
       "    </tr>\n",
       "    <tr>\n",
       "      <th>1</th>\n",
       "      <td>PO_TXH_008</td>\n",
       "      <td>10</td>\n",
       "      <td>8.830252</td>\n",
       "      <td>8</td>\n",
       "      <td>1.0</td>\n",
       "      <td>1.009224</td>\n",
       "      <td>0.993181</td>\n",
       "      <td>0.989376</td>\n",
       "      <td>0.990417</td>\n",
       "      <td>0.958965</td>\n",
       "      <td>...</td>\n",
       "      <td>1.216220</td>\n",
       "      <td>1.214997</td>\n",
       "      <td>1.216873</td>\n",
       "      <td>1.218533</td>\n",
       "      <td>1.218845</td>\n",
       "      <td>1.223721</td>\n",
       "      <td>1.223077</td>\n",
       "      <td>1.223112</td>\n",
       "      <td>1.226167</td>\n",
       "      <td>1.228659</td>\n",
       "    </tr>\n",
       "    <tr>\n",
       "      <th>2</th>\n",
       "      <td>PO_TXH_081_CP1</td>\n",
       "      <td>10</td>\n",
       "      <td>8.529222</td>\n",
       "      <td>8</td>\n",
       "      <td>1.0</td>\n",
       "      <td>1.024809</td>\n",
       "      <td>1.028070</td>\n",
       "      <td>1.038039</td>\n",
       "      <td>1.045095</td>\n",
       "      <td>1.016770</td>\n",
       "      <td>...</td>\n",
       "      <td>1.311319</td>\n",
       "      <td>1.312123</td>\n",
       "      <td>1.317130</td>\n",
       "      <td>1.318421</td>\n",
       "      <td>1.321785</td>\n",
       "      <td>1.323010</td>\n",
       "      <td>1.320729</td>\n",
       "      <td>1.323559</td>\n",
       "      <td>1.321747</td>\n",
       "      <td>1.318766</td>\n",
       "    </tr>\n",
       "    <tr>\n",
       "      <th>3</th>\n",
       "      <td>PO_TXH_081_CP2</td>\n",
       "      <td>10</td>\n",
       "      <td>8.830252</td>\n",
       "      <td>8</td>\n",
       "      <td>1.0</td>\n",
       "      <td>1.045083</td>\n",
       "      <td>1.057163</td>\n",
       "      <td>1.080219</td>\n",
       "      <td>1.080057</td>\n",
       "      <td>1.069199</td>\n",
       "      <td>...</td>\n",
       "      <td>1.510710</td>\n",
       "      <td>1.515629</td>\n",
       "      <td>1.522968</td>\n",
       "      <td>1.524898</td>\n",
       "      <td>1.527924</td>\n",
       "      <td>1.532406</td>\n",
       "      <td>1.532107</td>\n",
       "      <td>1.532269</td>\n",
       "      <td>1.540105</td>\n",
       "      <td>1.532981</td>\n",
       "    </tr>\n",
       "    <tr>\n",
       "      <th>4</th>\n",
       "      <td>RB_LE4OLV</td>\n",
       "      <td>10</td>\n",
       "      <td>8.881405</td>\n",
       "      <td>8</td>\n",
       "      <td>1.0</td>\n",
       "      <td>1.048641</td>\n",
       "      <td>1.077656</td>\n",
       "      <td>1.110248</td>\n",
       "      <td>1.146285</td>\n",
       "      <td>1.146664</td>\n",
       "      <td>...</td>\n",
       "      <td>2.236935</td>\n",
       "      <td>2.278695</td>\n",
       "      <td>2.313884</td>\n",
       "      <td>2.339006</td>\n",
       "      <td>2.351942</td>\n",
       "      <td>2.370500</td>\n",
       "      <td>2.391162</td>\n",
       "      <td>2.417522</td>\n",
       "      <td>2.421736</td>\n",
       "      <td>2.440278</td>\n",
       "    </tr>\n",
       "    <tr>\n",
       "      <th>...</th>\n",
       "      <td>...</td>\n",
       "      <td>...</td>\n",
       "      <td>...</td>\n",
       "      <td>...</td>\n",
       "      <td>...</td>\n",
       "      <td>...</td>\n",
       "      <td>...</td>\n",
       "      <td>...</td>\n",
       "      <td>...</td>\n",
       "      <td>...</td>\n",
       "      <td>...</td>\n",
       "      <td>...</td>\n",
       "      <td>...</td>\n",
       "      <td>...</td>\n",
       "      <td>...</td>\n",
       "      <td>...</td>\n",
       "      <td>...</td>\n",
       "      <td>...</td>\n",
       "      <td>...</td>\n",
       "      <td>...</td>\n",
       "      <td>...</td>\n",
       "    </tr>\n",
       "    <tr>\n",
       "      <th>195</th>\n",
       "      <td>OC_LP_A2_2</td>\n",
       "      <td>3</td>\n",
       "      <td>2.375084</td>\n",
       "      <td>2</td>\n",
       "      <td>1.0</td>\n",
       "      <td>1.105729</td>\n",
       "      <td>1.175916</td>\n",
       "      <td>1.219676</td>\n",
       "      <td>1.247651</td>\n",
       "      <td>1.263192</td>\n",
       "      <td>...</td>\n",
       "      <td>1.010004</td>\n",
       "      <td>1.011335</td>\n",
       "      <td>1.012174</td>\n",
       "      <td>1.012669</td>\n",
       "      <td>1.014064</td>\n",
       "      <td>1.016990</td>\n",
       "      <td>1.011704</td>\n",
       "      <td>1.007090</td>\n",
       "      <td>1.007014</td>\n",
       "      <td>1.008625</td>\n",
       "    </tr>\n",
       "    <tr>\n",
       "      <th>196</th>\n",
       "      <td>OC_LP_A3_2</td>\n",
       "      <td>3</td>\n",
       "      <td>2.778300</td>\n",
       "      <td>2</td>\n",
       "      <td>1.0</td>\n",
       "      <td>1.097169</td>\n",
       "      <td>1.163768</td>\n",
       "      <td>1.207710</td>\n",
       "      <td>1.237273</td>\n",
       "      <td>1.255537</td>\n",
       "      <td>...</td>\n",
       "      <td>1.048189</td>\n",
       "      <td>1.050554</td>\n",
       "      <td>1.051604</td>\n",
       "      <td>1.053263</td>\n",
       "      <td>1.054960</td>\n",
       "      <td>1.058765</td>\n",
       "      <td>1.052953</td>\n",
       "      <td>1.048257</td>\n",
       "      <td>1.050416</td>\n",
       "      <td>1.053120</td>\n",
       "    </tr>\n",
       "    <tr>\n",
       "      <th>197</th>\n",
       "      <td>OC_LP_A1_3</td>\n",
       "      <td>3</td>\n",
       "      <td>1.981867</td>\n",
       "      <td>1</td>\n",
       "      <td>1.0</td>\n",
       "      <td>1.098777</td>\n",
       "      <td>1.162888</td>\n",
       "      <td>1.200541</td>\n",
       "      <td>1.222890</td>\n",
       "      <td>1.234319</td>\n",
       "      <td>...</td>\n",
       "      <td>0.949880</td>\n",
       "      <td>0.950406</td>\n",
       "      <td>0.951033</td>\n",
       "      <td>0.949815</td>\n",
       "      <td>0.951064</td>\n",
       "      <td>0.950365</td>\n",
       "      <td>0.941783</td>\n",
       "      <td>0.940278</td>\n",
       "      <td>0.939529</td>\n",
       "      <td>0.940415</td>\n",
       "    </tr>\n",
       "    <tr>\n",
       "      <th>198</th>\n",
       "      <td>OC_LP_A2_3</td>\n",
       "      <td>3</td>\n",
       "      <td>2.375084</td>\n",
       "      <td>2</td>\n",
       "      <td>1.0</td>\n",
       "      <td>1.101528</td>\n",
       "      <td>1.169834</td>\n",
       "      <td>1.211440</td>\n",
       "      <td>1.236943</td>\n",
       "      <td>1.251505</td>\n",
       "      <td>...</td>\n",
       "      <td>0.997011</td>\n",
       "      <td>0.998404</td>\n",
       "      <td>0.999469</td>\n",
       "      <td>0.998505</td>\n",
       "      <td>1.000379</td>\n",
       "      <td>0.999339</td>\n",
       "      <td>0.990166</td>\n",
       "      <td>0.988745</td>\n",
       "      <td>0.989049</td>\n",
       "      <td>0.990642</td>\n",
       "    </tr>\n",
       "    <tr>\n",
       "      <th>199</th>\n",
       "      <td>OC_LP_A3_3</td>\n",
       "      <td>3</td>\n",
       "      <td>2.778300</td>\n",
       "      <td>2</td>\n",
       "      <td>1.0</td>\n",
       "      <td>1.090837</td>\n",
       "      <td>1.154875</td>\n",
       "      <td>1.193027</td>\n",
       "      <td>1.221807</td>\n",
       "      <td>1.238872</td>\n",
       "      <td>...</td>\n",
       "      <td>1.003092</td>\n",
       "      <td>1.003804</td>\n",
       "      <td>1.004965</td>\n",
       "      <td>1.006095</td>\n",
       "      <td>1.008243</td>\n",
       "      <td>1.008672</td>\n",
       "      <td>1.000371</td>\n",
       "      <td>0.999608</td>\n",
       "      <td>1.000299</td>\n",
       "      <td>1.002430</td>\n",
       "    </tr>\n",
       "  </tbody>\n",
       "</table>\n",
       "<p>200 rows × 55 columns</p>\n",
       "</div>"
      ],
      "text/plain": [
       "        Sample name  Irradiation    ET_1AU  group  550.0     584.0     618.0  \\\n",
       "0        PO_TXH_007           10  8.529222      8    1.0  1.007878  0.988193   \n",
       "1        PO_TXH_008           10  8.830252      8    1.0  1.009224  0.993181   \n",
       "2    PO_TXH_081_CP1           10  8.529222      8    1.0  1.024809  1.028070   \n",
       "3    PO_TXH_081_CP2           10  8.830252      8    1.0  1.045083  1.057163   \n",
       "4         RB_LE4OLV           10  8.881405      8    1.0  1.048641  1.077656   \n",
       "..              ...          ...       ...    ...    ...       ...       ...   \n",
       "195      OC_LP_A2_2            3  2.375084      2    1.0  1.105729  1.175916   \n",
       "196      OC_LP_A3_2            3  2.778300      2    1.0  1.097169  1.163768   \n",
       "197      OC_LP_A1_3            3  1.981867      1    1.0  1.098777  1.162888   \n",
       "198      OC_LP_A2_3            3  2.375084      2    1.0  1.101528  1.169834   \n",
       "199      OC_LP_A3_3            3  2.778300      2    1.0  1.090837  1.154875   \n",
       "\n",
       "        652.0     686.0     720.0  ...    1944.0    1978.0    2012.0  \\\n",
       "0    0.982036  0.981669  0.948793  ...  1.191461  1.190995  1.194271   \n",
       "1    0.989376  0.990417  0.958965  ...  1.216220  1.214997  1.216873   \n",
       "2    1.038039  1.045095  1.016770  ...  1.311319  1.312123  1.317130   \n",
       "3    1.080219  1.080057  1.069199  ...  1.510710  1.515629  1.522968   \n",
       "4    1.110248  1.146285  1.146664  ...  2.236935  2.278695  2.313884   \n",
       "..        ...       ...       ...  ...       ...       ...       ...   \n",
       "195  1.219676  1.247651  1.263192  ...  1.010004  1.011335  1.012174   \n",
       "196  1.207710  1.237273  1.255537  ...  1.048189  1.050554  1.051604   \n",
       "197  1.200541  1.222890  1.234319  ...  0.949880  0.950406  0.951033   \n",
       "198  1.211440  1.236943  1.251505  ...  0.997011  0.998404  0.999469   \n",
       "199  1.193027  1.221807  1.238872  ...  1.003092  1.003804  1.004965   \n",
       "\n",
       "       2046.0    2080.0    2114.0    2148.0    2182.0    2216.0    2250.0  \n",
       "0    1.193846  1.195411  1.199186  1.198067  1.197574  1.200647  1.202141  \n",
       "1    1.218533  1.218845  1.223721  1.223077  1.223112  1.226167  1.228659  \n",
       "2    1.318421  1.321785  1.323010  1.320729  1.323559  1.321747  1.318766  \n",
       "3    1.524898  1.527924  1.532406  1.532107  1.532269  1.540105  1.532981  \n",
       "4    2.339006  2.351942  2.370500  2.391162  2.417522  2.421736  2.440278  \n",
       "..        ...       ...       ...       ...       ...       ...       ...  \n",
       "195  1.012669  1.014064  1.016990  1.011704  1.007090  1.007014  1.008625  \n",
       "196  1.053263  1.054960  1.058765  1.052953  1.048257  1.050416  1.053120  \n",
       "197  0.949815  0.951064  0.950365  0.941783  0.940278  0.939529  0.940415  \n",
       "198  0.998505  1.000379  0.999339  0.990166  0.988745  0.989049  0.990642  \n",
       "199  1.006095  1.008243  1.008672  1.000371  0.999608  1.000299  1.002430  \n",
       "\n",
       "[200 rows x 55 columns]"
      ]
     },
     "execution_count": 145,
     "metadata": {},
     "output_type": "execute_result"
    }
   ],
   "source": [
    "counts = data['Irradiation'].value_counts()\n",
    "print(counts)\n",
    "data['ET_1AU'] = np.log10(data['ET_1AU']+1) # Scale the target to log10\n",
    "\n",
    "'''\n",
    "Irradiation type combinations\n",
    "Hydrogen + laser on only olivine = 1, 10\n",
    "Hydrogen + laser on all minerals = 1, 2, 3, 10, 11, 12\n",
    "All = 1, 2, 3, 4, 5, 6, 7, 8, 9, 10, 11, 12\n",
    "'''\n",
    "\n",
    "selected_irradiations = [1, 2, 3, 10, 11, 12] # Which irradiation types are taken into the training dataset\n",
    "\n",
    "num_of_data_rows = data.shape[0]\n",
    "print(num_of_data_rows)\n",
    "\n",
    "data"
   ]
  },
  {
   "cell_type": "code",
   "execution_count": 146,
   "metadata": {},
   "outputs": [
    {
     "name": "stdout",
     "output_type": "stream",
     "text": [
      "12\n",
      "10\n",
      "18\n",
      "58\n",
      "24\n",
      "46\n",
      "Total 168\n"
     ]
    }
   ],
   "source": [
    "X_task_sets = [] # list[ np[task 1 X], np[task 2 X], [...], ...]\n",
    "y_task_sets = [] # list[ np[task 1 y], np[task 2 y], [...], ...]\n",
    "\n",
    "# Save indices for RMSE calculations. This keeps track of the asteroid IDs for GP model tasks\n",
    "sample_id_task_sets = [] # list[ np[task 1 indices], np[task 2 indices], [...], ...]\n",
    "\n",
    "# Separate different irradiation types into tasks. (Tasks are the different GP model categories for different irradiation types)\n",
    "for task in selected_irradiations:\n",
    "\ttask_set = data[data['Irradiation'].isin([task])].copy()\n",
    "\tif len(task_set)==0:\n",
    "\t\tcontinue\n",
    "\ttask_indices = task_set.index.to_numpy()\n",
    "\tsample_id_task_sets.append(task_indices)\n",
    "\ttask_set.drop(['Sample name', 'Irradiation', 'group'], axis=1, inplace=True)\n",
    "\tX = task_set.drop('ET_1AU', axis=1).values\n",
    "\ty = task_set['ET_1AU'].values\n",
    "\tX_task_sets.append(X)\n",
    "\ty_task_sets.append(y)\n",
    "\n",
    "# Number of data for different tasks\n",
    "number_of_total_data_points = 0\n",
    "for task in y_task_sets:\n",
    "\tnumber_of_total_data_points += len(task)\n",
    "\tprint(len(task))\n",
    "print(f'Total {number_of_total_data_points}')"
   ]
  },
  {
   "cell_type": "code",
   "execution_count": 147,
   "metadata": {},
   "outputs": [
    {
     "name": "stdout",
     "output_type": "stream",
     "text": [
      "51\n"
     ]
    }
   ],
   "source": [
    "data_dim = X.shape[-1] # Number of considered wavelengths\n",
    "print(data_dim)"
   ]
  },
  {
   "cell_type": "markdown",
   "metadata": {},
   "source": [
    "# GP Model"
   ]
  },
  {
   "cell_type": "markdown",
   "metadata": {},
   "source": [
    "#### Feature Extractor"
   ]
  },
  {
   "cell_type": "code",
   "execution_count": 149,
   "metadata": {},
   "outputs": [],
   "source": [
    "class FeatureExtractor(torch.nn.Module):\n",
    "    def __init__(self):\n",
    "        super(FeatureExtractor, self).__init__()\n",
    "        self.conv1 = torch.nn.Conv1d(in_channels=1, out_channels=16, kernel_size=3, padding='same') # Convolutional layer\n",
    "        self.pool = torch.nn.MaxPool1d(kernel_size=2, stride=2) # reduces the dimensionality\n",
    "        self.fc1 = torch.nn.Linear((data_dim // 2) * 16, data_dim) # Fully connected layer, reduces dimensionality\n",
    "\n",
    "    def forward(self, x):\n",
    "        x = x.unsqueeze(1)  # Add a channel dimension: (batch_size, 1, data_dim)\n",
    "        x = F.relu(self.conv1(x))  # Apply convolution, batch norm, and ReLU\n",
    "        x = self.pool(x)  # Apply max pooling\n",
    "        x = x.view(x.size(0), -1)  # Flatten the tensor: (batch_size, 16 * (data_dim // 2))\n",
    "        x = self.fc1(x)  # Apply linear layer: (batch_size, data_dim)\n",
    "        return x"
   ]
  },
  {
   "cell_type": "markdown",
   "metadata": {},
   "source": [
    "#### model training"
   ]
  },
  {
   "cell_type": "code",
   "execution_count": 150,
   "metadata": {},
   "outputs": [],
   "source": [
    "kf = KFold(n_splits=folds, shuffle=True)\n",
    "\n",
    "results_per_id = np.full((num_of_data_rows, cycles), np.nan) # Array for prediction results\n",
    "true_values_per_id = np.full((num_of_data_rows, 1), np.nan) # True target values"
   ]
  },
  {
   "cell_type": "code",
   "execution_count": 151,
   "metadata": {},
   "outputs": [
    {
     "name": "stdout",
     "output_type": "stream",
     "text": [
      "Cycle 1/30\n",
      "Fold 1/7\n"
     ]
    },
    {
     "data": {
      "application/vnd.jupyter.widget-view+json": {
       "model_id": "ed1cd748c42d43e0b38f973c3b31da49",
       "version_major": 2,
       "version_minor": 0
      },
      "text/plain": [
       "  0%|          | 0/150 [00:00<?, ?it/s]"
      ]
     },
     "metadata": {},
     "output_type": "display_data"
    },
    {
     "name": "stdout",
     "output_type": "stream",
     "text": [
      "Cycle 1/30\n",
      "Fold 2/7\n"
     ]
    },
    {
     "data": {
      "application/vnd.jupyter.widget-view+json": {
       "model_id": "060d483989994e92a77d3e47ea4ccb57",
       "version_major": 2,
       "version_minor": 0
      },
      "text/plain": [
       "  0%|          | 0/150 [00:00<?, ?it/s]"
      ]
     },
     "metadata": {},
     "output_type": "display_data"
    },
    {
     "name": "stdout",
     "output_type": "stream",
     "text": [
      "Cycle 1/30\n",
      "Fold 3/7\n"
     ]
    },
    {
     "data": {
      "application/vnd.jupyter.widget-view+json": {
       "model_id": "2b9fcbc0b9fa41b596d556116981f116",
       "version_major": 2,
       "version_minor": 0
      },
      "text/plain": [
       "  0%|          | 0/150 [00:00<?, ?it/s]"
      ]
     },
     "metadata": {},
     "output_type": "display_data"
    },
    {
     "name": "stdout",
     "output_type": "stream",
     "text": [
      "Cycle 1/30\n",
      "Fold 4/7\n"
     ]
    },
    {
     "data": {
      "application/vnd.jupyter.widget-view+json": {
       "model_id": "380ac30d69ae405a96f63f979817b5c6",
       "version_major": 2,
       "version_minor": 0
      },
      "text/plain": [
       "  0%|          | 0/150 [00:00<?, ?it/s]"
      ]
     },
     "metadata": {},
     "output_type": "display_data"
    },
    {
     "name": "stdout",
     "output_type": "stream",
     "text": [
      "Cycle 1/30\n",
      "Fold 5/7\n"
     ]
    },
    {
     "data": {
      "application/vnd.jupyter.widget-view+json": {
       "model_id": "bf98b232a6da4cf1888dce3ba91e7b91",
       "version_major": 2,
       "version_minor": 0
      },
      "text/plain": [
       "  0%|          | 0/150 [00:00<?, ?it/s]"
      ]
     },
     "metadata": {},
     "output_type": "display_data"
    },
    {
     "name": "stdout",
     "output_type": "stream",
     "text": [
      "Cycle 1/30\n",
      "Fold 6/7\n"
     ]
    },
    {
     "data": {
      "application/vnd.jupyter.widget-view+json": {
       "model_id": "a425ca54a6894e798509285c95c3966d",
       "version_major": 2,
       "version_minor": 0
      },
      "text/plain": [
       "  0%|          | 0/150 [00:00<?, ?it/s]"
      ]
     },
     "metadata": {},
     "output_type": "display_data"
    },
    {
     "name": "stdout",
     "output_type": "stream",
     "text": [
      "Cycle 1/30\n",
      "Fold 7/7\n"
     ]
    },
    {
     "data": {
      "application/vnd.jupyter.widget-view+json": {
       "model_id": "d0bc90a126ed46a3814573b5e16a494e",
       "version_major": 2,
       "version_minor": 0
      },
      "text/plain": [
       "  0%|          | 0/150 [00:00<?, ?it/s]"
      ]
     },
     "metadata": {},
     "output_type": "display_data"
    },
    {
     "name": "stdout",
     "output_type": "stream",
     "text": [
      "Cycle 2/30\n",
      "Fold 1/7\n"
     ]
    },
    {
     "data": {
      "application/vnd.jupyter.widget-view+json": {
       "model_id": "91b5f8a8e2184d909037501f77c777fe",
       "version_major": 2,
       "version_minor": 0
      },
      "text/plain": [
       "  0%|          | 0/150 [00:00<?, ?it/s]"
      ]
     },
     "metadata": {},
     "output_type": "display_data"
    },
    {
     "name": "stdout",
     "output_type": "stream",
     "text": [
      "Cycle 2/30\n",
      "Fold 2/7\n"
     ]
    },
    {
     "data": {
      "application/vnd.jupyter.widget-view+json": {
       "model_id": "42fa6d44fb9e49b699a9061ace1f3284",
       "version_major": 2,
       "version_minor": 0
      },
      "text/plain": [
       "  0%|          | 0/150 [00:00<?, ?it/s]"
      ]
     },
     "metadata": {},
     "output_type": "display_data"
    },
    {
     "name": "stdout",
     "output_type": "stream",
     "text": [
      "Cycle 2/30\n",
      "Fold 3/7\n"
     ]
    },
    {
     "data": {
      "application/vnd.jupyter.widget-view+json": {
       "model_id": "211158b3bf444a07a97f4cbdfd2d002f",
       "version_major": 2,
       "version_minor": 0
      },
      "text/plain": [
       "  0%|          | 0/150 [00:00<?, ?it/s]"
      ]
     },
     "metadata": {},
     "output_type": "display_data"
    },
    {
     "name": "stdout",
     "output_type": "stream",
     "text": [
      "Cycle 2/30\n",
      "Fold 4/7\n"
     ]
    },
    {
     "data": {
      "application/vnd.jupyter.widget-view+json": {
       "model_id": "462e8de03be8480abe2a4656cbca7eb5",
       "version_major": 2,
       "version_minor": 0
      },
      "text/plain": [
       "  0%|          | 0/150 [00:00<?, ?it/s]"
      ]
     },
     "metadata": {},
     "output_type": "display_data"
    },
    {
     "name": "stdout",
     "output_type": "stream",
     "text": [
      "Cycle 2/30\n",
      "Fold 5/7\n"
     ]
    },
    {
     "data": {
      "application/vnd.jupyter.widget-view+json": {
       "model_id": "c4d78c8caf204f99b8fd52466dc1932b",
       "version_major": 2,
       "version_minor": 0
      },
      "text/plain": [
       "  0%|          | 0/150 [00:00<?, ?it/s]"
      ]
     },
     "metadata": {},
     "output_type": "display_data"
    },
    {
     "name": "stdout",
     "output_type": "stream",
     "text": [
      "Cycle 2/30\n",
      "Fold 6/7\n"
     ]
    },
    {
     "data": {
      "application/vnd.jupyter.widget-view+json": {
       "model_id": "5b4f5cd778db43feabc677c7c95b5386",
       "version_major": 2,
       "version_minor": 0
      },
      "text/plain": [
       "  0%|          | 0/150 [00:00<?, ?it/s]"
      ]
     },
     "metadata": {},
     "output_type": "display_data"
    },
    {
     "name": "stdout",
     "output_type": "stream",
     "text": [
      "Cycle 2/30\n",
      "Fold 7/7\n"
     ]
    },
    {
     "data": {
      "application/vnd.jupyter.widget-view+json": {
       "model_id": "18710d9484c14ecea3dfaf4091d85887",
       "version_major": 2,
       "version_minor": 0
      },
      "text/plain": [
       "  0%|          | 0/150 [00:00<?, ?it/s]"
      ]
     },
     "metadata": {},
     "output_type": "display_data"
    },
    {
     "name": "stdout",
     "output_type": "stream",
     "text": [
      "Cycle 3/30\n",
      "Fold 1/7\n"
     ]
    },
    {
     "data": {
      "application/vnd.jupyter.widget-view+json": {
       "model_id": "b3243aa42bca4fb1927ce444b8585bfd",
       "version_major": 2,
       "version_minor": 0
      },
      "text/plain": [
       "  0%|          | 0/150 [00:00<?, ?it/s]"
      ]
     },
     "metadata": {},
     "output_type": "display_data"
    },
    {
     "name": "stdout",
     "output_type": "stream",
     "text": [
      "Cycle 3/30\n",
      "Fold 2/7\n"
     ]
    },
    {
     "data": {
      "application/vnd.jupyter.widget-view+json": {
       "model_id": "17625cf79d6d42d0a7972a55637940e5",
       "version_major": 2,
       "version_minor": 0
      },
      "text/plain": [
       "  0%|          | 0/150 [00:00<?, ?it/s]"
      ]
     },
     "metadata": {},
     "output_type": "display_data"
    },
    {
     "name": "stdout",
     "output_type": "stream",
     "text": [
      "Cycle 3/30\n",
      "Fold 3/7\n"
     ]
    },
    {
     "data": {
      "application/vnd.jupyter.widget-view+json": {
       "model_id": "dbef8c4207084cd292bf16b58954f7cb",
       "version_major": 2,
       "version_minor": 0
      },
      "text/plain": [
       "  0%|          | 0/150 [00:00<?, ?it/s]"
      ]
     },
     "metadata": {},
     "output_type": "display_data"
    },
    {
     "name": "stdout",
     "output_type": "stream",
     "text": [
      "Cycle 3/30\n",
      "Fold 4/7\n"
     ]
    },
    {
     "data": {
      "application/vnd.jupyter.widget-view+json": {
       "model_id": "ece132996fc4433f8432bb2d97f028f7",
       "version_major": 2,
       "version_minor": 0
      },
      "text/plain": [
       "  0%|          | 0/150 [00:00<?, ?it/s]"
      ]
     },
     "metadata": {},
     "output_type": "display_data"
    },
    {
     "name": "stdout",
     "output_type": "stream",
     "text": [
      "Cycle 3/30\n",
      "Fold 5/7\n"
     ]
    },
    {
     "data": {
      "application/vnd.jupyter.widget-view+json": {
       "model_id": "6ed1748cff2145a3b9a945fa4d75fb58",
       "version_major": 2,
       "version_minor": 0
      },
      "text/plain": [
       "  0%|          | 0/150 [00:00<?, ?it/s]"
      ]
     },
     "metadata": {},
     "output_type": "display_data"
    },
    {
     "name": "stdout",
     "output_type": "stream",
     "text": [
      "Cycle 3/30\n",
      "Fold 6/7\n"
     ]
    },
    {
     "data": {
      "application/vnd.jupyter.widget-view+json": {
       "model_id": "2f818556b079496784e9b592998b9c9c",
       "version_major": 2,
       "version_minor": 0
      },
      "text/plain": [
       "  0%|          | 0/150 [00:00<?, ?it/s]"
      ]
     },
     "metadata": {},
     "output_type": "display_data"
    },
    {
     "name": "stdout",
     "output_type": "stream",
     "text": [
      "Cycle 3/30\n",
      "Fold 7/7\n"
     ]
    },
    {
     "data": {
      "application/vnd.jupyter.widget-view+json": {
       "model_id": "b79188afe7fe4e559d6f7289b0f1a321",
       "version_major": 2,
       "version_minor": 0
      },
      "text/plain": [
       "  0%|          | 0/150 [00:00<?, ?it/s]"
      ]
     },
     "metadata": {},
     "output_type": "display_data"
    },
    {
     "name": "stdout",
     "output_type": "stream",
     "text": [
      "Cycle 4/30\n",
      "Fold 1/7\n"
     ]
    },
    {
     "data": {
      "application/vnd.jupyter.widget-view+json": {
       "model_id": "22f2c9f007df4d7986c1a19543d6dc39",
       "version_major": 2,
       "version_minor": 0
      },
      "text/plain": [
       "  0%|          | 0/150 [00:00<?, ?it/s]"
      ]
     },
     "metadata": {},
     "output_type": "display_data"
    },
    {
     "name": "stdout",
     "output_type": "stream",
     "text": [
      "Cycle 4/30\n",
      "Fold 2/7\n"
     ]
    },
    {
     "data": {
      "application/vnd.jupyter.widget-view+json": {
       "model_id": "aa28d3aac4994f8390bc6b74c648e3ea",
       "version_major": 2,
       "version_minor": 0
      },
      "text/plain": [
       "  0%|          | 0/150 [00:00<?, ?it/s]"
      ]
     },
     "metadata": {},
     "output_type": "display_data"
    },
    {
     "name": "stdout",
     "output_type": "stream",
     "text": [
      "Cycle 4/30\n",
      "Fold 3/7\n"
     ]
    },
    {
     "data": {
      "application/vnd.jupyter.widget-view+json": {
       "model_id": "e1e8174166454aaeab04070f4dcaad48",
       "version_major": 2,
       "version_minor": 0
      },
      "text/plain": [
       "  0%|          | 0/150 [00:00<?, ?it/s]"
      ]
     },
     "metadata": {},
     "output_type": "display_data"
    },
    {
     "name": "stdout",
     "output_type": "stream",
     "text": [
      "Cycle 4/30\n",
      "Fold 4/7\n"
     ]
    },
    {
     "data": {
      "application/vnd.jupyter.widget-view+json": {
       "model_id": "9a792b7ba8b14ddda3da43c54937e5c5",
       "version_major": 2,
       "version_minor": 0
      },
      "text/plain": [
       "  0%|          | 0/150 [00:00<?, ?it/s]"
      ]
     },
     "metadata": {},
     "output_type": "display_data"
    },
    {
     "name": "stdout",
     "output_type": "stream",
     "text": [
      "Cycle 4/30\n",
      "Fold 5/7\n"
     ]
    },
    {
     "data": {
      "application/vnd.jupyter.widget-view+json": {
       "model_id": "5595b4cf05524c8cb7858d312fea387f",
       "version_major": 2,
       "version_minor": 0
      },
      "text/plain": [
       "  0%|          | 0/150 [00:00<?, ?it/s]"
      ]
     },
     "metadata": {},
     "output_type": "display_data"
    },
    {
     "name": "stdout",
     "output_type": "stream",
     "text": [
      "Cycle 4/30\n",
      "Fold 6/7\n"
     ]
    },
    {
     "data": {
      "application/vnd.jupyter.widget-view+json": {
       "model_id": "9b49899bdf4c4876b329cac123bbf3b4",
       "version_major": 2,
       "version_minor": 0
      },
      "text/plain": [
       "  0%|          | 0/150 [00:00<?, ?it/s]"
      ]
     },
     "metadata": {},
     "output_type": "display_data"
    },
    {
     "name": "stdout",
     "output_type": "stream",
     "text": [
      "Cycle 4/30\n",
      "Fold 7/7\n"
     ]
    },
    {
     "data": {
      "application/vnd.jupyter.widget-view+json": {
       "model_id": "d8c68c10916745a18c3505b8b1ff86c4",
       "version_major": 2,
       "version_minor": 0
      },
      "text/plain": [
       "  0%|          | 0/150 [00:00<?, ?it/s]"
      ]
     },
     "metadata": {},
     "output_type": "display_data"
    },
    {
     "name": "stdout",
     "output_type": "stream",
     "text": [
      "Cycle 5/30\n",
      "Fold 1/7\n"
     ]
    },
    {
     "data": {
      "application/vnd.jupyter.widget-view+json": {
       "model_id": "a19f4e24db974f2da03344a68452064a",
       "version_major": 2,
       "version_minor": 0
      },
      "text/plain": [
       "  0%|          | 0/150 [00:00<?, ?it/s]"
      ]
     },
     "metadata": {},
     "output_type": "display_data"
    },
    {
     "name": "stdout",
     "output_type": "stream",
     "text": [
      "Cycle 5/30\n",
      "Fold 2/7\n"
     ]
    },
    {
     "data": {
      "application/vnd.jupyter.widget-view+json": {
       "model_id": "ab48e658df7a421eb6768b2895887a48",
       "version_major": 2,
       "version_minor": 0
      },
      "text/plain": [
       "  0%|          | 0/150 [00:00<?, ?it/s]"
      ]
     },
     "metadata": {},
     "output_type": "display_data"
    },
    {
     "name": "stdout",
     "output_type": "stream",
     "text": [
      "Cycle 5/30\n",
      "Fold 3/7\n"
     ]
    },
    {
     "data": {
      "application/vnd.jupyter.widget-view+json": {
       "model_id": "bd98114f369f447c90623e73dafb6d3c",
       "version_major": 2,
       "version_minor": 0
      },
      "text/plain": [
       "  0%|          | 0/150 [00:00<?, ?it/s]"
      ]
     },
     "metadata": {},
     "output_type": "display_data"
    },
    {
     "name": "stdout",
     "output_type": "stream",
     "text": [
      "Cycle 5/30\n",
      "Fold 4/7\n"
     ]
    },
    {
     "data": {
      "application/vnd.jupyter.widget-view+json": {
       "model_id": "4b9661d17be44315a5c438f94e3a508f",
       "version_major": 2,
       "version_minor": 0
      },
      "text/plain": [
       "  0%|          | 0/150 [00:00<?, ?it/s]"
      ]
     },
     "metadata": {},
     "output_type": "display_data"
    },
    {
     "name": "stdout",
     "output_type": "stream",
     "text": [
      "Cycle 5/30\n",
      "Fold 5/7\n"
     ]
    },
    {
     "data": {
      "application/vnd.jupyter.widget-view+json": {
       "model_id": "0e3849e0770148a5a59b48e966571531",
       "version_major": 2,
       "version_minor": 0
      },
      "text/plain": [
       "  0%|          | 0/150 [00:00<?, ?it/s]"
      ]
     },
     "metadata": {},
     "output_type": "display_data"
    },
    {
     "name": "stdout",
     "output_type": "stream",
     "text": [
      "Cycle 5/30\n",
      "Fold 6/7\n"
     ]
    },
    {
     "data": {
      "application/vnd.jupyter.widget-view+json": {
       "model_id": "92fcb3b759444773b702665caf68f794",
       "version_major": 2,
       "version_minor": 0
      },
      "text/plain": [
       "  0%|          | 0/150 [00:00<?, ?it/s]"
      ]
     },
     "metadata": {},
     "output_type": "display_data"
    },
    {
     "name": "stdout",
     "output_type": "stream",
     "text": [
      "Cycle 5/30\n",
      "Fold 7/7\n"
     ]
    },
    {
     "data": {
      "application/vnd.jupyter.widget-view+json": {
       "model_id": "bbc0f74a9dda4aee93ba571b7c4a2739",
       "version_major": 2,
       "version_minor": 0
      },
      "text/plain": [
       "  0%|          | 0/150 [00:00<?, ?it/s]"
      ]
     },
     "metadata": {},
     "output_type": "display_data"
    },
    {
     "name": "stdout",
     "output_type": "stream",
     "text": [
      "Cycle 6/30\n",
      "Fold 1/7\n"
     ]
    },
    {
     "data": {
      "application/vnd.jupyter.widget-view+json": {
       "model_id": "d1e582cb5e5440a0b4ad5623bb2ab36c",
       "version_major": 2,
       "version_minor": 0
      },
      "text/plain": [
       "  0%|          | 0/150 [00:00<?, ?it/s]"
      ]
     },
     "metadata": {},
     "output_type": "display_data"
    },
    {
     "name": "stdout",
     "output_type": "stream",
     "text": [
      "Cycle 6/30\n",
      "Fold 2/7\n"
     ]
    },
    {
     "data": {
      "application/vnd.jupyter.widget-view+json": {
       "model_id": "cdf697fd808c440a89525cd95fe59a16",
       "version_major": 2,
       "version_minor": 0
      },
      "text/plain": [
       "  0%|          | 0/150 [00:00<?, ?it/s]"
      ]
     },
     "metadata": {},
     "output_type": "display_data"
    },
    {
     "name": "stdout",
     "output_type": "stream",
     "text": [
      "Cycle 6/30\n",
      "Fold 3/7\n"
     ]
    },
    {
     "data": {
      "application/vnd.jupyter.widget-view+json": {
       "model_id": "38d22a57acc946e5aebcad99f63546a7",
       "version_major": 2,
       "version_minor": 0
      },
      "text/plain": [
       "  0%|          | 0/150 [00:00<?, ?it/s]"
      ]
     },
     "metadata": {},
     "output_type": "display_data"
    },
    {
     "name": "stdout",
     "output_type": "stream",
     "text": [
      "Cycle 6/30\n",
      "Fold 4/7\n"
     ]
    },
    {
     "data": {
      "application/vnd.jupyter.widget-view+json": {
       "model_id": "8474aba679b949a58ab5538928584bde",
       "version_major": 2,
       "version_minor": 0
      },
      "text/plain": [
       "  0%|          | 0/150 [00:00<?, ?it/s]"
      ]
     },
     "metadata": {},
     "output_type": "display_data"
    },
    {
     "name": "stdout",
     "output_type": "stream",
     "text": [
      "Cycle 6/30\n",
      "Fold 5/7\n"
     ]
    },
    {
     "data": {
      "application/vnd.jupyter.widget-view+json": {
       "model_id": "02fe1a14314a43a992d7f6d58aea7721",
       "version_major": 2,
       "version_minor": 0
      },
      "text/plain": [
       "  0%|          | 0/150 [00:00<?, ?it/s]"
      ]
     },
     "metadata": {},
     "output_type": "display_data"
    },
    {
     "name": "stdout",
     "output_type": "stream",
     "text": [
      "Cycle 6/30\n",
      "Fold 6/7\n"
     ]
    },
    {
     "data": {
      "application/vnd.jupyter.widget-view+json": {
       "model_id": "5fe3df9d03d0423abcf4cfe774bfea35",
       "version_major": 2,
       "version_minor": 0
      },
      "text/plain": [
       "  0%|          | 0/150 [00:00<?, ?it/s]"
      ]
     },
     "metadata": {},
     "output_type": "display_data"
    },
    {
     "name": "stdout",
     "output_type": "stream",
     "text": [
      "Cycle 6/30\n",
      "Fold 7/7\n"
     ]
    },
    {
     "data": {
      "application/vnd.jupyter.widget-view+json": {
       "model_id": "e6a33891d0e84f569a83db87fd5f4451",
       "version_major": 2,
       "version_minor": 0
      },
      "text/plain": [
       "  0%|          | 0/150 [00:00<?, ?it/s]"
      ]
     },
     "metadata": {},
     "output_type": "display_data"
    },
    {
     "name": "stdout",
     "output_type": "stream",
     "text": [
      "Cycle 7/30\n",
      "Fold 1/7\n"
     ]
    },
    {
     "data": {
      "application/vnd.jupyter.widget-view+json": {
       "model_id": "ba5ec412b1a44acfb6100f46fff0a65f",
       "version_major": 2,
       "version_minor": 0
      },
      "text/plain": [
       "  0%|          | 0/150 [00:00<?, ?it/s]"
      ]
     },
     "metadata": {},
     "output_type": "display_data"
    },
    {
     "name": "stdout",
     "output_type": "stream",
     "text": [
      "Cycle 7/30\n",
      "Fold 2/7\n"
     ]
    },
    {
     "data": {
      "application/vnd.jupyter.widget-view+json": {
       "model_id": "2c0c6bc8a5c743179061bbc32061e008",
       "version_major": 2,
       "version_minor": 0
      },
      "text/plain": [
       "  0%|          | 0/150 [00:00<?, ?it/s]"
      ]
     },
     "metadata": {},
     "output_type": "display_data"
    },
    {
     "name": "stdout",
     "output_type": "stream",
     "text": [
      "Cycle 7/30\n",
      "Fold 3/7\n"
     ]
    },
    {
     "data": {
      "application/vnd.jupyter.widget-view+json": {
       "model_id": "e9416d380c8b478da9cb81552c6e833b",
       "version_major": 2,
       "version_minor": 0
      },
      "text/plain": [
       "  0%|          | 0/150 [00:00<?, ?it/s]"
      ]
     },
     "metadata": {},
     "output_type": "display_data"
    },
    {
     "name": "stdout",
     "output_type": "stream",
     "text": [
      "Cycle 7/30\n",
      "Fold 4/7\n"
     ]
    },
    {
     "data": {
      "application/vnd.jupyter.widget-view+json": {
       "model_id": "f47a691c03404957a47499d04730d566",
       "version_major": 2,
       "version_minor": 0
      },
      "text/plain": [
       "  0%|          | 0/150 [00:00<?, ?it/s]"
      ]
     },
     "metadata": {},
     "output_type": "display_data"
    },
    {
     "name": "stdout",
     "output_type": "stream",
     "text": [
      "Cycle 7/30\n",
      "Fold 5/7\n"
     ]
    },
    {
     "data": {
      "application/vnd.jupyter.widget-view+json": {
       "model_id": "d85deb81ffc14b5382ece892120c80dd",
       "version_major": 2,
       "version_minor": 0
      },
      "text/plain": [
       "  0%|          | 0/150 [00:00<?, ?it/s]"
      ]
     },
     "metadata": {},
     "output_type": "display_data"
    },
    {
     "name": "stdout",
     "output_type": "stream",
     "text": [
      "Cycle 7/30\n",
      "Fold 6/7\n"
     ]
    },
    {
     "data": {
      "application/vnd.jupyter.widget-view+json": {
       "model_id": "ed0993b2115b4aea8d526e11bc45df67",
       "version_major": 2,
       "version_minor": 0
      },
      "text/plain": [
       "  0%|          | 0/150 [00:00<?, ?it/s]"
      ]
     },
     "metadata": {},
     "output_type": "display_data"
    },
    {
     "name": "stdout",
     "output_type": "stream",
     "text": [
      "Cycle 7/30\n",
      "Fold 7/7\n"
     ]
    },
    {
     "data": {
      "application/vnd.jupyter.widget-view+json": {
       "model_id": "01186f3d77394e4e863887049f97e917",
       "version_major": 2,
       "version_minor": 0
      },
      "text/plain": [
       "  0%|          | 0/150 [00:00<?, ?it/s]"
      ]
     },
     "metadata": {},
     "output_type": "display_data"
    },
    {
     "name": "stdout",
     "output_type": "stream",
     "text": [
      "Cycle 8/30\n",
      "Fold 1/7\n"
     ]
    },
    {
     "data": {
      "application/vnd.jupyter.widget-view+json": {
       "model_id": "adbc790e14ab4a4f9a227c4c1a8e33fc",
       "version_major": 2,
       "version_minor": 0
      },
      "text/plain": [
       "  0%|          | 0/150 [00:00<?, ?it/s]"
      ]
     },
     "metadata": {},
     "output_type": "display_data"
    },
    {
     "name": "stdout",
     "output_type": "stream",
     "text": [
      "Cycle 8/30\n",
      "Fold 2/7\n"
     ]
    },
    {
     "data": {
      "application/vnd.jupyter.widget-view+json": {
       "model_id": "044d901262c44e1a8b5e1b9b5030375e",
       "version_major": 2,
       "version_minor": 0
      },
      "text/plain": [
       "  0%|          | 0/150 [00:00<?, ?it/s]"
      ]
     },
     "metadata": {},
     "output_type": "display_data"
    },
    {
     "name": "stdout",
     "output_type": "stream",
     "text": [
      "Cycle 8/30\n",
      "Fold 3/7\n"
     ]
    },
    {
     "data": {
      "application/vnd.jupyter.widget-view+json": {
       "model_id": "08246406d58049cfa933ce065290082b",
       "version_major": 2,
       "version_minor": 0
      },
      "text/plain": [
       "  0%|          | 0/150 [00:00<?, ?it/s]"
      ]
     },
     "metadata": {},
     "output_type": "display_data"
    },
    {
     "name": "stdout",
     "output_type": "stream",
     "text": [
      "Cycle 8/30\n",
      "Fold 4/7\n"
     ]
    },
    {
     "data": {
      "application/vnd.jupyter.widget-view+json": {
       "model_id": "bb227a9c9bda40f78d8b42ef5ee36d2c",
       "version_major": 2,
       "version_minor": 0
      },
      "text/plain": [
       "  0%|          | 0/150 [00:00<?, ?it/s]"
      ]
     },
     "metadata": {},
     "output_type": "display_data"
    },
    {
     "name": "stdout",
     "output_type": "stream",
     "text": [
      "Cycle 8/30\n",
      "Fold 5/7\n"
     ]
    },
    {
     "data": {
      "application/vnd.jupyter.widget-view+json": {
       "model_id": "90583b0ed17248a797e8275f47b8e2cc",
       "version_major": 2,
       "version_minor": 0
      },
      "text/plain": [
       "  0%|          | 0/150 [00:00<?, ?it/s]"
      ]
     },
     "metadata": {},
     "output_type": "display_data"
    },
    {
     "name": "stdout",
     "output_type": "stream",
     "text": [
      "Cycle 8/30\n",
      "Fold 6/7\n"
     ]
    },
    {
     "data": {
      "application/vnd.jupyter.widget-view+json": {
       "model_id": "e2dc9f5e94674dfdbb7e0ef70730e49d",
       "version_major": 2,
       "version_minor": 0
      },
      "text/plain": [
       "  0%|          | 0/150 [00:00<?, ?it/s]"
      ]
     },
     "metadata": {},
     "output_type": "display_data"
    },
    {
     "name": "stdout",
     "output_type": "stream",
     "text": [
      "Cycle 8/30\n",
      "Fold 7/7\n"
     ]
    },
    {
     "data": {
      "application/vnd.jupyter.widget-view+json": {
       "model_id": "90bbf543535b4c748e38bdaf713f02f6",
       "version_major": 2,
       "version_minor": 0
      },
      "text/plain": [
       "  0%|          | 0/150 [00:00<?, ?it/s]"
      ]
     },
     "metadata": {},
     "output_type": "display_data"
    },
    {
     "name": "stdout",
     "output_type": "stream",
     "text": [
      "Cycle 9/30\n",
      "Fold 1/7\n"
     ]
    },
    {
     "data": {
      "application/vnd.jupyter.widget-view+json": {
       "model_id": "b0d3e2577cdb4238986a4156622a6395",
       "version_major": 2,
       "version_minor": 0
      },
      "text/plain": [
       "  0%|          | 0/150 [00:00<?, ?it/s]"
      ]
     },
     "metadata": {},
     "output_type": "display_data"
    },
    {
     "name": "stdout",
     "output_type": "stream",
     "text": [
      "Cycle 9/30\n",
      "Fold 2/7\n"
     ]
    },
    {
     "data": {
      "application/vnd.jupyter.widget-view+json": {
       "model_id": "1a5c0c12aa7945e6a3f87243f86ae75e",
       "version_major": 2,
       "version_minor": 0
      },
      "text/plain": [
       "  0%|          | 0/150 [00:00<?, ?it/s]"
      ]
     },
     "metadata": {},
     "output_type": "display_data"
    },
    {
     "name": "stdout",
     "output_type": "stream",
     "text": [
      "Cycle 9/30\n",
      "Fold 3/7\n"
     ]
    },
    {
     "data": {
      "application/vnd.jupyter.widget-view+json": {
       "model_id": "779ee5782cec4febb874e2fe0760490d",
       "version_major": 2,
       "version_minor": 0
      },
      "text/plain": [
       "  0%|          | 0/150 [00:00<?, ?it/s]"
      ]
     },
     "metadata": {},
     "output_type": "display_data"
    },
    {
     "name": "stdout",
     "output_type": "stream",
     "text": [
      "Cycle 9/30\n",
      "Fold 4/7\n"
     ]
    },
    {
     "data": {
      "application/vnd.jupyter.widget-view+json": {
       "model_id": "122ffd510ae64c7aa9ebf81c0ee4278e",
       "version_major": 2,
       "version_minor": 0
      },
      "text/plain": [
       "  0%|          | 0/150 [00:00<?, ?it/s]"
      ]
     },
     "metadata": {},
     "output_type": "display_data"
    },
    {
     "name": "stdout",
     "output_type": "stream",
     "text": [
      "Cycle 9/30\n",
      "Fold 5/7\n"
     ]
    },
    {
     "data": {
      "application/vnd.jupyter.widget-view+json": {
       "model_id": "0d544374bb1f45ce8cb5cdd173f7fe6c",
       "version_major": 2,
       "version_minor": 0
      },
      "text/plain": [
       "  0%|          | 0/150 [00:00<?, ?it/s]"
      ]
     },
     "metadata": {},
     "output_type": "display_data"
    },
    {
     "name": "stdout",
     "output_type": "stream",
     "text": [
      "Cycle 9/30\n",
      "Fold 6/7\n"
     ]
    },
    {
     "data": {
      "application/vnd.jupyter.widget-view+json": {
       "model_id": "f52e0387bac243f183096f4c48806099",
       "version_major": 2,
       "version_minor": 0
      },
      "text/plain": [
       "  0%|          | 0/150 [00:00<?, ?it/s]"
      ]
     },
     "metadata": {},
     "output_type": "display_data"
    },
    {
     "name": "stdout",
     "output_type": "stream",
     "text": [
      "Cycle 9/30\n",
      "Fold 7/7\n"
     ]
    },
    {
     "data": {
      "application/vnd.jupyter.widget-view+json": {
       "model_id": "d704492f6579479ba05565b818ce4e77",
       "version_major": 2,
       "version_minor": 0
      },
      "text/plain": [
       "  0%|          | 0/150 [00:00<?, ?it/s]"
      ]
     },
     "metadata": {},
     "output_type": "display_data"
    },
    {
     "name": "stdout",
     "output_type": "stream",
     "text": [
      "Cycle 10/30\n",
      "Fold 1/7\n"
     ]
    },
    {
     "data": {
      "application/vnd.jupyter.widget-view+json": {
       "model_id": "6a7195ee7ff14b9da2fd7a1ab4efde6a",
       "version_major": 2,
       "version_minor": 0
      },
      "text/plain": [
       "  0%|          | 0/150 [00:00<?, ?it/s]"
      ]
     },
     "metadata": {},
     "output_type": "display_data"
    },
    {
     "name": "stdout",
     "output_type": "stream",
     "text": [
      "Cycle 10/30\n",
      "Fold 2/7\n"
     ]
    },
    {
     "data": {
      "application/vnd.jupyter.widget-view+json": {
       "model_id": "6c6069854eda4deea15f75cdb816bd2a",
       "version_major": 2,
       "version_minor": 0
      },
      "text/plain": [
       "  0%|          | 0/150 [00:00<?, ?it/s]"
      ]
     },
     "metadata": {},
     "output_type": "display_data"
    },
    {
     "name": "stdout",
     "output_type": "stream",
     "text": [
      "Cycle 10/30\n",
      "Fold 3/7\n"
     ]
    },
    {
     "data": {
      "application/vnd.jupyter.widget-view+json": {
       "model_id": "6fd51e12d30545e9afa4ae375fab1b59",
       "version_major": 2,
       "version_minor": 0
      },
      "text/plain": [
       "  0%|          | 0/150 [00:00<?, ?it/s]"
      ]
     },
     "metadata": {},
     "output_type": "display_data"
    },
    {
     "name": "stdout",
     "output_type": "stream",
     "text": [
      "Cycle 10/30\n",
      "Fold 4/7\n"
     ]
    },
    {
     "data": {
      "application/vnd.jupyter.widget-view+json": {
       "model_id": "4351570d6a024e9890314c355bd6dad6",
       "version_major": 2,
       "version_minor": 0
      },
      "text/plain": [
       "  0%|          | 0/150 [00:00<?, ?it/s]"
      ]
     },
     "metadata": {},
     "output_type": "display_data"
    },
    {
     "name": "stdout",
     "output_type": "stream",
     "text": [
      "Cycle 10/30\n",
      "Fold 5/7\n"
     ]
    },
    {
     "data": {
      "application/vnd.jupyter.widget-view+json": {
       "model_id": "b47e97c86617479ab61a06446c9cc543",
       "version_major": 2,
       "version_minor": 0
      },
      "text/plain": [
       "  0%|          | 0/150 [00:00<?, ?it/s]"
      ]
     },
     "metadata": {},
     "output_type": "display_data"
    },
    {
     "name": "stdout",
     "output_type": "stream",
     "text": [
      "Cycle 10/30\n",
      "Fold 6/7\n"
     ]
    },
    {
     "data": {
      "application/vnd.jupyter.widget-view+json": {
       "model_id": "fed96cc723144a2b949d686e0861b059",
       "version_major": 2,
       "version_minor": 0
      },
      "text/plain": [
       "  0%|          | 0/150 [00:00<?, ?it/s]"
      ]
     },
     "metadata": {},
     "output_type": "display_data"
    },
    {
     "name": "stdout",
     "output_type": "stream",
     "text": [
      "Cycle 10/30\n",
      "Fold 7/7\n"
     ]
    },
    {
     "data": {
      "application/vnd.jupyter.widget-view+json": {
       "model_id": "1ae06cc45e294e35b9748f7e63da0a9f",
       "version_major": 2,
       "version_minor": 0
      },
      "text/plain": [
       "  0%|          | 0/150 [00:00<?, ?it/s]"
      ]
     },
     "metadata": {},
     "output_type": "display_data"
    },
    {
     "name": "stdout",
     "output_type": "stream",
     "text": [
      "Cycle 11/30\n",
      "Fold 1/7\n"
     ]
    },
    {
     "data": {
      "application/vnd.jupyter.widget-view+json": {
       "model_id": "46f5fab2c7094e7d8605e50af80c66dd",
       "version_major": 2,
       "version_minor": 0
      },
      "text/plain": [
       "  0%|          | 0/150 [00:00<?, ?it/s]"
      ]
     },
     "metadata": {},
     "output_type": "display_data"
    },
    {
     "name": "stdout",
     "output_type": "stream",
     "text": [
      "Cycle 11/30\n",
      "Fold 2/7\n"
     ]
    },
    {
     "data": {
      "application/vnd.jupyter.widget-view+json": {
       "model_id": "41c2e3832f8949b09961a0baa05feb9e",
       "version_major": 2,
       "version_minor": 0
      },
      "text/plain": [
       "  0%|          | 0/150 [00:00<?, ?it/s]"
      ]
     },
     "metadata": {},
     "output_type": "display_data"
    },
    {
     "name": "stdout",
     "output_type": "stream",
     "text": [
      "Cycle 11/30\n",
      "Fold 3/7\n"
     ]
    },
    {
     "data": {
      "application/vnd.jupyter.widget-view+json": {
       "model_id": "444da3943f3d4be395a6801af0b8d9ac",
       "version_major": 2,
       "version_minor": 0
      },
      "text/plain": [
       "  0%|          | 0/150 [00:00<?, ?it/s]"
      ]
     },
     "metadata": {},
     "output_type": "display_data"
    },
    {
     "name": "stdout",
     "output_type": "stream",
     "text": [
      "Cycle 11/30\n",
      "Fold 4/7\n"
     ]
    },
    {
     "data": {
      "application/vnd.jupyter.widget-view+json": {
       "model_id": "673ad624a7e54a94a65d2e20ac54f809",
       "version_major": 2,
       "version_minor": 0
      },
      "text/plain": [
       "  0%|          | 0/150 [00:00<?, ?it/s]"
      ]
     },
     "metadata": {},
     "output_type": "display_data"
    },
    {
     "name": "stdout",
     "output_type": "stream",
     "text": [
      "Cycle 11/30\n",
      "Fold 5/7\n"
     ]
    },
    {
     "data": {
      "application/vnd.jupyter.widget-view+json": {
       "model_id": "3d1b3177ab78429caa3d112d107de776",
       "version_major": 2,
       "version_minor": 0
      },
      "text/plain": [
       "  0%|          | 0/150 [00:00<?, ?it/s]"
      ]
     },
     "metadata": {},
     "output_type": "display_data"
    },
    {
     "name": "stdout",
     "output_type": "stream",
     "text": [
      "Cycle 11/30\n",
      "Fold 6/7\n"
     ]
    },
    {
     "data": {
      "application/vnd.jupyter.widget-view+json": {
       "model_id": "0dac9ec9230c44a5bdb743a137452aa3",
       "version_major": 2,
       "version_minor": 0
      },
      "text/plain": [
       "  0%|          | 0/150 [00:00<?, ?it/s]"
      ]
     },
     "metadata": {},
     "output_type": "display_data"
    },
    {
     "name": "stdout",
     "output_type": "stream",
     "text": [
      "Cycle 11/30\n",
      "Fold 7/7\n"
     ]
    },
    {
     "data": {
      "application/vnd.jupyter.widget-view+json": {
       "model_id": "b35dbc348abc432497b871949741fddb",
       "version_major": 2,
       "version_minor": 0
      },
      "text/plain": [
       "  0%|          | 0/150 [00:00<?, ?it/s]"
      ]
     },
     "metadata": {},
     "output_type": "display_data"
    },
    {
     "name": "stdout",
     "output_type": "stream",
     "text": [
      "Cycle 12/30\n",
      "Fold 1/7\n"
     ]
    },
    {
     "data": {
      "application/vnd.jupyter.widget-view+json": {
       "model_id": "35f66521b2434b5abbf84c2b8c65034b",
       "version_major": 2,
       "version_minor": 0
      },
      "text/plain": [
       "  0%|          | 0/150 [00:00<?, ?it/s]"
      ]
     },
     "metadata": {},
     "output_type": "display_data"
    },
    {
     "name": "stdout",
     "output_type": "stream",
     "text": [
      "Cycle 12/30\n",
      "Fold 2/7\n"
     ]
    },
    {
     "data": {
      "application/vnd.jupyter.widget-view+json": {
       "model_id": "315b7a4e87c44fad9058323922646eb4",
       "version_major": 2,
       "version_minor": 0
      },
      "text/plain": [
       "  0%|          | 0/150 [00:00<?, ?it/s]"
      ]
     },
     "metadata": {},
     "output_type": "display_data"
    },
    {
     "name": "stdout",
     "output_type": "stream",
     "text": [
      "Cycle 12/30\n",
      "Fold 3/7\n"
     ]
    },
    {
     "data": {
      "application/vnd.jupyter.widget-view+json": {
       "model_id": "9db228481c2b4218a0db479f470ec190",
       "version_major": 2,
       "version_minor": 0
      },
      "text/plain": [
       "  0%|          | 0/150 [00:00<?, ?it/s]"
      ]
     },
     "metadata": {},
     "output_type": "display_data"
    },
    {
     "name": "stdout",
     "output_type": "stream",
     "text": [
      "Cycle 12/30\n",
      "Fold 4/7\n"
     ]
    },
    {
     "data": {
      "application/vnd.jupyter.widget-view+json": {
       "model_id": "2529229135374ffb965c857d405edcdf",
       "version_major": 2,
       "version_minor": 0
      },
      "text/plain": [
       "  0%|          | 0/150 [00:00<?, ?it/s]"
      ]
     },
     "metadata": {},
     "output_type": "display_data"
    },
    {
     "name": "stdout",
     "output_type": "stream",
     "text": [
      "Cycle 12/30\n",
      "Fold 5/7\n"
     ]
    },
    {
     "data": {
      "application/vnd.jupyter.widget-view+json": {
       "model_id": "1826328649e54a22a13ec1848dac2055",
       "version_major": 2,
       "version_minor": 0
      },
      "text/plain": [
       "  0%|          | 0/150 [00:00<?, ?it/s]"
      ]
     },
     "metadata": {},
     "output_type": "display_data"
    },
    {
     "name": "stdout",
     "output_type": "stream",
     "text": [
      "Cycle 12/30\n",
      "Fold 6/7\n"
     ]
    },
    {
     "data": {
      "application/vnd.jupyter.widget-view+json": {
       "model_id": "0861b31265e94c00acb285828ff09330",
       "version_major": 2,
       "version_minor": 0
      },
      "text/plain": [
       "  0%|          | 0/150 [00:00<?, ?it/s]"
      ]
     },
     "metadata": {},
     "output_type": "display_data"
    },
    {
     "name": "stdout",
     "output_type": "stream",
     "text": [
      "Cycle 12/30\n",
      "Fold 7/7\n"
     ]
    },
    {
     "data": {
      "application/vnd.jupyter.widget-view+json": {
       "model_id": "89c89f6c09204b7a80639d06b4eeffed",
       "version_major": 2,
       "version_minor": 0
      },
      "text/plain": [
       "  0%|          | 0/150 [00:00<?, ?it/s]"
      ]
     },
     "metadata": {},
     "output_type": "display_data"
    },
    {
     "name": "stdout",
     "output_type": "stream",
     "text": [
      "Cycle 13/30\n",
      "Fold 1/7\n"
     ]
    },
    {
     "data": {
      "application/vnd.jupyter.widget-view+json": {
       "model_id": "4246c97cb08242379800418c2a6bb28b",
       "version_major": 2,
       "version_minor": 0
      },
      "text/plain": [
       "  0%|          | 0/150 [00:00<?, ?it/s]"
      ]
     },
     "metadata": {},
     "output_type": "display_data"
    },
    {
     "name": "stdout",
     "output_type": "stream",
     "text": [
      "Cycle 13/30\n",
      "Fold 2/7\n"
     ]
    },
    {
     "data": {
      "application/vnd.jupyter.widget-view+json": {
       "model_id": "1094037f00d342f5990616d53333ecdc",
       "version_major": 2,
       "version_minor": 0
      },
      "text/plain": [
       "  0%|          | 0/150 [00:00<?, ?it/s]"
      ]
     },
     "metadata": {},
     "output_type": "display_data"
    },
    {
     "name": "stdout",
     "output_type": "stream",
     "text": [
      "Cycle 13/30\n",
      "Fold 3/7\n"
     ]
    },
    {
     "data": {
      "application/vnd.jupyter.widget-view+json": {
       "model_id": "536fadeec5c743dbb002f4e2f0bf89b0",
       "version_major": 2,
       "version_minor": 0
      },
      "text/plain": [
       "  0%|          | 0/150 [00:00<?, ?it/s]"
      ]
     },
     "metadata": {},
     "output_type": "display_data"
    },
    {
     "name": "stdout",
     "output_type": "stream",
     "text": [
      "Cycle 13/30\n",
      "Fold 4/7\n"
     ]
    },
    {
     "data": {
      "application/vnd.jupyter.widget-view+json": {
       "model_id": "b348b79aea09436db687fc92f49d1e9e",
       "version_major": 2,
       "version_minor": 0
      },
      "text/plain": [
       "  0%|          | 0/150 [00:00<?, ?it/s]"
      ]
     },
     "metadata": {},
     "output_type": "display_data"
    },
    {
     "name": "stdout",
     "output_type": "stream",
     "text": [
      "Cycle 13/30\n",
      "Fold 5/7\n"
     ]
    },
    {
     "data": {
      "application/vnd.jupyter.widget-view+json": {
       "model_id": "3c14679563dd41bba44df9837cc63092",
       "version_major": 2,
       "version_minor": 0
      },
      "text/plain": [
       "  0%|          | 0/150 [00:00<?, ?it/s]"
      ]
     },
     "metadata": {},
     "output_type": "display_data"
    },
    {
     "name": "stdout",
     "output_type": "stream",
     "text": [
      "Cycle 13/30\n",
      "Fold 6/7\n"
     ]
    },
    {
     "data": {
      "application/vnd.jupyter.widget-view+json": {
       "model_id": "6aa102b3f1154b678c1118165ebc7660",
       "version_major": 2,
       "version_minor": 0
      },
      "text/plain": [
       "  0%|          | 0/150 [00:00<?, ?it/s]"
      ]
     },
     "metadata": {},
     "output_type": "display_data"
    },
    {
     "name": "stdout",
     "output_type": "stream",
     "text": [
      "Cycle 13/30\n",
      "Fold 7/7\n"
     ]
    },
    {
     "data": {
      "application/vnd.jupyter.widget-view+json": {
       "model_id": "f96e2b6b2a3b46beb340142736470c19",
       "version_major": 2,
       "version_minor": 0
      },
      "text/plain": [
       "  0%|          | 0/150 [00:00<?, ?it/s]"
      ]
     },
     "metadata": {},
     "output_type": "display_data"
    },
    {
     "name": "stdout",
     "output_type": "stream",
     "text": [
      "Cycle 14/30\n",
      "Fold 1/7\n"
     ]
    },
    {
     "data": {
      "application/vnd.jupyter.widget-view+json": {
       "model_id": "67910ff617db4165b855fb84055b8110",
       "version_major": 2,
       "version_minor": 0
      },
      "text/plain": [
       "  0%|          | 0/150 [00:00<?, ?it/s]"
      ]
     },
     "metadata": {},
     "output_type": "display_data"
    },
    {
     "name": "stdout",
     "output_type": "stream",
     "text": [
      "Cycle 14/30\n",
      "Fold 2/7\n"
     ]
    },
    {
     "data": {
      "application/vnd.jupyter.widget-view+json": {
       "model_id": "3016e86b9b6e4e0e9fc87d423d239e57",
       "version_major": 2,
       "version_minor": 0
      },
      "text/plain": [
       "  0%|          | 0/150 [00:00<?, ?it/s]"
      ]
     },
     "metadata": {},
     "output_type": "display_data"
    },
    {
     "name": "stdout",
     "output_type": "stream",
     "text": [
      "Cycle 14/30\n",
      "Fold 3/7\n"
     ]
    },
    {
     "data": {
      "application/vnd.jupyter.widget-view+json": {
       "model_id": "d2b4b5b24f304db282522b78416de029",
       "version_major": 2,
       "version_minor": 0
      },
      "text/plain": [
       "  0%|          | 0/150 [00:00<?, ?it/s]"
      ]
     },
     "metadata": {},
     "output_type": "display_data"
    },
    {
     "name": "stdout",
     "output_type": "stream",
     "text": [
      "Cycle 14/30\n",
      "Fold 4/7\n"
     ]
    },
    {
     "data": {
      "application/vnd.jupyter.widget-view+json": {
       "model_id": "6f71cf1747f3400e82398f85c838bfc3",
       "version_major": 2,
       "version_minor": 0
      },
      "text/plain": [
       "  0%|          | 0/150 [00:00<?, ?it/s]"
      ]
     },
     "metadata": {},
     "output_type": "display_data"
    },
    {
     "name": "stdout",
     "output_type": "stream",
     "text": [
      "Cycle 14/30\n",
      "Fold 5/7\n"
     ]
    },
    {
     "data": {
      "application/vnd.jupyter.widget-view+json": {
       "model_id": "3cd8c9b07476480298a3509f3346785f",
       "version_major": 2,
       "version_minor": 0
      },
      "text/plain": [
       "  0%|          | 0/150 [00:00<?, ?it/s]"
      ]
     },
     "metadata": {},
     "output_type": "display_data"
    },
    {
     "name": "stdout",
     "output_type": "stream",
     "text": [
      "Cycle 14/30\n",
      "Fold 6/7\n"
     ]
    },
    {
     "data": {
      "application/vnd.jupyter.widget-view+json": {
       "model_id": "aafe3902a29f413f8cfb9a3b52b77cc0",
       "version_major": 2,
       "version_minor": 0
      },
      "text/plain": [
       "  0%|          | 0/150 [00:00<?, ?it/s]"
      ]
     },
     "metadata": {},
     "output_type": "display_data"
    },
    {
     "name": "stdout",
     "output_type": "stream",
     "text": [
      "Cycle 14/30\n",
      "Fold 7/7\n"
     ]
    },
    {
     "data": {
      "application/vnd.jupyter.widget-view+json": {
       "model_id": "1f6ce5bb94ab4893bbe4ff6badf83fd9",
       "version_major": 2,
       "version_minor": 0
      },
      "text/plain": [
       "  0%|          | 0/150 [00:00<?, ?it/s]"
      ]
     },
     "metadata": {},
     "output_type": "display_data"
    },
    {
     "name": "stdout",
     "output_type": "stream",
     "text": [
      "Cycle 15/30\n",
      "Fold 1/7\n"
     ]
    },
    {
     "data": {
      "application/vnd.jupyter.widget-view+json": {
       "model_id": "0f242b2372dd4d4f937eb737c3a90a0a",
       "version_major": 2,
       "version_minor": 0
      },
      "text/plain": [
       "  0%|          | 0/150 [00:00<?, ?it/s]"
      ]
     },
     "metadata": {},
     "output_type": "display_data"
    },
    {
     "name": "stdout",
     "output_type": "stream",
     "text": [
      "Cycle 15/30\n",
      "Fold 2/7\n"
     ]
    },
    {
     "data": {
      "application/vnd.jupyter.widget-view+json": {
       "model_id": "cdcbdd6e3fc643c288764fc324a8481b",
       "version_major": 2,
       "version_minor": 0
      },
      "text/plain": [
       "  0%|          | 0/150 [00:00<?, ?it/s]"
      ]
     },
     "metadata": {},
     "output_type": "display_data"
    },
    {
     "name": "stdout",
     "output_type": "stream",
     "text": [
      "Cycle 15/30\n",
      "Fold 3/7\n"
     ]
    },
    {
     "data": {
      "application/vnd.jupyter.widget-view+json": {
       "model_id": "c18ccd44c3074eec9d78593a0ec8e17d",
       "version_major": 2,
       "version_minor": 0
      },
      "text/plain": [
       "  0%|          | 0/150 [00:00<?, ?it/s]"
      ]
     },
     "metadata": {},
     "output_type": "display_data"
    },
    {
     "name": "stdout",
     "output_type": "stream",
     "text": [
      "Cycle 15/30\n",
      "Fold 4/7\n"
     ]
    },
    {
     "data": {
      "application/vnd.jupyter.widget-view+json": {
       "model_id": "3bc29d6c199b44e7ba239fedf641caf9",
       "version_major": 2,
       "version_minor": 0
      },
      "text/plain": [
       "  0%|          | 0/150 [00:00<?, ?it/s]"
      ]
     },
     "metadata": {},
     "output_type": "display_data"
    },
    {
     "name": "stdout",
     "output_type": "stream",
     "text": [
      "Cycle 15/30\n",
      "Fold 5/7\n"
     ]
    },
    {
     "data": {
      "application/vnd.jupyter.widget-view+json": {
       "model_id": "6534c046130f4ccdba0a9e273a8e6ef7",
       "version_major": 2,
       "version_minor": 0
      },
      "text/plain": [
       "  0%|          | 0/150 [00:00<?, ?it/s]"
      ]
     },
     "metadata": {},
     "output_type": "display_data"
    },
    {
     "name": "stdout",
     "output_type": "stream",
     "text": [
      "Cycle 15/30\n",
      "Fold 6/7\n"
     ]
    },
    {
     "data": {
      "application/vnd.jupyter.widget-view+json": {
       "model_id": "3fcd950316614206be29f1a7aae21f69",
       "version_major": 2,
       "version_minor": 0
      },
      "text/plain": [
       "  0%|          | 0/150 [00:00<?, ?it/s]"
      ]
     },
     "metadata": {},
     "output_type": "display_data"
    },
    {
     "name": "stdout",
     "output_type": "stream",
     "text": [
      "Cycle 15/30\n",
      "Fold 7/7\n"
     ]
    },
    {
     "data": {
      "application/vnd.jupyter.widget-view+json": {
       "model_id": "ea6bb241a3eb4306b39b69f31b3170c4",
       "version_major": 2,
       "version_minor": 0
      },
      "text/plain": [
       "  0%|          | 0/150 [00:00<?, ?it/s]"
      ]
     },
     "metadata": {},
     "output_type": "display_data"
    },
    {
     "name": "stdout",
     "output_type": "stream",
     "text": [
      "Cycle 16/30\n",
      "Fold 1/7\n"
     ]
    },
    {
     "data": {
      "application/vnd.jupyter.widget-view+json": {
       "model_id": "23ae8f24998d4bdbb636a2c642ffaaa2",
       "version_major": 2,
       "version_minor": 0
      },
      "text/plain": [
       "  0%|          | 0/150 [00:00<?, ?it/s]"
      ]
     },
     "metadata": {},
     "output_type": "display_data"
    },
    {
     "name": "stdout",
     "output_type": "stream",
     "text": [
      "Cycle 16/30\n",
      "Fold 2/7\n"
     ]
    },
    {
     "data": {
      "application/vnd.jupyter.widget-view+json": {
       "model_id": "2ace7522994a49f18b4b5b345718f4c8",
       "version_major": 2,
       "version_minor": 0
      },
      "text/plain": [
       "  0%|          | 0/150 [00:00<?, ?it/s]"
      ]
     },
     "metadata": {},
     "output_type": "display_data"
    },
    {
     "name": "stdout",
     "output_type": "stream",
     "text": [
      "Cycle 16/30\n",
      "Fold 3/7\n"
     ]
    },
    {
     "data": {
      "application/vnd.jupyter.widget-view+json": {
       "model_id": "cb034a395a3a48b8b6a440be3d10a62e",
       "version_major": 2,
       "version_minor": 0
      },
      "text/plain": [
       "  0%|          | 0/150 [00:00<?, ?it/s]"
      ]
     },
     "metadata": {},
     "output_type": "display_data"
    },
    {
     "name": "stdout",
     "output_type": "stream",
     "text": [
      "Cycle 16/30\n",
      "Fold 4/7\n"
     ]
    },
    {
     "data": {
      "application/vnd.jupyter.widget-view+json": {
       "model_id": "1755705f2c37463a807ceba2562db3c8",
       "version_major": 2,
       "version_minor": 0
      },
      "text/plain": [
       "  0%|          | 0/150 [00:00<?, ?it/s]"
      ]
     },
     "metadata": {},
     "output_type": "display_data"
    },
    {
     "name": "stdout",
     "output_type": "stream",
     "text": [
      "Cycle 16/30\n",
      "Fold 5/7\n"
     ]
    },
    {
     "data": {
      "application/vnd.jupyter.widget-view+json": {
       "model_id": "3bba527e88b34c098a929937f2466287",
       "version_major": 2,
       "version_minor": 0
      },
      "text/plain": [
       "  0%|          | 0/150 [00:00<?, ?it/s]"
      ]
     },
     "metadata": {},
     "output_type": "display_data"
    },
    {
     "name": "stdout",
     "output_type": "stream",
     "text": [
      "Cycle 16/30\n",
      "Fold 6/7\n"
     ]
    },
    {
     "data": {
      "application/vnd.jupyter.widget-view+json": {
       "model_id": "330264777d8b4ee2bc3e1fc088c62f9c",
       "version_major": 2,
       "version_minor": 0
      },
      "text/plain": [
       "  0%|          | 0/150 [00:00<?, ?it/s]"
      ]
     },
     "metadata": {},
     "output_type": "display_data"
    },
    {
     "name": "stdout",
     "output_type": "stream",
     "text": [
      "Cycle 16/30\n",
      "Fold 7/7\n"
     ]
    },
    {
     "data": {
      "application/vnd.jupyter.widget-view+json": {
       "model_id": "b655e2c1707e44089bb33afce9d88642",
       "version_major": 2,
       "version_minor": 0
      },
      "text/plain": [
       "  0%|          | 0/150 [00:00<?, ?it/s]"
      ]
     },
     "metadata": {},
     "output_type": "display_data"
    },
    {
     "name": "stdout",
     "output_type": "stream",
     "text": [
      "Cycle 17/30\n",
      "Fold 1/7\n"
     ]
    },
    {
     "data": {
      "application/vnd.jupyter.widget-view+json": {
       "model_id": "6222ccf341484b638935980624b71cd3",
       "version_major": 2,
       "version_minor": 0
      },
      "text/plain": [
       "  0%|          | 0/150 [00:00<?, ?it/s]"
      ]
     },
     "metadata": {},
     "output_type": "display_data"
    },
    {
     "name": "stdout",
     "output_type": "stream",
     "text": [
      "Cycle 17/30\n",
      "Fold 2/7\n"
     ]
    },
    {
     "data": {
      "application/vnd.jupyter.widget-view+json": {
       "model_id": "9396e591e8bf4bdaaf3f773aeafe017b",
       "version_major": 2,
       "version_minor": 0
      },
      "text/plain": [
       "  0%|          | 0/150 [00:00<?, ?it/s]"
      ]
     },
     "metadata": {},
     "output_type": "display_data"
    },
    {
     "name": "stdout",
     "output_type": "stream",
     "text": [
      "Cycle 17/30\n",
      "Fold 3/7\n"
     ]
    },
    {
     "data": {
      "application/vnd.jupyter.widget-view+json": {
       "model_id": "9344c06228c543179b35aa3a4892b996",
       "version_major": 2,
       "version_minor": 0
      },
      "text/plain": [
       "  0%|          | 0/150 [00:00<?, ?it/s]"
      ]
     },
     "metadata": {},
     "output_type": "display_data"
    },
    {
     "name": "stdout",
     "output_type": "stream",
     "text": [
      "Cycle 17/30\n",
      "Fold 4/7\n"
     ]
    },
    {
     "data": {
      "application/vnd.jupyter.widget-view+json": {
       "model_id": "8c324ceec1054ba8bf2dcce28fbe3aa1",
       "version_major": 2,
       "version_minor": 0
      },
      "text/plain": [
       "  0%|          | 0/150 [00:00<?, ?it/s]"
      ]
     },
     "metadata": {},
     "output_type": "display_data"
    },
    {
     "name": "stdout",
     "output_type": "stream",
     "text": [
      "Cycle 17/30\n",
      "Fold 5/7\n"
     ]
    },
    {
     "data": {
      "application/vnd.jupyter.widget-view+json": {
       "model_id": "919b26726591471aa44d04721c5cf28b",
       "version_major": 2,
       "version_minor": 0
      },
      "text/plain": [
       "  0%|          | 0/150 [00:00<?, ?it/s]"
      ]
     },
     "metadata": {},
     "output_type": "display_data"
    },
    {
     "name": "stdout",
     "output_type": "stream",
     "text": [
      "Cycle 17/30\n",
      "Fold 6/7\n"
     ]
    },
    {
     "data": {
      "application/vnd.jupyter.widget-view+json": {
       "model_id": "adc3cc279d084ec78fb3046e286c853f",
       "version_major": 2,
       "version_minor": 0
      },
      "text/plain": [
       "  0%|          | 0/150 [00:00<?, ?it/s]"
      ]
     },
     "metadata": {},
     "output_type": "display_data"
    },
    {
     "name": "stdout",
     "output_type": "stream",
     "text": [
      "Cycle 17/30\n",
      "Fold 7/7\n"
     ]
    },
    {
     "data": {
      "application/vnd.jupyter.widget-view+json": {
       "model_id": "9f877423b6ba4fe1a96bac9c8d6f8163",
       "version_major": 2,
       "version_minor": 0
      },
      "text/plain": [
       "  0%|          | 0/150 [00:00<?, ?it/s]"
      ]
     },
     "metadata": {},
     "output_type": "display_data"
    },
    {
     "name": "stdout",
     "output_type": "stream",
     "text": [
      "Cycle 18/30\n",
      "Fold 1/7\n"
     ]
    },
    {
     "data": {
      "application/vnd.jupyter.widget-view+json": {
       "model_id": "56b4181cab1e44958beafaeebbe984db",
       "version_major": 2,
       "version_minor": 0
      },
      "text/plain": [
       "  0%|          | 0/150 [00:00<?, ?it/s]"
      ]
     },
     "metadata": {},
     "output_type": "display_data"
    },
    {
     "name": "stdout",
     "output_type": "stream",
     "text": [
      "Cycle 18/30\n",
      "Fold 2/7\n"
     ]
    },
    {
     "data": {
      "application/vnd.jupyter.widget-view+json": {
       "model_id": "69a5cdc6c000494e8b83f11f6174deea",
       "version_major": 2,
       "version_minor": 0
      },
      "text/plain": [
       "  0%|          | 0/150 [00:00<?, ?it/s]"
      ]
     },
     "metadata": {},
     "output_type": "display_data"
    },
    {
     "name": "stdout",
     "output_type": "stream",
     "text": [
      "Cycle 18/30\n",
      "Fold 3/7\n"
     ]
    },
    {
     "data": {
      "application/vnd.jupyter.widget-view+json": {
       "model_id": "bca2278d7c01464e8a978f730030daaa",
       "version_major": 2,
       "version_minor": 0
      },
      "text/plain": [
       "  0%|          | 0/150 [00:00<?, ?it/s]"
      ]
     },
     "metadata": {},
     "output_type": "display_data"
    },
    {
     "name": "stdout",
     "output_type": "stream",
     "text": [
      "Cycle 18/30\n",
      "Fold 4/7\n"
     ]
    },
    {
     "data": {
      "application/vnd.jupyter.widget-view+json": {
       "model_id": "986ecac375dc4af28ea3fbb8de7f622f",
       "version_major": 2,
       "version_minor": 0
      },
      "text/plain": [
       "  0%|          | 0/150 [00:00<?, ?it/s]"
      ]
     },
     "metadata": {},
     "output_type": "display_data"
    },
    {
     "name": "stdout",
     "output_type": "stream",
     "text": [
      "Cycle 18/30\n",
      "Fold 5/7\n"
     ]
    },
    {
     "data": {
      "application/vnd.jupyter.widget-view+json": {
       "model_id": "6326314cd3c84e5fba8ac7f02cde652c",
       "version_major": 2,
       "version_minor": 0
      },
      "text/plain": [
       "  0%|          | 0/150 [00:00<?, ?it/s]"
      ]
     },
     "metadata": {},
     "output_type": "display_data"
    },
    {
     "name": "stdout",
     "output_type": "stream",
     "text": [
      "Cycle 18/30\n",
      "Fold 6/7\n"
     ]
    },
    {
     "data": {
      "application/vnd.jupyter.widget-view+json": {
       "model_id": "48e1ec52e07a4204a33eceef44bb6a7c",
       "version_major": 2,
       "version_minor": 0
      },
      "text/plain": [
       "  0%|          | 0/150 [00:00<?, ?it/s]"
      ]
     },
     "metadata": {},
     "output_type": "display_data"
    },
    {
     "name": "stdout",
     "output_type": "stream",
     "text": [
      "Cycle 18/30\n",
      "Fold 7/7\n"
     ]
    },
    {
     "data": {
      "application/vnd.jupyter.widget-view+json": {
       "model_id": "9114071b0fa44fa4a5e5e8b873abf037",
       "version_major": 2,
       "version_minor": 0
      },
      "text/plain": [
       "  0%|          | 0/150 [00:00<?, ?it/s]"
      ]
     },
     "metadata": {},
     "output_type": "display_data"
    },
    {
     "name": "stdout",
     "output_type": "stream",
     "text": [
      "Cycle 19/30\n",
      "Fold 1/7\n"
     ]
    },
    {
     "data": {
      "application/vnd.jupyter.widget-view+json": {
       "model_id": "58c9072b8bb5432ebfd68541fc2f4f1b",
       "version_major": 2,
       "version_minor": 0
      },
      "text/plain": [
       "  0%|          | 0/150 [00:00<?, ?it/s]"
      ]
     },
     "metadata": {},
     "output_type": "display_data"
    },
    {
     "name": "stdout",
     "output_type": "stream",
     "text": [
      "Cycle 19/30\n",
      "Fold 2/7\n"
     ]
    },
    {
     "data": {
      "application/vnd.jupyter.widget-view+json": {
       "model_id": "1362e18ac74a41889380acb7594178e2",
       "version_major": 2,
       "version_minor": 0
      },
      "text/plain": [
       "  0%|          | 0/150 [00:00<?, ?it/s]"
      ]
     },
     "metadata": {},
     "output_type": "display_data"
    },
    {
     "name": "stdout",
     "output_type": "stream",
     "text": [
      "Cycle 19/30\n",
      "Fold 3/7\n"
     ]
    },
    {
     "data": {
      "application/vnd.jupyter.widget-view+json": {
       "model_id": "b66ff767c2d445129a3292c4c1f2ad70",
       "version_major": 2,
       "version_minor": 0
      },
      "text/plain": [
       "  0%|          | 0/150 [00:00<?, ?it/s]"
      ]
     },
     "metadata": {},
     "output_type": "display_data"
    },
    {
     "name": "stdout",
     "output_type": "stream",
     "text": [
      "Cycle 19/30\n",
      "Fold 4/7\n"
     ]
    },
    {
     "data": {
      "application/vnd.jupyter.widget-view+json": {
       "model_id": "b5e34cd0fbae4ee09657c9b941a61eca",
       "version_major": 2,
       "version_minor": 0
      },
      "text/plain": [
       "  0%|          | 0/150 [00:00<?, ?it/s]"
      ]
     },
     "metadata": {},
     "output_type": "display_data"
    },
    {
     "name": "stdout",
     "output_type": "stream",
     "text": [
      "Cycle 19/30\n",
      "Fold 5/7\n"
     ]
    },
    {
     "data": {
      "application/vnd.jupyter.widget-view+json": {
       "model_id": "3945b226a1d241d2889495c2ce8b517c",
       "version_major": 2,
       "version_minor": 0
      },
      "text/plain": [
       "  0%|          | 0/150 [00:00<?, ?it/s]"
      ]
     },
     "metadata": {},
     "output_type": "display_data"
    },
    {
     "name": "stdout",
     "output_type": "stream",
     "text": [
      "Cycle 19/30\n",
      "Fold 6/7\n"
     ]
    },
    {
     "data": {
      "application/vnd.jupyter.widget-view+json": {
       "model_id": "4c0f04a1c44742d19ece826cf8f9435e",
       "version_major": 2,
       "version_minor": 0
      },
      "text/plain": [
       "  0%|          | 0/150 [00:00<?, ?it/s]"
      ]
     },
     "metadata": {},
     "output_type": "display_data"
    },
    {
     "name": "stdout",
     "output_type": "stream",
     "text": [
      "Cycle 19/30\n",
      "Fold 7/7\n"
     ]
    },
    {
     "data": {
      "application/vnd.jupyter.widget-view+json": {
       "model_id": "6ff0fe0c88484ab48d46b189a8b8bfee",
       "version_major": 2,
       "version_minor": 0
      },
      "text/plain": [
       "  0%|          | 0/150 [00:00<?, ?it/s]"
      ]
     },
     "metadata": {},
     "output_type": "display_data"
    },
    {
     "name": "stdout",
     "output_type": "stream",
     "text": [
      "Cycle 20/30\n",
      "Fold 1/7\n"
     ]
    },
    {
     "data": {
      "application/vnd.jupyter.widget-view+json": {
       "model_id": "a09fc3b961474621a1e0b972220ae380",
       "version_major": 2,
       "version_minor": 0
      },
      "text/plain": [
       "  0%|          | 0/150 [00:00<?, ?it/s]"
      ]
     },
     "metadata": {},
     "output_type": "display_data"
    },
    {
     "name": "stdout",
     "output_type": "stream",
     "text": [
      "Cycle 20/30\n",
      "Fold 2/7\n"
     ]
    },
    {
     "data": {
      "application/vnd.jupyter.widget-view+json": {
       "model_id": "eadc805804b2413392921a12fdf736fa",
       "version_major": 2,
       "version_minor": 0
      },
      "text/plain": [
       "  0%|          | 0/150 [00:00<?, ?it/s]"
      ]
     },
     "metadata": {},
     "output_type": "display_data"
    },
    {
     "name": "stdout",
     "output_type": "stream",
     "text": [
      "Cycle 20/30\n",
      "Fold 3/7\n"
     ]
    },
    {
     "data": {
      "application/vnd.jupyter.widget-view+json": {
       "model_id": "baf130ad1d804cdd8e7e70905aa18dc0",
       "version_major": 2,
       "version_minor": 0
      },
      "text/plain": [
       "  0%|          | 0/150 [00:00<?, ?it/s]"
      ]
     },
     "metadata": {},
     "output_type": "display_data"
    },
    {
     "name": "stdout",
     "output_type": "stream",
     "text": [
      "Cycle 20/30\n",
      "Fold 4/7\n"
     ]
    },
    {
     "data": {
      "application/vnd.jupyter.widget-view+json": {
       "model_id": "bfe65cd25c9c43cfad308e308684043f",
       "version_major": 2,
       "version_minor": 0
      },
      "text/plain": [
       "  0%|          | 0/150 [00:00<?, ?it/s]"
      ]
     },
     "metadata": {},
     "output_type": "display_data"
    },
    {
     "name": "stdout",
     "output_type": "stream",
     "text": [
      "Cycle 20/30\n",
      "Fold 5/7\n"
     ]
    },
    {
     "data": {
      "application/vnd.jupyter.widget-view+json": {
       "model_id": "87dc2b993e684edb94ee97c057675944",
       "version_major": 2,
       "version_minor": 0
      },
      "text/plain": [
       "  0%|          | 0/150 [00:00<?, ?it/s]"
      ]
     },
     "metadata": {},
     "output_type": "display_data"
    },
    {
     "name": "stdout",
     "output_type": "stream",
     "text": [
      "Cycle 20/30\n",
      "Fold 6/7\n"
     ]
    },
    {
     "data": {
      "application/vnd.jupyter.widget-view+json": {
       "model_id": "adaf93d87b40431fbf209816a8117585",
       "version_major": 2,
       "version_minor": 0
      },
      "text/plain": [
       "  0%|          | 0/150 [00:00<?, ?it/s]"
      ]
     },
     "metadata": {},
     "output_type": "display_data"
    },
    {
     "name": "stdout",
     "output_type": "stream",
     "text": [
      "Cycle 20/30\n",
      "Fold 7/7\n"
     ]
    },
    {
     "data": {
      "application/vnd.jupyter.widget-view+json": {
       "model_id": "3cb5d21fcecf4539b7543a0936d86a82",
       "version_major": 2,
       "version_minor": 0
      },
      "text/plain": [
       "  0%|          | 0/150 [00:00<?, ?it/s]"
      ]
     },
     "metadata": {},
     "output_type": "display_data"
    },
    {
     "name": "stdout",
     "output_type": "stream",
     "text": [
      "Cycle 21/30\n",
      "Fold 1/7\n"
     ]
    },
    {
     "data": {
      "application/vnd.jupyter.widget-view+json": {
       "model_id": "5b557e76e017441497e850ab885d4432",
       "version_major": 2,
       "version_minor": 0
      },
      "text/plain": [
       "  0%|          | 0/150 [00:00<?, ?it/s]"
      ]
     },
     "metadata": {},
     "output_type": "display_data"
    },
    {
     "name": "stdout",
     "output_type": "stream",
     "text": [
      "Cycle 21/30\n",
      "Fold 2/7\n"
     ]
    },
    {
     "data": {
      "application/vnd.jupyter.widget-view+json": {
       "model_id": "2171b0f0c757471a9ef959c5fa6baa5b",
       "version_major": 2,
       "version_minor": 0
      },
      "text/plain": [
       "  0%|          | 0/150 [00:00<?, ?it/s]"
      ]
     },
     "metadata": {},
     "output_type": "display_data"
    },
    {
     "name": "stdout",
     "output_type": "stream",
     "text": [
      "Cycle 21/30\n",
      "Fold 3/7\n"
     ]
    },
    {
     "data": {
      "application/vnd.jupyter.widget-view+json": {
       "model_id": "2fafc8d7a8374b858b976b77c5dcf7e3",
       "version_major": 2,
       "version_minor": 0
      },
      "text/plain": [
       "  0%|          | 0/150 [00:00<?, ?it/s]"
      ]
     },
     "metadata": {},
     "output_type": "display_data"
    },
    {
     "name": "stdout",
     "output_type": "stream",
     "text": [
      "Cycle 21/30\n",
      "Fold 4/7\n"
     ]
    },
    {
     "data": {
      "application/vnd.jupyter.widget-view+json": {
       "model_id": "caddfd3885494fdebb0956b5da17a5a8",
       "version_major": 2,
       "version_minor": 0
      },
      "text/plain": [
       "  0%|          | 0/150 [00:00<?, ?it/s]"
      ]
     },
     "metadata": {},
     "output_type": "display_data"
    },
    {
     "name": "stdout",
     "output_type": "stream",
     "text": [
      "Cycle 21/30\n",
      "Fold 5/7\n"
     ]
    },
    {
     "data": {
      "application/vnd.jupyter.widget-view+json": {
       "model_id": "78e4533277294c378243342baa7bab12",
       "version_major": 2,
       "version_minor": 0
      },
      "text/plain": [
       "  0%|          | 0/150 [00:00<?, ?it/s]"
      ]
     },
     "metadata": {},
     "output_type": "display_data"
    },
    {
     "name": "stdout",
     "output_type": "stream",
     "text": [
      "Cycle 21/30\n",
      "Fold 6/7\n"
     ]
    },
    {
     "data": {
      "application/vnd.jupyter.widget-view+json": {
       "model_id": "d29935cb5e56450781203daf0052d546",
       "version_major": 2,
       "version_minor": 0
      },
      "text/plain": [
       "  0%|          | 0/150 [00:00<?, ?it/s]"
      ]
     },
     "metadata": {},
     "output_type": "display_data"
    },
    {
     "name": "stdout",
     "output_type": "stream",
     "text": [
      "Cycle 21/30\n",
      "Fold 7/7\n"
     ]
    },
    {
     "data": {
      "application/vnd.jupyter.widget-view+json": {
       "model_id": "4ddfec5225724ed1b9e6548dbd149f31",
       "version_major": 2,
       "version_minor": 0
      },
      "text/plain": [
       "  0%|          | 0/150 [00:00<?, ?it/s]"
      ]
     },
     "metadata": {},
     "output_type": "display_data"
    },
    {
     "name": "stdout",
     "output_type": "stream",
     "text": [
      "Cycle 22/30\n",
      "Fold 1/7\n"
     ]
    },
    {
     "data": {
      "application/vnd.jupyter.widget-view+json": {
       "model_id": "ba6dcb14655b421888e79715f9a34a32",
       "version_major": 2,
       "version_minor": 0
      },
      "text/plain": [
       "  0%|          | 0/150 [00:00<?, ?it/s]"
      ]
     },
     "metadata": {},
     "output_type": "display_data"
    },
    {
     "name": "stdout",
     "output_type": "stream",
     "text": [
      "Cycle 22/30\n",
      "Fold 2/7\n"
     ]
    },
    {
     "data": {
      "application/vnd.jupyter.widget-view+json": {
       "model_id": "ea669700bf1e482fbbd0763b579b2328",
       "version_major": 2,
       "version_minor": 0
      },
      "text/plain": [
       "  0%|          | 0/150 [00:00<?, ?it/s]"
      ]
     },
     "metadata": {},
     "output_type": "display_data"
    },
    {
     "name": "stdout",
     "output_type": "stream",
     "text": [
      "Cycle 22/30\n",
      "Fold 3/7\n"
     ]
    },
    {
     "data": {
      "application/vnd.jupyter.widget-view+json": {
       "model_id": "c53db86f9c8b482ca94d8befa2ce09a9",
       "version_major": 2,
       "version_minor": 0
      },
      "text/plain": [
       "  0%|          | 0/150 [00:00<?, ?it/s]"
      ]
     },
     "metadata": {},
     "output_type": "display_data"
    },
    {
     "name": "stdout",
     "output_type": "stream",
     "text": [
      "Cycle 22/30\n",
      "Fold 4/7\n"
     ]
    },
    {
     "data": {
      "application/vnd.jupyter.widget-view+json": {
       "model_id": "7d89a358a45a471f94a4e646221a4b10",
       "version_major": 2,
       "version_minor": 0
      },
      "text/plain": [
       "  0%|          | 0/150 [00:00<?, ?it/s]"
      ]
     },
     "metadata": {},
     "output_type": "display_data"
    },
    {
     "name": "stdout",
     "output_type": "stream",
     "text": [
      "Cycle 22/30\n",
      "Fold 5/7\n"
     ]
    },
    {
     "data": {
      "application/vnd.jupyter.widget-view+json": {
       "model_id": "65dcd8d07a2b4fcca1486dfb1038eadb",
       "version_major": 2,
       "version_minor": 0
      },
      "text/plain": [
       "  0%|          | 0/150 [00:00<?, ?it/s]"
      ]
     },
     "metadata": {},
     "output_type": "display_data"
    },
    {
     "name": "stdout",
     "output_type": "stream",
     "text": [
      "Cycle 22/30\n",
      "Fold 6/7\n"
     ]
    },
    {
     "data": {
      "application/vnd.jupyter.widget-view+json": {
       "model_id": "0a729f790d9746d0ba8fb0471f727b28",
       "version_major": 2,
       "version_minor": 0
      },
      "text/plain": [
       "  0%|          | 0/150 [00:00<?, ?it/s]"
      ]
     },
     "metadata": {},
     "output_type": "display_data"
    },
    {
     "name": "stdout",
     "output_type": "stream",
     "text": [
      "Cycle 22/30\n",
      "Fold 7/7\n"
     ]
    },
    {
     "data": {
      "application/vnd.jupyter.widget-view+json": {
       "model_id": "37aafd0f0e4e4a94aff6ca5529ce8746",
       "version_major": 2,
       "version_minor": 0
      },
      "text/plain": [
       "  0%|          | 0/150 [00:00<?, ?it/s]"
      ]
     },
     "metadata": {},
     "output_type": "display_data"
    },
    {
     "name": "stdout",
     "output_type": "stream",
     "text": [
      "Cycle 23/30\n",
      "Fold 1/7\n"
     ]
    },
    {
     "data": {
      "application/vnd.jupyter.widget-view+json": {
       "model_id": "4c01da18df2d4226a10643faa63bcec2",
       "version_major": 2,
       "version_minor": 0
      },
      "text/plain": [
       "  0%|          | 0/150 [00:00<?, ?it/s]"
      ]
     },
     "metadata": {},
     "output_type": "display_data"
    },
    {
     "name": "stdout",
     "output_type": "stream",
     "text": [
      "Cycle 23/30\n",
      "Fold 2/7\n"
     ]
    },
    {
     "data": {
      "application/vnd.jupyter.widget-view+json": {
       "model_id": "825df334094a4da087cfcfbb39378bf0",
       "version_major": 2,
       "version_minor": 0
      },
      "text/plain": [
       "  0%|          | 0/150 [00:00<?, ?it/s]"
      ]
     },
     "metadata": {},
     "output_type": "display_data"
    },
    {
     "name": "stdout",
     "output_type": "stream",
     "text": [
      "Cycle 23/30\n",
      "Fold 3/7\n"
     ]
    },
    {
     "data": {
      "application/vnd.jupyter.widget-view+json": {
       "model_id": "19fe38c3603f4437bc6a85f3fc1e10a1",
       "version_major": 2,
       "version_minor": 0
      },
      "text/plain": [
       "  0%|          | 0/150 [00:00<?, ?it/s]"
      ]
     },
     "metadata": {},
     "output_type": "display_data"
    },
    {
     "name": "stdout",
     "output_type": "stream",
     "text": [
      "Cycle 23/30\n",
      "Fold 4/7\n"
     ]
    },
    {
     "data": {
      "application/vnd.jupyter.widget-view+json": {
       "model_id": "58dc8358e7e34d0da98526560bd15354",
       "version_major": 2,
       "version_minor": 0
      },
      "text/plain": [
       "  0%|          | 0/150 [00:00<?, ?it/s]"
      ]
     },
     "metadata": {},
     "output_type": "display_data"
    },
    {
     "name": "stdout",
     "output_type": "stream",
     "text": [
      "Cycle 23/30\n",
      "Fold 5/7\n"
     ]
    },
    {
     "data": {
      "application/vnd.jupyter.widget-view+json": {
       "model_id": "ba099c2499dd4a6684eb0fbb176f9aa2",
       "version_major": 2,
       "version_minor": 0
      },
      "text/plain": [
       "  0%|          | 0/150 [00:00<?, ?it/s]"
      ]
     },
     "metadata": {},
     "output_type": "display_data"
    },
    {
     "name": "stdout",
     "output_type": "stream",
     "text": [
      "Cycle 23/30\n",
      "Fold 6/7\n"
     ]
    },
    {
     "data": {
      "application/vnd.jupyter.widget-view+json": {
       "model_id": "c52cbe1d64c546c39590ca3ca7637fee",
       "version_major": 2,
       "version_minor": 0
      },
      "text/plain": [
       "  0%|          | 0/150 [00:00<?, ?it/s]"
      ]
     },
     "metadata": {},
     "output_type": "display_data"
    },
    {
     "name": "stdout",
     "output_type": "stream",
     "text": [
      "Cycle 23/30\n",
      "Fold 7/7\n"
     ]
    },
    {
     "data": {
      "application/vnd.jupyter.widget-view+json": {
       "model_id": "37fac029717c4bb08dc69943cf3fae10",
       "version_major": 2,
       "version_minor": 0
      },
      "text/plain": [
       "  0%|          | 0/150 [00:00<?, ?it/s]"
      ]
     },
     "metadata": {},
     "output_type": "display_data"
    },
    {
     "name": "stdout",
     "output_type": "stream",
     "text": [
      "Cycle 24/30\n",
      "Fold 1/7\n"
     ]
    },
    {
     "data": {
      "application/vnd.jupyter.widget-view+json": {
       "model_id": "af5ac56ba2c245199500e18370eebabf",
       "version_major": 2,
       "version_minor": 0
      },
      "text/plain": [
       "  0%|          | 0/150 [00:00<?, ?it/s]"
      ]
     },
     "metadata": {},
     "output_type": "display_data"
    },
    {
     "name": "stdout",
     "output_type": "stream",
     "text": [
      "Cycle 24/30\n",
      "Fold 2/7\n"
     ]
    },
    {
     "data": {
      "application/vnd.jupyter.widget-view+json": {
       "model_id": "b9cb7adc5fab48cfabe370e1c1433085",
       "version_major": 2,
       "version_minor": 0
      },
      "text/plain": [
       "  0%|          | 0/150 [00:00<?, ?it/s]"
      ]
     },
     "metadata": {},
     "output_type": "display_data"
    },
    {
     "name": "stdout",
     "output_type": "stream",
     "text": [
      "Cycle 24/30\n",
      "Fold 3/7\n"
     ]
    },
    {
     "data": {
      "application/vnd.jupyter.widget-view+json": {
       "model_id": "bf2d60ba80c1477faf4de4c39f3f0f3d",
       "version_major": 2,
       "version_minor": 0
      },
      "text/plain": [
       "  0%|          | 0/150 [00:00<?, ?it/s]"
      ]
     },
     "metadata": {},
     "output_type": "display_data"
    },
    {
     "name": "stdout",
     "output_type": "stream",
     "text": [
      "Cycle 24/30\n",
      "Fold 4/7\n"
     ]
    },
    {
     "data": {
      "application/vnd.jupyter.widget-view+json": {
       "model_id": "2f6948b65c704fc89070ce8a1643fd49",
       "version_major": 2,
       "version_minor": 0
      },
      "text/plain": [
       "  0%|          | 0/150 [00:00<?, ?it/s]"
      ]
     },
     "metadata": {},
     "output_type": "display_data"
    },
    {
     "name": "stdout",
     "output_type": "stream",
     "text": [
      "Cycle 24/30\n",
      "Fold 5/7\n"
     ]
    },
    {
     "data": {
      "application/vnd.jupyter.widget-view+json": {
       "model_id": "2ab636f26aba46b0ae3f9bdbace07cb2",
       "version_major": 2,
       "version_minor": 0
      },
      "text/plain": [
       "  0%|          | 0/150 [00:00<?, ?it/s]"
      ]
     },
     "metadata": {},
     "output_type": "display_data"
    },
    {
     "name": "stdout",
     "output_type": "stream",
     "text": [
      "Cycle 24/30\n",
      "Fold 6/7\n"
     ]
    },
    {
     "data": {
      "application/vnd.jupyter.widget-view+json": {
       "model_id": "dc857599eb054c648d644c208b2f4e47",
       "version_major": 2,
       "version_minor": 0
      },
      "text/plain": [
       "  0%|          | 0/150 [00:00<?, ?it/s]"
      ]
     },
     "metadata": {},
     "output_type": "display_data"
    },
    {
     "name": "stdout",
     "output_type": "stream",
     "text": [
      "Cycle 24/30\n",
      "Fold 7/7\n"
     ]
    },
    {
     "data": {
      "application/vnd.jupyter.widget-view+json": {
       "model_id": "29d357d517c9413f833753bd6b22b4d8",
       "version_major": 2,
       "version_minor": 0
      },
      "text/plain": [
       "  0%|          | 0/150 [00:00<?, ?it/s]"
      ]
     },
     "metadata": {},
     "output_type": "display_data"
    },
    {
     "name": "stdout",
     "output_type": "stream",
     "text": [
      "Cycle 25/30\n",
      "Fold 1/7\n"
     ]
    },
    {
     "data": {
      "application/vnd.jupyter.widget-view+json": {
       "model_id": "2749eb9673b3466b8bcdbd927415d371",
       "version_major": 2,
       "version_minor": 0
      },
      "text/plain": [
       "  0%|          | 0/150 [00:00<?, ?it/s]"
      ]
     },
     "metadata": {},
     "output_type": "display_data"
    },
    {
     "name": "stdout",
     "output_type": "stream",
     "text": [
      "Cycle 25/30\n",
      "Fold 2/7\n"
     ]
    },
    {
     "data": {
      "application/vnd.jupyter.widget-view+json": {
       "model_id": "9fade7a6a0634a70b6ae5d50603cec57",
       "version_major": 2,
       "version_minor": 0
      },
      "text/plain": [
       "  0%|          | 0/150 [00:00<?, ?it/s]"
      ]
     },
     "metadata": {},
     "output_type": "display_data"
    },
    {
     "name": "stdout",
     "output_type": "stream",
     "text": [
      "Cycle 25/30\n",
      "Fold 3/7\n"
     ]
    },
    {
     "data": {
      "application/vnd.jupyter.widget-view+json": {
       "model_id": "44b86d02ec094fafafbd6fe2735cfb5f",
       "version_major": 2,
       "version_minor": 0
      },
      "text/plain": [
       "  0%|          | 0/150 [00:00<?, ?it/s]"
      ]
     },
     "metadata": {},
     "output_type": "display_data"
    },
    {
     "name": "stdout",
     "output_type": "stream",
     "text": [
      "Cycle 25/30\n",
      "Fold 4/7\n"
     ]
    },
    {
     "data": {
      "application/vnd.jupyter.widget-view+json": {
       "model_id": "f1aed5fb143a4fc39da7298d7a253b36",
       "version_major": 2,
       "version_minor": 0
      },
      "text/plain": [
       "  0%|          | 0/150 [00:00<?, ?it/s]"
      ]
     },
     "metadata": {},
     "output_type": "display_data"
    },
    {
     "name": "stdout",
     "output_type": "stream",
     "text": [
      "Cycle 25/30\n",
      "Fold 5/7\n"
     ]
    },
    {
     "data": {
      "application/vnd.jupyter.widget-view+json": {
       "model_id": "c8a1e848f96648de841404a73c247348",
       "version_major": 2,
       "version_minor": 0
      },
      "text/plain": [
       "  0%|          | 0/150 [00:00<?, ?it/s]"
      ]
     },
     "metadata": {},
     "output_type": "display_data"
    },
    {
     "name": "stdout",
     "output_type": "stream",
     "text": [
      "Cycle 25/30\n",
      "Fold 6/7\n"
     ]
    },
    {
     "data": {
      "application/vnd.jupyter.widget-view+json": {
       "model_id": "2309625122104d399abb98d62e1d6eed",
       "version_major": 2,
       "version_minor": 0
      },
      "text/plain": [
       "  0%|          | 0/150 [00:00<?, ?it/s]"
      ]
     },
     "metadata": {},
     "output_type": "display_data"
    },
    {
     "name": "stdout",
     "output_type": "stream",
     "text": [
      "Cycle 25/30\n",
      "Fold 7/7\n"
     ]
    },
    {
     "data": {
      "application/vnd.jupyter.widget-view+json": {
       "model_id": "a4a8927a5c4e4f1e9e894a6234cdbaf9",
       "version_major": 2,
       "version_minor": 0
      },
      "text/plain": [
       "  0%|          | 0/150 [00:00<?, ?it/s]"
      ]
     },
     "metadata": {},
     "output_type": "display_data"
    },
    {
     "name": "stdout",
     "output_type": "stream",
     "text": [
      "Cycle 26/30\n",
      "Fold 1/7\n"
     ]
    },
    {
     "data": {
      "application/vnd.jupyter.widget-view+json": {
       "model_id": "95005228ca5f4f0bb0e43d75ec034061",
       "version_major": 2,
       "version_minor": 0
      },
      "text/plain": [
       "  0%|          | 0/150 [00:00<?, ?it/s]"
      ]
     },
     "metadata": {},
     "output_type": "display_data"
    },
    {
     "name": "stdout",
     "output_type": "stream",
     "text": [
      "Cycle 26/30\n",
      "Fold 2/7\n"
     ]
    },
    {
     "data": {
      "application/vnd.jupyter.widget-view+json": {
       "model_id": "e036891875d644629e775a7eba462a5f",
       "version_major": 2,
       "version_minor": 0
      },
      "text/plain": [
       "  0%|          | 0/150 [00:00<?, ?it/s]"
      ]
     },
     "metadata": {},
     "output_type": "display_data"
    },
    {
     "name": "stdout",
     "output_type": "stream",
     "text": [
      "Cycle 26/30\n",
      "Fold 3/7\n"
     ]
    },
    {
     "data": {
      "application/vnd.jupyter.widget-view+json": {
       "model_id": "777db7db4a5c4ceeb8996b0055a54798",
       "version_major": 2,
       "version_minor": 0
      },
      "text/plain": [
       "  0%|          | 0/150 [00:00<?, ?it/s]"
      ]
     },
     "metadata": {},
     "output_type": "display_data"
    },
    {
     "name": "stdout",
     "output_type": "stream",
     "text": [
      "Cycle 26/30\n",
      "Fold 4/7\n"
     ]
    },
    {
     "data": {
      "application/vnd.jupyter.widget-view+json": {
       "model_id": "f449e04eff904b4a89dfbf7c953e1069",
       "version_major": 2,
       "version_minor": 0
      },
      "text/plain": [
       "  0%|          | 0/150 [00:00<?, ?it/s]"
      ]
     },
     "metadata": {},
     "output_type": "display_data"
    },
    {
     "name": "stdout",
     "output_type": "stream",
     "text": [
      "Cycle 26/30\n",
      "Fold 5/7\n"
     ]
    },
    {
     "data": {
      "application/vnd.jupyter.widget-view+json": {
       "model_id": "c3261df242ff49baa00a6959df32166c",
       "version_major": 2,
       "version_minor": 0
      },
      "text/plain": [
       "  0%|          | 0/150 [00:00<?, ?it/s]"
      ]
     },
     "metadata": {},
     "output_type": "display_data"
    },
    {
     "name": "stdout",
     "output_type": "stream",
     "text": [
      "Cycle 26/30\n",
      "Fold 6/7\n"
     ]
    },
    {
     "data": {
      "application/vnd.jupyter.widget-view+json": {
       "model_id": "ba03954a8143406bab8a99a37ddb9de7",
       "version_major": 2,
       "version_minor": 0
      },
      "text/plain": [
       "  0%|          | 0/150 [00:00<?, ?it/s]"
      ]
     },
     "metadata": {},
     "output_type": "display_data"
    },
    {
     "name": "stdout",
     "output_type": "stream",
     "text": [
      "Cycle 26/30\n",
      "Fold 7/7\n"
     ]
    },
    {
     "data": {
      "application/vnd.jupyter.widget-view+json": {
       "model_id": "566ebd8fef034942811e2bb7243b40a0",
       "version_major": 2,
       "version_minor": 0
      },
      "text/plain": [
       "  0%|          | 0/150 [00:00<?, ?it/s]"
      ]
     },
     "metadata": {},
     "output_type": "display_data"
    },
    {
     "name": "stdout",
     "output_type": "stream",
     "text": [
      "Cycle 27/30\n",
      "Fold 1/7\n"
     ]
    },
    {
     "data": {
      "application/vnd.jupyter.widget-view+json": {
       "model_id": "4aba4ce35985491496107a5778b4f590",
       "version_major": 2,
       "version_minor": 0
      },
      "text/plain": [
       "  0%|          | 0/150 [00:00<?, ?it/s]"
      ]
     },
     "metadata": {},
     "output_type": "display_data"
    },
    {
     "name": "stdout",
     "output_type": "stream",
     "text": [
      "Cycle 27/30\n",
      "Fold 2/7\n"
     ]
    },
    {
     "data": {
      "application/vnd.jupyter.widget-view+json": {
       "model_id": "157a87ffb5c7419189902c7cd110359c",
       "version_major": 2,
       "version_minor": 0
      },
      "text/plain": [
       "  0%|          | 0/150 [00:00<?, ?it/s]"
      ]
     },
     "metadata": {},
     "output_type": "display_data"
    },
    {
     "name": "stdout",
     "output_type": "stream",
     "text": [
      "Cycle 27/30\n",
      "Fold 3/7\n"
     ]
    },
    {
     "data": {
      "application/vnd.jupyter.widget-view+json": {
       "model_id": "8ab9307a30cc4025a1808507da07b6dc",
       "version_major": 2,
       "version_minor": 0
      },
      "text/plain": [
       "  0%|          | 0/150 [00:00<?, ?it/s]"
      ]
     },
     "metadata": {},
     "output_type": "display_data"
    },
    {
     "name": "stdout",
     "output_type": "stream",
     "text": [
      "Cycle 27/30\n",
      "Fold 4/7\n"
     ]
    },
    {
     "data": {
      "application/vnd.jupyter.widget-view+json": {
       "model_id": "ac2d0a7c33f24f0783350d2bfd4fb64d",
       "version_major": 2,
       "version_minor": 0
      },
      "text/plain": [
       "  0%|          | 0/150 [00:00<?, ?it/s]"
      ]
     },
     "metadata": {},
     "output_type": "display_data"
    },
    {
     "name": "stdout",
     "output_type": "stream",
     "text": [
      "Cycle 27/30\n",
      "Fold 5/7\n"
     ]
    },
    {
     "data": {
      "application/vnd.jupyter.widget-view+json": {
       "model_id": "00c4bc9b8f884c178ae8359133a50ca9",
       "version_major": 2,
       "version_minor": 0
      },
      "text/plain": [
       "  0%|          | 0/150 [00:00<?, ?it/s]"
      ]
     },
     "metadata": {},
     "output_type": "display_data"
    },
    {
     "name": "stdout",
     "output_type": "stream",
     "text": [
      "Cycle 27/30\n",
      "Fold 6/7\n"
     ]
    },
    {
     "data": {
      "application/vnd.jupyter.widget-view+json": {
       "model_id": "b13bfe01cd754fedabb2af9d22a5bd8d",
       "version_major": 2,
       "version_minor": 0
      },
      "text/plain": [
       "  0%|          | 0/150 [00:00<?, ?it/s]"
      ]
     },
     "metadata": {},
     "output_type": "display_data"
    },
    {
     "name": "stdout",
     "output_type": "stream",
     "text": [
      "Cycle 27/30\n",
      "Fold 7/7\n"
     ]
    },
    {
     "data": {
      "application/vnd.jupyter.widget-view+json": {
       "model_id": "b7d9142fedf84f03aa7a66dd7788896f",
       "version_major": 2,
       "version_minor": 0
      },
      "text/plain": [
       "  0%|          | 0/150 [00:00<?, ?it/s]"
      ]
     },
     "metadata": {},
     "output_type": "display_data"
    },
    {
     "name": "stdout",
     "output_type": "stream",
     "text": [
      "Cycle 28/30\n",
      "Fold 1/7\n"
     ]
    },
    {
     "data": {
      "application/vnd.jupyter.widget-view+json": {
       "model_id": "329eb4f0db0346cc80a39b18f289c358",
       "version_major": 2,
       "version_minor": 0
      },
      "text/plain": [
       "  0%|          | 0/150 [00:00<?, ?it/s]"
      ]
     },
     "metadata": {},
     "output_type": "display_data"
    },
    {
     "name": "stdout",
     "output_type": "stream",
     "text": [
      "Cycle 28/30\n",
      "Fold 2/7\n"
     ]
    },
    {
     "data": {
      "application/vnd.jupyter.widget-view+json": {
       "model_id": "37ca6d2430514372bc3b43a0a08c5e92",
       "version_major": 2,
       "version_minor": 0
      },
      "text/plain": [
       "  0%|          | 0/150 [00:00<?, ?it/s]"
      ]
     },
     "metadata": {},
     "output_type": "display_data"
    },
    {
     "name": "stdout",
     "output_type": "stream",
     "text": [
      "Cycle 28/30\n",
      "Fold 3/7\n"
     ]
    },
    {
     "data": {
      "application/vnd.jupyter.widget-view+json": {
       "model_id": "7d6a6ffa23d24a83bfd3d836656c05a1",
       "version_major": 2,
       "version_minor": 0
      },
      "text/plain": [
       "  0%|          | 0/150 [00:00<?, ?it/s]"
      ]
     },
     "metadata": {},
     "output_type": "display_data"
    },
    {
     "name": "stdout",
     "output_type": "stream",
     "text": [
      "Cycle 28/30\n",
      "Fold 4/7\n"
     ]
    },
    {
     "data": {
      "application/vnd.jupyter.widget-view+json": {
       "model_id": "455be6ac72944adba209dc8dbe11bea5",
       "version_major": 2,
       "version_minor": 0
      },
      "text/plain": [
       "  0%|          | 0/150 [00:00<?, ?it/s]"
      ]
     },
     "metadata": {},
     "output_type": "display_data"
    },
    {
     "name": "stdout",
     "output_type": "stream",
     "text": [
      "Cycle 28/30\n",
      "Fold 5/7\n"
     ]
    },
    {
     "data": {
      "application/vnd.jupyter.widget-view+json": {
       "model_id": "6f2c48e2d57c4b358a45e1d3c59b64f7",
       "version_major": 2,
       "version_minor": 0
      },
      "text/plain": [
       "  0%|          | 0/150 [00:00<?, ?it/s]"
      ]
     },
     "metadata": {},
     "output_type": "display_data"
    },
    {
     "name": "stdout",
     "output_type": "stream",
     "text": [
      "Cycle 28/30\n",
      "Fold 6/7\n"
     ]
    },
    {
     "data": {
      "application/vnd.jupyter.widget-view+json": {
       "model_id": "178b91643e2d4d28b49308907b684963",
       "version_major": 2,
       "version_minor": 0
      },
      "text/plain": [
       "  0%|          | 0/150 [00:00<?, ?it/s]"
      ]
     },
     "metadata": {},
     "output_type": "display_data"
    },
    {
     "name": "stdout",
     "output_type": "stream",
     "text": [
      "Cycle 28/30\n",
      "Fold 7/7\n"
     ]
    },
    {
     "data": {
      "application/vnd.jupyter.widget-view+json": {
       "model_id": "74749cff06334ef280953796c5ca58fd",
       "version_major": 2,
       "version_minor": 0
      },
      "text/plain": [
       "  0%|          | 0/150 [00:00<?, ?it/s]"
      ]
     },
     "metadata": {},
     "output_type": "display_data"
    },
    {
     "name": "stdout",
     "output_type": "stream",
     "text": [
      "Cycle 29/30\n",
      "Fold 1/7\n"
     ]
    },
    {
     "data": {
      "application/vnd.jupyter.widget-view+json": {
       "model_id": "42f982ec5a0f434982e7ed936e937d43",
       "version_major": 2,
       "version_minor": 0
      },
      "text/plain": [
       "  0%|          | 0/150 [00:00<?, ?it/s]"
      ]
     },
     "metadata": {},
     "output_type": "display_data"
    },
    {
     "name": "stdout",
     "output_type": "stream",
     "text": [
      "Cycle 29/30\n",
      "Fold 2/7\n"
     ]
    },
    {
     "data": {
      "application/vnd.jupyter.widget-view+json": {
       "model_id": "f114d5f892c046688fdd8117806ba1f3",
       "version_major": 2,
       "version_minor": 0
      },
      "text/plain": [
       "  0%|          | 0/150 [00:00<?, ?it/s]"
      ]
     },
     "metadata": {},
     "output_type": "display_data"
    },
    {
     "name": "stdout",
     "output_type": "stream",
     "text": [
      "Cycle 29/30\n",
      "Fold 3/7\n"
     ]
    },
    {
     "data": {
      "application/vnd.jupyter.widget-view+json": {
       "model_id": "0458ad1187284575bdb354133a74dce6",
       "version_major": 2,
       "version_minor": 0
      },
      "text/plain": [
       "  0%|          | 0/150 [00:00<?, ?it/s]"
      ]
     },
     "metadata": {},
     "output_type": "display_data"
    },
    {
     "name": "stdout",
     "output_type": "stream",
     "text": [
      "Cycle 29/30\n",
      "Fold 4/7\n"
     ]
    },
    {
     "data": {
      "application/vnd.jupyter.widget-view+json": {
       "model_id": "d41821999adf4a479f33da726858ebdd",
       "version_major": 2,
       "version_minor": 0
      },
      "text/plain": [
       "  0%|          | 0/150 [00:00<?, ?it/s]"
      ]
     },
     "metadata": {},
     "output_type": "display_data"
    },
    {
     "name": "stdout",
     "output_type": "stream",
     "text": [
      "Cycle 29/30\n",
      "Fold 5/7\n"
     ]
    },
    {
     "data": {
      "application/vnd.jupyter.widget-view+json": {
       "model_id": "a0dab81c6e564532a520f7a490ca1931",
       "version_major": 2,
       "version_minor": 0
      },
      "text/plain": [
       "  0%|          | 0/150 [00:00<?, ?it/s]"
      ]
     },
     "metadata": {},
     "output_type": "display_data"
    },
    {
     "name": "stdout",
     "output_type": "stream",
     "text": [
      "Cycle 29/30\n",
      "Fold 6/7\n"
     ]
    },
    {
     "data": {
      "application/vnd.jupyter.widget-view+json": {
       "model_id": "bafd130180784c27bbbc9c19163bf83b",
       "version_major": 2,
       "version_minor": 0
      },
      "text/plain": [
       "  0%|          | 0/150 [00:00<?, ?it/s]"
      ]
     },
     "metadata": {},
     "output_type": "display_data"
    },
    {
     "name": "stdout",
     "output_type": "stream",
     "text": [
      "Cycle 29/30\n",
      "Fold 7/7\n"
     ]
    },
    {
     "data": {
      "application/vnd.jupyter.widget-view+json": {
       "model_id": "a40bfdc227554c6580202976d7d383e0",
       "version_major": 2,
       "version_minor": 0
      },
      "text/plain": [
       "  0%|          | 0/150 [00:00<?, ?it/s]"
      ]
     },
     "metadata": {},
     "output_type": "display_data"
    },
    {
     "name": "stdout",
     "output_type": "stream",
     "text": [
      "Cycle 30/30\n",
      "Fold 1/7\n"
     ]
    },
    {
     "data": {
      "application/vnd.jupyter.widget-view+json": {
       "model_id": "3b8f8df0d2e54496b25969c6e4638e0f",
       "version_major": 2,
       "version_minor": 0
      },
      "text/plain": [
       "  0%|          | 0/150 [00:00<?, ?it/s]"
      ]
     },
     "metadata": {},
     "output_type": "display_data"
    },
    {
     "name": "stdout",
     "output_type": "stream",
     "text": [
      "Cycle 30/30\n",
      "Fold 2/7\n"
     ]
    },
    {
     "data": {
      "application/vnd.jupyter.widget-view+json": {
       "model_id": "98a863d53b504a3ea5d70b48440a8786",
       "version_major": 2,
       "version_minor": 0
      },
      "text/plain": [
       "  0%|          | 0/150 [00:00<?, ?it/s]"
      ]
     },
     "metadata": {},
     "output_type": "display_data"
    },
    {
     "name": "stdout",
     "output_type": "stream",
     "text": [
      "Cycle 30/30\n",
      "Fold 3/7\n"
     ]
    },
    {
     "data": {
      "application/vnd.jupyter.widget-view+json": {
       "model_id": "62703b6a80d045e6a1d90fdfbcb5bc9c",
       "version_major": 2,
       "version_minor": 0
      },
      "text/plain": [
       "  0%|          | 0/150 [00:00<?, ?it/s]"
      ]
     },
     "metadata": {},
     "output_type": "display_data"
    },
    {
     "name": "stdout",
     "output_type": "stream",
     "text": [
      "Cycle 30/30\n",
      "Fold 4/7\n"
     ]
    },
    {
     "data": {
      "application/vnd.jupyter.widget-view+json": {
       "model_id": "ec978396ec234108b860859a4f9f381d",
       "version_major": 2,
       "version_minor": 0
      },
      "text/plain": [
       "  0%|          | 0/150 [00:00<?, ?it/s]"
      ]
     },
     "metadata": {},
     "output_type": "display_data"
    },
    {
     "name": "stdout",
     "output_type": "stream",
     "text": [
      "Cycle 30/30\n",
      "Fold 5/7\n"
     ]
    },
    {
     "data": {
      "application/vnd.jupyter.widget-view+json": {
       "model_id": "13169d20b3cf425a97fea9e70fdd03d6",
       "version_major": 2,
       "version_minor": 0
      },
      "text/plain": [
       "  0%|          | 0/150 [00:00<?, ?it/s]"
      ]
     },
     "metadata": {},
     "output_type": "display_data"
    },
    {
     "name": "stdout",
     "output_type": "stream",
     "text": [
      "Cycle 30/30\n",
      "Fold 6/7\n"
     ]
    },
    {
     "data": {
      "application/vnd.jupyter.widget-view+json": {
       "model_id": "bc46506ccb374e6aa8797b9f3a319fdf",
       "version_major": 2,
       "version_minor": 0
      },
      "text/plain": [
       "  0%|          | 0/150 [00:00<?, ?it/s]"
      ]
     },
     "metadata": {},
     "output_type": "display_data"
    },
    {
     "name": "stdout",
     "output_type": "stream",
     "text": [
      "Cycle 30/30\n",
      "Fold 7/7\n"
     ]
    },
    {
     "data": {
      "application/vnd.jupyter.widget-view+json": {
       "model_id": "4fb91c32f7da41e48d885cd46f245249",
       "version_major": 2,
       "version_minor": 0
      },
      "text/plain": [
       "  0%|          | 0/150 [00:00<?, ?it/s]"
      ]
     },
     "metadata": {},
     "output_type": "display_data"
    }
   ],
   "source": [
    "for cycle in range(cycles):\n",
    "\tfold = 1\n",
    "\n",
    "\t# Keep track of indices for RMSE calculations\n",
    "\tdata_fold_indexes = [] # [[(train_index, test_index), (train_index, test_index), ...], [...], [...], [...], [...]] = for tasks, for kfold_split\n",
    "\tfor task in range(len(X_task_sets)):\n",
    "\t\tdata_fold_indexes.append([])\n",
    "\t\tfor train_index, test_index in kf.split(X_task_sets[task]):\n",
    "\t\t\tdata_fold_indexes[-1].append((train_index, test_index))\n",
    "\n",
    "\tfor data_fold in range(folds): # Cross validation\n",
    "\t\tprint(f'Cycle {cycle+1}/{cycles}')\n",
    "\t\tprint(f'Fold {fold}/{folds}')\n",
    "\t\tfold += 1\n",
    "\n",
    "\t\tX_train_list = []\n",
    "\t\tX_test_list = []\n",
    "\t\ty_train_list = []\n",
    "\t\ty_test_list = [] # list[ tensor[y, y, ...], tensor[...], ...]\n",
    "\t\ttrain_i_task_list = []\n",
    "\t\ttest_i_task_list = []\n",
    "\n",
    "\t\toriginal_indices_of_test_folds = [] # list[ list[id, id, ...], list[...], ...] # Keep track of data IDs\n",
    "\n",
    "\t\t# Process data for each task\n",
    "\t\tfor task in range(len(X_task_sets)):\n",
    "\t\t\ttrain_index, test_index = data_fold_indexes[task][data_fold]\n",
    "\n",
    "\t\t\tX_train, X_test = X_task_sets[task][train_index], X_task_sets[task][test_index]\n",
    "\t\t\ty_train, y_test = y_task_sets[task][train_index], y_task_sets[task][test_index]\n",
    "\n",
    "\t\t\toriginal_indices_of_test_fold = sample_id_task_sets[task][test_index]\n",
    "\n",
    "\t\t\tX_train = torch.tensor(X_train, dtype=torch.float32)\n",
    "\t\t\tX_test = torch.tensor(X_test, dtype=torch.float32)\n",
    "\t\t\ty_train = torch.tensor(y_train, dtype=torch.float32)\n",
    "\t\t\ty_test = torch.tensor(y_test, dtype=torch.float32)\n",
    "\n",
    "\t\t\tX_train_list.append(X_train)\n",
    "\t\t\tX_test_list.append(X_test)\n",
    "\t\t\ty_train_list.append(y_train)\n",
    "\t\t\ty_test_list.append(y_test)\n",
    "\t\t\ttrain_i_task_list.append(torch.full((X_train.shape[0],1), dtype=torch.long, fill_value=task))\n",
    "\t\t\ttest_i_task_list.append(torch.full((X_test.shape[0],1), dtype=torch.long, fill_value=task))\n",
    "\n",
    "\t\t\toriginal_indices_of_test_folds.append(original_indices_of_test_fold)\n",
    "\n",
    "\t\tfull_X_train = torch.cat(X_train_list)\n",
    "\t\tfull_train_i = torch.cat(train_i_task_list)\n",
    "\t\tfull_y_train = torch.cat(y_train_list)\n",
    "\n",
    "\t\t# print(full_X_train)\n",
    "\t\t# print(full_train_i)\n",
    "\t\t# print(full_y_train)\n",
    "\n",
    "\t\tfull_X_test = torch.cat(X_test_list)\n",
    "\t\tfull_test_i = torch.cat(test_i_task_list)\n",
    "\t\tfull_y_test = torch.cat(y_test_list) # tensor[y, y, y, ...]\n",
    "\t\t\n",
    "\t\tfull_original_indices_of_test_folds = [] # list[id, id, id, ...]\n",
    "\t\tfor sublist in original_indices_of_test_folds:\n",
    "\t\t\tfull_original_indices_of_test_folds.extend(sublist)\n",
    "\t\t# print(len(full_y_test), len(full_original_indices_of_test_folds))\n",
    "\t\t# print(full_y_test)\n",
    "\t\t# print(full_original_indices_of_test_folds)\n",
    "\n",
    "\t\tfeature_extractor = FeatureExtractor()\n",
    "\n",
    "\t\t# The model itself\n",
    "\t\tclass MultitaskGPModel(gpytorch.models.ExactGP):\n",
    "\t\t\tdef __init__(self, train_x, train_y, likelihood):\n",
    "\t\t\t\tsuper(MultitaskGPModel, self).__init__(train_x, train_y, likelihood)\n",
    "\t\t\t\tself.mean_module = gpytorch.means.ConstantMean() # Mean function\n",
    "\t\t\t\tself.covar_module = gpytorch.kernels.keops.MaternKernel(nu=0.5) # Covariance function\n",
    "\t\t\t\tself.task_covar_module = gpytorch.kernels.IndexKernel(num_tasks=len(X_task_sets), rank=3) # Task covariance function\n",
    "\t\t\t\tself.feature_extractor = feature_extractor\n",
    "\t\t\t\tself.scale_to_bounds = gpytorch.utils.grid.ScaleToBounds(-1., 1.) # Scaling/normalization\n",
    "\n",
    "\t\t\tdef forward(self, x, i):\n",
    "\t\t\t\textracted_features = self.feature_extractor(x)\n",
    "\t\n",
    "\t\t\t\t# Ensure extracted features are scaled appropriately\n",
    "\t\t\t\textracted_features = self.scale_to_bounds(extracted_features)\n",
    "\n",
    "\t\t\t\tmean_x = self.mean_module(extracted_features)\n",
    "\n",
    "\t\t\t\t# Get input-input covariance\n",
    "\t\t\t\tcovar_x = self.covar_module(extracted_features)\n",
    "\t\t\t\t# Get task-task covariance\n",
    "\t\t\t\tcovar_i = self.task_covar_module(i)\n",
    "\t\t\t\t# Multiply the two together to get the covariance we want\n",
    "\t\t\t\tcovar = covar_x.mul(covar_i)\n",
    "\n",
    "\t\t\t\treturn gpytorch.distributions.MultivariateNormal(mean_x, covar)\n",
    "\n",
    "\t\t\t\n",
    "\t\tlikelihood = gpytorch.likelihoods.GaussianLikelihood()\n",
    "\t\tmodel = MultitaskGPModel((full_X_train, full_train_i), full_y_train, likelihood) # full_train_i tells the model which task each data point belongs\n",
    "\n",
    "\t\tmodel.train()\n",
    "\t\tlikelihood.train()\n",
    "\n",
    "\t\toptimizer = torch.optim.Adam(model.parameters(), lr=0.1)\n",
    "\n",
    "\t\t# \"Loss\" for GPs - the marginal log likelihood\n",
    "\t\tmll = gpytorch.mlls.ExactMarginalLogLikelihood(likelihood, model)\n",
    "\n",
    "\t\t# Training loop\n",
    "\t\tcounter = -1\n",
    "\t\titerator = tqdm.notebook.tqdm(range(training_iterations))\n",
    "\t\tfor i in iterator:\n",
    "\t\t\tcounter += 1\n",
    "\t\t\twith gpytorch.settings.cholesky_max_tries(5):\n",
    "\t\t\t\toptimizer.zero_grad()\n",
    "\t\t\t\toutput = model(full_X_train, full_train_i)\n",
    "\t\t\t\tloss = -mll(output, full_y_train)\n",
    "\t\t\t\tloss.backward()\n",
    "\t\t\t\titerator.set_postfix(loss=loss.item())\n",
    "\t\t\t\toptimizer.step()\n",
    "\n",
    "\t\t# Evaluation\n",
    "\t\tmodel.eval()\n",
    "\t\tlikelihood.eval()\n",
    "\t\twith torch.no_grad(), gpytorch.settings.use_toeplitz(False), gpytorch.settings.fast_pred_var():\n",
    "\t\t\ty_preds = likelihood(model(full_X_test, full_test_i))\n",
    "\t\t\tmean = y_preds.mean # The means are used as prediction values\n",
    "\t\t\tlower, upper = y_preds.confidence_region() # GP model's own confidence bounds (not using these at the moment)\n",
    "\n",
    "\t\ty_test_np = full_y_test.numpy()\n",
    "\t\tmean = mean.numpy()\n",
    "\t\tlower = lower.numpy()\n",
    "\t\tupper = upper.numpy()\n",
    "\n",
    "\t\t# Append the results\n",
    "\t\tfor i, y_test_point in enumerate(y_test_np):\n",
    "\t\t\tresults_per_id[full_original_indices_of_test_folds[i], cycle] = mean[i]\n",
    "\t\t\tif cycle == 0:\n",
    "\t\t\t\ttrue_values_per_id[full_original_indices_of_test_folds[i], 0] = y_test_point\n",
    "\n",
    "\t\tunscaled_mean = 10 ** mean\n",
    "\t\tunscaled_y_test = 10 ** y_test_np"
   ]
  },
  {
   "cell_type": "markdown",
   "metadata": {},
   "source": [
    "#### Process Results"
   ]
  },
  {
   "cell_type": "code",
   "execution_count": 152,
   "metadata": {},
   "outputs": [
    {
     "name": "stdout",
     "output_type": "stream",
     "text": [
      "168\n"
     ]
    },
    {
     "data": {
      "text/plain": [
       "array([[8.80352783, 8.79360867, 8.78492928, ..., 8.79239082, 8.45880795,\n",
       "        8.76323414],\n",
       "       [8.53610992, 8.51399136, 8.5326376 , ..., 8.49585915, 8.48006344,\n",
       "        8.53587914],\n",
       "       [8.50170135, 8.296978  , 8.59698868, ..., 8.41422462, 8.75554943,\n",
       "        8.02434349],\n",
       "       ...,\n",
       "       [2.14441299, 2.08199954, 2.11986351, ..., 2.23449874, 2.10744619,\n",
       "        2.09742832],\n",
       "       [2.27768683, 2.30882931, 2.41792369, ..., 2.40139818, 2.33914161,\n",
       "        2.40404248],\n",
       "       [2.45844793, 2.48325348, 2.40250015, ..., 2.50176311, 2.52419162,\n",
       "        2.4471333 ]])"
      ]
     },
     "execution_count": 152,
     "metadata": {},
     "output_type": "execute_result"
    }
   ],
   "source": [
    "results_per_id_rows_with_nan = np.isnan(results_per_id).any(axis=1)\n",
    "results_per_id = results_per_id[~results_per_id_rows_with_nan]\n",
    "\n",
    "print(len(results_per_id))\n",
    "\n",
    "results_per_id"
   ]
  },
  {
   "cell_type": "code",
   "execution_count": 153,
   "metadata": {},
   "outputs": [
    {
     "name": "stdout",
     "output_type": "stream",
     "text": [
      "168\n"
     ]
    },
    {
     "data": {
      "text/plain": [
       "array([8.52922249, 8.83025169, 8.52922249, 8.83025169, 8.88140488,\n",
       "       9.16604424, 0.15757053, 0.73027861, 1.65067315, 2.34180689,\n",
       "       2.64184713, 0.01859135, 0.15757053, 0.73027861, 1.65067315,\n",
       "       1.94682193, 2.34180689, 2.64184713, 7.68049002, 7.83025217,\n",
       "       8.02982426, 8.11279869, 8.27611542, 8.46707439, 8.62613201,\n",
       "       8.81925678, 8.93576241, 9.22819233, 9.42224407, 7.68049002,\n",
       "       7.83025217, 8.02982426, 8.11279869, 8.27611542, 8.46707439,\n",
       "       8.62613201, 8.81925678, 8.93576241, 9.22819233, 9.42224407,\n",
       "       8.92716217, 8.83025169, 9.52922249, 9.83025169, 8.52922249,\n",
       "       8.83025169, 9.52922249, 9.14901066, 9.45004082, 9.62613201,\n",
       "       8.52922249, 8.83025169, 7.73334217, 8.03437233, 8.33540249,\n",
       "       8.51149368, 8.63643169, 8.81252289, 8.93746185, 9.03437233,\n",
       "       8.77617168, 8.77617168, 8.77617168, 8.45864105, 8.75967121,\n",
       "       8.93576241, 9.06070137, 9.15761089, 9.15761089, 9.55555153,\n",
       "       9.20591545, 9.08350945, 7.50119352, 0.73027861, 1.65067315,\n",
       "       1.94682193, 2.34180689, 2.64184713, 0.73027861, 1.65067315,\n",
       "       1.94682193, 2.34180689, 2.64184713, 8.10325336, 8.19822884,\n",
       "       8.54695129, 8.70531368, 8.89874744, 9.01470661, 9.14901066,\n",
       "       9.30737305, 9.50119305, 9.75107098, 8.10325336, 8.19822884,\n",
       "       8.54695129, 8.70531368, 8.89874744, 9.01470661, 9.14901066,\n",
       "       9.30737305, 9.50119305, 9.75107098, 8.92716217, 8.52922249,\n",
       "       8.83025169, 8.52922249, 8.83025169, 8.52922249, 8.83025169,\n",
       "       8.92716217, 8.92716217, 8.92716217, 8.92716217, 8.6541605 ,\n",
       "       8.95519066, 9.13128185, 8.6541605 , 8.95519066, 8.6541605 ,\n",
       "       8.95519066, 9.13128185, 9.25622082, 8.05210114, 8.52922249,\n",
       "       8.89719868, 8.6541605 , 8.95519066, 8.05210114, 8.52922249,\n",
       "       8.89719868, 8.05210114, 8.52922249, 8.05210114, 8.52922249,\n",
       "       8.05210114, 8.52922249, 8.6541605 , 8.95519066, 8.05210114,\n",
       "       8.52922249, 8.89719868, 9.09349346, 8.05210114, 8.52922249,\n",
       "       8.6541605 , 8.95519066, 8.62613201, 9.00234413, 9.00234413,\n",
       "       1.98186696, 2.37508416, 2.77830005, 1.98186696, 2.37508416,\n",
       "       2.77830005, 1.98186696, 2.37508416, 2.77830005, 1.98186696,\n",
       "       2.37508416, 2.77830005, 1.98186696, 2.37508416, 2.77830005,\n",
       "       1.98186696, 2.37508416, 2.77830005])"
      ]
     },
     "execution_count": 153,
     "metadata": {},
     "output_type": "execute_result"
    }
   ],
   "source": [
    "true_values_per_id_rows_with_nan = np.isnan(true_values_per_id).any(axis=1)\n",
    "true_values_per_id = true_values_per_id[~true_values_per_id_rows_with_nan]\n",
    "true_values_per_id = true_values_per_id.flatten()\n",
    "\n",
    "print(len(true_values_per_id))\n",
    "true_values_per_id"
   ]
  },
  {
   "cell_type": "code",
   "execution_count": 154,
   "metadata": {},
   "outputs": [
    {
     "data": {
      "text/plain": [
       "array([5.51661088e+08, 3.23320839e+08, 3.03374657e+08, 3.65030800e+08,\n",
       "       2.08691253e+09, 9.35444044e+08, 1.65087543e+01, 2.07067804e+00,\n",
       "       8.61287772e+00, 4.22469257e+02, 3.98985046e+02, 1.87085813e+00,\n",
       "       1.76245694e+00, 2.08940656e+01, 5.31580524e+00, 2.62411222e+02,\n",
       "       2.16062184e+02, 2.82433459e+02, 6.83218206e+07, 1.07229916e+08,\n",
       "       1.28696651e+08, 1.00089297e+08, 1.77493513e+08, 3.28409328e+08,\n",
       "       5.11990439e+08, 7.34831273e+08, 9.36537725e+08, 1.87752649e+09,\n",
       "       2.38100009e+09, 5.68004082e+07, 5.97725465e+07, 9.12660206e+07,\n",
       "       1.25960804e+08, 2.01804764e+08, 2.74068154e+08, 4.46179425e+08,\n",
       "       6.92295590e+08, 8.43700350e+08, 1.17873779e+09, 1.96549726e+09,\n",
       "       1.18097715e+09, 7.52816682e+08, 3.37479982e+09, 2.90573971e+09,\n",
       "       3.15892025e+08, 6.33821398e+08, 3.22060009e+09, 9.85565394e+08,\n",
       "       3.10037256e+09, 2.10909221e+09, 2.46015716e+08, 6.48715649e+08,\n",
       "       1.05596615e+08, 1.13269603e+08, 2.21893183e+08, 3.39180167e+08,\n",
       "       4.77755068e+08, 7.39713475e+08, 1.87854062e+09, 2.72397650e+09,\n",
       "       4.43952735e+08, 6.06713513e+08, 6.48763493e+08, 3.91454800e+08,\n",
       "       4.74666869e+08, 1.14360580e+09, 1.63728084e+09, 2.27916869e+09,\n",
       "       8.33657527e+08, 1.13579175e+09, 6.89015755e+08, 5.72320768e+08,\n",
       "       2.25341294e+08, 7.38666964e+00, 5.29241267e+01, 2.50788266e+02,\n",
       "       1.13178151e+02, 2.90016430e+02, 9.87619920e+00, 2.67412262e+01,\n",
       "       1.40220391e+02, 1.19151250e+02, 3.48286867e+02, 1.97682375e+08,\n",
       "       1.48387276e+08, 2.84245955e+08, 5.28874901e+08, 8.88338987e+08,\n",
       "       9.34224230e+08, 1.35299203e+09, 1.84306118e+09, 3.11188249e+09,\n",
       "       4.30496337e+09, 1.54204443e+08, 1.26900000e+08, 2.99666307e+08,\n",
       "       5.46071539e+08, 8.95615539e+08, 9.67734121e+08, 1.71535120e+09,\n",
       "       1.95404805e+09, 3.36561444e+09, 4.80000599e+09, 8.51800554e+08,\n",
       "       4.36819369e+08, 3.50502754e+08, 4.13747008e+08, 4.96034246e+08,\n",
       "       4.74555220e+08, 7.02563486e+08, 9.04856974e+08, 9.27387015e+08,\n",
       "       9.94014066e+08, 1.33877156e+09, 6.46447295e+08, 7.03814711e+08,\n",
       "       9.22519761e+08, 7.08440487e+08, 3.49040200e+08, 5.55630840e+08,\n",
       "       6.93524422e+08, 1.06714211e+09, 1.12933490e+09, 2.44278315e+08,\n",
       "       7.64594589e+08, 1.23098624e+09, 4.67781742e+08, 8.47104383e+08,\n",
       "       9.70899095e+07, 2.17416297e+08, 5.17574959e+08, 2.66886966e+08,\n",
       "       1.92675995e+08, 2.92476084e+08, 5.22512417e+08, 2.57466019e+08,\n",
       "       6.63852127e+08, 2.81631749e+08, 5.56218139e+08, 1.64332344e+08,\n",
       "       3.28790701e+08, 7.69635677e+08, 7.75618424e+08, 2.12382344e+08,\n",
       "       4.20161581e+08, 7.78886506e+08, 2.97363093e+08, 3.32330810e+08,\n",
       "       8.76437109e+08, 7.08111676e+08, 1.39378298e+02, 3.08273638e+02,\n",
       "       3.18014480e+02, 1.21446402e+02, 2.93346540e+02, 4.72545554e+02,\n",
       "       1.31616783e+02, 1.95791687e+02, 4.78221698e+02, 2.14839072e+02,\n",
       "       1.41259583e+02, 5.60285835e+02, 1.50846311e+02, 2.60289399e+02,\n",
       "       4.10577239e+02, 1.41453190e+02, 2.52337395e+02, 2.99992121e+02])"
      ]
     },
     "execution_count": 154,
     "metadata": {},
     "output_type": "execute_result"
    }
   ],
   "source": [
    "# The averages of the predictions are calculated from the original data scale.\n",
    "original_scale_results_per_id = 10 ** results_per_id\n",
    "original_scale_average_results_per_id = np.mean(original_scale_results_per_id, axis=1)\n",
    "\n",
    "original_scale_average_results_per_id"
   ]
  },
  {
   "cell_type": "code",
   "execution_count": 155,
   "metadata": {},
   "outputs": [
    {
     "data": {
      "text/plain": [
       "array([8.74167235, 8.5096337 , 8.4819793 , 8.56232951, 9.31950425,\n",
       "       8.97101781, 1.2177143 , 0.31611258, 0.93514828, 2.62579511,\n",
       "       2.60095662, 0.27204085, 0.24611852, 1.32002295, 0.72556906,\n",
       "       2.4189824 , 2.33457876, 2.45091615, 7.83455943, 8.03031596,\n",
       "       8.10956724, 8.00038764, 8.24918249, 8.51641548, 8.70926185,\n",
       "       8.86618763, 8.97152528, 9.27358607, 9.37675941, 7.75435146,\n",
       "       7.77650176, 7.96030911, 8.10023543, 8.30493141, 8.43785857,\n",
       "       8.64950954, 8.84029156, 8.92618823, 9.07141721, 9.29347244,\n",
       "       9.07224149, 8.87668923, 9.52824802, 9.46325671, 8.49953866,\n",
       "       8.8019669 , 9.5079368 , 8.99368545, 9.49141388, 9.32409557,\n",
       "       8.39096285, 8.81205437, 8.02365   , 8.05411338, 8.34614396,\n",
       "       8.53043045, 8.6792053 , 8.86906353, 9.27382059, 9.43520336,\n",
       "       8.64733674, 8.78298367, 8.8120864 , 8.59268162, 8.67638892,\n",
       "       9.05827635, 9.21412318, 9.35777647, 8.92098768, 9.05529871,\n",
       "       8.83822915, 8.75763951, 8.35284078, 0.86844868, 1.7236537 ,\n",
       "       2.39930721, 2.0537626 , 2.4624226 , 0.99458984, 1.42718132,\n",
       "       2.14681117, 2.0760986 , 2.5419371 , 8.29596795, 8.17139666,\n",
       "       8.45369429, 8.72335296, 8.94857872, 8.97045113, 9.13129524,\n",
       "       9.26553975, 9.49302319, 9.63396946, 8.18809689, 8.10346162,\n",
       "       8.47663792, 8.73724954, 8.95212162, 8.98575605, 9.23435305,\n",
       "       9.29093524, 9.52706436, 9.68124178, 8.93033792, 8.64030189,\n",
       "       8.54469143, 8.61673487, 8.69551166, 8.67628675, 8.84668557,\n",
       "       8.95657994, 8.96726101, 8.99739253, 9.12670648, 8.81053312,\n",
       "       8.84745834, 8.96497568, 8.85030337, 8.54287545, 8.74478634,\n",
       "       8.84106176, 9.02822226, 9.05282275, 8.38788492, 8.88343122,\n",
       "       9.0902532 , 8.67004327, 8.92793693, 7.9871741 , 8.33729209,\n",
       "       8.71397326, 8.42632737, 8.28482761, 8.46609036, 8.71809662,\n",
       "       8.41071992, 8.82207135, 8.44968161, 8.74524515, 8.21572305,\n",
       "       8.51691953, 8.88628519, 8.88964812, 8.32711841, 8.62341634,\n",
       "       8.89147418, 8.47328707, 8.52157061, 8.94272076, 8.85010176,\n",
       "       2.14419516, 2.48893639, 2.50244689, 2.08438465, 2.46738097,\n",
       "       2.67444368, 2.11931127, 2.29179425, 2.67962928, 2.33211327,\n",
       "       2.15001792, 2.74840964, 2.17853469, 2.41545648, 2.61339487,\n",
       "       2.15061275, 2.40198161, 2.47710985])"
      ]
     },
     "execution_count": 155,
     "metadata": {},
     "output_type": "execute_result"
    }
   ],
   "source": [
    "log_scale_average_results_per_id = np.log10(original_scale_average_results_per_id)\n",
    "log_scale_average_results_per_id"
   ]
  },
  {
   "cell_type": "markdown",
   "metadata": {},
   "source": [
    "# Results"
   ]
  },
  {
   "cell_type": "code",
   "execution_count": 156,
   "metadata": {},
   "outputs": [
    {
     "name": "stdout",
     "output_type": "stream",
     "text": [
      "(168, 4)\n"
     ]
    },
    {
     "data": {
      "text/html": [
       "<div>\n",
       "<style scoped>\n",
       "    .dataframe tbody tr th:only-of-type {\n",
       "        vertical-align: middle;\n",
       "    }\n",
       "\n",
       "    .dataframe tbody tr th {\n",
       "        vertical-align: top;\n",
       "    }\n",
       "\n",
       "    .dataframe thead th {\n",
       "        text-align: right;\n",
       "    }\n",
       "</style>\n",
       "<table border=\"1\" class=\"dataframe\">\n",
       "  <thead>\n",
       "    <tr style=\"text-align: right;\">\n",
       "      <th></th>\n",
       "      <th>y_true</th>\n",
       "      <th>y_pred_average</th>\n",
       "      <th>error</th>\n",
       "      <th>standard_deviation</th>\n",
       "    </tr>\n",
       "  </thead>\n",
       "  <tbody>\n",
       "    <tr>\n",
       "      <th>0</th>\n",
       "      <td>8.529222</td>\n",
       "      <td>8.741672</td>\n",
       "      <td>0.212450</td>\n",
       "      <td>0.152179</td>\n",
       "    </tr>\n",
       "    <tr>\n",
       "      <th>1</th>\n",
       "      <td>8.830252</td>\n",
       "      <td>8.509634</td>\n",
       "      <td>-0.320618</td>\n",
       "      <td>0.072547</td>\n",
       "    </tr>\n",
       "    <tr>\n",
       "      <th>2</th>\n",
       "      <td>8.529222</td>\n",
       "      <td>8.481979</td>\n",
       "      <td>-0.047243</td>\n",
       "      <td>0.150518</td>\n",
       "    </tr>\n",
       "    <tr>\n",
       "      <th>3</th>\n",
       "      <td>8.830252</td>\n",
       "      <td>8.562330</td>\n",
       "      <td>-0.267922</td>\n",
       "      <td>0.107739</td>\n",
       "    </tr>\n",
       "    <tr>\n",
       "      <th>4</th>\n",
       "      <td>8.881405</td>\n",
       "      <td>9.319504</td>\n",
       "      <td>0.438099</td>\n",
       "      <td>0.054221</td>\n",
       "    </tr>\n",
       "    <tr>\n",
       "      <th>...</th>\n",
       "      <td>...</td>\n",
       "      <td>...</td>\n",
       "      <td>...</td>\n",
       "      <td>...</td>\n",
       "    </tr>\n",
       "    <tr>\n",
       "      <th>163</th>\n",
       "      <td>2.375084</td>\n",
       "      <td>2.415456</td>\n",
       "      <td>0.040372</td>\n",
       "      <td>0.054960</td>\n",
       "    </tr>\n",
       "    <tr>\n",
       "      <th>164</th>\n",
       "      <td>2.778300</td>\n",
       "      <td>2.613395</td>\n",
       "      <td>-0.164905</td>\n",
       "      <td>0.100878</td>\n",
       "    </tr>\n",
       "    <tr>\n",
       "      <th>165</th>\n",
       "      <td>1.981867</td>\n",
       "      <td>2.150613</td>\n",
       "      <td>0.168746</td>\n",
       "      <td>0.107367</td>\n",
       "    </tr>\n",
       "    <tr>\n",
       "      <th>166</th>\n",
       "      <td>2.375084</td>\n",
       "      <td>2.401982</td>\n",
       "      <td>0.026897</td>\n",
       "      <td>0.071285</td>\n",
       "    </tr>\n",
       "    <tr>\n",
       "      <th>167</th>\n",
       "      <td>2.778300</td>\n",
       "      <td>2.477110</td>\n",
       "      <td>-0.301190</td>\n",
       "      <td>0.083745</td>\n",
       "    </tr>\n",
       "  </tbody>\n",
       "</table>\n",
       "<p>168 rows × 4 columns</p>\n",
       "</div>"
      ],
      "text/plain": [
       "       y_true  y_pred_average     error  standard_deviation\n",
       "0    8.529222        8.741672  0.212450            0.152179\n",
       "1    8.830252        8.509634 -0.320618            0.072547\n",
       "2    8.529222        8.481979 -0.047243            0.150518\n",
       "3    8.830252        8.562330 -0.267922            0.107739\n",
       "4    8.881405        9.319504  0.438099            0.054221\n",
       "..        ...             ...       ...                 ...\n",
       "163  2.375084        2.415456  0.040372            0.054960\n",
       "164  2.778300        2.613395 -0.164905            0.100878\n",
       "165  1.981867        2.150613  0.168746            0.107367\n",
       "166  2.375084        2.401982  0.026897            0.071285\n",
       "167  2.778300        2.477110 -0.301190            0.083745\n",
       "\n",
       "[168 rows x 4 columns]"
      ]
     },
     "execution_count": 156,
     "metadata": {},
     "output_type": "execute_result"
    }
   ],
   "source": [
    "final_results_per_id = pd.DataFrame(columns=['y_true', 'y_pred_average', 'error', 'standard_deviation'])\n",
    "\n",
    "for i in range(len(true_values_per_id)):\n",
    "\tnew_row = pd.DataFrame({\n",
    "\t\t'y_true': [true_values_per_id[i]],\n",
    "\t\t'y_pred_average': [log_scale_average_results_per_id[i]],\n",
    "\t\t'error': [log_scale_average_results_per_id[i] - true_values_per_id[i]],\n",
    "\t\t'standard_deviation': [np.std(results_per_id[i], ddof=1)]\n",
    "\t})\n",
    "\tfinal_results_per_id = pd.concat([final_results_per_id, new_row], ignore_index=True)\n",
    "print(final_results_per_id.shape)\n",
    "final_results_per_id"
   ]
  },
  {
   "cell_type": "code",
   "execution_count": 157,
   "metadata": {},
   "outputs": [
    {
     "name": "stdout",
     "output_type": "stream",
     "text": [
      "0.23647163318939382 0.9935404703050071\n"
     ]
    }
   ],
   "source": [
    "gp_RMSE = root_mean_squared_error(final_results_per_id['y_true'], final_results_per_id['y_pred_average'])\n",
    "gp_R2 = r2_score(final_results_per_id['y_true'], final_results_per_id['y_pred_average'])\n",
    "print(gp_RMSE, gp_R2)"
   ]
  },
  {
   "cell_type": "markdown",
   "metadata": {},
   "source": [
    "#### Ensemble model results as a comparison (updated in July 26th 2024)"
   ]
  },
  {
   "cell_type": "code",
   "execution_count": 158,
   "metadata": {},
   "outputs": [
    {
     "data": {
      "text/html": [
       "<div>\n",
       "<style scoped>\n",
       "    .dataframe tbody tr th:only-of-type {\n",
       "        vertical-align: middle;\n",
       "    }\n",
       "\n",
       "    .dataframe tbody tr th {\n",
       "        vertical-align: top;\n",
       "    }\n",
       "\n",
       "    .dataframe thead th {\n",
       "        text-align: right;\n",
       "    }\n",
       "</style>\n",
       "<table border=\"1\" class=\"dataframe\">\n",
       "  <thead>\n",
       "    <tr style=\"text-align: right;\">\n",
       "      <th></th>\n",
       "      <th>Actual</th>\n",
       "      <th>Predicted</th>\n",
       "      <th>Abs_error</th>\n",
       "      <th>STD</th>\n",
       "    </tr>\n",
       "  </thead>\n",
       "  <tbody>\n",
       "    <tr>\n",
       "      <th>0</th>\n",
       "      <td>8.529222</td>\n",
       "      <td>8.287601</td>\n",
       "      <td>-0.241622</td>\n",
       "      <td>0.329885</td>\n",
       "    </tr>\n",
       "    <tr>\n",
       "      <th>1</th>\n",
       "      <td>8.830252</td>\n",
       "      <td>8.235695</td>\n",
       "      <td>-0.594557</td>\n",
       "      <td>0.318001</td>\n",
       "    </tr>\n",
       "    <tr>\n",
       "      <th>2</th>\n",
       "      <td>8.529222</td>\n",
       "      <td>8.014378</td>\n",
       "      <td>-0.514845</td>\n",
       "      <td>0.213826</td>\n",
       "    </tr>\n",
       "    <tr>\n",
       "      <th>3</th>\n",
       "      <td>8.830252</td>\n",
       "      <td>8.368659</td>\n",
       "      <td>-0.461593</td>\n",
       "      <td>0.293570</td>\n",
       "    </tr>\n",
       "    <tr>\n",
       "      <th>4</th>\n",
       "      <td>8.881405</td>\n",
       "      <td>9.238439</td>\n",
       "      <td>0.357034</td>\n",
       "      <td>0.181062</td>\n",
       "    </tr>\n",
       "    <tr>\n",
       "      <th>...</th>\n",
       "      <td>...</td>\n",
       "      <td>...</td>\n",
       "      <td>...</td>\n",
       "      <td>...</td>\n",
       "    </tr>\n",
       "    <tr>\n",
       "      <th>163</th>\n",
       "      <td>2.375084</td>\n",
       "      <td>2.563779</td>\n",
       "      <td>0.188695</td>\n",
       "      <td>0.090683</td>\n",
       "    </tr>\n",
       "    <tr>\n",
       "      <th>164</th>\n",
       "      <td>2.778300</td>\n",
       "      <td>2.426000</td>\n",
       "      <td>-0.352300</td>\n",
       "      <td>0.071308</td>\n",
       "    </tr>\n",
       "    <tr>\n",
       "      <th>165</th>\n",
       "      <td>1.981867</td>\n",
       "      <td>2.079478</td>\n",
       "      <td>0.097611</td>\n",
       "      <td>0.080304</td>\n",
       "    </tr>\n",
       "    <tr>\n",
       "      <th>166</th>\n",
       "      <td>2.375084</td>\n",
       "      <td>2.538110</td>\n",
       "      <td>0.163026</td>\n",
       "      <td>0.100658</td>\n",
       "    </tr>\n",
       "    <tr>\n",
       "      <th>167</th>\n",
       "      <td>2.778300</td>\n",
       "      <td>2.430696</td>\n",
       "      <td>-0.347604</td>\n",
       "      <td>0.092552</td>\n",
       "    </tr>\n",
       "  </tbody>\n",
       "</table>\n",
       "<p>168 rows × 4 columns</p>\n",
       "</div>"
      ],
      "text/plain": [
       "       Actual  Predicted  Abs_error       STD\n",
       "0    8.529222   8.287601  -0.241622  0.329885\n",
       "1    8.830252   8.235695  -0.594557  0.318001\n",
       "2    8.529222   8.014378  -0.514845  0.213826\n",
       "3    8.830252   8.368659  -0.461593  0.293570\n",
       "4    8.881405   9.238439   0.357034  0.181062\n",
       "..        ...        ...        ...       ...\n",
       "163  2.375084   2.563779   0.188695  0.090683\n",
       "164  2.778300   2.426000  -0.352300  0.071308\n",
       "165  1.981867   2.079478   0.097611  0.080304\n",
       "166  2.375084   2.538110   0.163026  0.100658\n",
       "167  2.778300   2.430696  -0.347604  0.092552\n",
       "\n",
       "[168 rows x 4 columns]"
      ]
     },
     "execution_count": 158,
     "metadata": {},
     "output_type": "execute_result"
    }
   ],
   "source": [
    "ensemble_cnn_df = pd.read_excel('data/Ensemble_CNN_Tree_30repeat.xlsx')\n",
    "ensemble_cnn_df"
   ]
  },
  {
   "cell_type": "code",
   "execution_count": 159,
   "metadata": {},
   "outputs": [
    {
     "name": "stdout",
     "output_type": "stream",
     "text": [
      "0.29831998401621 0.9897196597029486\n"
     ]
    }
   ],
   "source": [
    "ensemble_RMSE = root_mean_squared_error(ensemble_cnn_df['Actual'], ensemble_cnn_df['Predicted'])\n",
    "ensemble_R2 = r2_score(ensemble_cnn_df['Actual'], ensemble_cnn_df['Predicted'])\n",
    "print(ensemble_RMSE, ensemble_R2)"
   ]
  },
  {
   "cell_type": "markdown",
   "metadata": {},
   "source": [
    "#### Comparing Results"
   ]
  },
  {
   "cell_type": "code",
   "execution_count": 160,
   "metadata": {},
   "outputs": [
    {
     "data": {
      "text/html": [
       "<div>\n",
       "<style scoped>\n",
       "    .dataframe tbody tr th:only-of-type {\n",
       "        vertical-align: middle;\n",
       "    }\n",
       "\n",
       "    .dataframe tbody tr th {\n",
       "        vertical-align: top;\n",
       "    }\n",
       "\n",
       "    .dataframe thead th {\n",
       "        text-align: right;\n",
       "    }\n",
       "</style>\n",
       "<table border=\"1\" class=\"dataframe\">\n",
       "  <thead>\n",
       "    <tr style=\"text-align: right;\">\n",
       "      <th></th>\n",
       "      <th>number of data points</th>\n",
       "      <th>GP RMSE</th>\n",
       "      <th>Ensemble RMSE</th>\n",
       "    </tr>\n",
       "  </thead>\n",
       "  <tbody>\n",
       "    <tr>\n",
       "      <th>0-1e2</th>\n",
       "      <td>20</td>\n",
       "      <td>0.44388</td>\n",
       "      <td>0.451631</td>\n",
       "    </tr>\n",
       "    <tr>\n",
       "      <th>1e2-1e3</th>\n",
       "      <td>20</td>\n",
       "      <td>0.174846</td>\n",
       "      <td>0.204203</td>\n",
       "    </tr>\n",
       "    <tr>\n",
       "      <th>1e3-1e4</th>\n",
       "      <td>0</td>\n",
       "      <td>NaN</td>\n",
       "      <td>NaN</td>\n",
       "    </tr>\n",
       "    <tr>\n",
       "      <th>1e4-1e5</th>\n",
       "      <td>0</td>\n",
       "      <td>NaN</td>\n",
       "      <td>NaN</td>\n",
       "    </tr>\n",
       "    <tr>\n",
       "      <th>1e5-1e6</th>\n",
       "      <td>0</td>\n",
       "      <td>NaN</td>\n",
       "      <td>NaN</td>\n",
       "    </tr>\n",
       "    <tr>\n",
       "      <th>1e6-1e7</th>\n",
       "      <td>0</td>\n",
       "      <td>NaN</td>\n",
       "      <td>NaN</td>\n",
       "    </tr>\n",
       "    <tr>\n",
       "      <th>1e7-1e8</th>\n",
       "      <td>6</td>\n",
       "      <td>0.383338</td>\n",
       "      <td>0.543032</td>\n",
       "    </tr>\n",
       "    <tr>\n",
       "      <th>1e8-1e9</th>\n",
       "      <td>88</td>\n",
       "      <td>0.174303</td>\n",
       "      <td>0.241064</td>\n",
       "    </tr>\n",
       "    <tr>\n",
       "      <th>1e9-1e10</th>\n",
       "      <td>34</td>\n",
       "      <td>0.194566</td>\n",
       "      <td>0.304601</td>\n",
       "    </tr>\n",
       "  </tbody>\n",
       "</table>\n",
       "</div>"
      ],
      "text/plain": [
       "         number of data points   GP RMSE Ensemble RMSE\n",
       "0-1e2                       20   0.44388      0.451631\n",
       "1e2-1e3                     20  0.174846      0.204203\n",
       "1e3-1e4                      0       NaN           NaN\n",
       "1e4-1e5                      0       NaN           NaN\n",
       "1e5-1e6                      0       NaN           NaN\n",
       "1e6-1e7                      0       NaN           NaN\n",
       "1e7-1e8                      6  0.383338      0.543032\n",
       "1e8-1e9                     88  0.174303      0.241064\n",
       "1e9-1e10                    34  0.194566      0.304601"
      ]
     },
     "execution_count": 160,
     "metadata": {},
     "output_type": "execute_result"
    }
   ],
   "source": [
    "index_names = ['0-1e2', '1e2-1e3', '1e3-1e4', '1e4-1e5', '1e5-1e6', '1e6-1e7', '1e7-1e8', '1e8-1e9', '1e9-1e10']\n",
    "column_names = ['number of data points', 'GP RMSE', 'Ensemble RMSE']\n",
    "results_split = pd.DataFrame(\n",
    "\tcolumns=column_names,\n",
    "\tindex=index_names\n",
    ")\n",
    "\n",
    "previous = 1\n",
    "for i, selection in enumerate([1e2, 1e3, 1e4, 1e5, 1e6, 1e7, 1e8, 1e9, 1e10]):\n",
    "\tselected_rows = final_results_per_id[(final_results_per_id['y_true'] >= np.log10(previous)) & (final_results_per_id['y_true'] < np.log10(selection))]\n",
    "\tresults_split.loc[index_names[i], 'number of data points'] = len(selected_rows)\n",
    "\tresults_split.loc[index_names[i], 'GP RMSE'] = root_mean_squared_error(selected_rows['y_true'], selected_rows['y_pred_average'])\n",
    "\t\n",
    "\tselected_rows = ensemble_cnn_df[(ensemble_cnn_df['Actual'] >= np.log10(previous)) & (ensemble_cnn_df['Actual'] < np.log10(selection))]\n",
    "\tresults_split.loc[index_names[i], 'Ensemble RMSE'] = root_mean_squared_error(selected_rows['Actual'], selected_rows['Predicted'])\n",
    "\n",
    "\tprevious = selection\n",
    "\t\n",
    "results_split"
   ]
  },
  {
   "cell_type": "code",
   "execution_count": 161,
   "metadata": {},
   "outputs": [],
   "source": [
    "if save_RMSE_comaprison_results:\n",
    "\tresults_split.to_excel(f'results/GP_Ensemble_RMSE_split_comparison.xlsx', index=True)"
   ]
  },
  {
   "cell_type": "markdown",
   "metadata": {},
   "source": [
    "# Plots"
   ]
  },
  {
   "cell_type": "code",
   "execution_count": 162,
   "metadata": {},
   "outputs": [
    {
     "name": "stdout",
     "output_type": "stream",
     "text": [
      "90th percentile\n",
      "GP 0.36113164352787336\n",
      "Ensemble 0.4807905626217658\n",
      "\n",
      "95th percentile\n",
      "GP 0.4474502146933137\n",
      "Ensemble 0.5879392841240789\n"
     ]
    },
    {
     "data": {
      "image/png": "[encoded data removed]",
      "text/plain": [
       "<Figure size 1000x600 with 1 Axes>"
      ]
     },
     "metadata": {},
     "output_type": "display_data"
    }
   ],
   "source": [
    "gp_errors = final_results_per_id['error'].to_list()\n",
    "gp_absolute_errors = [abs(value) for value in gp_errors]\n",
    "ensemble_cnn_errors = ensemble_cnn_df['Abs_error'].to_list()\n",
    "ensemble_cnn_absolute_errors = [abs(value) for value in ensemble_cnn_errors]\n",
    "\n",
    "percentiles = np.arange(0, 101, 1)\n",
    "gp_error_percentiles = np.percentile(gp_absolute_errors, percentiles)\n",
    "ensemble_cnn_error_percentiles = np.percentile(ensemble_cnn_absolute_errors, percentiles)\n",
    "\n",
    "gp_y_at_90th_percentile = gp_error_percentiles[90]\n",
    "ensemble_y_at_90th_percentile = ensemble_cnn_error_percentiles[90]\n",
    "gp_y_at_95th_percentile = gp_error_percentiles[95]\n",
    "ensemble_y_at_95th_percentile = ensemble_cnn_error_percentiles[95]\n",
    "print(\n",
    "\tf'''90th percentile\n",
    "GP {gp_y_at_90th_percentile}\n",
    "Ensemble {ensemble_y_at_90th_percentile}\n",
    "\n",
    "95th percentile\n",
    "GP {gp_y_at_95th_percentile}\n",
    "Ensemble {ensemble_y_at_95th_percentile}'''\n",
    ")\n",
    "\n",
    "plt.figure(figsize=(10, 6))\n",
    "plt.plot(percentiles, gp_error_percentiles, linestyle='-', color='#006BA4', label='GP')\n",
    "plt.plot(percentiles, ensemble_cnn_error_percentiles, linestyle='-', color='#FF800E', label='Ensemble')\n",
    "plt.plot([-10, 90], [gp_y_at_90th_percentile, gp_y_at_90th_percentile], color='#006BA4', linestyle='--', linewidth=1)\n",
    "plt.plot([-10, 90], [ensemble_y_at_90th_percentile, ensemble_y_at_90th_percentile], color='#FF800E', linestyle='--', linewidth=1)\n",
    "plt.plot([-10, 95], [gp_y_at_95th_percentile, gp_y_at_95th_percentile], color='#006BA4', linestyle=(0, (5, 2)), linewidth=1)\n",
    "plt.plot([-10, 95], [ensemble_y_at_95th_percentile, ensemble_y_at_95th_percentile], color='#FF800E', linestyle=(0, (5, 2)), linewidth=1)\n",
    "plt.axvline(x=95, color='#ABABAB', linestyle=(0, (5, 2)), linewidth=1)\n",
    "plt.axvline(x=90, color='#ABABAB', linestyle='--', linewidth=1)\n",
    "plt.yscale('log')\n",
    "plt.title('Absolute error distribution', fontsize=18)\n",
    "plt.xlabel('Percentile', fontsize=18)\n",
    "plt.ylabel('Absolute error (log10)', fontsize=18)\n",
    "plt.tick_params(axis='both', which='major', labelsize=12)\n",
    "plt.tick_params(axis='both', which='minor', labelsize=12)\n",
    "plt.xticks(np.arange(0, 101, 10))  # Setting x-axis values in steps of 10\n",
    "plt.legend(\n",
    "\tfontsize=18,  # Font size\n",
    "\tloc='lower center',  # Location\n",
    "\tframeon=False,  # Frame around the legend\n",
    "\tlabelspacing=1.2,  # Spacing between labels\n",
    "\thandlelength=3  # Length of the legend handles\n",
    ")\n",
    "plt.xlim((-1.0, 101.0))\n",
    "plt.tight_layout()\n",
    "plt.show()"
   ]
  },
  {
   "cell_type": "code",
   "execution_count": 163,
   "metadata": {},
   "outputs": [],
   "source": [
    "# abolute error percentiles for below and above threshold\n",
    "threshold = 5 # 10**5 = 100000, log10(100000) = 5\n",
    "GP_below_threshold = final_results_per_id[final_results_per_id['y_true'] < threshold]\n",
    "GP_above_threshold = final_results_per_id[final_results_per_id['y_true'] >= threshold]\n",
    "ensemble_below_threshold = ensemble_cnn_df[ensemble_cnn_df['Actual'] < threshold]\n",
    "ensemble_above_threshold = ensemble_cnn_df[ensemble_cnn_df['Actual'] >= threshold]"
   ]
  },
  {
   "cell_type": "code",
   "execution_count": 164,
   "metadata": {},
   "outputs": [
    {
     "name": "stdout",
     "output_type": "stream",
     "text": [
      "90th percentile\n",
      "\tGP 0.4839188630123324\n",
      "\tEnsemble 0.49488136570283703\n",
      "\n",
      "95th percentile\n",
      "\tGP 0.7260038305381619\n",
      "\tEnsemble 0.7240127339959903\n"
     ]
    },
    {
     "data": {
      "image/png": "[encoded data removed]",
      "text/plain": [
       "<Figure size 1000x600 with 1 Axes>"
      ]
     },
     "metadata": {},
     "output_type": "display_data"
    }
   ],
   "source": [
    "# Below hreshold\n",
    "gp_errors = GP_below_threshold['error'].to_list()\n",
    "gp_absolute_errors = [abs(value) for value in gp_errors]\n",
    "ensemble_cnn_errors = ensemble_below_threshold['Abs_error'].to_list()\n",
    "ensemble_cnn_absolute_errors = [abs(value) for value in ensemble_cnn_errors]\n",
    "\n",
    "percentiles = np.arange(0, 101, 1)\n",
    "gp_error_percentiles = np.percentile(gp_absolute_errors, percentiles)\n",
    "ensemble_cnn_error_percentiles = np.percentile(ensemble_cnn_absolute_errors, percentiles)\n",
    "\n",
    "gp_y_at_90th_percentile = gp_error_percentiles[90]\n",
    "ensemble_y_at_90th_percentile = ensemble_cnn_error_percentiles[90]\n",
    "gp_y_at_95th_percentile = gp_error_percentiles[95]\n",
    "ensemble_y_at_95th_percentile = ensemble_cnn_error_percentiles[95]\n",
    "print(\n",
    "\tf'''90th percentile\n",
    "\tGP {gp_y_at_90th_percentile}\n",
    "\tEnsemble {ensemble_y_at_90th_percentile}\n",
    "\n",
    "95th percentile\n",
    "\tGP {gp_y_at_95th_percentile}\n",
    "\tEnsemble {ensemble_y_at_95th_percentile}'''\n",
    ")\n",
    "\n",
    "plt.figure(figsize=(10, 6))\n",
    "plt.plot(percentiles, gp_error_percentiles, linestyle='-', color='#006BA4', label='GP')\n",
    "plt.plot(percentiles, ensemble_cnn_error_percentiles, linestyle='-', color='#FF800E', label='Ensemble')\n",
    "plt.plot([-10, 90], [gp_y_at_90th_percentile, gp_y_at_90th_percentile], color='#006BA4', linestyle='--', linewidth=1)\n",
    "plt.plot([-10, 90], [ensemble_y_at_90th_percentile, ensemble_y_at_90th_percentile], color='#FF800E', linestyle='--', linewidth=1)\n",
    "plt.plot([-10, 95], [gp_y_at_95th_percentile, gp_y_at_95th_percentile], color='#006BA4', linestyle=(0, (5, 2)), linewidth=1)\n",
    "plt.plot([-10, 95], [ensemble_y_at_95th_percentile, ensemble_y_at_95th_percentile], color='#FF800E', linestyle=(0, (5, 2)), linewidth=1)\n",
    "plt.axvline(x=95, color='#ABABAB', linestyle=(0, (5, 2)), linewidth=1)\n",
    "plt.axvline(x=90, color='#ABABAB', linestyle='--', linewidth=1)\n",
    "plt.yscale('log')\n",
    "plt.title('Absolute error distribution (below 100000 years)', fontsize=18)\n",
    "plt.xlabel('Percentile', fontsize=18)\n",
    "plt.ylabel('Absolute error (log10)', fontsize=18)\n",
    "plt.tick_params(axis='both', which='major', labelsize=12)\n",
    "plt.tick_params(axis='both', which='minor', labelsize=12)\n",
    "plt.xticks(np.arange(0, 101, 10))\n",
    "plt.legend(\n",
    "\tfontsize=18,  # Font size\n",
    "\tloc='lower center',  # Location\n",
    "\tframeon=False,  # Frame around the legend\n",
    "\tlabelspacing=1.2,  # Spacing between labels\n",
    "\thandlelength=3  # Length of the legend handles\n",
    ")\n",
    "plt.xlim((-1.0, 101.0))\n",
    "plt.tight_layout()\n",
    "plt.show()"
   ]
  },
  {
   "cell_type": "code",
   "execution_count": 165,
   "metadata": {},
   "outputs": [
    {
     "name": "stdout",
     "output_type": "stream",
     "text": [
      "90th percentile\n",
      "\tGP 0.33595626821723457\n",
      "\tEnsemble 0.46747136996653194\n",
      "\n",
      "95th percentile\n",
      "\tGP 0.39151934755763507\n",
      "\tEnsemble 0.5515709798211945\n"
     ]
    },
    {
     "data": {
      "image/png": "[encoded data removed]",
      "text/plain": [
       "<Figure size 1000x600 with 1 Axes>"
      ]
     },
     "metadata": {},
     "output_type": "display_data"
    }
   ],
   "source": [
    "# Above hreshold\n",
    "gp_errors = GP_above_threshold['error'].to_list()\n",
    "gp_absolute_errors = [abs(value) for value in gp_errors]\n",
    "ensemble_cnn_errors = ensemble_above_threshold['Abs_error'].to_list()\n",
    "ensemble_cnn_absolute_errors = [abs(value) for value in ensemble_cnn_errors]\n",
    "\n",
    "percentiles = np.arange(0, 101, 1)\n",
    "gp_error_percentiles = np.percentile(gp_absolute_errors, percentiles)\n",
    "ensemble_cnn_error_percentiles = np.percentile(ensemble_cnn_absolute_errors, percentiles)\n",
    "\n",
    "gp_y_at_90th_percentile = gp_error_percentiles[90]\n",
    "ensemble_y_at_90th_percentile = ensemble_cnn_error_percentiles[90]\n",
    "gp_y_at_95th_percentile = gp_error_percentiles[95]\n",
    "ensemble_y_at_95th_percentile = ensemble_cnn_error_percentiles[95]\n",
    "print(\n",
    "\tf'''90th percentile\n",
    "\tGP {gp_y_at_90th_percentile}\n",
    "\tEnsemble {ensemble_y_at_90th_percentile}\n",
    "\n",
    "95th percentile\n",
    "\tGP {gp_y_at_95th_percentile}\n",
    "\tEnsemble {ensemble_y_at_95th_percentile}'''\n",
    ")\n",
    "\n",
    "plt.figure(figsize=(10, 6))\n",
    "plt.plot(percentiles, gp_error_percentiles, linestyle='-', color='#006BA4', label='GP')\n",
    "plt.plot(percentiles, ensemble_cnn_error_percentiles, linestyle='-', color='#FF800E', label='Ensemble')\n",
    "plt.plot([-10, 90], [gp_y_at_90th_percentile, gp_y_at_90th_percentile], color='#006BA4', linestyle='--', linewidth=1)\n",
    "plt.plot([-10, 90], [ensemble_y_at_90th_percentile, ensemble_y_at_90th_percentile], color='#FF800E', linestyle='--', linewidth=1)\n",
    "plt.plot([-10, 95], [gp_y_at_95th_percentile, gp_y_at_95th_percentile], color='#006BA4', linestyle=(0, (5, 2)), linewidth=1)\n",
    "plt.plot([-10, 95], [ensemble_y_at_95th_percentile, ensemble_y_at_95th_percentile], color='#FF800E', linestyle=(0, (5, 2)), linewidth=1)\n",
    "plt.axvline(x=95, color='#ABABAB', linestyle=(0, (5, 2)), linewidth=1)\n",
    "plt.axvline(x=90, color='#ABABAB', linestyle='--', linewidth=1)\n",
    "plt.yscale('log')\n",
    "plt.title('Absolute error distribution (above 100000 years)', fontsize=18)\n",
    "plt.xlabel('Percentile', fontsize=18)\n",
    "plt.ylabel('Absolute error (log10)', fontsize=18)\n",
    "plt.tick_params(axis='both', which='major', labelsize=12)\n",
    "plt.tick_params(axis='both', which='minor', labelsize=12)\n",
    "plt.xticks(np.arange(0, 101, 10))\n",
    "plt.legend(\n",
    "\tfontsize=18,  # Font size\n",
    "\tloc='lower center',  # Location\n",
    "\tframeon=False,  # Frame around the legend\n",
    "\tlabelspacing=1.2,  # Spacing between labels\n",
    "\thandlelength=3  # Length of the legend handles\n",
    ")\n",
    "plt.xlim((-1.0, 101.0))\n",
    "plt.tight_layout()\n",
    "plt.show()"
   ]
  },
  {
   "cell_type": "code",
   "execution_count": 166,
   "metadata": {},
   "outputs": [
    {
     "data": {
      "image/png": "[encoded data removed]",
      "text/plain": [
       "<Figure size 1600x1000 with 2 Axes>"
      ]
     },
     "metadata": {},
     "output_type": "display_data"
    }
   ],
   "source": [
    "gp_actual = final_results_per_id['y_true']\n",
    "gp_predicted = final_results_per_id['y_pred_average']\n",
    "gp_std = final_results_per_id['standard_deviation']\n",
    "\n",
    "cnn_tree_actual = ensemble_cnn_df['Actual']\n",
    "cnn_tree_predicted = ensemble_cnn_df['Predicted']\n",
    "cnn_tree_std = ensemble_cnn_df['STD']\n",
    "\n",
    "true_line = pd.Series([-1, 12])\n",
    "interval1 = true_line-1\n",
    "interval2 = true_line-0.5\n",
    "interval3 = true_line+0.5\n",
    "interval4 = true_line+1\n",
    "\n",
    "fig, (ax1, ax2) = plt.subplots(1, 2, figsize=(16, 10))\n",
    "\n",
    "ax1.plot(true_line, true_line, color='black', linestyle='-', linewidth=1, label='0 error')\n",
    "ax1.plot(true_line, interval2, color='#FFBC79', linestyle='-', linewidth=1, label='0.5 error')\n",
    "ax1.plot(true_line, interval1, color='#A2C8EC', linestyle='-', linewidth=1, label='1 error')\n",
    "ax1.plot(true_line, interval3, color='#FFBC79', linestyle='-', linewidth=1)\n",
    "ax1.plot(true_line, interval4, color='#A2C8EC', linestyle='-', linewidth=1)\n",
    "ax1.errorbar(gp_actual, gp_predicted, yerr=[gp_std, gp_std], capsize=2, fmt='.', color='black', ecolor='red', alpha=1)\n",
    "ax1.set_xlim(-0.5, max(gp_predicted) + 0.5)\n",
    "ax1.set_ylim(-0.5, max(gp_predicted) + 0.5)\n",
    "ax1.set_xticks(np.arange(0, max(y_test)+1.1, 1))\n",
    "ax1.set_yticks(np.arange(0, max(y_test)+1.1, 1))\n",
    "ax1.tick_params(axis='both', which='major', labelsize=12)\n",
    "ax1.tick_params(axis='both', which='minor', labelsize=12)\n",
    "ax1.set_xlabel('True exposure time (log10)', fontsize=18)\n",
    "ax1.set_ylabel('Predicted exposure time (log10)', fontsize=18)\n",
    "ax1.set_title('GP', fontsize=18)\n",
    "ax1.legend(\n",
    "\tfontsize=18,  # Font size\n",
    "\tloc='upper left',  # Location\n",
    "\tframeon=False,  # Frame around the legend\n",
    "\tlabelspacing=1.2,  # Spacing between labels\n",
    "\thandlelength=3  # Length of the legend handles\n",
    ")\n",
    "ax1.text(\n",
    "\t8, 0,  # Position of the text box\n",
    "\tf'RMSE = {gp_RMSE:.3f}\\n     R$^2$ = {gp_R2:.3f}', # Text\n",
    "\tfontsize=18,  # Font size\n",
    "\tbbox=dict(facecolor='white', edgecolor='none', boxstyle='round,pad=0.5'),  # Box properties\n",
    "\tha='center'\n",
    ")\n",
    "ax1.set_aspect('equal', adjustable='box')\n",
    "\n",
    "ax2.plot(true_line, true_line, color='black', linestyle='-', linewidth=1, label='0 error')\n",
    "ax2.plot(true_line, interval2, color='#FFBC79', linestyle='-', linewidth=1, label='0.5 error')\n",
    "ax2.plot(true_line, interval1, color='#A2C8EC', linestyle='-', linewidth=1, label='1 error')\n",
    "ax2.plot(true_line, interval3, color='#FFBC79', linestyle='-', linewidth=1)\n",
    "ax2.plot(true_line, interval4, color='#A2C8EC', linestyle='-', linewidth=1)\n",
    "ax2.errorbar(cnn_tree_actual, cnn_tree_predicted, yerr=[cnn_tree_std, cnn_tree_std], capsize=2, fmt='.', color='black', ecolor='red', alpha=1)\n",
    "ax2.set_xlim(-0.5, max(gp_predicted) + 0.5)\n",
    "ax2.set_ylim(-0.5, max(gp_predicted) + 0.5)\n",
    "ax2.set_xticks(np.arange(0, max(y_test)+1.1, 1))\n",
    "ax2.set_yticks(np.arange(0, max(y_test)+1.1, 1))\n",
    "ax2.tick_params(axis='both', which='major', labelsize=12)\n",
    "ax2.tick_params(axis='both', which='minor', labelsize=12)\n",
    "ax2.set_xlabel('True exposure time (log10)', fontsize=18)\n",
    "# ax2.set_ylabel('Predicted exposure time (log10)', fontsize=18)\n",
    "ax2.set_title('Ensemble', fontsize=18)\n",
    "ax2.legend(\n",
    "\tfontsize=18,  # Font size\n",
    "\tloc='upper left',  # Location\n",
    "\tframeon=False,  # Frame around the legend\n",
    "\tlabelspacing=1.2,  # Spacing between labels\n",
    "\thandlelength=3  # Length of the legend handles\n",
    ")\n",
    "ax2.text(\n",
    "\t8, 0,  # Position of the text box\n",
    "\tf'RMSE = {ensemble_RMSE:.3f}\\n     R$^2$ = {ensemble_R2:.3f}', # Text\n",
    "\tfontsize=18,  # Font size\n",
    "\tbbox=dict(facecolor='white', edgecolor='none', boxstyle='round,pad=0.5'),  # Box properties\n",
    "\tha='center'\n",
    ")\n",
    "ax2.set_aspect('equal', adjustable='box')\n",
    "\n",
    "# plt.tight_layout()\n",
    "plt.show()"
   ]
  }
 ],
 "metadata": {
  "kernelspec": {
   "display_name": "Python 3",
   "language": "python",
   "name": "python3"
  },
  "language_info": {
   "codemirror_mode": {
    "name": "ipython",
    "version": 3
   },
   "file_extension": ".py",
   "mimetype": "text/x-python",
   "name": "python",
   "nbconvert_exporter": "python",
   "pygments_lexer": "ipython3",
   "version": "3.10.3"
  }
 },
 "nbformat": 4,
 "nbformat_minor": 2
}
